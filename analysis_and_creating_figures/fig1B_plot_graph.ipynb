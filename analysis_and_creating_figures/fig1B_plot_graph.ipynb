{
 "cells": [
  {
   "cell_type": "code",
   "execution_count": null,
   "id": "a27c223c",
   "metadata": {},
   "outputs": [],
   "source": [
    "library(googlesheets4)\n",
    "library(ggplot2)\n"
   ]
  },
  {
   "cell_type": "code",
   "execution_count": null,
   "id": "787b234c",
   "metadata": {},
   "outputs": [],
   "source": [
    "sheets_auth(path = \"Z:/spreadsheet-service-302407.json\")\n",
    "\n",
    "ctrl_data <- read_sheet(\n",
    "    ss=\"12yARRjZTZlD-tqx-bz7JYzwZ5XVVOf59o8kTbR0s4xw\",\n",
    "    range=\"Fig1a_F1_score_human_labor_plot\"\n",
    ")\n",
    "ctrl_data"
   ]
  },
  {
   "cell_type": "code",
   "execution_count": null,
   "id": "0e7f0270",
   "metadata": {},
   "outputs": [],
   "source": [
    "modified_data <- ctrl_data[!is.na(ctrl_data$\"修正時間(min)\"),]\n",
    "target_data <- modified_data[!is.na(modified_data$\"Mito Volume(px3)\") & modified_data$\"Mito Volume(px3)\" > 1000000,]\n",
    "target_data"
   ]
  },
  {
   "cell_type": "code",
   "execution_count": null,
   "id": "7b5e7205",
   "metadata": {},
   "outputs": [],
   "source": [
    "target_data_ <- data.frame(\n",
    "    F1Score = c(target_data$\"修正前 F1Score\"),\n",
    "    Time = target_data$\"修正時間(min)\"\n",
    ")\n",
    "target_data_"
   ]
  },
  {
   "cell_type": "code",
   "execution_count": null,
   "id": "7b30a3cd",
   "metadata": {},
   "outputs": [],
   "source": [
    "options(repr.plot.width=15, repr.plot.height=10)\n",
    "\n",
    "graph <- ggplot(NULL)\n",
    "\n",
    "\n",
    "\n",
    "\n",
    "graph <- graph + labs(\n",
    "    x = \"F1 Score\",\n",
    "    y = \"Time [min]\",\n",
    "    title = \"Proofreading-Correction Time\"\n",
    ") + theme(\n",
    "    #axis.title.x = element_text(size = 24, face = \"bold\"),\n",
    "    title = element_text(size = 30, colour=\"black\", face = \"bold\", family = \"Helvetica\"),\n",
    "    plot.title = element_text(hjust = 0.5),\n",
    "    axis.line = element_line(size = 1, colour=\"black\"),\n",
    "    axis.title.x = element_text(size = 30, face = \"bold\", family = \"Helvetica\"),\n",
    "    axis.text.x = element_text(size = 25, face = \"bold\", family = \"Helvetica\", color=\"black\"),\n",
    "    axis.title.y = element_text(size = 30, face = \"bold\", family = \"Helvetica\"),\n",
    "    axis.text.y = element_text(size = 25, face = \"bold\", family = \"Helvetica\", color=\"black\"),\n",
    "    panel.background = element_blank(), \n",
    "    panel.grid.major = element_blank(),\n",
    "    panel.grid.minor = element_blank(),\n",
    "    axis.ticks = element_line(colour = \"black\", size=1),\n",
    "    axis.ticks.length = unit(3, \"mm\")\n",
    ") + scale_y_continuous(\n",
    "    expand = c(0,0), \n",
    "    limits=c(0, 1.1* max(target_data$\"修正時間(min)\") )\n",
    ")  + scale_x_continuous(\n",
    "    expand = c(0,0), \n",
    "    limits=c(0.78,1)\n",
    ")\n",
    "\n",
    "graph <- graph + geom_point(\n",
    "    data = target_data,\n",
    "    aes(\n",
    "        x=target_data$`修正前 F1Score`, \n",
    "        y=target_data$\"修正時間(min)\"\n",
    "    ),\n",
    "    size = 5\n",
    ") + scale_x_reverse(\n",
    "    limits=c(1, 0.78),\n",
    "    breaks=c(1, 0.98, 0.96, 0.94, 0.92, 0.90, 0.88, 0.86, 0.84, 0.82, 0.80, 0.78),\n",
    ") +scale_y_log10() + coord_cartesian(\n",
    "    xlim=c(0.99, 0.79),\n",
    "    ylim=c(5, 220)\n",
    ") + annotate(\n",
    "    \"rect\",\n",
    "    xmin = 0.78,\n",
    "    xmax = 0.94,\n",
    "    ymin = 0,\n",
    "    ymax = 1.1* max(target_data$\"修正時間(min)\") ,\n",
    "    alpha = 0.4,\n",
    "    fill=\"gray\"\n",
    ")\n",
    "\n",
    "graph"
   ]
  },
  {
   "cell_type": "code",
   "execution_count": null,
   "id": "d1b0cdbd",
   "metadata": {},
   "outputs": [],
   "source": [
    "dir.create(\"Z://paper_data/2021_cristae/for_revision_#2/fig1B\")\n",
    "ggsave(file = \"Z:/paper_data/2021_cristae/for_revision_#2/fig1B/plot_graph_001.svg\", plot = graph, dpi = 100, width = 15, height = 10)\n"
   ]
  },
  {
   "cell_type": "code",
   "execution_count": null,
   "id": "2628731e",
   "metadata": {},
   "outputs": [],
   "source": []
  }
 ],
 "metadata": {
  "kernelspec": {
   "display_name": "R",
   "language": "R",
   "name": "ir"
  },
  "language_info": {
   "codemirror_mode": "r",
   "file_extension": ".r",
   "mimetype": "text/x-r-source",
   "name": "R",
   "pygments_lexer": "r",
   "version": "4.0.3"
  },
  "toc": {
   "base_numbering": 1,
   "nav_menu": {},
   "number_sections": true,
   "sideBar": true,
   "skip_h1_title": false,
   "title_cell": "Table of Contents",
   "title_sidebar": "Contents",
   "toc_cell": false,
   "toc_position": {},
   "toc_section_display": true,
   "toc_window_display": false
  }
 },
 "nbformat": 4,
 "nbformat_minor": 5
}
