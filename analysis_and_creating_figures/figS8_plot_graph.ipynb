{
 "cells": [
  {
   "cell_type": "code",
   "execution_count": null,
   "id": "58aa1004",
   "metadata": {},
   "outputs": [],
   "source": [
    "library(googlesheets4)\n",
    "library(ggplot2)\n",
    "library(ggbeeswarm)\n",
    "library(glue)"
   ]
  },
  {
   "cell_type": "code",
   "execution_count": null,
   "id": "8ed818d5",
   "metadata": {},
   "outputs": [],
   "source": [
    "sheets_auth(path = \"Z:/spreadsheet-service-302407.json\")\n",
    "\n",
    "all_data <- read_sheet(\n",
    "    ss=\"12yARRjZTZlD-tqx-bz7JYzwZ5XVVOf59o8kTbR0s4xw\",\n",
    "    range=\"shCtrl_003_shOPA1_003(論文用データ)\"\n",
    ")"
   ]
  },
  {
   "cell_type": "markdown",
   "id": "17503be0",
   "metadata": {},
   "source": [
    "# D MCI"
   ]
  },
  {
   "cell_type": "code",
   "execution_count": null,
   "id": "3ff9af3a",
   "metadata": {},
   "outputs": [],
   "source": [
    "options(repr.plot.width=10, repr.plot.height=10)\n",
    "\n",
    "graph <- ggplot(NULL)\n",
    "\n",
    "graph <- graph + theme(\n",
    "    axis.line = element_line(size = 2, colour=\"black\"),\n",
    "    axis.title.x = element_blank(),\n",
    "    axis.title.y = element_text(size = 40, face = \"bold\", family = \"Helvetica\", color=\"black\"),\n",
    "    axis.text.x = element_text(size = 40, face = \"bold\", family = \"Helvetica\", color=\"black\"),\n",
    "    axis.text.y = element_text(size = 30, face = \"bold\", family = \"Helvetica\", color=\"black\"),\n",
    "    panel.background = element_blank(), \n",
    "    panel.grid.major = element_blank(),\n",
    "    panel.grid.minor = element_blank(),\n",
    ") + scale_y_continuous(\n",
    "    expand = c(0,0), \n",
    "    limits=c(0, 5.1)\n",
    ")\n",
    "\n",
    "graph <- graph + labs(\n",
    "    y = \"Form Factor\"\n",
    ") + geom_quasirandom(\n",
    "    data = all_data,\n",
    "    aes(Gene, form_factor),\n",
    "    size = 5 ,\n",
    "    position=position_jitter(width = 0.3, height = 0)\n",
    ") \n",
    "\n",
    "\n",
    "graph <- graph + annotate(\n",
    "    \"segment\",\n",
    "    x = 0.6, xend = 1.4,\n",
    "    y = mean(all_data[all_data$Gene == \"shCtrl\", ]$form_factor), \n",
    "    yend = mean(all_data[all_data$Gene == \"shCtrl\", ]$form_factor),\n",
    "    size = 3,\n",
    "    color=\"red\"\n",
    ")+ annotate(\n",
    "    \"segment\",\n",
    "    x = 1.6, xend = 2.4,\n",
    "    y = mean(all_data[all_data$Gene == \"shOPA1\", ]$form_factor), \n",
    "    yend = mean(all_data[all_data$Gene == \"shOPA1\", ]$form_factor),\n",
    "    size = 3,\n",
    "    color=\"red\"\n",
    ")  + scale_x_discrete(\n",
    "    labels = c(\"Control\", \"OPA1 KD\"),\n",
    ")\n",
    "\n",
    "graph"
   ]
  },
  {
   "cell_type": "code",
   "execution_count": null,
   "id": "01527827",
   "metadata": {},
   "outputs": [],
   "source": [
    "wilcox.test(\n",
    "    all_data[all_data$Gene == \"shCtrl\", ]$`form_factor`, \n",
    "    all_data[all_data$Gene == \"shOPA1\", ]$`form_factor`\n",
    ")"
   ]
  },
  {
   "cell_type": "code",
   "execution_count": null,
   "id": "56583aae",
   "metadata": {},
   "outputs": [],
   "source": [
    "dir.create(\"Z:/paper_data/2021_cristae/for_revision_#2/figS8\")\n",
    "ggsave(file = \"Z:/paper_data/2021_cristae/for_revision_#2/figS8/form_factor.svg\", plot = graph, dpi = 100, width = 10, height = 10)\n"
   ]
  },
  {
   "cell_type": "code",
   "execution_count": null,
   "id": "7d06ddfc",
   "metadata": {},
   "outputs": [],
   "source": []
  }
 ],
 "metadata": {
  "kernelspec": {
   "display_name": "R",
   "language": "R",
   "name": "ir"
  },
  "language_info": {
   "codemirror_mode": "r",
   "file_extension": ".r",
   "mimetype": "text/x-r-source",
   "name": "R",
   "pygments_lexer": "r",
   "version": "4.0.3"
  },
  "toc": {
   "base_numbering": 1,
   "nav_menu": {},
   "number_sections": true,
   "sideBar": true,
   "skip_h1_title": false,
   "title_cell": "Table of Contents",
   "title_sidebar": "Contents",
   "toc_cell": false,
   "toc_position": {},
   "toc_section_display": true,
   "toc_window_display": false
  }
 },
 "nbformat": 4,
 "nbformat_minor": 5
}
