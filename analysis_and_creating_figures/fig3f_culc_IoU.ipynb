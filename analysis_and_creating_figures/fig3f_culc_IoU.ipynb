{
 "cells": [
  {
   "cell_type": "code",
   "execution_count": null,
   "id": "b052bf6c",
   "metadata": {},
   "outputs": [],
   "source": [
    "%matplotlib inline\n",
    "import matplotlib.pyplot as plt\n",
    "import os\n",
    "import numpy as np\n",
    "import cv2\n",
    "from PIL import Image\n",
    "from skimage.measure import regionprops, label, find_contours\n",
    "from scipy.spatial.distance import cdist"
   ]
  },
  {
   "cell_type": "code",
   "execution_count": null,
   "id": "fba1c65f",
   "metadata": {},
   "outputs": [],
   "source": [
    "#値を-1から1に正規化する関数\n",
    "def normalize_x(image):\n",
    "    return image / 127.5 - 1\n",
    "\n",
    "\n",
    "def denormalize_x(image):\n",
    "    return (image + 1) * 127.5\n",
    "\n",
    "\n",
    "#値を0から1正規化する関数\n",
    "def normalize_y(image):\n",
    "    return image / 255\n",
    "\n",
    "\n",
    "#値を0から255に戻す関数\n",
    "def denormalize_y(image):\n",
    "    return image * 255"
   ]
  },
  {
   "cell_type": "code",
   "execution_count": null,
   "id": "e9b72e6a",
   "metadata": {},
   "outputs": [],
   "source": [
    "def load_Y_gray_with_gaussian_and_numeric(folder_path, thresh = None , normalize = True, g_size = None):\n",
    "    image_files = []\n",
    "    #image_files = os.listdir(folder_path)\n",
    "    \n",
    "    for file in os.listdir(folder_path):\n",
    "        base, ext = os.path.splitext(file)\n",
    "        if ext == '.png':\n",
    "            image_files.append(int(base))\n",
    "        else:\n",
    "            pass\n",
    "        \n",
    "    image_files.sort()\n",
    "    \n",
    "    img = cv2.imread(folder_path + os.sep + str(image_files[0]).zfill(4) + \".png\", cv2.IMREAD_GRAYSCALE)\n",
    "    \n",
    "    images = np.zeros(\n",
    "        (len(image_files), img.shape[0], img.shape[1], 1) ,np.float32\n",
    "    )\n",
    "    \n",
    "    for i , image_file in enumerate(image_files):\n",
    "        image = cv2.imread(\n",
    "            folder_path + os.sep + str(image_file).zfill(4) + \".png\" ,\n",
    "            cv2.IMREAD_GRAYSCALE\n",
    "        )\n",
    "        #print(image.shape)\n",
    "        \n",
    "        # ぼかし処理\n",
    "        if g_size:\n",
    "            image = cv2.GaussianBlur(\n",
    "                image, (g_size, g_size), 0\n",
    "            )\n",
    "        \n",
    "        \n",
    "        \n",
    "        if thresh:\n",
    "            ret , image = cv2.threshold(image , thresh , 255 , cv2.THRESH_BINARY)\n",
    "        image = image[ : , : , np.newaxis]\n",
    "        if normalize:\n",
    "            images[i] = normalize_y(image)\n",
    "        else:\n",
    "            images[i] = image\n",
    "    return images , image_files"
   ]
  },
  {
   "cell_type": "code",
   "execution_count": null,
   "id": "0d400a89",
   "metadata": {},
   "outputs": [],
   "source": [
    "def calc_iou(im1, im2):\n",
    "    intersection = np.logical_and(im1, im2)\n",
    "    union = np.logical_or(im1, im2)\n",
    "    iou_score = np.sum(intersection) / np.sum(union)\n",
    "    if np.sum(union) == 0:\n",
    "        iou_score = 0\n",
    "    return iou_score"
   ]
  },
  {
   "cell_type": "code",
   "execution_count": null,
   "id": "e2ab3940",
   "metadata": {},
   "outputs": [],
   "source": [
    "suga_imgs, _ = load_Y_gray_with_gaussian_and_numeric(\"I:/DeepLearningData/research_010_NIH3T3/shCtrl_001_realignment/superhuman_dataset/cropped_001/suga_seg/\", normalize=False)\n",
    "nakamura_imgs, _ = load_Y_gray_with_gaussian_and_numeric(\"Z:/DeepLearningData/research_010_NIH3T3/shCtrl_001_realignment/superhuman_dataset/cropped_001/nakamura_seg//\", normalize=False)\n",
    "lamellar_imgs, _ = load_Y_gray_with_gaussian_and_numeric(\"I:/DeepLearningData/research_010_NIH3T3/shCtrl_001_realignment/superhuman_dataset/cropped_001/lamellar//\", normalize=False)\n",
    "\n",
    "nakamura_imgs = (nakamura_imgs == 1).astype(int)\n",
    "suga_imgs = (suga_imgs == 1).astype(int)"
   ]
  },
  {
   "cell_type": "code",
   "execution_count": null,
   "id": "62c04b75",
   "metadata": {},
   "outputs": [],
   "source": [
    "dl_ious=[]\n",
    "for i in range(lamellar_imgs.shape[0] - 1):\n",
    "    iou = calc_iou(lamellar_imgs[i], lamellar_imgs[i+1])\n",
    "    dl_ious.append(iou)"
   ]
  },
  {
   "cell_type": "code",
   "execution_count": null,
   "id": "b9b0cf70",
   "metadata": {},
   "outputs": [],
   "source": [
    "nk_ious=[]\n",
    "for i in range(nakamura_imgs.shape[0] - 1):\n",
    "    iou = calc_iou(nakamura_imgs[i], nakamura_imgs[i+1])\n",
    "    nk_ious.append(iou)"
   ]
  },
  {
   "cell_type": "code",
   "execution_count": null,
   "id": "b83ff443",
   "metadata": {},
   "outputs": [],
   "source": [
    "ss_ious=[]\n",
    "for i in range(suga_imgs.shape[0] - 1):\n",
    "    iou = calc_iou(suga_imgs[i], suga_imgs[i+1])\n",
    "    ss_ious.append(iou)"
   ]
  },
  {
   "cell_type": "code",
   "execution_count": null,
   "id": "1bc4a5c2",
   "metadata": {},
   "outputs": [],
   "source": [
    "for i in dl_ious:\n",
    "    print(i , \",\")"
   ]
  },
  {
   "cell_type": "code",
   "execution_count": null,
   "id": "5a59b297",
   "metadata": {},
   "outputs": [],
   "source": [
    "for i in nk_ious:\n",
    "    print(i , \",\")"
   ]
  },
  {
   "cell_type": "code",
   "execution_count": null,
   "id": "17a3335d",
   "metadata": {},
   "outputs": [],
   "source": [
    "for i in ss_ious:\n",
    "    print(i , \",\")"
   ]
  },
  {
   "cell_type": "code",
   "execution_count": null,
   "id": "c1ee7ac0",
   "metadata": {},
   "outputs": [],
   "source": []
  }
 ],
 "metadata": {
  "kernelspec": {
   "display_name": "Python 3",
   "language": "python",
   "name": "python3"
  },
  "language_info": {
   "codemirror_mode": {
    "name": "ipython",
    "version": 3
   },
   "file_extension": ".py",
   "mimetype": "text/x-python",
   "name": "python",
   "nbconvert_exporter": "python",
   "pygments_lexer": "ipython3",
   "version": "3.7.16"
  },
  "toc": {
   "base_numbering": 1,
   "nav_menu": {},
   "number_sections": true,
   "sideBar": true,
   "skip_h1_title": false,
   "title_cell": "Table of Contents",
   "title_sidebar": "Contents",
   "toc_cell": false,
   "toc_position": {},
   "toc_section_display": true,
   "toc_window_display": false
  }
 },
 "nbformat": 4,
 "nbformat_minor": 5
}
