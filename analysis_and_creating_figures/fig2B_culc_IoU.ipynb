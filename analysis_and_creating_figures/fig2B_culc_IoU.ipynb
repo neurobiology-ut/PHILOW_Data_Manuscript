{
 "cells": [
  {
   "cell_type": "code",
   "execution_count": 2,
   "id": "9868c1d0",
   "metadata": {},
   "outputs": [],
   "source": [
    "%matplotlib inline\n",
    "import matplotlib.pyplot as plt\n",
    "import os\n",
    "import numpy as np\n",
    "import cv2\n",
    "from skimage.measure import regionprops, label, find_contours\n",
    "from scipy.spatial.distance import cdist"
   ]
  },
  {
   "cell_type": "code",
   "execution_count": 3,
   "id": "a86cce70",
   "metadata": {},
   "outputs": [],
   "source": [
    "#値を-1から1に正規化する関数\n",
    "def normalize_x(image):\n",
    "    return image / 127.5 - 1\n",
    "\n",
    "\n",
    "def denormalize_x(image):\n",
    "    return (image + 1) * 127.5\n",
    "\n",
    "\n",
    "#値を0から1正規化する関数\n",
    "def normalize_y(image):\n",
    "    return image / 255\n",
    "\n",
    "\n",
    "#値を0から255に戻す関数\n",
    "def denormalize_y(image):\n",
    "    return image * 255\n"
   ]
  },
  {
   "cell_type": "code",
   "execution_count": 4,
   "id": "033c9f0e",
   "metadata": {},
   "outputs": [],
   "source": [
    "def load_Y_gray_with_gaussian_and_numeric(folder_path, thresh = None , normalize = True, g_size = None):\n",
    "    image_files = []\n",
    "    #image_files = os.listdir(folder_path)\n",
    "    \n",
    "    for file in os.listdir(folder_path):\n",
    "        base, ext = os.path.splitext(file)\n",
    "        if ext == '.png':\n",
    "            image_files.append(int(base))\n",
    "        else:\n",
    "            pass\n",
    "        \n",
    "    image_files.sort()\n",
    "    #print(image_files)\n",
    "    \n",
    "    img = cv2.imread(folder_path + os.sep + str(image_files[0]).zfill(4) + \".png\", cv2.IMREAD_GRAYSCALE)\n",
    "    \n",
    "    images = np.zeros(\n",
    "        (len(image_files), img.shape[0], img.shape[1], 1) ,np.float32\n",
    "    )\n",
    "    \n",
    "    for i , image_file in enumerate(image_files):\n",
    "        image = cv2.imread(\n",
    "            folder_path + os.sep + str(image_file).zfill(4) + \".png\" ,\n",
    "            cv2.IMREAD_GRAYSCALE\n",
    "        )\n",
    "        #print(image.shape)\n",
    "        \n",
    "        # ぼかし処理\n",
    "        if g_size:\n",
    "            image = cv2.GaussianBlur(\n",
    "                image, (g_size, g_size), 0\n",
    "            )\n",
    "        \n",
    "        \n",
    "        \n",
    "        if thresh:\n",
    "            ret , image = cv2.threshold(image , thresh , 255 , cv2.THRESH_BINARY)\n",
    "        image = image[ : , : , np.newaxis]\n",
    "        if normalize:\n",
    "            images[i] = normalize_y(image)\n",
    "        else:\n",
    "            images[i] = image\n",
    "            \n",
    "    print(images.shape)\n",
    "    \n",
    "    return images , image_files"
   ]
  },
  {
   "cell_type": "code",
   "execution_count": 6,
   "id": "7e9c0046",
   "metadata": {},
   "outputs": [],
   "source": [
    "def calc_iou(im1, im2):\n",
    "    intersection = np.logical_and(im1, im2)\n",
    "    union = np.logical_or(im1, im2)\n",
    "    iou_score = np.sum(intersection) / np.sum(union)\n",
    "    if np.sum(union) == 0:\n",
    "        iou_score = 0\n",
    "    return iou_score"
   ]
  },
  {
   "cell_type": "code",
   "execution_count": 5,
   "id": "f0cc4787",
   "metadata": {},
   "outputs": [
    {
     "name": "stdout",
     "output_type": "stream",
     "text": [
      "(20, 200, 200, 1)\n",
      "(20, 200, 200, 1)\n",
      "(20, 200, 200, 1)\n"
     ]
    }
   ],
   "source": [
    "baseline_imgs , _ = load_Y_gray_with_gaussian_and_numeric(\"Z:/DeepLearningData/research_010_NIH3T3/shCtrl_001_realignment/tap_dataset/cropped_0_20/baseline/\", normalize=False)\n",
    "tap_imgs , _ = load_Y_gray_with_gaussian_and_numeric(\"Z:/DeepLearningData/research_010_NIH3T3/shCtrl_001_realignment/tap_dataset/cropped_0_20/tap/\", normalize=False)\n",
    "suga_imgs , _ = load_Y_gray_with_gaussian_and_numeric(\"Z:/DeepLearningData/research_010_NIH3T3/shCtrl_001_realignment/tap_dataset/cropped_0_20/suga/\", normalize=False)\n"
   ]
  },
  {
   "cell_type": "code",
   "execution_count": 7,
   "id": "93175930",
   "metadata": {},
   "outputs": [
    {
     "name": "stderr",
     "output_type": "stream",
     "text": [
      "C:\\Users\\Neurobiology\\Anaconda3\\envs\\philow_data_manuscript\\lib\\site-packages\\ipykernel_launcher.py:4: RuntimeWarning: invalid value encountered in long_scalars\n",
      "  after removing the cwd from sys.path.\n"
     ]
    },
    {
     "data": {
      "text/plain": [
       "[0,\n",
       " 0.0,\n",
       " 0.20754716981132076,\n",
       " 0.0,\n",
       " 0.0,\n",
       " 0.2932405566600398,\n",
       " 0.7854864433811802,\n",
       " 0.5559120073327223,\n",
       " 0.8282582216808769,\n",
       " 0.7688695068768869,\n",
       " 0.8688037993469873,\n",
       " 0.9152357590624148,\n",
       " 0.9175851703406813,\n",
       " 0.9520515267175572,\n",
       " 0.927828204560549,\n",
       " 0.9618824531516184,\n",
       " 0.9603271983640081,\n",
       " 0.9465737514518002,\n",
       " 0.969770935035674]"
      ]
     },
     "execution_count": 7,
     "metadata": {},
     "output_type": "execute_result"
    }
   ],
   "source": [
    "baseline_iou = list()\n",
    "\n",
    "for i in range(baseline_imgs.shape[0] - 1):\n",
    "    iou = calc_iou(baseline_imgs[i], baseline_imgs[i+1])\n",
    "    baseline_iou.append(iou)\n",
    "    \n",
    "baseline_iou"
   ]
  },
  {
   "cell_type": "code",
   "execution_count": 8,
   "id": "8fd638da",
   "metadata": {},
   "outputs": [
    {
     "name": "stderr",
     "output_type": "stream",
     "text": [
      "C:\\Users\\Neurobiology\\Anaconda3\\envs\\philow_data_manuscript\\lib\\site-packages\\ipykernel_launcher.py:4: RuntimeWarning: invalid value encountered in long_scalars\n",
      "  after removing the cwd from sys.path.\n"
     ]
    },
    {
     "data": {
      "text/plain": [
       "[0,\n",
       " 0.0,\n",
       " 0.22119815668202766,\n",
       " 0.5119617224880383,\n",
       " 0.6682769726247987,\n",
       " 0.6516264428121721,\n",
       " 0.7593625498007968,\n",
       " 0.7533013205282113,\n",
       " 0.8067796610169492,\n",
       " 0.8003101977510663,\n",
       " 0.8150490041100221,\n",
       " 0.8820412716118238,\n",
       " 0.9171355498721228,\n",
       " 0.9340659340659341,\n",
       " 0.9350011168192986,\n",
       " 0.9545842217484009,\n",
       " 0.9577292219726363,\n",
       " 0.9523531699727732,\n",
       " 0.9638238050609185]"
      ]
     },
     "execution_count": 8,
     "metadata": {},
     "output_type": "execute_result"
    }
   ],
   "source": [
    "tap_iou = list()\n",
    "\n",
    "for i in range(tap_imgs.shape[0] - 1):\n",
    "    iou = calc_iou(tap_imgs[i], tap_imgs[i+1])\n",
    "    tap_iou.append(iou)\n",
    "    \n",
    "tap_iou"
   ]
  },
  {
   "cell_type": "code",
   "execution_count": 9,
   "id": "fa2716fb",
   "metadata": {},
   "outputs": [
    {
     "data": {
      "text/plain": [
       "[0.0,\n",
       " 0.5247524752475248,\n",
       " 0.3447098976109215,\n",
       " 0.6540178571428571,\n",
       " 0.7521222410865874,\n",
       " 0.6424642464246425,\n",
       " 0.7694915254237288,\n",
       " 0.7763684913217623,\n",
       " 0.853195164075993,\n",
       " 0.6857142857142857,\n",
       " 0.7584126984126984,\n",
       " 0.8833942118572633,\n",
       " 0.9369870267407996,\n",
       " 0.9251548946716233,\n",
       " 0.9029564432408035,\n",
       " 0.9536093648384999,\n",
       " 0.9556299706990372,\n",
       " 0.9507507507507508,\n",
       " 0.946917808219178]"
      ]
     },
     "execution_count": 9,
     "metadata": {},
     "output_type": "execute_result"
    }
   ],
   "source": [
    "suga_iou = list()\n",
    "\n",
    "for i in range(suga_imgs.shape[0] - 1):\n",
    "    iou = calc_iou(suga_imgs[i], suga_imgs[i+1])\n",
    "    suga_iou.append(iou)\n",
    "    \n",
    "suga_iou"
   ]
  },
  {
   "cell_type": "code",
   "execution_count": 11,
   "id": "e1a5de69",
   "metadata": {},
   "outputs": [
    {
     "name": "stdout",
     "output_type": "stream",
     "text": [
      "xy\n",
      "baseline :  0.0889\n",
      "TAP :  0.0082\n",
      "Manual :  0.0237\n"
     ]
    }
   ],
   "source": [
    "print(\"xy\")\n",
    "print(\"baseline : \", round(np.var(baseline_iou[4:14]), 4))\n",
    "print(\"TAP : \", round(np.var(tap_iou[4:14]), 4))\n",
    "print(\"Manual : \", round(np.var(suga_iou[2:14]), 4))"
   ]
  },
  {
   "cell_type": "code",
   "execution_count": null,
   "id": "21ca3ba8",
   "metadata": {},
   "outputs": [],
   "source": []
  }
 ],
 "metadata": {
  "kernelspec": {
   "display_name": "Python 3",
   "language": "python",
   "name": "python3"
  },
  "language_info": {
   "codemirror_mode": {
    "name": "ipython",
    "version": 3
   },
   "file_extension": ".py",
   "mimetype": "text/x-python",
   "name": "python",
   "nbconvert_exporter": "python",
   "pygments_lexer": "ipython3",
   "version": "3.7.16"
  },
  "toc": {
   "base_numbering": 1,
   "nav_menu": {},
   "number_sections": true,
   "sideBar": true,
   "skip_h1_title": false,
   "title_cell": "Table of Contents",
   "title_sidebar": "Contents",
   "toc_cell": false,
   "toc_position": {},
   "toc_section_display": true,
   "toc_window_display": false
  }
 },
 "nbformat": 4,
 "nbformat_minor": 5
}
