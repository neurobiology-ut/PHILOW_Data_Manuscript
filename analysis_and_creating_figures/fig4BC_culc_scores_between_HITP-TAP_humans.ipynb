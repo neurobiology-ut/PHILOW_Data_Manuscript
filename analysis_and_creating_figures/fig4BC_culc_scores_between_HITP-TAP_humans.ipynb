{
 "cells": [
  {
   "cell_type": "code",
   "execution_count": 1,
   "metadata": {},
   "outputs": [],
   "source": [
    "%matplotlib inline\n",
    "import matplotlib.pyplot as plt\n",
    "import os\n",
    "import numpy as np\n",
    "import cv2"
   ]
  },
  {
   "cell_type": "code",
   "execution_count": 2,
   "metadata": {},
   "outputs": [],
   "source": [
    "#値を-1から1に正規化する関数\n",
    "def normalize_x(image):\n",
    "    return image / 127.5 - 1\n",
    "\n",
    "\n",
    "def denormalize_x(image):\n",
    "    return (image + 1) * 127.5\n",
    "\n",
    "\n",
    "#値を0から1正規化する関数\n",
    "def normalize_y(image):\n",
    "    return image / 255\n",
    "\n",
    "\n",
    "#値を0から255に戻す関数\n",
    "def denormalize_y(image):\n",
    "    return image * 255"
   ]
  },
  {
   "cell_type": "code",
   "execution_count": 3,
   "metadata": {},
   "outputs": [],
   "source": [
    "def load_Y_gray_with_gaussian_and_numeric(folder_path, thresh = None , normalize = True, g_size = None):\n",
    "    image_files = []\n",
    "    #image_files = os.listdir(folder_path)\n",
    "    \n",
    "    for file in os.listdir(folder_path):\n",
    "        base, ext = os.path.splitext(file)\n",
    "        if ext == '.png':\n",
    "            image_files.append(int(base))\n",
    "        else:\n",
    "            pass\n",
    "        \n",
    "    image_files.sort()\n",
    "    \n",
    "    img = cv2.imread(folder_path + os.sep + str(image_files[0]).zfill(4) + \".png\", cv2.IMREAD_GRAYSCALE)\n",
    "    \n",
    "    images = np.zeros(\n",
    "        (len(image_files), img.shape[0], img.shape[1], 1) ,np.float32\n",
    "    )\n",
    "    \n",
    "    for i , image_file in enumerate(image_files):\n",
    "        image = cv2.imread(\n",
    "            folder_path + os.sep + str(image_file).zfill(4) + \".png\" ,\n",
    "            cv2.IMREAD_GRAYSCALE\n",
    "        )\n",
    "        #print(image.shape)\n",
    "        \n",
    "        # ぼかし処理\n",
    "        if g_size:\n",
    "            image = cv2.GaussianBlur(\n",
    "                image, (g_size, g_size), 0\n",
    "            )\n",
    "        \n",
    "        \n",
    "        \n",
    "        if thresh:\n",
    "            ret , image = cv2.threshold(image , thresh , 255 , cv2.THRESH_BINARY)\n",
    "        image = image[ : , : , np.newaxis]\n",
    "        if normalize:\n",
    "            images[i] = normalize_y(image)\n",
    "        else:\n",
    "            images[i] = image\n",
    "    \n",
    "    return images , image_files"
   ]
  },
  {
   "cell_type": "code",
   "execution_count": 4,
   "metadata": {},
   "outputs": [],
   "source": [
    "def culc_F1(pred, gt):\n",
    "    \n",
    "    PRE = np.count_nonzero((pred*255 > 0.5) & (gt* 255 > 0.5)) / np.count_nonzero(pred*255 > 0.5)\n",
    "    RE = np.count_nonzero((pred*255 > 0.5) & (gt * 255 > 0.5)) / np.count_nonzero(gt*255 > 0.5)\n",
    "    \n",
    "    try:\n",
    "        F1 = 2 * (PRE * RE) / (PRE + RE)\n",
    "        print(f\"Precision: {round(PRE,3)}, Recall: {round(RE,3)}, F1: {round(F1,3)} \")\n",
    "        print(f\"Precision: {PRE}, Recall: {RE}, F1: {F1} \")\n",
    "        return F1\n",
    "    except ZeroDivisionError:\n",
    "        return 0\n",
    "    except:\n",
    "        return \"error\"\n",
    "    \n",
    "    \n",
    "def calc_iou(im1, im2):\n",
    "    intersection = np.logical_and(im1, im2)\n",
    "    union = np.logical_or(im1, im2)\n",
    "    iou_score = np.sum(intersection) / np.sum(union)\n",
    "    if np.sum(union) == 0:\n",
    "        iou_score = 0\n",
    "    return round(iou_score,3), iou_score"
   ]
  },
  {
   "cell_type": "code",
   "execution_count": 5,
   "metadata": {},
   "outputs": [],
   "source": [
    "suga_imgs, _ = load_Y_gray_with_gaussian_and_numeric(\"I:/DeepLearningData/research_010_NIH3T3/shCtrl_001_realignment/superhuman_dataset/cropped_001/suga_seg/\", normalize=False)\n",
    "nakamura_imgs, _ = load_Y_gray_with_gaussian_and_numeric(\"Z:/DeepLearningData/research_010_NIH3T3/shCtrl_001_realignment/superhuman_dataset/cropped_001/nakamura_seg//\", normalize=False)\n",
    "\n",
    "lamellar_imgs, _ = load_Y_gray_with_gaussian_and_numeric(\"I:/DeepLearningData/research_010_NIH3T3/shCtrl_001_realignment/superhuman_dataset/cropped_001/lamellar//\", normalize=False)\n",
    "tubular_imgs, _ = load_Y_gray_with_gaussian_and_numeric(\"I:/DeepLearningData/research_010_NIH3T3/shCtrl_001_realignment/superhuman_dataset/cropped_001/tubular//\", normalize=False)\n",
    "\n",
    "nakamura_lamellar_imgs = (nakamura_imgs == 1).astype(int)\n",
    "suga_lamellar_imgs = (suga_imgs == 1).astype(int)\n",
    "\n",
    "nakamura_tubular_imgs = (nakamura_imgs == 2).astype(int)\n",
    "suga_tubular_imgs = (suga_imgs == 2).astype(int)"
   ]
  },
  {
   "cell_type": "markdown",
   "metadata": {},
   "source": [
    "# HITL-TAP → Human＃１"
   ]
  },
  {
   "cell_type": "code",
   "execution_count": 6,
   "metadata": {},
   "outputs": [
    {
     "name": "stdout",
     "output_type": "stream",
     "text": [
      "HITL-TAPから見たhuman#1 Lamellar\n",
      "Precision: 0.734, Recall: 0.849, F1: 0.787 \n",
      "Precision: 0.7338284394795145, Recall: 0.848698099929627, F1: 0.787094290997632 \n",
      "IoU:  (0.649, 0.6489327943266325)\n"
     ]
    }
   ],
   "source": [
    "print(\"HITL-TAPから見たhuman#1 Lamellar\")\n",
    "culc_F1(nakamura_lamellar_imgs, lamellar_imgs)\n",
    "print(\"IoU: \", calc_iou(nakamura_lamellar_imgs, lamellar_imgs))"
   ]
  },
  {
   "cell_type": "code",
   "execution_count": 7,
   "metadata": {},
   "outputs": [
    {
     "name": "stdout",
     "output_type": "stream",
     "text": [
      "HITL-TAPから見たhuman#1 Tubular\n",
      "Precision: 0.687, Recall: 0.399, F1: 0.504 \n",
      "Precision: 0.6866971290628503, Recall: 0.39856885508406725, F1: 0.5043852705569453 \n",
      "IoU:  (0.337, 0.3372427809297993)\n"
     ]
    }
   ],
   "source": [
    "print(\"HITL-TAPから見たhuman#1 Tubular\")\n",
    "culc_F1(nakamura_tubular_imgs, tubular_imgs)\n",
    "print(\"IoU: \", calc_iou(nakamura_tubular_imgs, tubular_imgs))"
   ]
  },
  {
   "cell_type": "markdown",
   "metadata": {},
   "source": [
    "# HITL-TAP → Human＃2"
   ]
  },
  {
   "cell_type": "code",
   "execution_count": 8,
   "metadata": {},
   "outputs": [
    {
     "name": "stdout",
     "output_type": "stream",
     "text": [
      "HITL-TAPから見たhuman#2 Lamellar\n",
      "Precision: 0.78, Recall: 0.858, F1: 0.817 \n",
      "Precision: 0.7795882237230346, Recall: 0.8581533409119616, F1: 0.8169863343153845 \n",
      "IoU:  (0.691, 0.690597545923183)\n"
     ]
    }
   ],
   "source": [
    "print(\"HITL-TAPから見たhuman#2 Lamellar\")\n",
    "culc_F1(suga_lamellar_imgs, lamellar_imgs)\n",
    "print(\"IoU: \", calc_iou(suga_lamellar_imgs, lamellar_imgs))"
   ]
  },
  {
   "cell_type": "code",
   "execution_count": 9,
   "metadata": {},
   "outputs": [
    {
     "name": "stdout",
     "output_type": "stream",
     "text": [
      "HITL-TAPから見たhuman#2 Tubular\n",
      "Precision: 0.734, Recall: 0.539, F1: 0.622 \n",
      "Precision: 0.7342514316880283, Recall: 0.5389311449159327, F1: 0.6216091423294471 \n",
      "IoU:  (0.451, 0.4509672556737292)\n"
     ]
    }
   ],
   "source": [
    "print(\"HITL-TAPから見たhuman#2 Tubular\")\n",
    "culc_F1(suga_tubular_imgs, tubular_imgs)\n",
    "print(\"IoU: \", calc_iou(suga_tubular_imgs, tubular_imgs))"
   ]
  },
  {
   "cell_type": "markdown",
   "metadata": {},
   "source": [
    "# Human#1 → Human#2"
   ]
  },
  {
   "cell_type": "code",
   "execution_count": 10,
   "metadata": {},
   "outputs": [
    {
     "name": "stdout",
     "output_type": "stream",
     "text": [
      "human#1から見たhuman#2 Lamellar\n",
      "Precision: 0.8, Recall: 0.761, F1: 0.78 \n",
      "Precision: 0.7995869123336174, Recall: 0.7610384747402253, F1: 0.7798366080992503 \n",
      "IoU:  (0.639, 0.6391247379454926)\n"
     ]
    }
   ],
   "source": [
    "print(\"human#1から見たhuman#2 Lamellar\")\n",
    "culc_F1(suga_lamellar_imgs, nakamura_lamellar_imgs)\n",
    "print(\"IoU: \", calc_iou(suga_lamellar_imgs, nakamura_lamellar_imgs))"
   ]
  },
  {
   "cell_type": "code",
   "execution_count": 11,
   "metadata": {},
   "outputs": [
    {
     "name": "stdout",
     "output_type": "stream",
     "text": [
      "human#1から見たhuman#2 Tubular\n",
      "Precision: 0.497, Recall: 0.629, F1: 0.555 \n",
      "Precision: 0.497204799563676, Recall: 0.6287611000948358, F1: 0.5552975216050557 \n",
      "IoU:  (0.384, 0.3843680826394013)\n"
     ]
    }
   ],
   "source": [
    "print(\"human#1から見たhuman#2 Tubular\")\n",
    "culc_F1(suga_tubular_imgs, nakamura_tubular_imgs)\n",
    "print(\"IoU: \", calc_iou(suga_tubular_imgs, nakamura_tubular_imgs))"
   ]
  },
  {
   "cell_type": "code",
   "execution_count": null,
   "metadata": {},
   "outputs": [],
   "source": []
  }
 ],
 "metadata": {
  "kernelspec": {
   "display_name": "Python 3",
   "language": "python",
   "name": "python3"
  },
  "language_info": {
   "codemirror_mode": {
    "name": "ipython",
    "version": 3
   },
   "file_extension": ".py",
   "mimetype": "text/x-python",
   "name": "python",
   "nbconvert_exporter": "python",
   "pygments_lexer": "ipython3",
   "version": "3.7.16"
  },
  "toc": {
   "base_numbering": 1,
   "nav_menu": {},
   "number_sections": true,
   "sideBar": true,
   "skip_h1_title": false,
   "title_cell": "Table of Contents",
   "title_sidebar": "Contents",
   "toc_cell": false,
   "toc_position": {},
   "toc_section_display": true,
   "toc_window_display": false
  }
 },
 "nbformat": 4,
 "nbformat_minor": 4
}
