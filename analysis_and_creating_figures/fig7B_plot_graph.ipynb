{
 "cells": [
  {
   "cell_type": "code",
   "execution_count": 1,
   "id": "e1f95fc7",
   "metadata": {},
   "outputs": [
    {
     "name": "stderr",
     "output_type": "stream",
     "text": [
      "Warning message:\n",
      "\"package 'ggbeeswarm' was built under R version 4.0.5\"\n"
     ]
    }
   ],
   "source": [
    "library(googlesheets4)\n",
    "library(ggplot2)\n",
    "library(ggbeeswarm)\n",
    "library(glue)"
   ]
  },
  {
   "cell_type": "code",
   "execution_count": 2,
   "id": "f58841b3",
   "metadata": {},
   "outputs": [],
   "source": [
    "ctrl_df <- read.csv(\"Z:/paper_data/2021_cristae/data_507_lamellar_angle/angles_ctrl.csv\")\n",
    "kd_df <- read.csv(\"Z:/paper_data/2021_cristae/data_507_lamellar_angle/angles_opa1.csv\")\n",
    "\n",
    "all_data <- rbind(ctrl_df, kd_df)"
   ]
  },
  {
   "cell_type": "code",
   "execution_count": 3,
   "id": "ba3b988f",
   "metadata": {},
   "outputs": [],
   "source": [
    "nonzero_all_data <- all_data[!is.na(all_data$angles), ]"
   ]
  },
  {
   "cell_type": "code",
   "execution_count": 4,
   "id": "3a6bc3a1",
   "metadata": {},
   "outputs": [
    {
     "name": "stderr",
     "output_type": "stream",
     "text": [
      "Warning message in grid.Call(C_stringMetric, as.graphicsAnnot(x$label)):\n",
      "\" Windows のフォントデータベースにフォントファミリが見付かりません \"\n",
      "Warning message in grid.Call(C_stringMetric, as.graphicsAnnot(x$label)):\n",
      "\" Windows のフォントデータベースにフォントファミリが見付かりません \"\n",
      "Warning message in grid.Call(C_textBounds, as.graphicsAnnot(x$label), x$x, x$y, :\n",
      "\" Windows のフォントデータベースにフォントファミリが見付かりません \"\n",
      "Warning message in grid.Call(C_textBounds, as.graphicsAnnot(x$label), x$x, x$y, :\n",
      "\" Windows のフォントデータベースにフォントファミリが見付かりません \"\n",
      "Warning message in grid.Call(C_textBounds, as.graphicsAnnot(x$label), x$x, x$y, :\n",
      "\" Windows のフォントデータベースにフォントファミリが見付かりません \"\n",
      "Warning message in grid.Call(C_textBounds, as.graphicsAnnot(x$label), x$x, x$y, :\n",
      "\" Windows のフォントデータベースにフォントファミリが見付かりません \"\n",
      "Warning message in grid.Call(C_textBounds, as.graphicsAnnot(x$label), x$x, x$y, :\n",
      "\" Windows のフォントデータベースにフォントファミリが見付かりません \"\n",
      "Warning message in grid.Call(C_textBounds, as.graphicsAnnot(x$label), x$x, x$y, :\n",
      "\" Windows のフォントデータベースにフォントファミリが見付かりません \"\n",
      "Warning message in grid.Call(C_textBounds, as.graphicsAnnot(x$label), x$x, x$y, :\n",
      "\" Windows のフォントデータベースにフォントファミリが見付かりません \"\n",
      "Warning message in grid.Call.graphics(C_text, as.graphicsAnnot(x$label), x$x, x$y, :\n",
      "\" Windows のフォントデータベースにフォントファミリが見付かりません \"\n"
     ]
    },
    {
     "data": {
      "image/png": "[encoded data removed]",
      "text/plain": [
       "plot without title"
      ]
     },
     "metadata": {
      "image/png": {
       "height": 600,
       "width": 600
      }
     },
     "output_type": "display_data"
    }
   ],
   "source": [
    "options(repr.plot.width=10, repr.plot.height=10)\n",
    "\n",
    "graph <- ggplot(NULL)\n",
    "\n",
    "graph <- graph + theme(\n",
    "    axis.line = element_line(size = 2, colour=\"black\"),\n",
    "    axis.title.x = element_blank(),\n",
    "    axis.title.y = element_text(size = 40, face = \"bold\", family = \"Helvetica\", color=\"black\"),\n",
    "    axis.text.x = element_text(size = 40, face = \"bold\", family = \"Helvetica\", color=\"black\"),\n",
    "    axis.text.y = element_text(size = 30, face = \"bold\", family = \"Helvetica\", color=\"black\"),\n",
    "    panel.background = element_blank(), \n",
    "    panel.grid.major = element_blank(),\n",
    "    panel.grid.minor = element_blank(),\n",
    ") + scale_y_continuous(\n",
    "    expand = c(0,0), \n",
    "    limits=c(0, 110)\n",
    ")\n",
    "\n",
    "graph <- graph + labs(\n",
    "    y = \"Lamellar Angle (°) \"\n",
    ") + geom_violin(\n",
    "    data = nonzero_all_data,\n",
    "    aes(gene, angles),\n",
    "    linetype = \"dotted\",\n",
    "    size = 1,\n",
    "    adjust = 0.5,\n",
    "    trim=FALSE,\n",
    "    draw_quantiles = c(0.25, 0.75),\n",
    "    fill=\"transparent\"\n",
    ") + geom_violin(\n",
    "    data = nonzero_all_data,\n",
    "    aes(gene, angles),\n",
    "    size = 2,\n",
    "    adjust = 0.5,\n",
    "    trim=FALSE,\n",
    "    draw_quantiles = c(0.5),\n",
    "    color=\"red\",\n",
    "    fill=\"transparent\"\n",
    ") + geom_violin(\n",
    "    data = nonzero_all_data,\n",
    "    aes(gene, angles),\n",
    "    size = 5,\n",
    "    adjust = 0.5,\n",
    "    trim=FALSE,\n",
    "    fill=\"transparent\"\n",
    ") + scale_x_discrete(\n",
    "    labels = c(\"Control\", \"OPA1 KD\"),\n",
    ")\n",
    "\n",
    "graph"
   ]
  },
  {
   "cell_type": "code",
   "execution_count": 5,
   "id": "90f2b166",
   "metadata": {},
   "outputs": [
    {
     "data": {
      "text/plain": [
       "\n",
       "\tWilcoxon rank sum test with continuity correction\n",
       "\n",
       "data:  nonzero_all_data[nonzero_all_data$gene == \"shCtrl\", ]$angles and nonzero_all_data[nonzero_all_data$gene == \"shOPA1\", ]$angles\n",
       "W = 8239, p-value = 4.313e-13\n",
       "alternative hypothesis: true location shift is not equal to 0\n"
      ]
     },
     "metadata": {},
     "output_type": "display_data"
    }
   ],
   "source": [
    "wilcox.test(\n",
    "    nonzero_all_data[nonzero_all_data$gene == \"shCtrl\", ]$`angles`, \n",
    "    nonzero_all_data[nonzero_all_data$gene == \"shOPA1\", ]$`angles`\n",
    ")"
   ]
  },
  {
   "cell_type": "code",
   "execution_count": 6,
   "id": "1ec4daf7",
   "metadata": {},
   "outputs": [
    {
     "name": "stderr",
     "output_type": "stream",
     "text": [
      "Warning message in dir.create(\"Z:/paper_data/2021_cristae/for_revision_#2/fig7B\"):\n",
      "\" 'Z:\\paper_data\\2021_cristae\\for_revision_#2\\fig7B' はすでに存在します \"\n"
     ]
    }
   ],
   "source": [
    "dir.create(\"Z:/paper_data/2021_cristae/for_revision_#2/fig7B\")\n",
    "ggsave(file = \"Z:/paper_data/2021_cristae/for_revision_#2/fig7B/plot.svg\", plot = graph, dpi = 100, width = 10, height = 10)\n"
   ]
  },
  {
   "cell_type": "code",
   "execution_count": null,
   "id": "11d295c6",
   "metadata": {},
   "outputs": [],
   "source": []
  }
 ],
 "metadata": {
  "kernelspec": {
   "display_name": "R",
   "language": "R",
   "name": "ir"
  },
  "language_info": {
   "codemirror_mode": "r",
   "file_extension": ".r",
   "mimetype": "text/x-r-source",
   "name": "R",
   "pygments_lexer": "r",
   "version": "4.0.3"
  },
  "toc": {
   "base_numbering": 1,
   "nav_menu": {},
   "number_sections": true,
   "sideBar": true,
   "skip_h1_title": false,
   "title_cell": "Table of Contents",
   "title_sidebar": "Contents",
   "toc_cell": false,
   "toc_position": {},
   "toc_section_display": true,
   "toc_window_display": false
  }
 },
 "nbformat": 4,
 "nbformat_minor": 5
}
