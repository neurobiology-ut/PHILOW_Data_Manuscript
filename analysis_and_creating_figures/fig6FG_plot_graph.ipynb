{
 "cells": [
  {
   "cell_type": "code",
   "execution_count": null,
   "id": "6bf98539",
   "metadata": {},
   "outputs": [],
   "source": [
    "library(googlesheets4)\n",
    "library(ggplot2)\n",
    "library(ggbeeswarm)\n",
    "library(glue)"
   ]
  },
  {
   "cell_type": "code",
   "execution_count": null,
   "id": "a941b6d1",
   "metadata": {
    "scrolled": true
   },
   "outputs": [],
   "source": [
    "ctrl_original_data <- read.csv(\"Z:/paper_data/2021_cristae/data_304_subvolume_analysis_of_tubular_lamellar//ctrl_raw.csv\")\n",
    "ctrl_original_data"
   ]
  },
  {
   "cell_type": "code",
   "execution_count": null,
   "id": "11c3301a",
   "metadata": {},
   "outputs": [],
   "source": [
    "options(repr.plot.width=10, repr.plot.height=10)\n",
    "\n",
    "graph <- ggplot(NULL)\n",
    "\n",
    "graph <- graph + labs(\n",
    "    x = \"Tubular/Mitochondria\",\n",
    "    y = \"Lamellar/Mitochondria\"\n",
    ") + theme(\n",
    "    axis.line = element_line(size = 2, colour=\"black\"),\n",
    "    axis.title.x = element_text(size = 30, face = \"bold\", family = \"Helvetica\", colour=\"black\"),\n",
    "    axis.title.y = element_text(size = 30, face = \"bold\", family = \"Helvetica\", colour=\"black\"),\n",
    "    axis.text.x = element_text(size = 20, face = \"bold\", family = \"Helvetica\", colour=\"black\"),\n",
    "    axis.text.y = element_text(size = 20, face = \"bold\", family = \"Helvetica\", colour=\"black\"),\n",
    "    panel.background = element_blank(), \n",
    "    panel.grid.major = element_blank(),\n",
    "    panel.grid.minor = element_blank(),\n",
    ") + scale_x_continuous (\n",
    "    expand=c(0,0),\n",
    "    limits=c(0, 1),\n",
    ")+ scale_y_continuous (\n",
    "    expand=c(0,0),\n",
    "    limits=c(0, 1),\n",
    ")\n",
    "\n",
    "\n",
    "graph <- graph + geom_point(\n",
    "    ctrl_original_data,\n",
    "    mapping=aes(tubular_ratio, lamellar_ratio),\n",
    "    size=3,\n",
    "    alpha=0.3,\n",
    "    beta=0.3\n",
    ") \n",
    "\n",
    "graph"
   ]
  },
  {
   "cell_type": "code",
   "execution_count": null,
   "id": "df4bde07",
   "metadata": {},
   "outputs": [],
   "source": [
    "dir.create(\"Z:/paper_data/2021_cristae/for_revision_#2/fig6G\")\n",
    "ggsave(file = \"Z:/paper_data/2021_cristae/for_revision_#2/fig6G/ctrl_graph_001.svg\", plot = graph, dpi = 100, width = 10, height = 10)\n"
   ]
  },
  {
   "cell_type": "code",
   "execution_count": null,
   "id": "fa6a5a44",
   "metadata": {},
   "outputs": [],
   "source": [
    "kd_original_data <- read.csv(\"Z:/paper_data/2021_cristae/data_304_subvolume_analysis_of_tubular_lamellar//kd_raw.csv\")"
   ]
  },
  {
   "cell_type": "code",
   "execution_count": null,
   "id": "43fe89fa",
   "metadata": {},
   "outputs": [],
   "source": [
    "options(repr.plot.width=10, repr.plot.height=10)\n",
    "\n",
    "graph <- ggplot(NULL)\n",
    "\n",
    "graph <- graph + labs(\n",
    "    x = \"Tubular/Mitochondria\",\n",
    "    y = \"Lamellar/Mitochondria\"\n",
    ") + theme(\n",
    "    axis.line = element_line(size = 2, colour=\"black\"),\n",
    "    axis.title.x = element_text(size = 30, face = \"bold\", family = \"Helvetica\", colour=\"black\"),\n",
    "    axis.title.y = element_text(size = 30, face = \"bold\", family = \"Helvetica\", colour=\"black\"),\n",
    "    axis.text.x = element_text(size = 20, face = \"bold\", family = \"Helvetica\", colour=\"black\"),\n",
    "    axis.text.y = element_text(size = 20, face = \"bold\", family = \"Helvetica\", colour=\"black\"),\n",
    "    panel.background = element_blank(), \n",
    "    panel.grid.major = element_blank(),\n",
    "    panel.grid.minor = element_blank(),\n",
    ") + scale_x_continuous (\n",
    "    expand=c(0,0),\n",
    "    limits=c(0, 1),\n",
    ")+ scale_y_continuous (\n",
    "    expand=c(0,0),\n",
    "    limits=c(0, 1),\n",
    ")\n",
    "\n",
    "\n",
    "graph <- graph + geom_point(\n",
    "    kd_original_data,\n",
    "    mapping=aes(tubular_ratio, lamellar_ratio),\n",
    "    size=3,\n",
    "    alpha=0.3,\n",
    "    beta=0.3\n",
    ") \n",
    "\n",
    "graph"
   ]
  },
  {
   "cell_type": "code",
   "execution_count": null,
   "id": "b21fe6f1",
   "metadata": {},
   "outputs": [],
   "source": [
    "ggsave(file = \"Z:/paper_data/2021_cristae/for_revision_#2/fig6G/kd_graph_001.svg\", plot = graph, dpi = 100, width = 10, height = 10)\n"
   ]
  },
  {
   "cell_type": "code",
   "execution_count": null,
   "id": "2efef528",
   "metadata": {},
   "outputs": [],
   "source": []
  }
 ],
 "metadata": {
  "kernelspec": {
   "display_name": "R",
   "language": "R",
   "name": "ir"
  },
  "language_info": {
   "codemirror_mode": "r",
   "file_extension": ".r",
   "mimetype": "text/x-r-source",
   "name": "R",
   "pygments_lexer": "r",
   "version": "4.0.3"
  },
  "toc": {
   "base_numbering": 1,
   "nav_menu": {},
   "number_sections": true,
   "sideBar": true,
   "skip_h1_title": false,
   "title_cell": "Table of Contents",
   "title_sidebar": "Contents",
   "toc_cell": false,
   "toc_position": {},
   "toc_section_display": true,
   "toc_window_display": false
  }
 },
 "nbformat": 4,
 "nbformat_minor": 5
}
