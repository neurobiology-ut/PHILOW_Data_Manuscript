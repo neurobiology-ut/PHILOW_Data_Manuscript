{
 "cells": [
  {
   "cell_type": "code",
   "execution_count": 1,
   "metadata": {},
   "outputs": [],
   "source": [
    "%matplotlib inline\n",
    "import matplotlib.pyplot as plt\n",
    "import os\n",
    "import numpy as np\n",
    "import cv2\n",
    "from PIL import Image\n",
    "from skimage.measure import regionprops, label, find_contours\n",
    "from scipy.spatial.distance import cdist"
   ]
  },
  {
   "cell_type": "code",
   "execution_count": 2,
   "metadata": {},
   "outputs": [],
   "source": [
    "#値を-1から1に正規化する関数\n",
    "def normalize_x(image):\n",
    "    return image / 127.5 - 1\n",
    "\n",
    "\n",
    "def denormalize_x(image):\n",
    "    return (image + 1) * 127.5\n",
    "\n",
    "\n",
    "#値を0から1正規化する関数\n",
    "def normalize_y(image):\n",
    "    return image / 255\n",
    "\n",
    "\n",
    "#値を0から255に戻す関数\n",
    "def denormalize_y(image):\n",
    "    return image * 255"
   ]
  },
  {
   "cell_type": "code",
   "execution_count": 3,
   "metadata": {},
   "outputs": [],
   "source": [
    "# インプット画像を読み込む関数\n",
    "def load_X_gray(folder_path):\n",
    "    \n",
    "    image_files = []\n",
    "\n",
    "    #image_files = os.listdir(folder_path)\n",
    "       \n",
    "    for file in os.listdir(folder_path):\n",
    "        base, ext = os.path.splitext(file)\n",
    "        if ext == '.png':\n",
    "            image_files.append(file)\n",
    "        else :\n",
    "            pass\n",
    "        \n",
    "    image_files.sort()\n",
    "    print (image_files)\n",
    "    \n",
    "    img = cv2.imread(folder_path + os.sep + image_files[0], cv2.IMREAD_GRAYSCALE)\n",
    "    \n",
    "    #image_files = image_files[1:]\n",
    "    images = np.zeros((len(image_files), img.shape[0], img.shape[1], 1), np.float32)\n",
    "    for i, image_file in enumerate(image_files):\n",
    "        image = cv2.imread(folder_path + os.sep + image_file, cv2.IMREAD_GRAYSCALE)\n",
    "        print (image.shape)\n",
    "        #image = cv2.resize(image, (IMAGE_SIZE, IMAGE_SIZE))\n",
    "        image = image[:, :, np.newaxis]\n",
    "        images[i] = normalize_x(image)\n",
    "    return images, image_files\n",
    "\n",
    "\n",
    "def load_Y_gray_with_gaussian_and_numeric(folder_path, thresh = None , normalize = True, g_size = None):\n",
    "    image_files = []\n",
    "    #image_files = os.listdir(folder_path)\n",
    "    \n",
    "    for file in os.listdir(folder_path):\n",
    "        base, ext = os.path.splitext(file)\n",
    "        if ext == '.png':\n",
    "            image_files.append(int(base))\n",
    "        else:\n",
    "            pass\n",
    "        \n",
    "    image_files.sort()\n",
    "    print(image_files)\n",
    "    \n",
    "    img = cv2.imread(folder_path + os.sep + str(image_files[0]).zfill(4) + \".png\", cv2.IMREAD_GRAYSCALE)\n",
    "    \n",
    "    images = np.zeros(\n",
    "        (len(image_files), img.shape[0], img.shape[1], 1) ,np.float32\n",
    "    )\n",
    "    \n",
    "    for i , image_file in enumerate(image_files):\n",
    "        image = cv2.imread(\n",
    "            folder_path + os.sep + str(image_file).zfill(4) + \".png\" ,\n",
    "            cv2.IMREAD_GRAYSCALE\n",
    "        )\n",
    "        #print(image.shape)\n",
    "        \n",
    "        # ぼかし処理\n",
    "        if g_size:\n",
    "            image = cv2.GaussianBlur(\n",
    "                image, (g_size, g_size), 0\n",
    "            )\n",
    "        \n",
    "        \n",
    "        \n",
    "        if thresh:\n",
    "            ret , image = cv2.threshold(image , thresh , 255 , cv2.THRESH_BINARY)\n",
    "        image = image[ : , : , np.newaxis]\n",
    "        if normalize:\n",
    "            images[i] = normalize_y(image)\n",
    "        else:\n",
    "            images[i] = image\n",
    "            \n",
    "    print(images.shape)\n",
    "    \n",
    "    return images , image_files"
   ]
  },
  {
   "cell_type": "code",
   "execution_count": 4,
   "metadata": {},
   "outputs": [],
   "source": [
    "def make_mask_img(ori_img, mask_img):\n",
    "    mask_img_rgb = np.zeros((mask_img.shape[0], mask_img.shape[1], 3), np.float32)\n",
    "    mask_img_rgb[:,:,2] = mask_img[:,:,0]\n",
    "    masked_img = cv2.addWeighted(mask_img_rgb,0.5,cv2.cvtColor(ori_img+0.75, cv2.COLOR_GRAY2BGR),0.6,0)\n",
    "    return masked_img"
   ]
  },
  {
   "cell_type": "code",
   "execution_count": 5,
   "metadata": {},
   "outputs": [],
   "source": [
    "def make_2_mask_img(ori_img, mask_img_1, mask_img_2):\n",
    "    \n",
    "    mask_img_rgb = np.zeros((mask_img_1.shape[0], mask_img_1.shape[1], 3), np.float32)\n",
    "    mask_img_rgb[:,:,0] = mask_img_2[:,:,0]\n",
    "    mask_img_rgb[:,:,1] = mask_img_1[:,:,0] + mask_img_2[:,:,0]\n",
    "    mask_img_rgb[:,:,2] = mask_img_1[:,:,0]\n",
    "    masked_img = cv2.addWeighted(mask_img_rgb,0.5,cv2.cvtColor(ori_img + 0.75, cv2.COLOR_GRAY2BGR),0.6,0)\n",
    "    return masked_img"
   ]
  },
  {
   "cell_type": "code",
   "execution_count": 6,
   "metadata": {
    "scrolled": true
   },
   "outputs": [
    {
     "name": "stdout",
     "output_type": "stream",
     "text": [
      "['0000.png', '0001.png', '0002.png', '0003.png', '0004.png', '0005.png', '0006.png', '0007.png', '0008.png', '0009.png', '0010.png', '0011.png', '0012.png', '0013.png', '0014.png', '0015.png', '0016.png', '0017.png', '0018.png', '0019.png', '0020.png', '0021.png', '0022.png', '0023.png', '0024.png', '0025.png', '0026.png', '0027.png', '0028.png', '0029.png', '0030.png', '0031.png', '0032.png', '0033.png', '0034.png', '0035.png', '0036.png', '0037.png', '0038.png', '0039.png', '0040.png', '0041.png', '0042.png', '0043.png', '0044.png', '0045.png', '0046.png', '0047.png', '0048.png', '0049.png', '0050.png', '0051.png', '0052.png', '0053.png', '0054.png', '0055.png', '0056.png', '0057.png', '0058.png', '0059.png', '0060.png', '0061.png', '0062.png', '0063.png', '0064.png', '0065.png', '0066.png', '0067.png', '0068.png', '0069.png', '0070.png', '0071.png', '0072.png', '0073.png', '0074.png', '0075.png', '0076.png', '0077.png', '0078.png', '0079.png', '0080.png', '0081.png', '0082.png', '0083.png', '0084.png', '0085.png', '0086.png', '0087.png', '0088.png', '0089.png', '0090.png', '0091.png', '0092.png']\n",
      "(109, 115)\n",
      "(109, 115)\n",
      "(109, 115)\n",
      "(109, 115)\n",
      "(109, 115)\n",
      "(109, 115)\n",
      "(109, 115)\n",
      "(109, 115)\n",
      "(109, 115)\n",
      "(109, 115)\n",
      "(109, 115)\n",
      "(109, 115)\n",
      "(109, 115)\n",
      "(109, 115)\n",
      "(109, 115)\n",
      "(109, 115)\n",
      "(109, 115)\n",
      "(109, 115)\n",
      "(109, 115)\n",
      "(109, 115)\n",
      "(109, 115)\n",
      "(109, 115)\n",
      "(109, 115)\n",
      "(109, 115)\n",
      "(109, 115)\n",
      "(109, 115)\n",
      "(109, 115)\n",
      "(109, 115)\n",
      "(109, 115)\n",
      "(109, 115)\n",
      "(109, 115)\n",
      "(109, 115)\n",
      "(109, 115)\n",
      "(109, 115)\n",
      "(109, 115)\n",
      "(109, 115)\n",
      "(109, 115)\n",
      "(109, 115)\n",
      "(109, 115)\n",
      "(109, 115)\n",
      "(109, 115)\n",
      "(109, 115)\n",
      "(109, 115)\n",
      "(109, 115)\n",
      "(109, 115)\n",
      "(109, 115)\n",
      "(109, 115)\n",
      "(109, 115)\n",
      "(109, 115)\n",
      "(109, 115)\n",
      "(109, 115)\n",
      "(109, 115)\n",
      "(109, 115)\n",
      "(109, 115)\n",
      "(109, 115)\n",
      "(109, 115)\n",
      "(109, 115)\n",
      "(109, 115)\n",
      "(109, 115)\n",
      "(109, 115)\n",
      "(109, 115)\n",
      "(109, 115)\n",
      "(109, 115)\n",
      "(109, 115)\n",
      "(109, 115)\n",
      "(109, 115)\n",
      "(109, 115)\n",
      "(109, 115)\n",
      "(109, 115)\n",
      "(109, 115)\n",
      "(109, 115)\n",
      "(109, 115)\n",
      "(109, 115)\n",
      "(109, 115)\n",
      "(109, 115)\n",
      "(109, 115)\n",
      "(109, 115)\n",
      "(109, 115)\n",
      "(109, 115)\n",
      "(109, 115)\n",
      "(109, 115)\n",
      "(109, 115)\n",
      "(109, 115)\n",
      "(109, 115)\n",
      "(109, 115)\n",
      "(109, 115)\n",
      "(109, 115)\n",
      "(109, 115)\n",
      "(109, 115)\n",
      "(109, 115)\n",
      "(109, 115)\n",
      "(109, 115)\n",
      "(109, 115)\n"
     ]
    }
   ],
   "source": [
    "ori_imgs, _ = load_X_gray(\"Z:/DeepLearningData/research_010_NIH3T3/superhuman_lamellar/original/\")\n",
    "\n"
   ]
  },
  {
   "cell_type": "code",
   "execution_count": 7,
   "metadata": {},
   "outputs": [
    {
     "name": "stdout",
     "output_type": "stream",
     "text": [
      "[0, 1, 2, 3, 4, 5, 6, 7, 8, 9, 10, 11, 12, 13, 14, 15, 16, 17, 18, 19, 20, 21, 22, 23, 24, 25, 26, 27, 28, 29, 30, 31, 32, 33, 34, 35, 36, 37, 38, 39, 40, 41, 42, 43, 44, 45, 46, 47, 48, 49, 50, 51, 52, 53, 54, 55, 56, 57, 58, 59, 60, 61, 62, 63, 64, 65, 66, 67, 68, 69, 70, 71, 72, 73, 74, 75, 76, 77, 78, 79, 80, 81, 82, 83, 84, 85, 86, 87, 88, 89, 90, 91, 92]\n",
      "(93, 109, 115, 1)\n",
      "[0, 1, 2, 3, 4, 5, 6, 7, 8, 9, 10, 11, 12, 13, 14, 15, 16, 17, 18, 19, 20, 21, 22, 23, 24, 25, 26, 27, 28, 29, 30, 31, 32, 33, 34, 35, 36, 37, 38, 39, 40, 41, 42, 43, 44, 45, 46, 47, 48, 49, 50, 51, 52, 53, 54, 55, 56, 57, 58, 59, 60, 61, 62, 63, 64, 65, 66, 67, 68, 69, 70, 71, 72, 73, 74, 75, 76, 77, 78, 79, 80, 81, 82, 83, 84, 85, 86, 87, 88, 89, 90, 91, 92]\n",
      "(93, 109, 115, 1)\n"
     ]
    }
   ],
   "source": [
    "suga_imgs_1, _ = load_Y_gray_with_gaussian_and_numeric(r\"Z:\\DeepLearningData\\research_010_NIH3T3\\superhuman_lamellar\\suga\\lamellar_1\")\n",
    "suga_imgs_3, _ = load_Y_gray_with_gaussian_and_numeric(r\"Z:\\DeepLearningData\\research_010_NIH3T3\\superhuman_lamellar\\suga\\lamellar_3\")\n"
   ]
  },
  {
   "cell_type": "code",
   "execution_count": 8,
   "metadata": {},
   "outputs": [],
   "source": [
    "suga_imgs_1 *= 255 * 255\n",
    "suga_imgs_3 *= 255 *255"
   ]
  },
  {
   "cell_type": "code",
   "execution_count": 9,
   "metadata": {},
   "outputs": [
    {
     "name": "stdout",
     "output_type": "stream",
     "text": [
      "[0, 1, 2, 3, 4, 5, 6, 7, 8, 9, 10, 11, 12, 13, 14, 15, 16, 17, 18, 19, 20, 21, 22, 23, 24, 25, 26, 27, 28, 29, 30, 31, 32, 33, 34, 35, 36, 37, 38, 39, 40, 41, 42, 43, 44, 45, 46, 47, 48, 49, 50, 51, 52, 53, 54, 55, 56, 57, 58, 59, 60, 61, 62, 63, 64, 65, 66, 67, 68, 69, 70, 71, 72, 73, 74, 75, 76, 77, 78, 79, 80, 81, 82, 83, 84, 85, 86, 87, 88, 89, 90, 91, 92]\n",
      "(93, 109, 115, 1)\n",
      "[0, 1, 2, 3, 4, 5, 6, 7, 8, 9, 10, 11, 12, 13, 14, 15, 16, 17, 18, 19, 20, 21, 22, 23, 24, 25, 26, 27, 28, 29, 30, 31, 32, 33, 34, 35, 36, 37, 38, 39, 40, 41, 42, 43, 44, 45, 46, 47, 48, 49, 50, 51, 52, 53, 54, 55, 56, 57, 58, 59, 60, 61, 62, 63, 64, 65, 66, 67, 68, 69, 70, 71, 72, 73, 74, 75, 76, 77, 78, 79, 80, 81, 82, 83, 84, 85, 86, 87, 88, 89, 90, 91, 92]\n",
      "(93, 109, 115, 1)\n"
     ]
    }
   ],
   "source": [
    "nakamura_imgs_1, _ = load_Y_gray_with_gaussian_and_numeric(r\"Z:\\DeepLearningData\\research_010_NIH3T3\\superhuman_lamellar\\nakamura\\lamellar_1\")\n",
    "nakamura_imgs_3, _ = load_Y_gray_with_gaussian_and_numeric(r\"Z:\\DeepLearningData\\research_010_NIH3T3\\superhuman_lamellar\\nakamura\\lamellar_3\")\n"
   ]
  },
  {
   "cell_type": "code",
   "execution_count": 10,
   "metadata": {},
   "outputs": [],
   "source": [
    "nakamura_imgs_1 *= 255 * 255\n",
    "nakamura_imgs_3 *= 255 *255"
   ]
  },
  {
   "cell_type": "code",
   "execution_count": 11,
   "metadata": {
    "scrolled": true
   },
   "outputs": [
    {
     "name": "stdout",
     "output_type": "stream",
     "text": [
      "[0, 1, 2, 3, 4, 5, 6, 7, 8, 9, 10, 11, 12, 13, 14, 15, 16, 17, 18, 19, 20, 21, 22, 23, 24, 25, 26, 27, 28, 29, 30, 31, 32, 33, 34, 35, 36, 37, 38, 39, 40, 41, 42, 43, 44, 45, 46, 47, 48, 49, 50, 51, 52, 53, 54, 55, 56, 57, 58, 59, 60, 61, 62, 63, 64, 65, 66, 67, 68, 69, 70, 71, 72, 73, 74, 75, 76, 77, 78, 79, 80, 81, 82, 83, 84, 85, 86, 87, 88, 89, 90, 91, 92]\n",
      "(93, 109, 115, 1)\n",
      "[0, 1, 2, 3, 4, 5, 6, 7, 8, 9, 10, 11, 12, 13, 14, 15, 16, 17, 18, 19, 20, 21, 22, 23, 24, 25, 26, 27, 28, 29, 30, 31, 32, 33, 34, 35, 36, 37, 38, 39, 40, 41, 42, 43, 44, 45, 46, 47, 48, 49, 50, 51, 52, 53, 54, 55, 56, 57, 58, 59, 60, 61, 62, 63, 64, 65, 66, 67, 68, 69, 70, 71, 72, 73, 74, 75, 76, 77, 78, 79, 80, 81, 82, 83, 84, 85, 86, 87, 88, 89, 90, 91, 92]\n",
      "(93, 109, 115, 1)\n"
     ]
    }
   ],
   "source": [
    "DL_imgs_1, _ =  load_Y_gray_with_gaussian_and_numeric(r\"Z:/DeepLearningData/research_010_NIH3T3/superhuman_lamellar/DL_only//lamellar_1/\")\n",
    "DL_imgs_3, _ =  load_Y_gray_with_gaussian_and_numeric(r\"Z:/DeepLearningData/research_010_NIH3T3/superhuman_lamellar/DL_only//lamellar_3/\")\n"
   ]
  },
  {
   "cell_type": "code",
   "execution_count": 12,
   "metadata": {},
   "outputs": [],
   "source": [
    "DL_imgs_1 *= 255 * 255\n",
    "DL_imgs_3 *= 255 *255"
   ]
  },
  {
   "cell_type": "code",
   "execution_count": 13,
   "metadata": {
    "scrolled": true
   },
   "outputs": [],
   "source": [
    "N = 47\n",
    "ori_imgs_=make_2_mask_img(ori_imgs[N], np.zeros((109, 115,  1)),np.zeros((109, 115,  1)))\n",
    "masked_suga_imgs = make_2_mask_img(ori_imgs[N], suga_imgs_1[N], suga_imgs_3[N])\n",
    "masked_nakamura_imgs = make_2_mask_img(ori_imgs[N], nakamura_imgs_1[N], nakamura_imgs_3[N])\n",
    "masked_DL_imgs = make_2_mask_img(ori_imgs[N], DL_imgs_1[N], DL_imgs_3[N])"
   ]
  },
  {
   "cell_type": "code",
   "execution_count": 14,
   "metadata": {},
   "outputs": [],
   "source": [
    "def expand_img(img):\n",
    "    \"\"\"\n",
    "        OxO ->360x360\n",
    "    \"\"\"\n",
    "    large_img = np.zeros(\n",
    "        (450, 450, 3), np.float32\n",
    "    )\n",
    "    \n",
    "    N = 450 // img.shape[0]\n",
    "    \n",
    "    for i in range(img.shape[0]):\n",
    "        for j in range(img.shape[1]):\n",
    "            for rgb in range(img.shape[2]):\n",
    "                large_img[i*N :  (i+1)*N, j*N : (j+1)*N, rgb] = img[i, j,  rgb]\n",
    "                \n",
    "    return large_img"
   ]
  },
  {
   "cell_type": "code",
   "execution_count": 15,
   "metadata": {},
   "outputs": [
    {
     "data": {
      "text/plain": [
       "True"
      ]
     },
     "execution_count": 15,
     "metadata": {},
     "output_type": "execute_result"
    }
   ],
   "source": [
    "out_dir= \"Z:/paper_data/2021_cristae/for_revision_#2/fig4D\"\n",
    "\n",
    "os.makedirs(out_dir, exist_ok = True)\n",
    "\n",
    "cv2.imwrite(\n",
    "    f\"{out_dir}/xy_em_001_img.png\",\n",
    "    expand_img(denormalize_y(ori_imgs_[25:70,10:55]))\n",
    ")\n",
    "cv2.imwrite(\n",
    "    f\"{out_dir}/xy_dl_001_img.png\",\n",
    "    expand_img(denormalize_y(masked_DL_imgs[25:70,10:55]))\n",
    ")\n",
    "cv2.imwrite(\n",
    "    f\"{out_dir}/xy_nk_001_img.png\",\n",
    "    expand_img(denormalize_y(masked_nakamura_imgs[25:70,10:55]))\n",
    ")\n",
    "cv2.imwrite(\n",
    "    f\"{out_dir}/xy_ss_001_img.png\",\n",
    "    expand_img(denormalize_y(masked_suga_imgs[25:70,10:55]))\n",
    ")\n",
    "\n",
    "cv2.imwrite(\n",
    "    f\"{out_dir}/xy_em_001_mag_img.png\",\n",
    "    expand_img(denormalize_y(ori_imgs_[45:60,22:37]))\n",
    ")\n",
    "cv2.imwrite(\n",
    "    f\"{out_dir}/xy_dl_001_mag_img.png\",\n",
    "    expand_img(denormalize_y(masked_DL_imgs[45:60,22:37]))\n",
    ")\n",
    "cv2.imwrite(\n",
    "    f\"{out_dir}/xy_nk_001_mag_img.png\",\n",
    "    expand_img(denormalize_y(masked_nakamura_imgs[45:60,22:37]))\n",
    ")\n",
    "cv2.imwrite(\n",
    "    f\"{out_dir}/xy_ss_001_mag_img.png\",\n",
    "    expand_img(denormalize_y(masked_suga_imgs[45:60,22:37]))\n",
    ")"
   ]
  },
  {
   "cell_type": "code",
   "execution_count": 16,
   "metadata": {},
   "outputs": [],
   "source": [
    "N = 27\n",
    "ORI = ori_imgs.transpose(2, 0, 1, 3)[N]\n",
    "ORI_ = make_2_mask_img(\n",
    "    ori_imgs.transpose(2, 0, 1, 3)[N], \n",
    "    np.zeros(suga_imgs_1.transpose(2, 0, 1, 3)[N].shape), \n",
    "    np.zeros(suga_imgs_3.transpose(2, 0, 1, 3)[N].shape)\n",
    ")\n",
    "masked_suga_imgs = make_2_mask_img(ori_imgs.transpose(2, 0, 1, 3)[N], suga_imgs_1.transpose(2, 0, 1, 3)[N], suga_imgs_3.transpose(2, 0, 1, 3)[N])\n",
    "masked_nakamura_imgs = make_2_mask_img(ori_imgs.transpose(2, 0, 1, 3)[N], nakamura_imgs_1.transpose(2, 0, 1, 3)[N], nakamura_imgs_3.transpose(2, 0, 1, 3)[N])\n",
    "masked_DL_imgs = make_2_mask_img(ori_imgs.transpose(2, 0, 1, 3)[N], DL_imgs_1.transpose(2, 0, 1, 3)[N], DL_imgs_3.transpose(2, 0, 1, 3)[N])"
   ]
  },
  {
   "cell_type": "code",
   "execution_count": 17,
   "metadata": {},
   "outputs": [
    {
     "data": {
      "text/plain": [
       "True"
      ]
     },
     "execution_count": 17,
     "metadata": {},
     "output_type": "execute_result"
    }
   ],
   "source": [
    "out_dir= \"Z:/paper_data/2021_cristae/for_revision_#2/fig4E\"\n",
    "\n",
    "os.makedirs(out_dir, exist_ok = True)\n",
    "\n",
    "cv2.imwrite(\n",
    "    f\"{out_dir}/yz_em_001_img.png\",\n",
    "    expand_img(denormalize_y(ORI_[30:80,30:80]))\n",
    ")\n",
    "cv2.imwrite(\n",
    "    f\"{out_dir}/yz_dl_001_img.png\",\n",
    "    expand_img(denormalize_y(masked_DL_imgs[30:80,30:80]))\n",
    ")\n",
    "cv2.imwrite(\n",
    "    f\"{out_dir}/yz_nk_001_img.png\",\n",
    "    expand_img(denormalize_y(masked_nakamura_imgs[30:80,30:80]))\n",
    ")\n",
    "cv2.imwrite(\n",
    "    f\"{out_dir}/yz_ss_001_img.png\",\n",
    "    expand_img(denormalize_y(masked_suga_imgs[30:80,30:80]))\n",
    ")\n",
    "\n",
    "cv2.imwrite(\n",
    "    f\"{out_dir}/yz_em_001_mag_img.png\",\n",
    "    expand_img(denormalize_y(ORI_[45:60,50:65]))\n",
    ")\n",
    "cv2.imwrite(\n",
    "    f\"{out_dir}/yz_dl_001_mag_img.png\",\n",
    "    expand_img(denormalize_y(masked_DL_imgs[45:60,50:65]))\n",
    ")\n",
    "cv2.imwrite(\n",
    "    f\"{out_dir}/yz_nk_001_mag_img.png\",\n",
    "    expand_img(denormalize_y(masked_nakamura_imgs[45:60,50:65]))\n",
    ")\n",
    "cv2.imwrite(\n",
    "    f\"{out_dir}/yz_ss_001_mag_img.png\",\n",
    "    expand_img(denormalize_y(masked_suga_imgs[45:60,50:65]))\n",
    ")"
   ]
  },
  {
   "cell_type": "code",
   "execution_count": 18,
   "metadata": {},
   "outputs": [],
   "source": [
    "ORI = denormalize_x(ORI_[47,51:60, 0]/0.6-0.75)\n",
    "\n",
    "dl = np.array([np.nan] * 9)\n",
    "dl[2:5] = denormalize_x(ORI_[47,51:60, 0]/0.6-0.75)[2:5]\n",
    "\n",
    "nk= np.array([np.nan] * 9)\n",
    "nk[1:5] = denormalize_x(ORI_[47,51:60, 0]/0.6-0.75)[1:5]\n",
    "\n",
    "ss= np.array([np.nan] * 9)\n",
    "ss[2:7] = denormalize_x(ORI_[47,51:60, 0]/0.6-0.75)[2:7]"
   ]
  },
  {
   "cell_type": "code",
   "execution_count": 19,
   "metadata": {},
   "outputs": [],
   "source": [
    "ORI_rev= 125 - ORI\n",
    "dl_rev=125-dl\n",
    "nk_rev=125-nk\n",
    "ss_rev=125-ss\n",
    "X=np.array([i for i in range(9)])"
   ]
  },
  {
   "cell_type": "code",
   "execution_count": 20,
   "metadata": {},
   "outputs": [
    {
     "data": {
      "image/png": "[encoded data removed]",
      "text/plain": [
       "<Figure size 1000x800 with 1 Axes>"
      ]
     },
     "metadata": {},
     "output_type": "display_data"
    }
   ],
   "source": [
    "plt.figure(figsize=(10, 8))\n",
    "\n",
    "#plt.title(\"DL\")\n",
    "\n",
    "plt.bar(X,ORI_rev,color=\"black\", width=1)\n",
    "plt.bar(X, dl_rev, color=\"aqua\", width=1)\n",
    "#plt.axis([0, 8, 130,　65 ])\n",
    "plt.gca().axes.xaxis.set_visible(False)\n",
    "plt.gca().axes.yaxis.set_visible(False)\n",
    "plt.gca().spines['top'].set_visible(False)\n",
    "plt.gca().spines['bottom'].set_visible(False)\n",
    "plt.gca().spines['right'].set_visible(False)\n",
    "plt.gca().spines['left'].set_visible(False)\n",
    "plt.savefig(f\"{out_dir}/xy_dl_bar.png\")"
   ]
  },
  {
   "cell_type": "code",
   "execution_count": 21,
   "metadata": {},
   "outputs": [
    {
     "data": {
      "image/png": "[encoded data removed]",
      "text/plain": [
       "<Figure size 1000x800 with 1 Axes>"
      ]
     },
     "metadata": {},
     "output_type": "display_data"
    }
   ],
   "source": [
    "plt.figure(figsize=(10, 8))\n",
    "\n",
    "#plt.title(\"DL\")\n",
    "plt.bar(X,ORI_rev,color=\"black\", width=1)\n",
    "plt.bar(X, nk_rev, color=\"aqua\", width=1)\n",
    "plt.gca().axes.xaxis.set_visible(False)\n",
    "plt.gca().axes.yaxis.set_visible(False)\n",
    "plt.gca().spines['top'].set_visible(False)\n",
    "plt.gca().spines['bottom'].set_visible(False)\n",
    "plt.gca().spines['right'].set_visible(False)\n",
    "plt.gca().spines['left'].set_visible(False)\n",
    "plt.savefig(f\"{out_dir}/xy_nk_bar.png\")"
   ]
  },
  {
   "cell_type": "code",
   "execution_count": 22,
   "metadata": {},
   "outputs": [
    {
     "data": {
      "image/png": "[encoded data removed]",
      "text/plain": [
       "<Figure size 1000x800 with 1 Axes>"
      ]
     },
     "metadata": {},
     "output_type": "display_data"
    }
   ],
   "source": [
    "plt.figure(figsize=(10, 8))\n",
    "\n",
    "#plt.title(\"DL\")\n",
    "plt.bar(X,ORI_rev,color=\"black\", width=1)\n",
    "plt.bar(X, ss_rev, color=\"aqua\", width=1)\n",
    "plt.gca().axes.xaxis.set_visible(False)\n",
    "plt.gca().axes.yaxis.set_visible(False)\n",
    "plt.gca().spines['top'].set_visible(False)\n",
    "plt.gca().spines['bottom'].set_visible(False)\n",
    "plt.gca().spines['right'].set_visible(False)\n",
    "plt.gca().spines['left'].set_visible(False)\n",
    "plt.savefig(f\"{out_dir}/xy_ss_bar.png\")"
   ]
  },
  {
   "cell_type": "code",
   "execution_count": null,
   "metadata": {},
   "outputs": [],
   "source": []
  },
  {
   "cell_type": "code",
   "execution_count": null,
   "metadata": {},
   "outputs": [],
   "source": []
  }
 ],
 "metadata": {
  "kernelspec": {
   "display_name": "Python 3",
   "language": "python",
   "name": "python3"
  },
  "language_info": {
   "codemirror_mode": {
    "name": "ipython",
    "version": 3
   },
   "file_extension": ".py",
   "mimetype": "text/x-python",
   "name": "python",
   "nbconvert_exporter": "python",
   "pygments_lexer": "ipython3",
   "version": "3.7.16"
  },
  "toc": {
   "base_numbering": 1,
   "nav_menu": {},
   "number_sections": true,
   "sideBar": true,
   "skip_h1_title": false,
   "title_cell": "Table of Contents",
   "title_sidebar": "Contents",
   "toc_cell": false,
   "toc_position": {},
   "toc_section_display": true,
   "toc_window_display": false
  }
 },
 "nbformat": 4,
 "nbformat_minor": 4
}
