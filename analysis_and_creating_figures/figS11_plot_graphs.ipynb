{
 "cells": [
  {
   "cell_type": "code",
   "execution_count": null,
   "id": "2fc0bda9",
   "metadata": {},
   "outputs": [],
   "source": [
    "library(googlesheets4)\n",
    "library(ggplot2)\n",
    "library(ggbeeswarm)\n"
   ]
  },
  {
   "cell_type": "code",
   "execution_count": null,
   "id": "26f32a16",
   "metadata": {},
   "outputs": [],
   "source": [
    "sheets_auth(path = \"Z:/spreadsheet-service-302407.json\")\n",
    "\n",
    "all_data <- read_sheet(\n",
    "    ss=\"12yARRjZTZlD-tqx-bz7JYzwZ5XVVOf59o8kTbR0s4xw\",\n",
    "    range=\"shCtrl_003_shOPA1_003(論文用データ)\"\n",
    ")\n",
    "\n",
    "all_data_ <- all_data[!is.na(all_data$`tubular_S/cristae_S`), ]"
   ]
  },
  {
   "cell_type": "markdown",
   "id": "3e9c92ae",
   "metadata": {},
   "source": [
    "# Mito V"
   ]
  },
  {
   "cell_type": "code",
   "execution_count": null,
   "id": "63d626bf",
   "metadata": {},
   "outputs": [],
   "source": [
    "options(repr.plot.width=10, repr.plot.height=10)\n",
    "\n",
    "graph <- ggplot(NULL)\n",
    "\n",
    "graph <- graph + theme(\n",
    "    axis.line = element_line(size = 2, colour=\"black\"),\n",
    "    axis.title.x = element_text(size = 30, face = \"bold\", family = \"Helvetica\", color=\"black\"),\n",
    "    axis.title.y = element_text(size = 30, face = \"bold\", family = \"Helvetica\", color=\"black\"),\n",
    "    axis.text.x = element_text(size = 16, face = \"bold\", family = \"Helvetica\", color=\"black\"),\n",
    "    axis.text.y = element_text(size = 16, face = \"bold\", family = \"Helvetica\", color=\"black\"),\n",
    "    panel.background = element_blank(), \n",
    "    panel.grid.major = element_blank(),\n",
    "    panel.grid.minor = element_blank(),\n",
    ") + scale_x_continuous(\n",
    "    expand = c(0,0), \n",
    "    limits=c(0, 1.01)\n",
    ") + scale_y_continuous(\n",
    "    expand = c(0,0), \n",
    "    limits=c(0, 1500000000)\n",
    ")\n",
    "\n",
    "graph <- graph + labs(\n",
    "    y = \"Mitochondrial Volume\\n(nm3) \",\n",
    "    x = \"Tubular Volume Ratio\"\n",
    ") + geom_jitter(\n",
    "    data = all_data_[all_data_$`Gene` == \"shCtrl\", ],\n",
    "    aes(`tubular_V/cristae_V`, `mito_V_nm`),\n",
    "    size = 3,\n",
    "    color=\"orange\",\n",
    "    alpha = 0.5\n",
    ") + geom_jitter(\n",
    "    data = all_data_[all_data_$`Gene` == \"shOPA1\", ],\n",
    "    aes(`tubular_V/cristae_V`, `mito_V_nm`),\n",
    "    size = 3,\n",
    "    color=\"blue\",\n",
    "    alpha = 0.5\n",
    ") \n",
    "\n",
    "\n",
    "graph"
   ]
  },
  {
   "cell_type": "code",
   "execution_count": null,
   "id": "b5d5a31a",
   "metadata": {},
   "outputs": [],
   "source": [
    "res<-lm(`tubular_V/cristae_V`~`mito_V_nm`,data=all_data_[all_data_$`Gene` == \"shCtrl\", ])\n",
    "summary(res)"
   ]
  },
  {
   "cell_type": "code",
   "execution_count": null,
   "id": "00a9ba5d",
   "metadata": {},
   "outputs": [],
   "source": [
    "res<-lm(`tubular_V/cristae_V`~`mito_V_nm`,data=all_data_[all_data_$`Gene` == \"shOPA1\", ])\n",
    "summary(res)"
   ]
  },
  {
   "cell_type": "code",
   "execution_count": null,
   "id": "68e48a75",
   "metadata": {},
   "outputs": [],
   "source": [
    "ggsave(file = \"Z:/paper_data/2021_cristae/for_revision_#2/figS11/tubular_volume_ratio_vs_mito_V.svg\", plot = graph, dpi = 100, width = 10, height = 10)\n"
   ]
  },
  {
   "cell_type": "markdown",
   "id": "19558fdf",
   "metadata": {},
   "source": [
    "# Mito Aspect Ratio"
   ]
  },
  {
   "cell_type": "code",
   "execution_count": null,
   "id": "5bdadf6b",
   "metadata": {},
   "outputs": [],
   "source": [
    "options(repr.plot.width=10, repr.plot.height=10)\n",
    "\n",
    "graph <- ggplot(NULL)\n",
    "\n",
    "graph <- graph + theme(\n",
    "    axis.line = element_line(size = 2, colour=\"black\"),\n",
    "    axis.title.x = element_text(size = 30, face = \"bold\", family = \"Helvetica\", color=\"black\"),\n",
    "    axis.title.y = element_text(size = 30, face = \"bold\", family = \"Helvetica\", color=\"black\"),\n",
    "    axis.text.x = element_text(size = 16, face = \"bold\", family = \"Helvetica\", color=\"black\"),\n",
    "    axis.text.y = element_text(size = 16, face = \"bold\", family = \"Helvetica\", color=\"black\"),\n",
    "    panel.background = element_blank(), \n",
    "    panel.grid.major = element_blank(),\n",
    "    panel.grid.minor = element_blank(),\n",
    ") + scale_x_continuous(\n",
    "    expand = c(0,0), \n",
    "    limits=c(0, 1.01)\n",
    ") + scale_y_continuous(\n",
    "    expand = c(0,0), \n",
    "    limits=c(1, 20)\n",
    ")\n",
    "\n",
    "graph <- graph + labs(\n",
    "    y = \"Aspect Ratio\",\n",
    "    x = \"Tubular Volume Ratio\"\n",
    ") + geom_jitter(\n",
    "    data = all_data_[all_data_$`Gene` == \"shCtrl\", ],\n",
    "    aes(`tubular_V/cristae_V`, `mito_max_L/mito_min_L`),\n",
    "    size = 3,\n",
    "    color=\"orange\",\n",
    "    alpha = 0.5\n",
    ") + geom_jitter(\n",
    "    data = all_data_[all_data_$`Gene` == \"shOPA1\", ],\n",
    "    aes(`tubular_V/cristae_V`, `mito_max_L/mito_min_L`),\n",
    "    size = 3,\n",
    "    color=\"blue\",\n",
    "    alpha = 0.5\n",
    ") \n",
    "\n",
    "\n",
    "graph"
   ]
  },
  {
   "cell_type": "code",
   "execution_count": null,
   "id": "ccae3d70",
   "metadata": {},
   "outputs": [],
   "source": [
    "res<-lm(`tubular_V/cristae_V`~`mito_max_L/mito_min_L`,data=all_data_[all_data_$`Gene` == \"shCtrl\", ])\n",
    "summary(res)"
   ]
  },
  {
   "cell_type": "code",
   "execution_count": null,
   "id": "05f18edd",
   "metadata": {},
   "outputs": [],
   "source": [
    "res<-lm(`tubular_V/cristae_V`~`mito_max_L/mito_min_L`,data=all_data_[all_data_$`Gene` == \"shOPA1\", ])\n",
    "summary(res)"
   ]
  },
  {
   "cell_type": "code",
   "execution_count": null,
   "id": "ee4fb8fb",
   "metadata": {},
   "outputs": [],
   "source": [
    "dir.create(\"Z:/paper_data/2021_cristae/for_revision_#2/figS11\")\n",
    "ggsave(file = \"Z:/paper_data/2021_cristae/for_revision_#2/figS11/tubular_volume_ratio_vs_aspect_ratio.svg\", plot = graph, dpi = 100, width = 10, height = 10)\n"
   ]
  },
  {
   "cell_type": "markdown",
   "id": "595cbbcb",
   "metadata": {},
   "source": [
    "# MCI"
   ]
  },
  {
   "cell_type": "code",
   "execution_count": null,
   "id": "39477d9d",
   "metadata": {},
   "outputs": [],
   "source": [
    "options(repr.plot.width=10, repr.plot.height=10)\n",
    "\n",
    "graph <- ggplot(NULL)\n",
    "\n",
    "graph <- graph + theme(\n",
    "    axis.line = element_line(size = 2, colour=\"black\"),\n",
    "    axis.title.x = element_text(size = 30, face = \"bold\", family = \"Helvetica\", color=\"black\"),\n",
    "    axis.title.y = element_text(size = 30, face = \"bold\", family = \"Helvetica\", color=\"black\"),\n",
    "    axis.text.x = element_text(size = 16, face = \"bold\", family = \"Helvetica\", color=\"black\"),\n",
    "    axis.text.y = element_text(size = 16, face = \"bold\", family = \"Helvetica\", color=\"black\"),\n",
    "    panel.background = element_blank(), \n",
    "    panel.grid.major = element_blank(),\n",
    "    panel.grid.minor = element_blank(),\n",
    ") + scale_x_continuous(\n",
    "    expand = c(0,0), \n",
    "    limits=c(0, 1.01)\n",
    ") + scale_y_continuous(\n",
    "    expand = c(0,0), \n",
    "    limits=c(0, 6)\n",
    ")\n",
    "\n",
    "graph <- graph + labs(\n",
    "    y = \"Form Factor\",\n",
    "    x = \"Tubular Volume Ratio\"\n",
    ") + geom_jitter(\n",
    "    data = all_data_[all_data_$`Gene` == \"shCtrl\", ],\n",
    "    aes(`tubular_V/cristae_V`, `form_factor`),\n",
    "    size = 3,\n",
    "    color=\"orange\",\n",
    "    alpha = 0.5\n",
    ") + geom_jitter(\n",
    "    data = all_data_[all_data_$`Gene` == \"shOPA1\", ],\n",
    "    aes(`tubular_V/cristae_V`, `form_factor`),\n",
    "    size = 3,\n",
    "    color=\"blue\",\n",
    "    alpha = 0.5\n",
    ") \n",
    "\n",
    "\n",
    "graph"
   ]
  },
  {
   "cell_type": "code",
   "execution_count": null,
   "id": "91052290",
   "metadata": {},
   "outputs": [],
   "source": [
    "res<-lm(`tubular_V/cristae_V`~`form_factor`,data=all_data_[all_data_$`Gene` == \"shCtrl\", ])\n",
    "summary(res)"
   ]
  },
  {
   "cell_type": "code",
   "execution_count": null,
   "id": "bb8f50e1",
   "metadata": {},
   "outputs": [],
   "source": [
    "res<-lm(`tubular_V/cristae_V`~`form_factor`,data=all_data_[all_data_$`Gene` == \"shOPA1\", ])\n",
    "summary(res)"
   ]
  },
  {
   "cell_type": "code",
   "execution_count": null,
   "id": "3ae3069a",
   "metadata": {},
   "outputs": [],
   "source": [
    "ggsave(file = \"Z:/paper_data/2021_cristae/for_revision_#2/figS11/tubular_volume_ratio_vs_form_factor.svg\", plot = graph, dpi = 100, width = 10, height = 10)\n"
   ]
  },
  {
   "cell_type": "code",
   "execution_count": null,
   "id": "5e0fd4f8",
   "metadata": {},
   "outputs": [],
   "source": []
  }
 ],
 "metadata": {
  "kernelspec": {
   "display_name": "R",
   "language": "R",
   "name": "ir"
  },
  "language_info": {
   "codemirror_mode": "r",
   "file_extension": ".r",
   "mimetype": "text/x-r-source",
   "name": "R",
   "pygments_lexer": "r",
   "version": "4.0.3"
  },
  "toc": {
   "base_numbering": 1,
   "nav_menu": {},
   "number_sections": true,
   "sideBar": true,
   "skip_h1_title": false,
   "title_cell": "Table of Contents",
   "title_sidebar": "Contents",
   "toc_cell": false,
   "toc_position": {},
   "toc_section_display": true,
   "toc_window_display": false
  }
 },
 "nbformat": 4,
 "nbformat_minor": 5
}
