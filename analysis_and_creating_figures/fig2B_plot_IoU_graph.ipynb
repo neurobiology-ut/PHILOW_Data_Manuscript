{
 "cells": [
  {
   "cell_type": "code",
   "execution_count": 1,
   "id": "522e3637",
   "metadata": {},
   "outputs": [],
   "source": [
    "library(ggplot2)"
   ]
  },
  {
   "cell_type": "code",
   "execution_count": 2,
   "id": "469f74b9",
   "metadata": {},
   "outputs": [],
   "source": [
    "baseline <- c(\n",
    "0,\n",
    " 0.0,\n",
    " 0.20754716981132076,\n",
    " 0.0,\n",
    " 0.0,\n",
    " 0.2932405566600398,\n",
    " 0.7854864433811802,\n",
    " 0.5559120073327223,\n",
    " 0.8282582216808769,\n",
    " 0.7688695068768869,\n",
    " 0.8688037993469873,\n",
    " 0.9152357590624148,\n",
    " 0.9175851703406813,\n",
    " 0.9520515267175572,\n",
    " 0.927828204560549,\n",
    " 0.9618824531516184,\n",
    " 0.9603271983640081,\n",
    " 0.9465737514518002,\n",
    " 0.969770935035674\n",
    ")\n",
    "\n",
    "tap<-c(\n",
    "    0,\n",
    " 0.0,\n",
    " 0.22119815668202766,\n",
    " 0.5119617224880383,\n",
    " 0.6682769726247987,\n",
    " 0.6516264428121721,\n",
    " 0.7593625498007968,\n",
    " 0.7533013205282113,\n",
    " 0.8067796610169492,\n",
    " 0.8003101977510663,\n",
    " 0.8150490041100221,\n",
    " 0.8820412716118238,\n",
    " 0.9171355498721228,\n",
    " 0.9340659340659341,\n",
    " 0.9350011168192986,\n",
    " 0.9545842217484009,\n",
    " 0.9577292219726363,\n",
    " 0.9523531699727732,\n",
    " 0.9638238050609185\n",
    ")\n",
    "\n",
    "manual <- c(\n",
    "    0.0,\n",
    " 0.5247524752475248,\n",
    " 0.3447098976109215,\n",
    " 0.6540178571428571,\n",
    " 0.7521222410865874,\n",
    " 0.6424642464246425,\n",
    " 0.7694915254237288,\n",
    " 0.7763684913217623,\n",
    " 0.853195164075993,\n",
    " 0.6857142857142857,\n",
    " 0.7584126984126984,\n",
    " 0.8833942118572633,\n",
    " 0.9369870267407996,\n",
    " 0.9251548946716233,\n",
    " 0.9029564432408035,\n",
    " 0.9536093648384999,\n",
    " 0.9556299706990372,\n",
    " 0.9507507507507508,\n",
    " 0.946917808219178\n",
    ")"
   ]
  },
  {
   "cell_type": "code",
   "execution_count": 3,
   "id": "c18364a1",
   "metadata": {},
   "outputs": [],
   "source": [
    "df <- data.frame(\n",
    "        Z = sapply(1:length(baseline), function(x)  x),\n",
    "        baseline_ = baseline,\n",
    "        tap_  = tap,\n",
    "        manual_ = manual\n",
    ")"
   ]
  },
  {
   "cell_type": "code",
   "execution_count": 4,
   "id": "3d783be5",
   "metadata": {},
   "outputs": [
    {
     "data": {
      "image/png": "[encoded data removed]",
      "text/plain": [
       "plot without title"
      ]
     },
     "metadata": {
      "image/png": {
       "height": 360,
       "width": 600
      }
     },
     "output_type": "display_data"
    }
   ],
   "source": [
    "options(repr.plot.width=10, repr.plot.height=6)\n",
    "\n",
    "graph <- ggplot(NULL)\n",
    "\n",
    "graph <- graph + theme(\n",
    "    axis.line = element_line(size = 2, colour=\"black\"),\n",
    "    axis.title.x = element_blank(),\n",
    "    axis.title.y = element_blank(),\n",
    "    axis.text = element_blank(),\n",
    "    panel.background = element_blank(), \n",
    "    panel.grid.major = element_blank(),\n",
    "    panel.grid.minor = element_blank(),\n",
    ") + scale_y_continuous(\n",
    "    expand = c(0,0), \n",
    "    limits=c(0, 1.0 )\n",
    ") + scale_x_continuous(\n",
    "    expand = c(0, 0),\n",
    "    limits = c(0, 20)\n",
    ")\n",
    "\n",
    "graph <- graph  +  geom_line(\n",
    "    data = df,\n",
    "    aes(x =  Z, y = baseline_),\n",
    "    size=2,\n",
    "    color=\"pink\"\n",
    ")+ geom_line(\n",
    "    data = df,\n",
    "    aes(x =  Z, y = tap_),\n",
    "    size=2,\n",
    "    color=\"red\"\n",
    ") + geom_line(\n",
    "    data=df,\n",
    "    aes(x=Z, y=manual_),\n",
    "    size=2,\n",
    "    color=\"black\"\n",
    ")\n",
    "\n",
    "graph"
   ]
  },
  {
   "cell_type": "code",
   "execution_count": null,
   "id": "8e8e55c9",
   "metadata": {},
   "outputs": [],
   "source": [
    "ggsave(file=\"Z:/paper_data/2021_cristae/for_revision_#2/fig2B/IoU_plot.svg\", plot=graph, width=10, height=6)"
   ]
  }
 ],
 "metadata": {
  "kernelspec": {
   "display_name": "R",
   "language": "R",
   "name": "ir"
  },
  "language_info": {
   "codemirror_mode": "r",
   "file_extension": ".r",
   "mimetype": "text/x-r-source",
   "name": "R",
   "pygments_lexer": "r",
   "version": "4.0.3"
  },
  "toc": {
   "base_numbering": 1,
   "nav_menu": {},
   "number_sections": true,
   "sideBar": true,
   "skip_h1_title": false,
   "title_cell": "Table of Contents",
   "title_sidebar": "Contents",
   "toc_cell": false,
   "toc_position": {},
   "toc_section_display": true,
   "toc_window_display": false
  }
 },
 "nbformat": 4,
 "nbformat_minor": 5
}
