{
 "cells": [
  {
   "cell_type": "code",
   "execution_count": null,
   "metadata": {},
   "outputs": [],
   "source": [
    "library(ggplot2)"
   ]
  },
  {
   "cell_type": "code",
   "execution_count": null,
   "metadata": {},
   "outputs": [],
   "source": [
    "baseline <- c(\n",
    "0,\n",
    " 0.0,\n",
    " 0.20754716981132076,\n",
    " 0.0,\n",
    " 0.0,\n",
    " 0.2932405566600398,\n",
    " 0.7854864433811802,\n",
    " 0.5559120073327223,\n",
    " 0.8282582216808769,\n",
    " 0.7688695068768869,\n",
    " 0.8688037993469873,\n",
    " 0.9152357590624148,\n",
    " 0.9175851703406813,\n",
    " 0.9520515267175572,\n",
    " 0.927828204560549,\n",
    " 0.9618824531516184,\n",
    " 0.9603271983640081,\n",
    " 0.9465737514518002,\n",
    " 0.969770935035674\n",
    ")"
   ]
  },
  {
   "cell_type": "code",
   "execution_count": null,
   "metadata": {},
   "outputs": [],
   "source": [
    "tap<-c(\n",
    "    0,\n",
    " 0.0,\n",
    " 0.22119815668202766,\n",
    " 0.5119617224880383,\n",
    " 0.6682769726247987,\n",
    " 0.6516264428121721,\n",
    " 0.7593625498007968,\n",
    " 0.7533013205282113,\n",
    " 0.8067796610169492,\n",
    " 0.8003101977510663,\n",
    " 0.8150490041100221,\n",
    " 0.8820412716118238,\n",
    " 0.9171355498721228,\n",
    " 0.9340659340659341,\n",
    " 0.9350011168192986,\n",
    " 0.9545842217484009,\n",
    " 0.9577292219726363,\n",
    " 0.9523531699727732,\n",
    " 0.9638238050609185\n",
    ")"
   ]
  },
  {
   "cell_type": "code",
   "execution_count": null,
   "metadata": {},
   "outputs": [],
   "source": [
    "df <- data.frame(\n",
    "        Z = sapply(1:length(baseline), function(x)  x),\n",
    "        baseline_ = baseline,\n",
    "        tap_  = tap\n",
    ")"
   ]
  },
  {
   "cell_type": "code",
   "execution_count": null,
   "metadata": {},
   "outputs": [],
   "source": [
    "options(repr.plot.width=10, repr.plot.height=6)"
   ]
  },
  {
   "cell_type": "code",
   "execution_count": null,
   "metadata": {},
   "outputs": [],
   "source": [
    "graph <- ggplot(NULL)\n",
    "\n",
    "graph <- graph + theme(\n",
    "    #axis.title.x = element_text(size = 24, face = \"bold\"),\n",
    "    axis.line = element_line(size = 2, colour=\"black\"),\n",
    "    axis.title.x = element_blank(),\n",
    "    axis.title.y = element_blank(),\n",
    "    axis.text = element_blank(),\n",
    "    panel.background = element_blank(), \n",
    "    panel.grid.major = element_blank(),\n",
    "    panel.grid.minor = element_blank(),\n",
    ") + scale_y_continuous(\n",
    "    expand = c(0,0), \n",
    "    limits=c(0, 1.0 )\n",
    ") + scale_x_continuous(\n",
    "    expand = c(0, 0),\n",
    "    limits = c(0, 20)\n",
    ")\n",
    "\n",
    "graph <- graph  +  geom_line(\n",
    "    data = df,\n",
    "    aes(x =  Z, y = baseline_),\n",
    "    size=2,\n",
    "    color=\"black\"\n",
    ")+ geom_line(\n",
    "    data = df,\n",
    "    aes(x =  Z, y = tap_),\n",
    "    size=2,\n",
    "    color=\"red\"\n",
    ") \n",
    "\n",
    "graph"
   ]
  },
  {
   "cell_type": "code",
   "execution_count": null,
   "metadata": {},
   "outputs": [],
   "source": [
    "ggsave(file=\"Z:/paper_data/2021_cristae/data_105_for_sup_fig_002_tap_baseline/IoU_plot.svg\", plot=graph, width=10, height=6)"
   ]
  }
 ],
 "metadata": {
  "kernelspec": {
   "display_name": "R",
   "language": "R",
   "name": "ir"
  },
  "language_info": {
   "codemirror_mode": "r",
   "file_extension": ".r",
   "mimetype": "text/x-r-source",
   "name": "R",
   "pygments_lexer": "r",
   "version": "4.0.3"
  },
  "toc": {
   "base_numbering": 1,
   "nav_menu": {},
   "number_sections": true,
   "sideBar": true,
   "skip_h1_title": false,
   "title_cell": "Table of Contents",
   "title_sidebar": "Contents",
   "toc_cell": false,
   "toc_position": {},
   "toc_section_display": true,
   "toc_window_display": false
  }
 },
 "nbformat": 4,
 "nbformat_minor": 4
}
