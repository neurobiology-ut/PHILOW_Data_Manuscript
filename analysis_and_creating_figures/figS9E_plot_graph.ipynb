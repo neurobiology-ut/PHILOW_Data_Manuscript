{
 "cells": [
  {
   "cell_type": "code",
   "execution_count": null,
   "id": "d9e59f34",
   "metadata": {},
   "outputs": [],
   "source": [
    "library(googlesheets4)\n",
    "library(ggplot2)\n",
    "library(ggbeeswarm)\n",
    "library(glue)"
   ]
  },
  {
   "cell_type": "code",
   "execution_count": null,
   "id": "58725ca5",
   "metadata": {},
   "outputs": [],
   "source": [
    "ctrl_df <- read.csv(\"Z:/DeepLearningData/research_010_NIH3T3/shCtrl_003/data/segmented_cj_quantification_result/cj_005_merge_data_.csv\")\n",
    "\n",
    "ctrl_data <- ctrl_df$cj_length * 5\n",
    "\n",
    "ctrl_df_ <- data.frame(ctrl_data)\n",
    "ctrl_df_[\"type\"] = \"ctrl\"\n",
    "colnames(ctrl_df_) <- c(\"length\",\"type\")"
   ]
  },
  {
   "cell_type": "code",
   "execution_count": null,
   "id": "0ead9d5c",
   "metadata": {},
   "outputs": [],
   "source": [
    "kd_df <- read.csv(\"Z:/DeepLearningData/research_010_NIH3T3/shOPA1_003//data/segmented_cj_quantification_result/cj_005_merge_data_.csv\")\n",
    "kd_data <- kd_df$cj_length * 5\n",
    "\n",
    "kd_df_ <- data.frame(kd_data)\n",
    "kd_df_[\"type\"] = \"kd\"\n",
    "colnames(kd_df_) <- c(\"length\",\"type\")\n"
   ]
  },
  {
   "cell_type": "code",
   "execution_count": null,
   "id": "35a65917",
   "metadata": {},
   "outputs": [],
   "source": [
    "all_data <- rbind(ctrl_df_, kd_df_)"
   ]
  },
  {
   "cell_type": "code",
   "execution_count": null,
   "id": "bb28b0f8",
   "metadata": {},
   "outputs": [],
   "source": [
    "options(repr.plot.width=10, repr.plot.height=10)\n",
    "\n",
    "graph <- ggplot(NULL)\n",
    "\n",
    "graph <- graph + theme(\n",
    "    axis.line = element_line(size = 2, colour=\"black\"),\n",
    "    axis.title.x = element_blank(),\n",
    "    axis.title.y = element_text(size = 40, face = \"bold\", family = \"Helvetica\", color=\"black\"),\n",
    "    axis.text.x = element_text(size = 40, face = \"bold\", family = \"Helvetica\", color=\"black\"),\n",
    "    axis.text.y = element_text(size = 30, face = \"bold\", family = \"Helvetica\", color=\"black\"),\n",
    "    panel.background = element_blank(), \n",
    "    panel.grid.major = element_blank(),\n",
    "    panel.grid.minor = element_blank(),\n",
    ") + scale_y_continuous(\n",
    "    expand = c(0,0), \n",
    "    limits=c(0, 70)\n",
    ")\n",
    "\n",
    "graph <- graph + labs(\n",
    "    y = \"CJ width (nm) \"\n",
    ") + geom_quasirandom(\n",
    "    data = all_data,\n",
    "    aes(type, length),\n",
    "    size =5 ,\n",
    "    position=position_jitter(width = 0.3, height = 0)\n",
    ") \n",
    "\n",
    "\n",
    "graph <- graph + annotate(\n",
    "    \"segment\",\n",
    "    x = 0.6, xend = 1.4,\n",
    "    y = mean(all_data[all_data$type == \"ctrl\", ]$length), \n",
    "    yend = mean(all_data[all_data$type == \"ctrl\", ]$length),\n",
    "    size = 3,\n",
    "    color=\"red\"\n",
    ")+ annotate(\n",
    "    \"segment\",\n",
    "    x = 1.6, xend = 2.4,\n",
    "    y = mean(all_data[all_data$type == \"kd\", ]$length), \n",
    "    yend = mean(all_data[all_data$type == \"kd\", ]$length),\n",
    "    size = 3,\n",
    "    color=\"red\"\n",
    ")  + scale_x_discrete(\n",
    "    labels = c(\"Control\", \"OPA1 KD\"),\n",
    ")\n",
    "\n",
    "graph"
   ]
  },
  {
   "cell_type": "code",
   "execution_count": null,
   "id": "cfea143c",
   "metadata": {},
   "outputs": [],
   "source": [
    "wilcox.test(\n",
    "    all_data[all_data$type == \"ctrl\", ]$`length`, \n",
    "    all_data[all_data$type == \"kd\", ]$`length`\n",
    ")"
   ]
  },
  {
   "cell_type": "code",
   "execution_count": null,
   "id": "e33c3dbd",
   "metadata": {},
   "outputs": [],
   "source": []
  }
 ],
 "metadata": {
  "kernelspec": {
   "display_name": "R",
   "language": "R",
   "name": "ir"
  },
  "language_info": {
   "codemirror_mode": "r",
   "file_extension": ".r",
   "mimetype": "text/x-r-source",
   "name": "R",
   "pygments_lexer": "r",
   "version": "4.0.3"
  },
  "toc": {
   "base_numbering": 1,
   "nav_menu": {},
   "number_sections": true,
   "sideBar": true,
   "skip_h1_title": false,
   "title_cell": "Table of Contents",
   "title_sidebar": "Contents",
   "toc_cell": false,
   "toc_position": {},
   "toc_section_display": true,
   "toc_window_display": false
  }
 },
 "nbformat": 4,
 "nbformat_minor": 5
}
