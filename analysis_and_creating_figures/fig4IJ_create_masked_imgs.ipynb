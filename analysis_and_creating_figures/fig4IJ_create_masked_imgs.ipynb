{
 "cells": [
  {
   "cell_type": "code",
   "execution_count": 1,
   "metadata": {},
   "outputs": [],
   "source": [
    "%matplotlib inline\n",
    "import matplotlib.pyplot as plt\n",
    "import os\n",
    "import numpy as np\n",
    "import cv2\n",
    "from PIL import Image\n",
    "\n",
    "import cc3d"
   ]
  },
  {
   "cell_type": "code",
   "execution_count": 2,
   "metadata": {},
   "outputs": [],
   "source": [
    "#値を-1から1に正規化する関数\n",
    "def normalize_x(image):\n",
    "    return image / 127.5 - 1\n",
    "\n",
    "\n",
    "def denormalize_x(image):\n",
    "    return (image + 1) * 127.5\n",
    "\n",
    "\n",
    "#値を0から1正規化する関数\n",
    "def normalize_y(image):\n",
    "    return image / 255\n",
    "\n",
    "\n",
    "#値を0から255に戻す関数\n",
    "def denormalize_y(image):\n",
    "    return image * 255"
   ]
  },
  {
   "cell_type": "code",
   "execution_count": 3,
   "metadata": {},
   "outputs": [],
   "source": [
    "# インプット画像を読み込む関数\n",
    "def load_X_gray(folder_path):\n",
    "    \n",
    "    image_files = []\n",
    "\n",
    "    #image_files = os.listdir(folder_path)\n",
    "       \n",
    "    for file in os.listdir(folder_path):\n",
    "        base, ext = os.path.splitext(file)\n",
    "        if ext == '.png':\n",
    "            image_files.append(file)\n",
    "        else :\n",
    "            pass\n",
    "        \n",
    "    image_files.sort()\n",
    "    \n",
    "    img = cv2.imread(folder_path + os.sep + image_files[0], cv2.IMREAD_GRAYSCALE)\n",
    "    \n",
    "    #image_files = image_files[1:]\n",
    "    images = np.zeros((len(image_files), img.shape[0], img.shape[1], 1), np.float32)\n",
    "    for i, image_file in enumerate(image_files):\n",
    "        image = cv2.imread(folder_path + os.sep + image_file, cv2.IMREAD_GRAYSCALE)\n",
    "        image = image[:, :, np.newaxis]\n",
    "        images[i] = normalize_x(image)\n",
    "    return images, image_files\n",
    "\n",
    "\n",
    "def load_Y_gray_with_gaussian_and_numeric(folder_path, thresh = None , normalize = True, g_size = None):\n",
    "    image_files = []\n",
    "    #image_files = os.listdir(folder_path)\n",
    "    \n",
    "    for file in os.listdir(folder_path):\n",
    "        base, ext = os.path.splitext(file)\n",
    "        if ext == '.png':\n",
    "            image_files.append(int(base))\n",
    "        else:\n",
    "            pass\n",
    "        \n",
    "    image_files.sort()\n",
    "    \n",
    "    img = cv2.imread(folder_path + os.sep + str(image_files[0]).zfill(4) + \".png\", cv2.IMREAD_GRAYSCALE)\n",
    "    \n",
    "    images = np.zeros(\n",
    "        (len(image_files), img.shape[0], img.shape[1], 1) ,np.float32\n",
    "    )\n",
    "    \n",
    "    for i , image_file in enumerate(image_files):\n",
    "        image = cv2.imread(\n",
    "            folder_path + os.sep + str(image_file).zfill(4) + \".png\" ,\n",
    "            cv2.IMREAD_GRAYSCALE\n",
    "        )\n",
    "        #print(image.shape)\n",
    "        \n",
    "        # ぼかし処理\n",
    "        if g_size:\n",
    "            image = cv2.GaussianBlur(\n",
    "                image, (g_size, g_size), 0\n",
    "            )\n",
    "        \n",
    "        \n",
    "        \n",
    "        if thresh:\n",
    "            ret , image = cv2.threshold(image , thresh , 255 , cv2.THRESH_BINARY)\n",
    "        image = image[ : , : , np.newaxis]\n",
    "        if normalize:\n",
    "            images[i] = normalize_y(image)\n",
    "        else:\n",
    "            images[i] = image\n",
    "    \n",
    "    return images , image_files"
   ]
  },
  {
   "cell_type": "code",
   "execution_count": 4,
   "metadata": {},
   "outputs": [],
   "source": [
    "def make_mask_img(ori_img, mask_img):\n",
    "    mask_img_rgb = np.zeros((mask_img.shape[0], mask_img.shape[1], 3), np.float32)\n",
    "    mask_img_rgb[:,:,0] = mask_img[:,:,0]\n",
    "    mask_img_rgb[:,:,1] = mask_img[:,:,0]\n",
    "    masked_img = cv2.addWeighted(mask_img_rgb,0.5,cv2.cvtColor(ori_img+0.75, cv2.COLOR_GRAY2BGR),0.6,0)\n",
    "    return masked_img"
   ]
  },
  {
   "cell_type": "code",
   "execution_count": 5,
   "metadata": {},
   "outputs": [],
   "source": [
    "def make_2_mask_img(ori_img, mask_img_1, mask_img_2):\n",
    "    \n",
    "    mask_img_rgb = np.zeros((mask_img_1.shape[0], mask_img_1.shape[1], 3), np.float32)\n",
    "    mask_img_rgb[:,:,0] = mask_img_1[:,:,0]\n",
    "    mask_img_rgb[:,:,1] = mask_img_1[:,:,0] + mask_img_2[:,:,0]\n",
    "    mask_img_rgb[:,:,2] = mask_img_2[:,:,0]\n",
    "    masked_img = cv2.addWeighted(mask_img_rgb,0.5,cv2.cvtColor(ori_img+0.75, cv2.COLOR_GRAY2BGR),0.6,0)\n",
    "    return masked_img"
   ]
  },
  {
   "cell_type": "code",
   "execution_count": 6,
   "metadata": {},
   "outputs": [],
   "source": [
    "def make_mask_img(ori_img, mask_img, mode=\"DL\"):\n",
    "    mask_img_rgb = np.zeros((mask_img.shape[0], mask_img.shape[1], 3), np.float32)\n",
    "    if mode==\"DL\":\n",
    "        mask_img_rgb[:,:,2] = mask_img[:,:,0]\n",
    "    else:\n",
    "        mask_img_rgb[:,:,1] = mask_img[:,:,0]\n",
    "    masked_img = cv2.addWeighted(mask_img_rgb,0.5,cv2.cvtColor(ori_img+0.75, cv2.COLOR_GRAY2BGR),0.6,0)\n",
    "    return masked_img"
   ]
  },
  {
   "cell_type": "code",
   "execution_count": 7,
   "metadata": {
    "scrolled": true
   },
   "outputs": [],
   "source": [
    "ori_imgs, _ = load_X_gray(\"I:/DeepLearningData/research_010_NIH3T3/shCtrl_001_realignment/superhuman_dataset/cropped_001/original/\")\n",
    "\n",
    "suga_imgs, _ = load_Y_gray_with_gaussian_and_numeric(\"I:/DeepLearningData/research_010_NIH3T3/shCtrl_001_realignment/superhuman_dataset/cropped_001/suga_seg/\",  normalize=False)\n",
    "nakamura_imgs, _ = load_Y_gray_with_gaussian_and_numeric(\"Z:/DeepLearningData/research_010_NIH3T3/shCtrl_001_realignment/superhuman_dataset/cropped_001/nakamura_seg//\", normalize=False)\n",
    "\n",
    "lamellar_imgs, _ = load_Y_gray_with_gaussian_and_numeric(\"I:/DeepLearningData/research_010_NIH3T3/shCtrl_001_realignment/superhuman_dataset/cropped_001/lamellar//\", normalize=False)\n",
    "tubular_imgs, _ = load_Y_gray_with_gaussian_and_numeric(\"I:/DeepLearningData/research_010_NIH3T3/shCtrl_001_realignment/superhuman_dataset/cropped_001/tubular//\", normalize=False)\n"
   ]
  },
  {
   "cell_type": "code",
   "execution_count": 8,
   "metadata": {},
   "outputs": [],
   "source": [
    "suga_lamellar_imgs = np.where(\n",
    "    suga_imgs  ==1,\n",
    "    255,\n",
    "    0\n",
    ")\n",
    "\n",
    "suga_tubular_imgs = np.where(\n",
    "    suga_imgs  ==2,\n",
    "    255,\n",
    "    0\n",
    ")\n",
    "\n",
    "nakamura_lamellar_imgs = np.where(\n",
    "    nakamura_imgs  ==1,\n",
    "    255,\n",
    "    0\n",
    ")\n",
    "\n",
    "nakamura_tubular_imgs = np.where(\n",
    "    nakamura_imgs  ==2,\n",
    "    255,\n",
    "    0\n",
    ")\n",
    "\n",
    "_lamellar_imgs = np.where(\n",
    "    lamellar_imgs * 255 > 0,\n",
    "    255,\n",
    "    0\n",
    ")\n",
    "\n",
    "_tubular_imgs = np.where(\n",
    "    tubular_imgs * 255 > 0,\n",
    "    255,\n",
    "    0\n",
    ")"
   ]
  },
  {
   "cell_type": "code",
   "execution_count": 9,
   "metadata": {},
   "outputs": [],
   "source": [
    "target  = nakamura_tubular_imgs.transpose(1, 2, 0, 3)[20]\n",
    "label = cc3d.connected_components(target, connectivity=6)"
   ]
  },
  {
   "cell_type": "code",
   "execution_count": 10,
   "metadata": {},
   "outputs": [
    {
     "name": "stdout",
     "output_type": "stream",
     "text": [
      "7\n",
      "21\n",
      "42\n",
      "17\n",
      "3\n",
      "6\n"
     ]
    }
   ],
   "source": [
    "new_target = np.zeros(label.shape)\n",
    "\n",
    "for i in range(1, np.max(label)+1):\n",
    "    print(np.sum(label==i))\n",
    "    if np.sum(label==i) > 10:\n",
    "        new_target += np.where(\n",
    "            label == i,\n",
    "            1,\n",
    "            0\n",
    "        )"
   ]
  },
  {
   "cell_type": "code",
   "execution_count": 11,
   "metadata": {},
   "outputs": [
    {
     "data": {
      "text/plain": [
       "True"
      ]
     },
     "execution_count": 11,
     "metadata": {},
     "output_type": "execute_result"
    }
   ],
   "source": [
    "out_dir = \"Z:/paper_data/2021_cristae/for_revision_#2/fig4I\"\n",
    "\n",
    "os.makedirs(out_dir, exist_ok = True)\n",
    "\n",
    "N = 20\n",
    "\n",
    "masked_nakamura_imgs = make_mask_img(ori_imgs.transpose(1, 2, 0, 3)[N], new_target, mode=\"human\")\n",
    "masked_cristae_imgs = make_mask_img(ori_imgs.transpose(1, 2, 0, 3)[N], _tubular_imgs.transpose(1, 2, 0, 3)[N], mode=\"DL\")\n",
    "\n",
    "\n",
    "cv2.imwrite(\n",
    "    f\"{out_dir}/DL.png\",\n",
    "    denormalize_y(masked_cristae_imgs[50:105, 45:])\n",
    ")\n",
    "\n",
    "cv2.imwrite(\n",
    "    f\"{out_dir}/Human.png\",\n",
    "    denormalize_y(masked_nakamura_imgs[50:105, 45:])\n",
    ")"
   ]
  },
  {
   "cell_type": "code",
   "execution_count": null,
   "metadata": {},
   "outputs": [],
   "source": []
  }
 ],
 "metadata": {
  "kernelspec": {
   "display_name": "Python 3",
   "language": "python",
   "name": "python3"
  },
  "language_info": {
   "codemirror_mode": {
    "name": "ipython",
    "version": 3
   },
   "file_extension": ".py",
   "mimetype": "text/x-python",
   "name": "python",
   "nbconvert_exporter": "python",
   "pygments_lexer": "ipython3",
   "version": "3.7.16"
  },
  "toc": {
   "base_numbering": 1,
   "nav_menu": {},
   "number_sections": true,
   "sideBar": true,
   "skip_h1_title": false,
   "title_cell": "Table of Contents",
   "title_sidebar": "Contents",
   "toc_cell": false,
   "toc_position": {},
   "toc_section_display": true,
   "toc_window_display": false
  }
 },
 "nbformat": 4,
 "nbformat_minor": 4
}
