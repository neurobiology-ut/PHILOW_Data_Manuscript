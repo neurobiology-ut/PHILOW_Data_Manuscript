{
 "cells": [
  {
   "cell_type": "code",
   "execution_count": 1,
   "id": "032c8791",
   "metadata": {},
   "outputs": [
    {
     "name": "stderr",
     "output_type": "stream",
     "text": [
      "Warning message:\n",
      "\"package 'ggbeeswarm' was built under R version 4.0.5\"\n"
     ]
    }
   ],
   "source": [
    "library(googlesheets4)\n",
    "library(ggplot2)\n",
    "library(ggbeeswarm)\n",
    "library(glue)\n",
    "\n",
    "#library(plotly)\n",
    "library(khroma)"
   ]
  },
  {
   "cell_type": "markdown",
   "id": "ec0539d6",
   "metadata": {},
   "source": [
    "# Fig S5 A"
   ]
  },
  {
   "cell_type": "code",
   "execution_count": 2,
   "id": "f28349f1",
   "metadata": {},
   "outputs": [],
   "source": [
    "input_dir <- \"Z:/DeepLearningData/research_010_NIH3T3/shCtrl_003/data/cropped_001/segmented_cj_quantification_result/norm\"\n",
    "\n",
    "i=11\n",
    "\n",
    "raw_df <- read.csv(file.path(input_dir, list.files(input_dir)[i]))"
   ]
  },
  {
   "cell_type": "code",
   "execution_count": 3,
   "id": "b2f5450e",
   "metadata": {},
   "outputs": [],
   "source": [
    "raw_df$distance_px_moving_average = 0\n",
    "\n",
    "for (i_ in 1:nrow(raw_df)) {\n",
    "        raw_df[raw_df$X == i_-1, ]$distance_px_moving_average <-  mean(raw_df[max(i_-2, 1):min(i_+2, nrow(raw_df)), ]$distance_px)\n",
    "}"
   ]
  },
  {
   "cell_type": "code",
   "execution_count": 4,
   "id": "00584890",
   "metadata": {},
   "outputs": [
    {
     "name": "stderr",
     "output_type": "stream",
     "text": [
      "Scale for 'y' is already present. Adding another scale for 'y', which will\n",
      "replace the existing scale.\n",
      "\n",
      "Scale for 'y' is already present. Adding another scale for 'y', which will\n",
      "replace the existing scale.\n",
      "\n",
      "Warning message:\n",
      "\"Removed 68 row(s) containing missing values (geom_path).\"\n",
      "Warning message in grid.Call(C_stringMetric, as.graphicsAnnot(x$label)):\n",
      "\" Windows のフォントデータベースにフォントファミリが見付かりません \"\n",
      "Warning message in grid.Call(C_stringMetric, as.graphicsAnnot(x$label)):\n",
      "\" Windows のフォントデータベースにフォントファミリが見付かりません \"\n",
      "Warning message in grid.Call(C_textBounds, as.graphicsAnnot(x$label), x$x, x$y, :\n",
      "\" Windows のフォントデータベースにフォントファミリが見付かりません \"\n",
      "Warning message in grid.Call(C_textBounds, as.graphicsAnnot(x$label), x$x, x$y, :\n",
      "\" Windows のフォントデータベースにフォントファミリが見付かりません \"\n",
      "Warning message in grid.Call(C_textBounds, as.graphicsAnnot(x$label), x$x, x$y, :\n",
      "\" Windows のフォントデータベースにフォントファミリが見付かりません \"\n",
      "Warning message in grid.Call(C_textBounds, as.graphicsAnnot(x$label), x$x, x$y, :\n",
      "\" Windows のフォントデータベースにフォントファミリが見付かりません \"\n",
      "Warning message in grid.Call(C_textBounds, as.graphicsAnnot(x$label), x$x, x$y, :\n",
      "\" Windows のフォントデータベースにフォントファミリが見付かりません \"\n",
      "Warning message in grid.Call.graphics(C_text, as.graphicsAnnot(x$label), x$x, x$y, :\n",
      "\" Windows のフォントデータベースにフォントファミリが見付かりません \"\n",
      "Warning message in grid.Call.graphics(C_text, as.graphicsAnnot(x$label), x$x, x$y, :\n",
      "\" Windows のフォントデータベースにフォントファミリが見付かりません \"\n",
      "Warning message in grid.Call.graphics(C_text, as.graphicsAnnot(x$label), x$x, x$y, :\n",
      "\" Windows のフォントデータベースにフォントファミリが見付かりません \"\n"
     ]
    },
    {
     "data": {
      "image/png": "[encoded data removed]",
      "text/plain": [
       "plot without title"
      ]
     },
     "metadata": {
      "image/png": {
       "height": 600,
       "width": 900
      }
     },
     "output_type": "display_data"
    }
   ],
   "source": [
    "    raw_df$distance_px_moving_average <- raw_df$distance_px_moving_average*5\n",
    "\n",
    "    options(repr.plot.width=15, repr.plot.height=10)\n",
    "    graph <- ggplot(NULL)\n",
    "\n",
    "    graph <- graph + theme(\n",
    "        axis.line = element_line(size = 2, colour=\"black\"),\n",
    "        axis.title.x = element_blank(),\n",
    "        axis.title.y = element_text(size = 30, face = \"bold\", family = \"Helvetica\", color=\"black\"),\n",
    "        axis.text.x = element_blank(),\n",
    "        axis.text.y = element_text(size = 18, face = \"bold\", family = \"Helvetica\", color=\"black\"),\n",
    "        axis.line.x = element_blank(),\n",
    "        panel.background = element_blank(), \n",
    "        panel.grid.major = element_blank(),\n",
    "        panel.grid.minor = element_blank(),\n",
    "    ) + scale_y_continuous(\n",
    "        expand = c(0,0), \n",
    "        limits=c(0, 40)\n",
    "    )+ scale_x_continuous(\n",
    "    expand = c(0,0), \n",
    "    limits=c(-6, 6)\n",
    ") + scale_y_reverse()\n",
    "\n",
    "    graph <- graph + labs(\n",
    "        y = \"OMM-IMM distance\\n(nm) \"\n",
    "    ) + geom_line(\n",
    "        data = raw_df,\n",
    "        aes(x = position, y = distance_px_moving_average),\n",
    "        size = 3 \n",
    "    ) + annotate(\n",
    "        \"segment\",\n",
    "        x = -6, xend = 6,\n",
    "        y = 0,  yend=0,\n",
    "        size = 3\n",
    "    ) + ylim(40, 0)\n",
    "\n",
    "    graph"
   ]
  },
  {
   "cell_type": "code",
   "execution_count": 5,
   "id": "e960ac98",
   "metadata": {},
   "outputs": [
    {
     "name": "stderr",
     "output_type": "stream",
     "text": [
      "Warning message in dir.create(\"Z:/paper_data/2021_cristae/for_revision_#2/figS5A\"):\n",
      "\" 'Z:\\paper_data\\2021_cristae\\for_revision_#2\\figS5A' はすでに存在します \"\n",
      "Warning message:\n",
      "\"Removed 68 row(s) containing missing values (geom_path).\"\n"
     ]
    }
   ],
   "source": [
    "dir.create(\"Z:/paper_data/2021_cristae/for_revision_#2/figS5A\")\n",
    "ggsave(file = \"Z:/paper_data/2021_cristae/for_revision_#2/figS5A/double.svg\", plot = graph, dpi = 100, width = 15, height = 10)\n"
   ]
  },
  {
   "cell_type": "code",
   "execution_count": 6,
   "id": "0d113ad0",
   "metadata": {},
   "outputs": [],
   "source": [
    "input_dir <- \"Z:/DeepLearningData/research_010_NIH3T3/shCtrl_003/data/cropped_002/segmented_cj_quantification_result/norm\"\n",
    "\n",
    "i=4\n",
    "\n",
    "raw_df <- read.csv(file.path(input_dir, list.files(input_dir)[i]))"
   ]
  },
  {
   "cell_type": "code",
   "execution_count": 7,
   "id": "2f8b21b1",
   "metadata": {},
   "outputs": [
    {
     "name": "stderr",
     "output_type": "stream",
     "text": [
      "Scale for 'y' is already present. Adding another scale for 'y', which will\n",
      "replace the existing scale.\n",
      "\n",
      "Scale for 'y' is already present. Adding another scale for 'y', which will\n",
      "replace the existing scale.\n",
      "\n",
      "Warning message:\n",
      "\"Removed 219 row(s) containing missing values (geom_path).\"\n",
      "Warning message in grid.Call(C_textBounds, as.graphicsAnnot(x$label), x$x, x$y, :\n",
      "\" Windows のフォントデータベースにフォントファミリが見付かりません \"\n",
      "Warning message in grid.Call(C_textBounds, as.graphicsAnnot(x$label), x$x, x$y, :\n",
      "\" Windows のフォントデータベースにフォントファミリが見付かりません \"\n",
      "Warning message in grid.Call(C_textBounds, as.graphicsAnnot(x$label), x$x, x$y, :\n",
      "\" Windows のフォントデータベースにフォントファミリが見付かりません \"\n",
      "Warning message in grid.Call(C_textBounds, as.graphicsAnnot(x$label), x$x, x$y, :\n",
      "\" Windows のフォントデータベースにフォントファミリが見付かりません \"\n",
      "Warning message in grid.Call(C_textBounds, as.graphicsAnnot(x$label), x$x, x$y, :\n",
      "\" Windows のフォントデータベースにフォントファミリが見付かりません \"\n",
      "Warning message in grid.Call.graphics(C_text, as.graphicsAnnot(x$label), x$x, x$y, :\n",
      "\" Windows のフォントデータベースにフォントファミリが見付かりません \"\n",
      "Warning message in grid.Call.graphics(C_text, as.graphicsAnnot(x$label), x$x, x$y, :\n",
      "\" Windows のフォントデータベースにフォントファミリが見付かりません \"\n",
      "Warning message in grid.Call.graphics(C_text, as.graphicsAnnot(x$label), x$x, x$y, :\n",
      "\" Windows のフォントデータベースにフォントファミリが見付かりません \"\n"
     ]
    },
    {
     "data": {
      "image/png": "[encoded data removed]",
      "text/plain": [
       "plot without title"
      ]
     },
     "metadata": {
      "image/png": {
       "height": 600,
       "width": 900
      }
     },
     "output_type": "display_data"
    }
   ],
   "source": [
    "raw_df$distance_px_moving_average = 0\n",
    "\n",
    "for (i_ in 1:nrow(raw_df)) {\n",
    "        raw_df[raw_df$X == i_-1, ]$distance_px_moving_average <-  mean(raw_df[max(i_-2, 1):min(i_+2, nrow(raw_df)), ]$distance_px)\n",
    "} \n",
    "\n",
    "raw_df$distance_px_moving_average <- raw_df$distance_px_moving_average*5\n",
    "\n",
    "    options(repr.plot.width=15, repr.plot.height=10)\n",
    "    graph <- ggplot(NULL)\n",
    "\n",
    "    graph <- graph + theme(\n",
    "        axis.line = element_line(size = 2, colour=\"black\"),\n",
    "        axis.title.x = element_blank(),\n",
    "        axis.title.y = element_text(size = 30, face = \"bold\", family = \"Helvetica\", color=\"black\"),\n",
    "        axis.text.x = element_blank(),\n",
    "        axis.text.y = element_text(size = 18, face = \"bold\", family = \"Helvetica\", color=\"black\"),\n",
    "        axis.line.x = element_blank(),\n",
    "        panel.background = element_blank(), \n",
    "        panel.grid.major = element_blank(),\n",
    "        panel.grid.minor = element_blank(),\n",
    "    ) + scale_y_continuous(\n",
    "        expand = c(0,0), \n",
    "        limits=c(0, 40)\n",
    "    )+ scale_x_continuous(\n",
    "    expand = c(0,0), \n",
    "    limits=c(-7, 7)\n",
    ") + scale_y_reverse()\n",
    "\n",
    "    graph <- graph + labs(\n",
    "        y = \"OMM-IMM distance\\n(nm) \"\n",
    "    ) + geom_line(\n",
    "        data = raw_df,\n",
    "        aes(x = position, y = distance_px_moving_average),\n",
    "        size = 3 \n",
    "    ) + annotate(\n",
    "        \"segment\",\n",
    "        x = -7, xend = 7,\n",
    "        y = 0,  yend=0,\n",
    "        size = 3\n",
    "    ) + ylim(40, 0)\n",
    "\n",
    "    graph"
   ]
  },
  {
   "cell_type": "code",
   "execution_count": 8,
   "id": "a92d4547",
   "metadata": {},
   "outputs": [
    {
     "name": "stderr",
     "output_type": "stream",
     "text": [
      "Warning message in dir.create(\"Z:/paper_data/2021_cristae/for_revision_#2/figS5A\"):\n",
      "\" 'Z:\\paper_data\\2021_cristae\\for_revision_#2\\figS5A' はすでに存在します \"\n",
      "Warning message:\n",
      "\"Removed 219 row(s) containing missing values (geom_path).\"\n"
     ]
    }
   ],
   "source": [
    "dir.create(\"Z:/paper_data/2021_cristae/for_revision_#2/figS5A\")\n",
    "ggsave(file = \"Z:/paper_data/2021_cristae/for_revision_#2/figS5A/single.svg\", plot = graph, dpi = 100, width = 15, height = 10)\n"
   ]
  },
  {
   "cell_type": "code",
   "execution_count": 9,
   "id": "81ba8c0d",
   "metadata": {},
   "outputs": [],
   "source": [
    "input_dir <- \"Z:/DeepLearningData/research_010_NIH3T3/shCtrl_003/data/cropped_005/segmented_cj_quantification_result/norm\"\n",
    "\n",
    "i=2\n",
    "\n",
    "raw_df <- read.csv(file.path(input_dir, list.files(input_dir)[i]))"
   ]
  },
  {
   "cell_type": "code",
   "execution_count": 10,
   "id": "170aa38e",
   "metadata": {},
   "outputs": [
    {
     "name": "stderr",
     "output_type": "stream",
     "text": [
      "Scale for 'y' is already present. Adding another scale for 'y', which will\n",
      "replace the existing scale.\n",
      "\n",
      "Scale for 'y' is already present. Adding another scale for 'y', which will\n",
      "replace the existing scale.\n",
      "\n",
      "Warning message:\n",
      "\"Removed 108 row(s) containing missing values (geom_path).\"\n",
      "Warning message in grid.Call(C_textBounds, as.graphicsAnnot(x$label), x$x, x$y, :\n",
      "\" Windows のフォントデータベースにフォントファミリが見付かりません \"\n",
      "Warning message in grid.Call(C_textBounds, as.graphicsAnnot(x$label), x$x, x$y, :\n",
      "\" Windows のフォントデータベースにフォントファミリが見付かりません \"\n",
      "Warning message in grid.Call(C_textBounds, as.graphicsAnnot(x$label), x$x, x$y, :\n",
      "\" Windows のフォントデータベースにフォントファミリが見付かりません \"\n",
      "Warning message in grid.Call(C_textBounds, as.graphicsAnnot(x$label), x$x, x$y, :\n",
      "\" Windows のフォントデータベースにフォントファミリが見付かりません \"\n",
      "Warning message in grid.Call(C_textBounds, as.graphicsAnnot(x$label), x$x, x$y, :\n",
      "\" Windows のフォントデータベースにフォントファミリが見付かりません \"\n",
      "Warning message in grid.Call.graphics(C_text, as.graphicsAnnot(x$label), x$x, x$y, :\n",
      "\" Windows のフォントデータベースにフォントファミリが見付かりません \"\n",
      "Warning message in grid.Call.graphics(C_text, as.graphicsAnnot(x$label), x$x, x$y, :\n",
      "\" Windows のフォントデータベースにフォントファミリが見付かりません \"\n",
      "Warning message in grid.Call.graphics(C_text, as.graphicsAnnot(x$label), x$x, x$y, :\n",
      "\" Windows のフォントデータベースにフォントファミリが見付かりません \"\n"
     ]
    },
    {
     "data": {
      "image/png": "[encoded data removed]",
      "text/plain": [
       "plot without title"
      ]
     },
     "metadata": {
      "image/png": {
       "height": 600,
       "width": 900
      }
     },
     "output_type": "display_data"
    }
   ],
   "source": [
    "raw_df$distance_px_moving_average = 0\n",
    "\n",
    "for (i_ in 1:nrow(raw_df)) {\n",
    "        raw_df[raw_df$X == i_-1, ]$distance_px_moving_average <-  mean(raw_df[max(i_-2, 1):min(i_+2, nrow(raw_df)), ]$distance_px)\n",
    "} \n",
    "\n",
    "raw_df$distance_px_moving_average <- raw_df$distance_px_moving_average*5\n",
    "\n",
    "    options(repr.plot.width=15, repr.plot.height=10)\n",
    "    graph <- ggplot(NULL)\n",
    "\n",
    "    graph <- graph + theme(\n",
    "        axis.line = element_line(size = 2, colour=\"black\"),\n",
    "        axis.title.x = element_blank(),\n",
    "        axis.title.y = element_text(size = 30, face = \"bold\", family = \"Helvetica\", color=\"black\"),\n",
    "        axis.text.x = element_blank(),\n",
    "        axis.text.y = element_text(size = 18, face = \"bold\", family = \"Helvetica\", color=\"black\"),\n",
    "        axis.line.x = element_blank(),\n",
    "        panel.background = element_blank(), \n",
    "        panel.grid.major = element_blank(),\n",
    "        panel.grid.minor = element_blank(),\n",
    "    ) + scale_y_continuous(\n",
    "        expand = c(0,0), \n",
    "        limits=c(0, 40)\n",
    "    )+ scale_x_continuous(\n",
    "    expand = c(0,0), \n",
    "    limits=c(-6, 6)\n",
    ") + scale_y_reverse()\n",
    "\n",
    "    graph <- graph + labs(\n",
    "        y = \"OMM-IMM distance\\n(nm) \"\n",
    "    ) + geom_line(\n",
    "        data = raw_df,\n",
    "        aes(x = position, y = distance_px_moving_average),\n",
    "        size = 3 \n",
    "    ) + annotate(\n",
    "        \"segment\",\n",
    "        x = -6, xend = 6,\n",
    "        y = 0,  yend=0,\n",
    "        size = 3\n",
    "    ) + ylim(40, 0)\n",
    "\n",
    "    graph"
   ]
  },
  {
   "cell_type": "code",
   "execution_count": 11,
   "id": "46bacfaf",
   "metadata": {},
   "outputs": [
    {
     "name": "stderr",
     "output_type": "stream",
     "text": [
      "Warning message in dir.create(\"Z:/paper_data/2021_cristae/for_revision_#2/figS5A\"):\n",
      "\" 'Z:\\paper_data\\2021_cristae\\for_revision_#2\\figS5A' はすでに存在します \"\n",
      "Warning message:\n",
      "\"Removed 108 row(s) containing missing values (geom_path).\"\n"
     ]
    }
   ],
   "source": [
    "dir.create(\"Z:/paper_data/2021_cristae/for_revision_#2/figS5A\")\n",
    "ggsave(file = \"Z:/paper_data/2021_cristae/for_revision_#2/figS5A/no.svg\", plot = graph, dpi = 100, width = 15, height = 10)\n"
   ]
  },
  {
   "cell_type": "markdown",
   "id": "e3706ae6",
   "metadata": {},
   "source": [
    "# Fig S5B"
   ]
  },
  {
   "cell_type": "code",
   "execution_count": 12,
   "id": "e839c35e",
   "metadata": {},
   "outputs": [
    {
     "name": "stderr",
     "output_type": "stream",
     "text": [
      "Warning message:\n",
      "\"`sheets_auth()` is deprecated as of googlesheets4 0.2.0.\n",
      "Please use `gs4_auth()` instead.\n",
      "\u001b[90mThis warning is displayed once every 8 hours.\u001b[39m\n",
      "\u001b[90mCall `lifecycle::last_warnings()` to see where this warning was generated.\u001b[39m\"\n",
      "Reading from \"quantification_result\"\n",
      "\n",
      "Range \"'OMM-IMM-distance_revision'\"\n",
      "\n",
      "New names:\n",
      "* `` -> ...6\n",
      "\n"
     ]
    }
   ],
   "source": [
    "sheets_auth(path = \"I:/spreadsheet-service-302407.json\")\n",
    "\n",
    "all_data <- read_sheet(\n",
    "    ss=\"12yARRjZTZlD-tqx-bz7JYzwZ5XVVOf59o8kTbR0s4xw\",\n",
    "    range=\"OMM-IMM-distance_revision\"\n",
    ")"
   ]
  },
  {
   "cell_type": "code",
   "execution_count": 13,
   "id": "fc295f57",
   "metadata": {},
   "outputs": [
    {
     "data": {
      "text/html": [
       "<table>\n",
       "<caption>A data.frame: 3 × 6</caption>\n",
       "<thead>\n",
       "\t<tr><th scope=col>IMM_OMM</th><th scope=col>count</th><th scope=col>frac</th><th scope=col>ymax</th><th scope=col>ymin</th><th scope=col>label_y</th></tr>\n",
       "\t<tr><th scope=col>&lt;dbl&gt;</th><th scope=col>&lt;dbl&gt;</th><th scope=col>&lt;dbl&gt;</th><th scope=col>&lt;dbl&gt;</th><th scope=col>&lt;dbl&gt;</th><th scope=col>&lt;dbl&gt;</th></tr>\n",
       "</thead>\n",
       "<tbody>\n",
       "\t<tr><td>2</td><td>22</td><td>0.22</td><td>0.22</td><td>0.00</td><td>0.11</td></tr>\n",
       "\t<tr><td>1</td><td>64</td><td>0.64</td><td>0.86</td><td>0.22</td><td>0.54</td></tr>\n",
       "\t<tr><td>0</td><td>14</td><td>0.14</td><td>1.00</td><td>0.86</td><td>0.93</td></tr>\n",
       "</tbody>\n",
       "</table>\n"
      ],
      "text/latex": [
       "A data.frame: 3 × 6\n",
       "\\begin{tabular}{llllll}\n",
       " IMM\\_OMM & count & frac & ymax & ymin & label\\_y\\\\\n",
       " <dbl> & <dbl> & <dbl> & <dbl> & <dbl> & <dbl>\\\\\n",
       "\\hline\n",
       "\t 2 & 22 & 0.22 & 0.22 & 0.00 & 0.11\\\\\n",
       "\t 1 & 64 & 0.64 & 0.86 & 0.22 & 0.54\\\\\n",
       "\t 0 & 14 & 0.14 & 1.00 & 0.86 & 0.93\\\\\n",
       "\\end{tabular}\n"
      ],
      "text/markdown": [
       "\n",
       "A data.frame: 3 × 6\n",
       "\n",
       "| IMM_OMM &lt;dbl&gt; | count &lt;dbl&gt; | frac &lt;dbl&gt; | ymax &lt;dbl&gt; | ymin &lt;dbl&gt; | label_y &lt;dbl&gt; |\n",
       "|---|---|---|---|---|---|\n",
       "| 2 | 22 | 0.22 | 0.22 | 0.00 | 0.11 |\n",
       "| 1 | 64 | 0.64 | 0.86 | 0.22 | 0.54 |\n",
       "| 0 | 14 | 0.14 | 1.00 | 0.86 | 0.93 |\n",
       "\n"
      ],
      "text/plain": [
       "  IMM_OMM count frac ymax ymin label_y\n",
       "1 2       22    0.22 0.22 0.00 0.11   \n",
       "2 1       64    0.64 0.86 0.22 0.54   \n",
       "3 0       14    0.14 1.00 0.86 0.93   "
      ]
     },
     "metadata": {},
     "output_type": "display_data"
    }
   ],
   "source": [
    "count_data <- data.frame(\n",
    "    IMM_OMM = c(2, 1, 0),\n",
    "    count = c(22, 64, 14)\n",
    ")\n",
    "\n",
    "count_data[\"frac\"] <- count_data[\"count\"] / sum(count_data[\"count\"])\n",
    "count_data[\"ymax\"] <- cumsum(count_data[\"frac\"])\n",
    "count_data[\"ymin\"] <- c(0.0, 0.22, 0.86)\n",
    "count_data[\"label_y\"] <- (count_data[\"ymax\"] + count_data[\"ymin\"]) / 2\n",
    "\n",
    "count_data"
   ]
  },
  {
   "cell_type": "code",
   "execution_count": 14,
   "id": "d6ab5704",
   "metadata": {},
   "outputs": [
    {
     "name": "stderr",
     "output_type": "stream",
     "text": [
      "Warning message:\n",
      "\"Ignoring unknown parameters: width\"\n"
     ]
    },
    {
     "data": {
      "image/png": "[encoded data removed]",
      "text/plain": [
       "plot without title"
      ]
     },
     "metadata": {
      "image/png": {
       "height": 600,
       "width": 900
      }
     },
     "output_type": "display_data"
    }
   ],
   "source": [
    "options(repr.plot.width=15, repr.plot.height=10)\n",
    "graph <- ggplot(NULL)\n",
    "\n",
    "graph <- graph + theme(\n",
    "    axis.line = element_line(size = 2, colour=\"black\"),\n",
    "    axis.title.x = element_blank(),\n",
    "    axis.title.y = element_text(size = 30, face = \"bold\", family = \"Helvetica\", color=\"black\"),\n",
    "    axis.text.x = element_blank(),\n",
    "    axis.text.y = element_text(size = 18, face = \"bold\", family = \"Helvetica\", color=\"black\"),\n",
    "    axis.line.x = element_blank(),\n",
    "    panel.background = element_blank(), \n",
    "    panel.grid.major = element_blank(),\n",
    "    panel.grid.minor = element_blank(),\n",
    ") \n",
    "\n",
    "graph <- graph + \n",
    "geom_rect(\n",
    "    data = count_data,\n",
    "    aes(xmin=2, xmax=3, ymax=ymax, ymin=ymin, fill= IMM_OMM), \n",
    "    width=1,\n",
    "    stat=\"identity\"\n",
    ")+\n",
    "geom_text (\n",
    "    data = count_data,\n",
    "    aes(x = 2.5, y = label_y, label = IMM_OMM),\n",
    "    color = \"white\",\n",
    "    size = 10\n",
    ") + \n",
    "coord_polar(\n",
    "    theta = \"y\"\n",
    ") + \n",
    "theme_void() + \n",
    "xlim(\n",
    "    c(1, 3)\n",
    ") + theme(legend.position = \"none\") \n",
    "\n",
    "graph"
   ]
  },
  {
   "cell_type": "code",
   "execution_count": 15,
   "id": "abf81d85",
   "metadata": {},
   "outputs": [
    {
     "name": "stderr",
     "output_type": "stream",
     "text": [
      "Warning message in dir.create(\"Z:/paper_data/2021_cristae/for_revision_#2/figS5B\"):\n",
      "\" 'Z:\\paper_data\\2021_cristae\\for_revision_#2\\figS5B' はすでに存在します \"\n"
     ]
    }
   ],
   "source": [
    "dir.create(\"Z:/paper_data/2021_cristae/for_revision_#2/figS5B\")\n",
    "ggsave(file = \"Z:/paper_data/2021_cristae/for_revision_#2/figS5B/donuts.svg\", plot = graph, dpi = 100, width = 10, height = 10)\n"
   ]
  },
  {
   "cell_type": "code",
   "execution_count": null,
   "id": "5088ba4a",
   "metadata": {},
   "outputs": [],
   "source": []
  },
  {
   "cell_type": "code",
   "execution_count": null,
   "id": "18c31d98",
   "metadata": {},
   "outputs": [],
   "source": []
  }
 ],
 "metadata": {
  "kernelspec": {
   "display_name": "R",
   "language": "R",
   "name": "ir"
  },
  "language_info": {
   "codemirror_mode": "r",
   "file_extension": ".r",
   "mimetype": "text/x-r-source",
   "name": "R",
   "pygments_lexer": "r",
   "version": "4.0.3"
  },
  "toc": {
   "base_numbering": 1,
   "nav_menu": {},
   "number_sections": true,
   "sideBar": true,
   "skip_h1_title": false,
   "title_cell": "Table of Contents",
   "title_sidebar": "Contents",
   "toc_cell": false,
   "toc_position": {},
   "toc_section_display": true,
   "toc_window_display": true
  }
 },
 "nbformat": 4,
 "nbformat_minor": 5
}
