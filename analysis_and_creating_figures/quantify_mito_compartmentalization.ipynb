{
 "cells": [
  {
   "cell_type": "code",
   "execution_count": null,
   "metadata": {},
   "outputs": [],
   "source": [
    "%matplotlib inline\n",
    "%config InlineBackend.figure_formats = {'png', 'retina'}\n",
    "import os\n",
    "from pathlib import Path\n",
    "import matplotlib\n",
    "import matplotlib.pyplot as plt\n",
    "import dask_image.imread\n",
    "import numpy as np\n",
    "from skimage import feature, morphology, img_as_float\n",
    "import scipy.ndimage as ndi\n",
    "from random import random\n",
    "import sklearn\n",
    "from sklearn.decomposition import PCA\n",
    "import cc3d\n",
    "import pandas as pd\n",
    "import seaborn as sns\n",
    "import math\n",
    "\n",
    "import cv2\n",
    "\n",
    "from tqdm import tqdm_notebook as tqdm"
   ]
  },
  {
   "cell_type": "code",
   "execution_count": null,
   "metadata": {},
   "outputs": [],
   "source": [
    "def get_all_mito_comp(mito_np, la_np, erosion_iteration = 4, opening=False, thresh=100):\n",
    "    \"\"\"\n",
    "    Calculate the mitochondrial compartments\n",
    "\n",
    "    Parameters\n",
    "    ----------\n",
    "    mito_np : ndarray\n",
    "        Labels of mitochondria\n",
    "    la_np : ndarray\n",
    "        Labels of lamellar cristae\n",
    "    erosion_iteration : int\n",
    "        Iteration times of erosion operation applied to mitochondria labels\n",
    "    opening: bool, default False\n",
    "        When True, opening operation is applied to compartments before cc3d.connected_components is applied\n",
    "    thresh: int, default 100\n",
    "        Threshold of compartments volume\n",
    "\n",
    "    Returns\n",
    "    -------\n",
    "    final array: ndarray\n",
    "        Compartment labels starting with 1 for each mitochondrion\n",
    "    \"\"\"\n",
    "    \n",
    "    connectivity = 6 \n",
    "    diamond = ndi.generate_binary_structure(rank=3, connectivity=1)\n",
    "    labels = cc3d.connected_components(mito_np, connectivity = connectivity)\n",
    "    mito_q, mito_num = np.unique(labels, return_counts=True)\n",
    "    la_np = 1*(la_np>0)\n",
    "    final_array = np.zeros_like(la_np)\n",
    "    for i in tqdm(range(1, len(mito_q))):\n",
    "        if mito_num[i] <1000:\n",
    "            continue\n",
    "        else:\n",
    "            mito1 = np.where(labels==i, labels, 0)\n",
    "            mito1_eroded =ndi.binary_erosion(1*(mito1>0), diamond, iterations=erosion_iteration)\n",
    "            mito1_separated = ((mito1_eroded*1 - la_np)>0)*1\n",
    "            if opening:\n",
    "                mito1_separated =ndi.binary_erosion(mito1_separated, diamond, iterations=1)\n",
    "                mito1_separated =ndi.binary_dilation(mito1_separated, diamond, iterations=1)\n",
    "            labels_comp = cc3d.connected_components(mito1_separated, connectivity = connectivity)\n",
    "            lacomp_q, la_comp_num = np.unique(labels_comp,return_counts=True)\n",
    "            la_comp_num_sorted_idx = np.argsort(la_comp_num)[::-1]\n",
    "            la_comp_temp = np.zeros_like(labels_comp)\n",
    "            for j, idx in enumerate(la_comp_num_sorted_idx):\n",
    "                if j==0:\n",
    "                    continue\n",
    "                if la_comp_num[idx] < thresh:\n",
    "                    break\n",
    "                else:\n",
    "                    la_comp_temp = np.where(labels_comp == idx, j, la_comp_temp)\n",
    "            final_array = final_array + la_comp_temp\n",
    "    return final_array"
   ]
  },
  {
   "cell_type": "code",
   "execution_count": null,
   "metadata": {},
   "outputs": [],
   "source": [
    "filename_pattern = os.path.join('/home/suga/drobo/DeepLearningData/research_010_NIH3T3/shCtrl_003/annotations/cropped_001/devided_mito/', '*png')\n",
    "mito = dask_image.imread.imread(filename_pattern)\n",
    "mito_np = np.zeros(mito.shape, dtype=int)\n",
    "for i in range(len(mito)):\n",
    "    mito_np[i] = (mito[i].compute()>0)*255\n",
    "filename_pattern_l = os.path.join('/home/suga/drobo/DeepLearningData/research_010_NIH3T3/shCtrl_003/annotations/cropped_001/merged_cristae_final/lamellar_with_postprocessing//', '*png')\n",
    "la = dask_image.imread.imread(filename_pattern_l)\n",
    "la_np = np.zeros(la.shape, np.uint8)\n",
    "for i in range(len(la)):\n",
    "    la_np[i] = (la[i].compute()>0)*255"
   ]
  },
  {
   "cell_type": "code",
   "execution_count": null,
   "metadata": {},
   "outputs": [],
   "source": [
    "f_array = get_all_mito_comp(mito_np, la_np)"
   ]
  },
  {
   "cell_type": "code",
   "execution_count": null,
   "metadata": {},
   "outputs": [],
   "source": [
    "out_dir = \"/home/suga/drobo/DeepLearningData/research_010_NIH3T3/shCtrl_003/annotations/cropped_001/compartment_lamellar/\"\n",
    "\n",
    "os.makedirs(out_dir, exist_ok=True)\n",
    "\n",
    "for i in range(f_array.shape[0]):\n",
    "    cv2.imwrite(\n",
    "        f\"{out_dir}/{str(i).zfill(4)}.png\",\n",
    "        f_array[i]\n",
    "    )"
   ]
  },
  {
   "cell_type": "code",
   "execution_count": null,
   "metadata": {},
   "outputs": [],
   "source": [
    "filename_pattern = os.path.join('/home/suga/drobo/DeepLearningData/research_010_NIH3T3/shCtrl_003/annotations/cropped_002/devided_mito/', '*png')\n",
    "mito = dask_image.imread.imread(filename_pattern)\n",
    "\n",
    "\n",
    "mito= mito[:, :692, :2275]\n",
    "\n",
    "mito_np = np.zeros(mito.shape, dtype=int)\n",
    "for i in range(len(mito)):\n",
    "    mito_np[i] = (mito[i].compute()>0)*255\n",
    "\n",
    "    \n",
    "filename_pattern_l = os.path.join('/home/suga/drobo/DeepLearningData/research_010_NIH3T3/shCtrl_003/annotations/cropped_002/merged_cristae_final/lamellar_with_postprocessing//', '*png')\n",
    "la = dask_image.imread.imread(filename_pattern_l)\n",
    "\n",
    "\n",
    "\n",
    "la_np = np.zeros(la.shape, np.uint8)\n",
    "for i in range(len(la)):\n",
    "    la_np[i] = (la[i].compute()>0)*255"
   ]
  },
  {
   "cell_type": "code",
   "execution_count": null,
   "metadata": {},
   "outputs": [],
   "source": [
    "f_array = get_all_mito_comp(mito_np, la_np)"
   ]
  },
  {
   "cell_type": "code",
   "execution_count": null,
   "metadata": {},
   "outputs": [],
   "source": [
    "out_dir = \"/home/suga/drobo/DeepLearningData/research_010_NIH3T3/shCtrl_003/annotations/cropped_002/compartment_lamellar/\"\n",
    "\n",
    "os.makedirs(out_dir, exist_ok=True)\n",
    "\n",
    "for i in range(f_array.shape[0]):\n",
    "    cv2.imwrite(\n",
    "        f\"{out_dir}/{str(i).zfill(4)}.png\",\n",
    "        f_array[i]\n",
    "    )"
   ]
  },
  {
   "cell_type": "code",
   "execution_count": null,
   "metadata": {},
   "outputs": [],
   "source": [
    "filename_pattern = os.path.join('/home/suga/drobo/DeepLearningData/research_010_NIH3T3/shCtrl_003/annotations/cropped_003/devided_mito/', '*png')\n",
    "mito = dask_image.imread.imread(filename_pattern)\n",
    "mito_np = np.zeros(mito.shape, dtype=int)\n",
    "for i in range(len(mito)):\n",
    "    mito_np[i] = (mito[i].compute()>0)*255\n",
    "filename_pattern_l = os.path.join('/home/suga/drobo/DeepLearningData/research_010_NIH3T3/shCtrl_003/annotations/cropped_003/merged_cristae_final/lamellar_with_postprocessing//', '*png')\n",
    "la = dask_image.imread.imread(filename_pattern_l)\n",
    "la_np = np.zeros(la.shape, np.uint8)\n",
    "for i in range(len(la)):\n",
    "    la_np[i] = (la[i].compute()>0)*255"
   ]
  },
  {
   "cell_type": "code",
   "execution_count": null,
   "metadata": {},
   "outputs": [],
   "source": [
    "f_array = get_all_mito_comp(mito_np, la_np)"
   ]
  },
  {
   "cell_type": "code",
   "execution_count": null,
   "metadata": {},
   "outputs": [],
   "source": [
    "out_dir = \"/home/suga/drobo/DeepLearningData/research_010_NIH3T3/shCtrl_003/annotations/cropped_003/compartment_lamellar/\"\n",
    "\n",
    "os.makedirs(out_dir, exist_ok=True)\n",
    "\n",
    "for i in range(f_array.shape[0]):\n",
    "    cv2.imwrite(\n",
    "        f\"{out_dir}/{str(i).zfill(4)}.png\",\n",
    "        f_array[i]\n",
    "    )"
   ]
  },
  {
   "cell_type": "code",
   "execution_count": null,
   "metadata": {},
   "outputs": [],
   "source": [
    "filename_pattern = os.path.join('/home/suga/drobo/DeepLearningData/research_010_NIH3T3/shCtrl_003/annotations/cropped_004/devided_mito/', '*png')\n",
    "mito = dask_image.imread.imread(filename_pattern)\n",
    "mito_np = np.zeros(mito.shape, dtype=int)\n",
    "for i in range(len(mito)):\n",
    "    mito_np[i] = (mito[i].compute()>0)*255\n",
    "filename_pattern_l = os.path.join('/home/suga/drobo/DeepLearningData/research_010_NIH3T3/shCtrl_003/annotations/cropped_004/merged_cristae_final/lamellar_with_postprocessing//', '*png')\n",
    "la = dask_image.imread.imread(filename_pattern_l)\n",
    "la_np = np.zeros(la.shape, np.uint8)\n",
    "for i in range(len(la)):\n",
    "    la_np[i] = (la[i].compute()>0)*255"
   ]
  },
  {
   "cell_type": "code",
   "execution_count": null,
   "metadata": {},
   "outputs": [],
   "source": [
    "f_array = get_all_mito_comp(mito_np, la_np)"
   ]
  },
  {
   "cell_type": "code",
   "execution_count": null,
   "metadata": {},
   "outputs": [],
   "source": [
    "out_dir = \"/home/suga/drobo/DeepLearningData/research_010_NIH3T3/shCtrl_003/annotations/cropped_004/compartment_lamellar/\"\n",
    "\n",
    "os.makedirs(out_dir, exist_ok=True)\n",
    "\n",
    "for i in range(f_array.shape[0]):\n",
    "    cv2.imwrite(\n",
    "        f\"{out_dir}/{str(i).zfill(4)}.png\",\n",
    "        f_array[i]\n",
    "    )"
   ]
  },
  {
   "cell_type": "code",
   "execution_count": null,
   "metadata": {},
   "outputs": [],
   "source": [
    "filename_pattern = os.path.join('/home/suga/drobo/DeepLearningData/research_010_NIH3T3/shCtrl_003/annotations/cropped_005/devided_mito/', '*png')\n",
    "mito = dask_image.imread.imread(filename_pattern)\n",
    "mito_np = np.zeros(mito.shape, dtype=int)\n",
    "for i in range(len(mito)):\n",
    "    mito_np[i] = (mito[i].compute()>0)*255\n",
    "filename_pattern_l = os.path.join('/home/suga/drobo/DeepLearningData/research_010_NIH3T3/shCtrl_003/annotations/cropped_005/merged_cristae_final/lamellar_with_postprocessing//', '*png')\n",
    "la = dask_image.imread.imread(filename_pattern_l)\n",
    "la_np = np.zeros(la.shape, np.uint8)\n",
    "for i in range(len(la)):\n",
    "    la_np[i] = (la[i].compute()>0)*255"
   ]
  },
  {
   "cell_type": "code",
   "execution_count": null,
   "metadata": {},
   "outputs": [],
   "source": [
    "f_array = get_all_mito_comp(mito_np, la_np)"
   ]
  },
  {
   "cell_type": "code",
   "execution_count": null,
   "metadata": {},
   "outputs": [],
   "source": [
    "out_dir = \"/home/suga/drobo/DeepLearningData/research_010_NIH3T3/shCtrl_003/annotations/cropped_005/compartment_lamellar/\"\n",
    "\n",
    "os.makedirs(out_dir, exist_ok=True)\n",
    "\n",
    "for i in range(f_array.shape[0]):\n",
    "    cv2.imwrite(\n",
    "        f\"{out_dir}/{str(i).zfill(4)}.png\",\n",
    "        f_array[i]\n",
    "    )"
   ]
  },
  {
   "cell_type": "code",
   "execution_count": null,
   "metadata": {},
   "outputs": [],
   "source": [
    "filename_pattern = os.path.join('/home/suga/drobo/DeepLearningData/research_010_NIH3T3/shOPA1_003/annotations/cropped_001/devided_mito/', '*png')\n",
    "mito = dask_image.imread.imread(filename_pattern)\n",
    "mito_np = np.zeros(mito.shape, dtype=int)\n",
    "for i in range(len(mito)):\n",
    "    mito_np[i] = (mito[i].compute()>0)*255\n",
    "filename_pattern_l = os.path.join('/home/suga/drobo/DeepLearningData/research_010_NIH3T3/shOPA1_003/annotations/cropped_001/merged_cristae_final/lamellar_with_postprocessing//', '*png')\n",
    "la = dask_image.imread.imread(filename_pattern_l)\n",
    "la_np = np.zeros(la.shape, np.uint8)\n",
    "for i in range(len(la)):\n",
    "    la_np[i] = (la[i].compute()>0)*255"
   ]
  },
  {
   "cell_type": "code",
   "execution_count": null,
   "metadata": {},
   "outputs": [],
   "source": [
    "f_array = get_all_mito_comp(mito_np, la_np)"
   ]
  },
  {
   "cell_type": "code",
   "execution_count": null,
   "metadata": {},
   "outputs": [],
   "source": [
    "out_dir = \"/home/suga/drobo/DeepLearningData/research_010_NIH3T3/shOPA1_003/annotations/cropped_001/compartment_lamellar_002/\"\n",
    "\n",
    "os.makedirs(out_dir, exist_ok=True)\n",
    "\n",
    "for i in range(f_array.shape[0]):\n",
    "    cv2.imwrite(\n",
    "        f\"{out_dir}/{str(i).zfill(4)}.png\",\n",
    "        f_array[i]\n",
    "    )"
   ]
  },
  {
   "cell_type": "code",
   "execution_count": null,
   "metadata": {},
   "outputs": [],
   "source": [
    "filename_pattern = os.path.join('/home/suga/drobo/DeepLearningData/research_010_NIH3T3/shOPA1_003/annotations/cropped_002/devided_mito/', '*png')\n",
    "mito = dask_image.imread.imread(filename_pattern)\n",
    "mito_np = np.zeros(mito.shape, dtype=int)\n",
    "for i in range(len(mito)):\n",
    "    mito_np[i] = (mito[i].compute()>0)*255\n",
    "filename_pattern_l = os.path.join('/home/suga/drobo/DeepLearningData/research_010_NIH3T3/shOPA1_003/annotations/cropped_002/merged_cristae_final/lamellar_with_postprocessing//', '*png')\n",
    "la = dask_image.imread.imread(filename_pattern_l)\n",
    "la_np = np.zeros(la.shape, np.uint8)\n",
    "for i in range(len(la)):\n",
    "    la_np[i] = (la[i].compute()>0)*255"
   ]
  },
  {
   "cell_type": "code",
   "execution_count": null,
   "metadata": {},
   "outputs": [],
   "source": [
    "f_array = get_all_mito_comp(mito_np, la_np)"
   ]
  },
  {
   "cell_type": "code",
   "execution_count": null,
   "metadata": {},
   "outputs": [],
   "source": [
    "out_dir = \"/home/suga/drobo/DeepLearningData/research_010_NIH3T3/shOPA1_003/annotations/cropped_002/compartment_lamellar/\"\n",
    "\n",
    "os.makedirs(out_dir, exist_ok=True)\n",
    "\n",
    "for i in range(f_array.shape[0]):\n",
    "    cv2.imwrite(\n",
    "        f\"{out_dir}/{str(i).zfill(4)}.png\",\n",
    "        f_array[i]\n",
    "    )"
   ]
  },
  {
   "cell_type": "code",
   "execution_count": null,
   "metadata": {},
   "outputs": [],
   "source": [
    "filename_pattern = os.path.join('/home/suga/drobo/DeepLearningData/research_010_NIH3T3/shOPA1_003/annotations/cropped_003/devided_mito/', '*png')\n",
    "mito = dask_image.imread.imread(filename_pattern)\n",
    "mito_np = np.zeros(mito.shape, dtype=int)\n",
    "for i in range(len(mito)):\n",
    "    mito_np[i] = (mito[i].compute()>0)*255\n",
    "filename_pattern_l = os.path.join('/home/suga/drobo/DeepLearningData/research_010_NIH3T3/shOPA1_003/annotations/cropped_003/merged_cristae_final/lamellar_with_postprocessing//', '*png')\n",
    "la = dask_image.imread.imread(filename_pattern_l)\n",
    "la_np = np.zeros(la.shape, np.uint8)\n",
    "for i in range(len(la)):\n",
    "    la_np[i] = (la[i].compute()>0)*255"
   ]
  },
  {
   "cell_type": "code",
   "execution_count": null,
   "metadata": {},
   "outputs": [],
   "source": [
    "f_array = get_all_mito_comp(mito_np, la_np)"
   ]
  },
  {
   "cell_type": "code",
   "execution_count": null,
   "metadata": {},
   "outputs": [],
   "source": [
    "out_dir = \"/home/suga/drobo/DeepLearningData/research_010_NIH3T3/shOPA1_003/annotations/cropped_003/compartment_lamellar/\"\n",
    "\n",
    "os.makedirs(out_dir, exist_ok=True)\n",
    "\n",
    "for i in range(f_array.shape[0]):\n",
    "    cv2.imwrite(\n",
    "        f\"{out_dir}/{str(i).zfill(4)}.png\",\n",
    "        f_array[i]\n",
    "    )"
   ]
  },
  {
   "cell_type": "code",
   "execution_count": null,
   "metadata": {},
   "outputs": [],
   "source": [
    "filename_pattern = os.path.join('/home/suga/drobo/DeepLearningData/research_010_NIH3T3/shOPA1_003/annotations/cropped_004/devided_mito/', '*png')\n",
    "mito = dask_image.imread.imread(filename_pattern)\n",
    "mito_np = np.zeros(mito.shape, dtype=int)\n",
    "for i in range(len(mito)):\n",
    "    mito_np[i] = (mito[i].compute()>0)*255\n",
    "filename_pattern_l = os.path.join('/home/suga/drobo/DeepLearningData/research_010_NIH3T3/shOPA1_003/annotations/cropped_004/merged_cristae_final/lamellar_with_postprocessing//', '*png')\n",
    "la = dask_image.imread.imread(filename_pattern_l)\n",
    "la_np = np.zeros(la.shape, np.uint8)\n",
    "for i in range(len(la)):\n",
    "    la_np[i] = (la[i].compute()>0)*255"
   ]
  },
  {
   "cell_type": "code",
   "execution_count": null,
   "metadata": {},
   "outputs": [],
   "source": [
    "f_array = get_all_mito_comp(mito_np, la_np)"
   ]
  },
  {
   "cell_type": "code",
   "execution_count": null,
   "metadata": {},
   "outputs": [],
   "source": [
    "out_dir = \"/home/suga/drobo/DeepLearningData/research_010_NIH3T3/shOPA1_003/annotations/cropped_004/compartment_lamellar/\"\n",
    "\n",
    "os.makedirs(out_dir, exist_ok=True)\n",
    "\n",
    "for i in range(f_array.shape[0]):\n",
    "    cv2.imwrite(\n",
    "        f\"{out_dir}/{str(i).zfill(4)}.png\",\n",
    "        f_array[i]\n",
    "    )"
   ]
  },
  {
   "cell_type": "code",
   "execution_count": null,
   "metadata": {},
   "outputs": [],
   "source": [
    "filename_pattern = os.path.join('/home/suga/drobo/DeepLearningData/research_010_NIH3T3/shOPA1_003/annotations/cropped_005/devided_mito/', '*png')\n",
    "mito = dask_image.imread.imread(filename_pattern)\n",
    "mito_np = np.zeros(mito.shape, dtype=int)\n",
    "for i in range(len(mito)):\n",
    "    mito_np[i] = (mito[i].compute()>0)*255\n",
    "filename_pattern_l = os.path.join('/home/suga/drobo/DeepLearningData/research_010_NIH3T3/shOPA1_003/annotations/cropped_005/merged_cristae_final/lamellar_with_postprocessing//', '*png')\n",
    "la = dask_image.imread.imread(filename_pattern_l)\n",
    "la_np = np.zeros(la.shape, np.uint8)\n",
    "for i in range(len(la)):\n",
    "    la_np[i] = (la[i].compute()>0)*255"
   ]
  },
  {
   "cell_type": "code",
   "execution_count": null,
   "metadata": {},
   "outputs": [],
   "source": [
    "f_array = get_all_mito_comp(mito_np, la_np)"
   ]
  },
  {
   "cell_type": "code",
   "execution_count": null,
   "metadata": {},
   "outputs": [],
   "source": [
    "out_dir = \"/home/suga/drobo/DeepLearningData/research_010_NIH3T3/shOPA1_003/annotations/cropped_005/compartment_lamellar/\"\n",
    "\n",
    "os.makedirs(out_dir, exist_ok=True)\n",
    "\n",
    "for i in range(f_array.shape[0]):\n",
    "    cv2.imwrite(\n",
    "        f\"{out_dir}/{str(i).zfill(4)}.png\",\n",
    "        f_array[i]\n",
    "    )"
   ]
  }
 ],
 "metadata": {
  "kernelspec": {
   "display_name": "Python 3",
   "language": "python",
   "name": "python3"
  },
  "language_info": {
   "codemirror_mode": {
    "name": "ipython",
    "version": 3
   },
   "file_extension": ".py",
   "mimetype": "text/x-python",
   "name": "python",
   "nbconvert_exporter": "python",
   "pygments_lexer": "ipython3",
   "version": "3.7.0"
  },
  "toc": {
   "base_numbering": 1,
   "nav_menu": {},
   "number_sections": true,
   "sideBar": true,
   "skip_h1_title": false,
   "title_cell": "Table of Contents",
   "title_sidebar": "Contents",
   "toc_cell": false,
   "toc_position": {},
   "toc_section_display": true,
   "toc_window_display": false
  }
 },
 "nbformat": 4,
 "nbformat_minor": 4
}
