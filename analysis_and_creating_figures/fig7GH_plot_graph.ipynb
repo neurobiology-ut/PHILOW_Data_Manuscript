{
 "cells": [
  {
   "cell_type": "code",
   "execution_count": null,
   "id": "1a19a59c",
   "metadata": {},
   "outputs": [],
   "source": [
    "library(googlesheets4)\n",
    "library(ggplot2)\n",
    "library(ggbeeswarm)\n",
    "library(glue)"
   ]
  },
  {
   "cell_type": "code",
   "execution_count": null,
   "id": "3095ae6c",
   "metadata": {},
   "outputs": [],
   "source": [
    "library(googlesheets4)\n",
    "sheets_auth(path = \"Z:/spreadsheet-service-302407.json\")\n",
    "\n",
    "all_data <- read_sheet(\n",
    "    ss=\"12yARRjZTZlD-tqx-bz7JYzwZ5XVVOf59o8kTbR0s4xw\",\n",
    "    range=\"shCtrl_003_shOPA1_003(論文用データ)\"\n",
    ")"
   ]
  },
  {
   "cell_type": "markdown",
   "id": "e11b817d",
   "metadata": {},
   "source": [
    "# tubular"
   ]
  },
  {
   "cell_type": "code",
   "execution_count": null,
   "id": "ba92bbd3",
   "metadata": {},
   "outputs": [],
   "source": [
    "all_data_ <- all_data[!is.na(all_data$`re_extract_tubular_CJ_number_no_1px_2px/tubular_S_nm`), ]\n",
    "\n",
    "options(repr.plot.width=10, repr.plot.height=10)\n",
    "\n",
    "graph <- ggplot(NULL)\n",
    "\n",
    "graph <- graph + theme(\n",
    "    axis.line = element_line(size = 2, colour=\"black\"),\n",
    "    axis.title.x = element_blank(),\n",
    "    axis.title.y = element_text(size = 40, face = \"bold\", family = \"Helvetica\", color=\"black\"),\n",
    "    axis.text.x = element_text(size = 40, face = \"bold\", family = \"Helvetica\", color=\"black\"),\n",
    "    axis.text.y = element_text(size = 30, face = \"bold\", family = \"Helvetica\", color=\"black\"),\n",
    "    panel.background = element_blank(), \n",
    "    panel.grid.major = element_blank(),\n",
    "    panel.grid.minor = element_blank(),\n",
    ") + scale_y_continuous(\n",
    "    expand = c(0,0), \n",
    "    limits=c(0, 0.00035)\n",
    ")\n",
    "\n",
    "graph <- graph + labs(\n",
    "    y = \"Tubular Cristae Junction Number\\n/Tubular Surface Area (nm-2)\"\n",
    ") + geom_quasirandom(\n",
    "    data = all_data_,\n",
    "    aes(Gene, `re_extract_tubular_CJ_number_no_1px_2px/tubular_S_nm`),\n",
    "    size =5 ,\n",
    "    position=position_jitter(width = 0.3, height = 0)\n",
    ") \n",
    "\n",
    "\n",
    "graph <- graph + annotate(\n",
    "    \"segment\",\n",
    "    x = 0.6, xend = 1.4,\n",
    "    y = mean(all_data_[all_data_$Gene == \"shCtrl\", ]$`re_extract_tubular_CJ_number_no_1px_2px/tubular_S_nm`), \n",
    "    yend = mean(all_data_[all_data_$Gene == \"shCtrl\", ]$`re_extract_tubular_CJ_number_no_1px_2px/tubular_S_nm`),\n",
    "    size = 3,\n",
    "    color=\"red\"\n",
    ")+ annotate(\n",
    "    \"segment\",\n",
    "    x = 1.6, xend = 2.4,\n",
    "    y = mean(all_data_[all_data_$Gene == \"shOPA1\", ]$`re_extract_tubular_CJ_number_no_1px_2px/tubular_S_nm`), \n",
    "    yend = mean(all_data_[all_data_$Gene == \"shOPA1\", ]$`re_extract_tubular_CJ_number_no_1px_2px/tubular_S_nm`),\n",
    "    size = 3,\n",
    "    color=\"red\"\n",
    ")  + scale_x_discrete(\n",
    "    labels = c(\"Control\", \"OPA1 KD\"),\n",
    ")\n",
    "\n",
    "graph"
   ]
  },
  {
   "cell_type": "code",
   "execution_count": null,
   "id": "3ed298fa",
   "metadata": {},
   "outputs": [],
   "source": [
    "wilcox.test(\n",
    "    all_data_[all_data_$Gene == \"shCtrl\", ]$`re_extract_tubular_CJ_number_no_1px_2px/tubular_S_nm`, \n",
    "    all_data_[all_data_$Gene == \"shOPA1\", ]$`re_extract_tubular_CJ_number_no_1px_2px/tubular_S_nm`\n",
    ")"
   ]
  },
  {
   "cell_type": "code",
   "execution_count": null,
   "id": "5a73cb9f",
   "metadata": {},
   "outputs": [],
   "source": [
    "dir.create(\"Z:/paper_data/2021_cristae/for_revision_#2/fig7GH\")\n",
    "ggsave(file = \"Z:/paper_data/2021_cristae/for_revision_#2/fig7GH/cj_t_number.svg\", plot = graph, dpi = 100, width = 10, height = 10)\n"
   ]
  },
  {
   "cell_type": "markdown",
   "id": "a01d31cd",
   "metadata": {},
   "source": [
    "# lamellar"
   ]
  },
  {
   "cell_type": "code",
   "execution_count": null,
   "id": "7e144f7f",
   "metadata": {},
   "outputs": [],
   "source": [
    "all_data_ <- all_data[!is.na(all_data$`re_extract_lamellar_CJ_number_no_1px_2px/lamellar_S_nm`), ]\n",
    "\n",
    "options(repr.plot.width=10, repr.plot.height=10)\n",
    "\n",
    "graph <- ggplot(NULL)\n",
    "\n",
    "graph <- graph + theme(\n",
    "    axis.line = element_line(size = 2, colour=\"black\"),\n",
    "    axis.title.x = element_blank(),\n",
    "    axis.title.y = element_text(size = 40, face = \"bold\", family = \"Helvetica\", color=\"black\"),\n",
    "    axis.text.x = element_text(size = 40, face = \"bold\", family = \"Helvetica\", color=\"black\"),\n",
    "    axis.text.y = element_text(size = 30, face = \"bold\", family = \"Helvetica\", color=\"black\"),\n",
    "    panel.background = element_blank(), \n",
    "    panel.grid.major = element_blank(),\n",
    "    panel.grid.minor = element_blank(),\n",
    ") + scale_y_continuous(\n",
    "    expand = c(0,0), \n",
    "    limits=c(0, 0.00018)\n",
    ")\n",
    "\n",
    "graph <- graph + labs(\n",
    "    y = \"Lamellar Cristae Junction Number\\n/Lamellar Surface Area (nm-2)\"\n",
    ") + geom_quasirandom(\n",
    "    data = all_data_,\n",
    "    aes(Gene, `re_extract_lamellar_CJ_number_no_1px_2px/lamellar_S_nm`),\n",
    "    size =5 ,\n",
    "    position=position_jitter(width = 0.3, height = 0)\n",
    ") \n",
    "\n",
    "\n",
    "graph <- graph + annotate(\n",
    "    \"segment\",\n",
    "    x = 0.6, xend = 1.4,\n",
    "    y = mean(all_data_[all_data_$Gene == \"shCtrl\", ]$`re_extract_lamellar_CJ_number_no_1px_2px/lamellar_S_nm`), \n",
    "    yend = mean(all_data_[all_data_$Gene == \"shCtrl\", ]$`re_extract_lamellar_CJ_number_no_1px_2px/lamellar_S_nm`),\n",
    "    size = 3,\n",
    "    color=\"red\"\n",
    ")+ annotate(\n",
    "    \"segment\",\n",
    "    x = 1.6, xend = 2.4,\n",
    "    y = mean(all_data_[all_data_$Gene == \"shOPA1\", ]$`re_extract_lamellar_CJ_number_no_1px_2px/lamellar_S_nm`), \n",
    "    yend = mean(all_data_[all_data_$Gene == \"shOPA1\", ]$`re_extract_lamellar_CJ_number_no_1px_2px/lamellar_S_nm`),\n",
    "    size = 3,\n",
    "    color=\"red\"\n",
    ")  + scale_x_discrete(\n",
    "    labels = c(\"Control\", \"OPA1 KD\"),\n",
    ")\n",
    "\n",
    "graph"
   ]
  },
  {
   "cell_type": "code",
   "execution_count": null,
   "id": "559288c3",
   "metadata": {},
   "outputs": [],
   "source": [
    "wilcox.test(\n",
    "    all_data_[all_data_$Gene == \"shCtrl\", ]$`re_extract_lamellar_CJ_number_no_1px_2px/lamellar_S_nm`, \n",
    "    all_data_[all_data_$Gene == \"shOPA1\", ]$`re_extract_lamellar_CJ_number_no_1px_2px/lamellar_S_nm`\n",
    ")"
   ]
  },
  {
   "cell_type": "code",
   "execution_count": null,
   "id": "bbdc3916",
   "metadata": {},
   "outputs": [],
   "source": [
    "dir.create(\"Z:/paper_data/2021_cristae/for_revision_#2/fig7GH\")\n",
    "ggsave(file = \"Z:/paper_data/2021_cristae/for_revision_#2/fig7GH/cj_l_number.svg\", plot = graph, dpi = 100, width = 10, height = 10)\n"
   ]
  },
  {
   "cell_type": "code",
   "execution_count": null,
   "id": "ac39788f",
   "metadata": {},
   "outputs": [],
   "source": []
  }
 ],
 "metadata": {
  "kernelspec": {
   "display_name": "R",
   "language": "R",
   "name": "ir"
  },
  "language_info": {
   "codemirror_mode": "r",
   "file_extension": ".r",
   "mimetype": "text/x-r-source",
   "name": "R",
   "pygments_lexer": "r",
   "version": "4.0.3"
  },
  "toc": {
   "base_numbering": 1,
   "nav_menu": {},
   "number_sections": true,
   "sideBar": true,
   "skip_h1_title": false,
   "title_cell": "Table of Contents",
   "title_sidebar": "Contents",
   "toc_cell": false,
   "toc_position": {},
   "toc_section_display": true,
   "toc_window_display": true
  }
 },
 "nbformat": 4,
 "nbformat_minor": 5
}
