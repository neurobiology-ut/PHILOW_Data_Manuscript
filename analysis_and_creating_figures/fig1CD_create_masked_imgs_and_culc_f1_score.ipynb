{
 "cells": [
  {
   "cell_type": "code",
   "execution_count": null,
   "id": "56617344",
   "metadata": {},
   "outputs": [],
   "source": [
    "%matplotlib inline\n",
    "import matplotlib.pyplot as plt\n",
    "import os\n",
    "import numpy as np\n",
    "import cv2\n",
    "from tqdm.notebook import tqdm"
   ]
  },
  {
   "cell_type": "code",
   "execution_count": null,
   "id": "72fddc2c",
   "metadata": {},
   "outputs": [],
   "source": [
    "#値を-1から1に正規化する関数\n",
    "def normalize_x(image):\n",
    "    return image / 127.5 - 1\n",
    "\n",
    "\n",
    "def denormalize_x(image):\n",
    "    return (image + 1) * 127.5\n",
    "\n",
    "\n",
    "#値を0から1正規化する関数\n",
    "def normalize_y(image):\n",
    "    return image / 255\n",
    "\n",
    "\n",
    "#値を0から255に戻す関数\n",
    "def denormalize_y(image):\n",
    "    return image * 255"
   ]
  },
  {
   "cell_type": "code",
   "execution_count": null,
   "id": "afc49c8b",
   "metadata": {},
   "outputs": [],
   "source": [
    "# インプット画像を読み込む関数\n",
    "def load_X_gray(folder_path):\n",
    "    \n",
    "    image_files = []\n",
    "\n",
    "    #image_files = os.listdir(folder_path)\n",
    "       \n",
    "    for file in os.listdir(folder_path):\n",
    "        base, ext = os.path.splitext(file)\n",
    "        if ext == '.png':\n",
    "            image_files.append(file)\n",
    "        else :\n",
    "            pass\n",
    "        \n",
    "    image_files.sort()\n",
    "    \n",
    "    img = cv2.imread(folder_path + os.sep + image_files[0], cv2.IMREAD_GRAYSCALE)\n",
    "    \n",
    "    #image_files = image_files[1:]\n",
    "    images = np.zeros((len(image_files), img.shape[0], img.shape[1], 1), np.float32)\n",
    "    for i, image_file in tqdm(enumerate(image_files)):\n",
    "        image = cv2.imread(folder_path + os.sep + image_file, cv2.IMREAD_GRAYSCALE)\n",
    "        #image = cv2.resize(image, (IMAGE_SIZE, IMAGE_SIZE))\n",
    "        image = image[:, :, np.newaxis]\n",
    "        images[i] = normalize_x(image)\n",
    "    \n",
    "    return images, image_files\n",
    "\n",
    "\n",
    "def load_Y_gray(folder_path, thresh = None , normalize = True, g_size = None):\n",
    "    image_files = []\n",
    "    #image_files = os.listdir(folder_path)\n",
    "    \n",
    "    for file in os.listdir(folder_path):\n",
    "        base, ext = os.path.splitext(file)\n",
    "        if ext == '.png':\n",
    "            image_files.append(file)\n",
    "        else:\n",
    "            pass\n",
    "        \n",
    "    image_files.sort()\n",
    "    \n",
    "    img = cv2.imread(folder_path + os.sep + image_files[0], cv2.IMREAD_GRAYSCALE)\n",
    "    \n",
    "    images = np.zeros(\n",
    "        (len(image_files), img.shape[0], img.shape[1], 1) ,np.float32\n",
    "    )\n",
    "    \n",
    "    for i , image_file in tqdm(enumerate(image_files)):\n",
    "        image = cv2.imread(\n",
    "            folder_path + os.sep + image_file ,\n",
    "            cv2.IMREAD_GRAYSCALE\n",
    "        )\n",
    "        #print(image.shape)\n",
    "        \n",
    "        # ぼかし処理\n",
    "        if g_size:\n",
    "            image = cv2.GaussianBlur(\n",
    "                image, (g_size, g_size), 0\n",
    "            )        \n",
    "        \n",
    "        if thresh:\n",
    "            ret , image = cv2.threshold(image , thresh , 255 , cv2.THRESH_BINARY)\n",
    "        image = image[ : , : , np.newaxis]\n",
    "        if normalize:\n",
    "            images[i] = normalize_y(image)\n",
    "        else:\n",
    "            images[i] = image\n",
    "    \n",
    "    return images , image_files"
   ]
  },
  {
   "cell_type": "code",
   "execution_count": null,
   "id": "815cbcb7",
   "metadata": {},
   "outputs": [],
   "source": [
    "def make_mask_img(ori_img, mask_img):\n",
    "    mask_img_rgb = np.zeros((mask_img.shape[0], mask_img.shape[1], 3), np.float32)\n",
    "    mask_img_rgb[:,:,0] = mask_img[:,:,0]\n",
    "    mask_img_rgb[:,:,2] = mask_img[:,:,0]\n",
    "    masked_img = cv2.addWeighted(mask_img_rgb,0.5,cv2.cvtColor(ori_img+0.75, cv2.COLOR_GRAY2BGR),0.6,0)\n",
    "    return masked_img"
   ]
  },
  {
   "cell_type": "code",
   "execution_count": null,
   "id": "bf19dcc0",
   "metadata": {},
   "outputs": [],
   "source": [
    "def culc_F1(pred, gt):\n",
    "    \n",
    "    PRE = np.count_nonzero((pred*255 > 0.5) & (gt* 255 > 0.5)) / np.count_nonzero(pred*255 > 0.5)\n",
    "    RE = np.count_nonzero((pred*255 > 0.5) & (gt * 255 > 0.5)) / np.count_nonzero(gt*255 > 0.5)\n",
    "    \n",
    "    try:\n",
    "        F1 = 2 * (PRE * RE) / (PRE + RE)\n",
    "        print(f\"Precision: {round(PRE,2)}, Recall: {round(RE,2)}, F1: {round(F1,2)} \")\n",
    "        return F1\n",
    "    except ZeroDivisionError:\n",
    "        return 0\n",
    "    except:\n",
    "        return \"error\""
   ]
  },
  {
   "cell_type": "markdown",
   "id": "74730b49",
   "metadata": {},
   "source": [
    "# High F1 Score"
   ]
  },
  {
   "cell_type": "markdown",
   "id": "9f4557f2",
   "metadata": {},
   "source": [
    "## 1"
   ]
  },
  {
   "cell_type": "code",
   "execution_count": null,
   "id": "a88116b5",
   "metadata": {},
   "outputs": [],
   "source": [
    "ori_imgs , _ = load_X_gray('Z:/paper_data/2021_cristae/data_110_crop_data_for_new_fig1_a/008_f1_094/original/')\n",
    "gt_imgs , _ = load_Y_gray('Z:/paper_data/2021_cristae/data_110_crop_data_for_new_fig1_a/008_f1_094/ground_truth/', normalize=False)\n",
    "pred_imgs, _ = load_Y_gray('Z:/paper_data/2021_cristae/data_110_crop_data_for_new_fig1_a/008_f1_094/pred/', normalize=False)\n"
   ]
  },
  {
   "cell_type": "code",
   "execution_count": null,
   "id": "06b35ef3",
   "metadata": {},
   "outputs": [],
   "source": [
    "cropped_ori_imgs = ori_imgs[:, :450, :450]\n",
    "cropped_gt_imgs = gt_imgs[:, :450, :450]\n",
    "cropped_pred_imgs = pred_imgs[:, :450, :450]"
   ]
  },
  {
   "cell_type": "code",
   "execution_count": null,
   "id": "7e939399",
   "metadata": {},
   "outputs": [],
   "source": [
    "section_Z = 62\n",
    "masked_ori_img = make_mask_img(cropped_ori_imgs[section_Z], np.zeros_like(cropped_ori_imgs[section_Z]))\n",
    "masked_pred_img = make_mask_img(cropped_ori_imgs[section_Z], cropped_pred_imgs[section_Z])\n",
    "masked_gt_img = make_mask_img(cropped_ori_imgs[section_Z], cropped_gt_imgs[section_Z])\n",
    "\n",
    "pred_f1_matrix = culc_F1(cropped_pred_imgs[section_Z], cropped_gt_imgs[section_Z])"
   ]
  },
  {
   "cell_type": "code",
   "execution_count": null,
   "id": "849a88a0",
   "metadata": {},
   "outputs": [],
   "source": [
    "plt.figure(figsize=(15, 15))\n",
    "\n",
    "plt.subplot(1, 3, 1)\n",
    "plt.imshow(masked_ori_img)\n",
    "\n",
    "plt.subplot(1, 3, 2)\n",
    "plt.imshow(masked_pred_img)\n",
    "\n",
    "plt.subplot(1, 3, 3)\n",
    "plt.imshow(masked_gt_img)"
   ]
  },
  {
   "cell_type": "code",
   "execution_count": null,
   "id": "91420a47",
   "metadata": {},
   "outputs": [],
   "source": [
    "out_dir = \"Z:/paper_data/2021_cristae/for_revision_#2/fig1C/high_f1_score_#1\"\n",
    "os.makedirs(out_dir, exist_ok=True)\n",
    "\n",
    "cv2.imwrite(os.path.join(out_dir, \"raw_image.png\"), denormalize_y(masked_ori_img))\n",
    "cv2.imwrite(os.path.join(out_dir, \"prediction.png\"), denormalize_y(masked_pred_img))\n",
    "cv2.imwrite(os.path.join(out_dir, \"ground_truth.png\"), denormalize_y(masked_gt_img))"
   ]
  },
  {
   "cell_type": "markdown",
   "id": "abe4c0d6",
   "metadata": {},
   "source": [
    "## 2"
   ]
  },
  {
   "cell_type": "code",
   "execution_count": null,
   "id": "323c4423",
   "metadata": {},
   "outputs": [],
   "source": [
    "ori_imgs , _ = load_X_gray('Z:/paper_data/2021_cristae/data_110_crop_data_for_new_fig1_a/013_f1_095/original/')\n",
    "gt_imgs , _ = load_Y_gray('Z:/paper_data/2021_cristae/data_110_crop_data_for_new_fig1_a/013_f1_095/ground_truth/', normalize=False)\n",
    "pred_imgs, _ = load_Y_gray('Z:/paper_data/2021_cristae/data_110_crop_data_for_new_fig1_a/013_f1_095/pred/', normalize=False)\n"
   ]
  },
  {
   "cell_type": "code",
   "execution_count": null,
   "id": "6c10d63d",
   "metadata": {},
   "outputs": [],
   "source": [
    "cropped_ori_imgs = ori_imgs[:, :450, :450]\n",
    "cropped_gt_imgs = gt_imgs[:, :450, :450]\n",
    "cropped_pred_imgs = pred_imgs[:, :450, :450]"
   ]
  },
  {
   "cell_type": "code",
   "execution_count": null,
   "id": "44510e0d",
   "metadata": {},
   "outputs": [],
   "source": [
    "section_Z = 41\n",
    "masked_ori_img = make_mask_img(cropped_ori_imgs[section_Z], np.zeros_like(cropped_ori_imgs[section_Z]))\n",
    "masked_pred_img = make_mask_img(cropped_ori_imgs[section_Z], cropped_pred_imgs[section_Z])\n",
    "masked_gt_img = make_mask_img(cropped_ori_imgs[section_Z], cropped_gt_imgs[section_Z])\n",
    "\n",
    "pred_f1_matrix = culc_F1(cropped_pred_imgs[section_Z], cropped_gt_imgs[section_Z])"
   ]
  },
  {
   "cell_type": "code",
   "execution_count": null,
   "id": "446e05c2",
   "metadata": {},
   "outputs": [],
   "source": [
    "plt.figure(figsize=(15, 15))\n",
    "\n",
    "plt.subplot(1, 3, 1)\n",
    "plt.imshow(masked_ori_img)\n",
    "\n",
    "plt.subplot(1, 3, 2)\n",
    "plt.imshow(masked_pred_img)\n",
    "\n",
    "plt.subplot(1, 3, 3)\n",
    "plt.imshow(masked_gt_img)"
   ]
  },
  {
   "cell_type": "code",
   "execution_count": null,
   "id": "044d7c6a",
   "metadata": {},
   "outputs": [],
   "source": [
    "out_dir = \"Z:/paper_data/2021_cristae/for_revision_#2/fig1C/high_f1_score_#2\"\n",
    "os.makedirs(out_dir, exist_ok=True)\n",
    "\n",
    "cv2.imwrite(os.path.join(out_dir, \"raw_image.png\"), denormalize_y(masked_ori_img))\n",
    "cv2.imwrite(os.path.join(out_dir, \"prediction.png\"), denormalize_y(masked_pred_img))\n",
    "cv2.imwrite(os.path.join(out_dir, \"ground_truth.png\"), denormalize_y(masked_gt_img))"
   ]
  },
  {
   "cell_type": "markdown",
   "id": "fbca1b6d",
   "metadata": {},
   "source": [
    "# Low F1 Score"
   ]
  },
  {
   "cell_type": "markdown",
   "id": "2f756d93",
   "metadata": {},
   "source": [
    "## 1"
   ]
  },
  {
   "cell_type": "code",
   "execution_count": null,
   "id": "73427d66",
   "metadata": {},
   "outputs": [],
   "source": [
    "ori_imgs , _ = load_X_gray('Z:/paper_data/2021_cristae/data_110_crop_data_for_new_fig1_a/006_f1_088/original/')\n",
    "gt_imgs , _ = load_Y_gray('Z:/paper_data/2021_cristae/data_110_crop_data_for_new_fig1_a/006_f1_088/ground_truth/', normalize=False)\n",
    "pred_imgs, _ = load_Y_gray('Z:/paper_data/2021_cristae/data_110_crop_data_for_new_fig1_a/006_f1_088/pred/', normalize=False)\n"
   ]
  },
  {
   "cell_type": "code",
   "execution_count": null,
   "id": "ad1a9e37",
   "metadata": {},
   "outputs": [],
   "source": [
    "cropped_ori_imgs = ori_imgs[:, :450, :450]\n",
    "cropped_gt_imgs = gt_imgs[:, :450, :450]\n",
    "cropped_pred_imgs = pred_imgs[:, :450, :450]"
   ]
  },
  {
   "cell_type": "code",
   "execution_count": null,
   "id": "db14e735",
   "metadata": {},
   "outputs": [],
   "source": [
    "section_Z = 50\n",
    "masked_ori_img = make_mask_img(cropped_ori_imgs[section_Z], np.zeros_like(cropped_ori_imgs[section_Z]))\n",
    "masked_pred_img = make_mask_img(cropped_ori_imgs[section_Z], cropped_pred_imgs[section_Z])\n",
    "masked_gt_img = make_mask_img(cropped_ori_imgs[section_Z], cropped_gt_imgs[section_Z])\n",
    "\n",
    "pred_f1_matrix = culc_F1(cropped_pred_imgs[section_Z], cropped_gt_imgs[section_Z])"
   ]
  },
  {
   "cell_type": "code",
   "execution_count": null,
   "id": "b82ddeb6",
   "metadata": {},
   "outputs": [],
   "source": [
    "plt.figure(figsize=(15, 15))\n",
    "\n",
    "plt.subplot(1, 3, 1)\n",
    "plt.imshow(masked_ori_img)\n",
    "\n",
    "plt.subplot(1, 3, 2)\n",
    "plt.imshow(masked_pred_img)\n",
    "\n",
    "plt.subplot(1, 3, 3)\n",
    "plt.imshow(masked_gt_img)"
   ]
  },
  {
   "cell_type": "code",
   "execution_count": null,
   "id": "7f9e73a2",
   "metadata": {},
   "outputs": [],
   "source": [
    "out_dir = \"Z:/paper_data/2021_cristae/for_revision_#2/fig1C/low_f1_score_#1\"\n",
    "os.makedirs(out_dir, exist_ok=True)\n",
    "\n",
    "cv2.imwrite(os.path.join(out_dir, \"raw_image.png\"), denormalize_y(masked_ori_img))\n",
    "cv2.imwrite(os.path.join(out_dir, \"prediction.png\"), denormalize_y(masked_pred_img))\n",
    "cv2.imwrite(os.path.join(out_dir, \"ground_truth.png\"), denormalize_y(masked_gt_img))"
   ]
  },
  {
   "cell_type": "markdown",
   "id": "c178d96a",
   "metadata": {},
   "source": [
    "## 2"
   ]
  },
  {
   "cell_type": "code",
   "execution_count": null,
   "id": "703fa71c",
   "metadata": {},
   "outputs": [],
   "source": [
    "ori_imgs , _ = load_X_gray('Z:/paper_data/2021_cristae/data_110_crop_data_for_new_fig1_a/007_f1_089/original/')\n",
    "gt_imgs , _ = load_Y_gray('Z:/paper_data/2021_cristae/data_110_crop_data_for_new_fig1_a/007_f1_089/ground_truth/', normalize=False)\n",
    "pred_imgs, _ = load_Y_gray('Z:/paper_data/2021_cristae/data_110_crop_data_for_new_fig1_a/007_f1_089/pred/', normalize=False)\n"
   ]
  },
  {
   "cell_type": "code",
   "execution_count": null,
   "id": "e1a921ae",
   "metadata": {},
   "outputs": [],
   "source": [
    "cropped_ori_imgs = ori_imgs[:, :450, :450]\n",
    "cropped_gt_imgs = gt_imgs[:, :450, :450]\n",
    "cropped_pred_imgs = pred_imgs[:, :450, :450]"
   ]
  },
  {
   "cell_type": "code",
   "execution_count": null,
   "id": "e12c2812",
   "metadata": {},
   "outputs": [],
   "source": [
    "section_Z = 57\n",
    "masked_ori_img = make_mask_img(cropped_ori_imgs[section_Z], np.zeros_like(cropped_ori_imgs[section_Z]))\n",
    "masked_pred_img = make_mask_img(cropped_ori_imgs[section_Z], cropped_pred_imgs[section_Z])\n",
    "masked_gt_img = make_mask_img(cropped_ori_imgs[section_Z], cropped_gt_imgs[section_Z])\n",
    "\n",
    "pred_f1_matrix = culc_F1(cropped_pred_imgs[section_Z], cropped_gt_imgs[section_Z])"
   ]
  },
  {
   "cell_type": "code",
   "execution_count": null,
   "id": "c45b928c",
   "metadata": {},
   "outputs": [],
   "source": [
    "plt.figure(figsize=(15, 15))\n",
    "\n",
    "plt.subplot(1, 3, 1)\n",
    "plt.imshow(masked_ori_img)\n",
    "\n",
    "plt.subplot(1, 3, 2)\n",
    "plt.imshow(masked_pred_img)\n",
    "\n",
    "plt.subplot(1, 3, 3)\n",
    "plt.imshow(masked_gt_img)"
   ]
  },
  {
   "cell_type": "code",
   "execution_count": null,
   "id": "c2b2112c",
   "metadata": {},
   "outputs": [],
   "source": [
    "out_dir = \"Z:/paper_data/2021_cristae/for_revision_#2/fig1C/low_f1_score_#2\"\n",
    "os.makedirs(out_dir, exist_ok=True)\n",
    "\n",
    "cv2.imwrite(os.path.join(out_dir, \"raw_image.png\"), denormalize_y(masked_ori_img))\n",
    "cv2.imwrite(os.path.join(out_dir, \"prediction.png\"), denormalize_y(masked_pred_img))\n",
    "cv2.imwrite(os.path.join(out_dir, \"ground_truth.png\"), denormalize_y(masked_gt_img))"
   ]
  },
  {
   "cell_type": "code",
   "execution_count": null,
   "id": "c9e9e213",
   "metadata": {},
   "outputs": [],
   "source": []
  }
 ],
 "metadata": {
  "kernelspec": {
   "display_name": "Python 3",
   "language": "python",
   "name": "python3"
  },
  "language_info": {
   "codemirror_mode": {
    "name": "ipython",
    "version": 3
   },
   "file_extension": ".py",
   "mimetype": "text/x-python",
   "name": "python",
   "nbconvert_exporter": "python",
   "pygments_lexer": "ipython3",
   "version": "3.7.16"
  },
  "toc": {
   "base_numbering": 1,
   "nav_menu": {},
   "number_sections": true,
   "sideBar": true,
   "skip_h1_title": false,
   "title_cell": "Table of Contents",
   "title_sidebar": "Contents",
   "toc_cell": false,
   "toc_position": {},
   "toc_section_display": true,
   "toc_window_display": true
  }
 },
 "nbformat": 4,
 "nbformat_minor": 5
}
