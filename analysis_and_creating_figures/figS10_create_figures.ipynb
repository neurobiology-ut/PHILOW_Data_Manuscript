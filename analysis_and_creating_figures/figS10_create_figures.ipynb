{
 "cells": [
  {
   "cell_type": "code",
   "execution_count": null,
   "id": "ee44a7a1",
   "metadata": {},
   "outputs": [],
   "source": [
    "import os\n",
    "import numpy as np\n",
    "import tifffile\n",
    "import cv2\n",
    "import matplotlib.pyplot as plt"
   ]
  },
  {
   "cell_type": "code",
   "execution_count": null,
   "id": "1f8fa2c6",
   "metadata": {},
   "outputs": [],
   "source": [
    "def denormalize_x(image):\n",
    "    return ((image + 1) * 127.5).astype(np.uint8)\n",
    "\n",
    "\n",
    "def denormalize_y(image):\n",
    "    return (image * 255).astype(np.uint8)"
   ]
  },
  {
   "cell_type": "code",
   "execution_count": null,
   "id": "5803c8b8",
   "metadata": {},
   "outputs": [],
   "source": [
    "input_dir = \"Z://DeepLearningData/research_010_NIH3T3/shCtrl_003/annotations/cropped_004/cropped_mito_datasets/0018\"\n",
    "\n",
    "ori_imgs = denormalize_x(tifffile.imread(f\"{input_dir}/ori_imgs.tiff\"))\n",
    "lamellar_imgs = denormalize_y(tifffile.imread(f\"{input_dir}/lamellar_imgs.tiff\"))\n",
    "tubular_imgs = denormalize_y(tifffile.imread(f\"{input_dir}/tubular_imgs.tiff\"))\n",
    "lamellar_cj_imgs = denormalize_y(tifffile.imread(f\"{input_dir}/lamellar_cj_114_001.tiff\"))\n",
    "tubular_cj_imgs = denormalize_y(tifffile.imread(f\"{input_dir}/tubular_cj_114_001.tiff\"))"
   ]
  },
  {
   "cell_type": "code",
   "execution_count": null,
   "id": "85957724",
   "metadata": {},
   "outputs": [],
   "source": [
    "lamellar_masked_imgs = np.zeros((ori_imgs.shape[0], ori_imgs.shape[1], ori_imgs.shape[2], 3), np.uint8)\n",
    "lamellar_masked_imgs[:,:,:,0] = ori_imgs\n",
    "lamellar_masked_imgs[:,:,:,1] = ori_imgs\n",
    "lamellar_masked_imgs[:,:,:,2] = ori_imgs\n",
    "\n",
    "\n",
    "\n",
    "lamellar_masked_imgs[:,:,:,0] = np.where(lamellar_cj_imgs>0, 255, lamellar_masked_imgs[:,:,:,0])\n",
    "lamellar_masked_imgs[:,:,:,2] = np.where(lamellar_cj_imgs>0, 255, lamellar_masked_imgs[:,:,:,2])\n"
   ]
  },
  {
   "cell_type": "code",
   "execution_count": null,
   "id": "46d68ced",
   "metadata": {},
   "outputs": [],
   "source": [
    "plt.figure(figsize=(15, 15))\n",
    "\n",
    "plt.subplot(2, 3, 1)\n",
    "plt.imshow(lamellar_masked_imgs[43][300:340, 230:270], \"gray\")\n",
    "plt.subplot(2, 3, 2)\n",
    "plt.imshow(lamellar_masked_imgs[42][300:340, 230:270], \"gray\")\n",
    "plt.subplot(2, 3, 3)\n",
    "plt.imshow(lamellar_masked_imgs[41][300:340, 230:270], \"gray\")\n",
    "plt.subplot(2, 3, 4)\n",
    "plt.imshow(lamellar_masked_imgs[40][300:340, 230:270], \"gray\")\n",
    "plt.subplot(2, 3, 5)\n",
    "plt.imshow(lamellar_masked_imgs[39][300:340, 230:270], \"gray\")\n",
    "plt.subplot(2, 3, 6)\n",
    "plt.imshow(lamellar_masked_imgs[38][300:340, 230:270], \"gray\")"
   ]
  },
  {
   "cell_type": "code",
   "execution_count": null,
   "id": "f6e8f7e4",
   "metadata": {},
   "outputs": [],
   "source": [
    "out_dir = \"Z://paper_data/2021_cristae/for_revision_#2/figS10\"\n",
    "os.makedirs(out_dir,exist_ok = True)\n",
    "for i in range(38, 44):\n",
    "    cv2.imwrite(f\"{out_dir}/xy_masked_2D_z_{str(i).zfill(4)}_img.png\", lamellar_masked_imgs[i][300:340, 230:270])"
   ]
  },
  {
   "cell_type": "code",
   "execution_count": null,
   "id": "11f118e0",
   "metadata": {},
   "outputs": [],
   "source": [
    "plt.figure(figsize=(15, 15))\n",
    "\n",
    "plt.subplot(2, 3, 1)\n",
    "plt.imshow(ori_imgs[43][300:340, 230:270], \"gray\")\n",
    "plt.subplot(2, 3, 2)\n",
    "plt.imshow(ori_imgs[42][300:340, 230:270], \"gray\")\n",
    "plt.subplot(2, 3, 3)\n",
    "plt.imshow(ori_imgs[41][300:340, 230:270], \"gray\")\n",
    "plt.subplot(2, 3, 4)\n",
    "plt.imshow(ori_imgs[40][300:340, 230:270], \"gray\")\n",
    "plt.subplot(2, 3, 5)\n",
    "plt.imshow(ori_imgs[39][300:340, 230:270], \"gray\")\n",
    "plt.subplot(2, 3, 6)\n",
    "plt.imshow(ori_imgs[38][300:340, 230:270], \"gray\")"
   ]
  },
  {
   "cell_type": "code",
   "execution_count": null,
   "id": "e655cf8b",
   "metadata": {},
   "outputs": [],
   "source": [
    "out_dir = \"Z://paper_data/2021_cristae/for_revision_#2/figS10\"\n",
    "\n",
    "ori_imgs_3 = np.concatenate([ori_imgs[..., np.newaxis], ori_imgs[..., np.newaxis], ori_imgs[..., np.newaxis]], axis = -1)\n",
    "\n",
    "os.makedirs(out_dir,exist_ok = True)\n",
    "for i in range(38, 44):\n",
    "    cv2.imwrite(f\"{out_dir}/xy_2D_z_{str(i).zfill(4)}_img.png\", ori_imgs_3[i][300:340, 230:270])"
   ]
  },
  {
   "cell_type": "code",
   "execution_count": null,
   "id": "a29635cf",
   "metadata": {},
   "outputs": [],
   "source": [
    "plt.figure(figsize=(15, 15))\n",
    "\n",
    "plt.subplot(2, 3, 1)\n",
    "plt.imshow(lamellar_masked_imgs.transpose(2, 0, 1, 3)[250][20:60, 290:330], \"gray\")\n",
    "plt.subplot(2, 3, 2)\n",
    "plt.imshow(lamellar_masked_imgs.transpose(2, 0, 1, 3)[251][20:60, 290:330], \"gray\")\n",
    "plt.subplot(2, 3, 3)\n",
    "plt.imshow(lamellar_masked_imgs.transpose(2, 0, 1, 3)[252][20:60, 290:330], \"gray\")\n",
    "plt.subplot(2, 3, 4)\n",
    "plt.imshow(lamellar_masked_imgs.transpose(2, 0, 1, 3)[253][20:60, 290:330], \"gray\")\n",
    "plt.subplot(2, 3, 5)\n",
    "plt.imshow(lamellar_masked_imgs.transpose(2, 0, 1, 3)[254][20:60, 290:330], \"gray\")\n",
    "plt.subplot(2, 3, 6)\n",
    "plt.imshow(lamellar_masked_imgs.transpose(2, 0, 1, 3)[255][20:60, 290:330], \"gray\")"
   ]
  },
  {
   "cell_type": "code",
   "execution_count": null,
   "id": "3f147f03",
   "metadata": {},
   "outputs": [],
   "source": [
    "out_dir = \"Z://paper_data/2021_cristae/for_revision_#2/figS10\"\n",
    "os.makedirs(out_dir,exist_ok = True)\n",
    "for i in range(250, 256):\n",
    "    cv2.imwrite(f\"{out_dir}/yz_masked_2D_z_{str(i).zfill(4)}_img.png\", lamellar_masked_imgs.transpose(2, 0, 1, 3)[i][20:60, 290:330])"
   ]
  },
  {
   "cell_type": "code",
   "execution_count": null,
   "id": "7c6ce271",
   "metadata": {
    "scrolled": true
   },
   "outputs": [],
   "source": [
    "plt.figure(figsize=(15, 15))\n",
    "\n",
    "plt.subplot(2, 3, 1)\n",
    "plt.imshow(ori_imgs.transpose(2, 0, 1)[250][20:60, 290:330], \"gray\")\n",
    "plt.subplot(2, 3, 2)\n",
    "plt.imshow(ori_imgs.transpose(2, 0, 1)[251][20:60, 290:330], \"gray\")\n",
    "plt.subplot(2, 3, 3)\n",
    "plt.imshow(ori_imgs.transpose(2, 0, 1)[252][20:60, 290:330], \"gray\")\n",
    "plt.subplot(2, 3, 4)\n",
    "plt.imshow(ori_imgs.transpose(2, 0, 1)[253][20:60, 290:330], \"gray\")\n",
    "plt.subplot(2, 3, 5)\n",
    "plt.imshow(ori_imgs.transpose(2, 0, 1)[254][20:60, 290:330], \"gray\")\n",
    "plt.subplot(2, 3, 6)\n",
    "plt.imshow(ori_imgs.transpose(2, 0, 1)[255][20:60, 290:330], \"gray\")"
   ]
  },
  {
   "cell_type": "code",
   "execution_count": null,
   "id": "e1eb8e0f",
   "metadata": {},
   "outputs": [],
   "source": [
    "out_dir = \"Z://paper_data/2021_cristae/for_revision_#2/figS10\"\n",
    "\n",
    "ori_imgs_3 = np.concatenate([ori_imgs[..., np.newaxis], ori_imgs[..., np.newaxis], ori_imgs[..., np.newaxis]], axis = -1)\n",
    "print(ori_imgs_3.shape)\n",
    "os.makedirs(out_dir,exist_ok = True)\n",
    "for i in range(250, 256):\n",
    "    cv2.imwrite(f\"{out_dir}/yz_2D_z_{str(i).zfill(4)}_img.png\", ori_imgs_3.transpose(2, 0, 1, 3)[i][20:60, 290:330])"
   ]
  },
  {
   "cell_type": "code",
   "execution_count": null,
   "id": "9b7be6e8",
   "metadata": {},
   "outputs": [],
   "source": []
  }
 ],
 "metadata": {
  "kernelspec": {
   "display_name": "Python 3",
   "language": "python",
   "name": "python3"
  },
  "language_info": {
   "codemirror_mode": {
    "name": "ipython",
    "version": 3
   },
   "file_extension": ".py",
   "mimetype": "text/x-python",
   "name": "python",
   "nbconvert_exporter": "python",
   "pygments_lexer": "ipython3",
   "version": "3.7.16"
  },
  "toc": {
   "base_numbering": 1,
   "nav_menu": {},
   "number_sections": true,
   "sideBar": true,
   "skip_h1_title": false,
   "title_cell": "Table of Contents",
   "title_sidebar": "Contents",
   "toc_cell": false,
   "toc_position": {},
   "toc_section_display": true,
   "toc_window_display": false
  }
 },
 "nbformat": 4,
 "nbformat_minor": 5
}
