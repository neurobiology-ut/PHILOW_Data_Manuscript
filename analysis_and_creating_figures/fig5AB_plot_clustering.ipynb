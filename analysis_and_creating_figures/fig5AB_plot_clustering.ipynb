{
 "cells": [
  {
   "cell_type": "code",
   "execution_count": null,
   "metadata": {},
   "outputs": [],
   "source": [
    "%matplotlib inline\n",
    "#%matplotlib notebook\n",
    "import pandas as pd\n",
    "import seaborn as sns\n",
    "import matplotlib.pyplot as plt\n",
    "import numpy as np\n",
    "from sklearn.preprocessing import StandardScaler\n",
    "from sklearn.decomposition import PCA \n",
    "from scipy import stats\n",
    "import copy"
   ]
  },
  {
   "cell_type": "code",
   "execution_count": null,
   "metadata": {},
   "outputs": [],
   "source": [
    "df = pd.read_csv('./quantification_result_shCtrl_shOPA1.csv')\n",
    "df"
   ]
  },
  {
   "cell_type": "code",
   "execution_count": null,
   "metadata": {},
   "outputs": [],
   "source": [
    "df['tubular_S_ratio'] = df['tubular_S_px']/(df['lamellar_S_px'] + df['tubular_S_px'])\n",
    "df['tubular_V_ratio'] = df['tubular_V_px']/(df['lamellar_V_px'] + df['tubular_V_px'])"
   ]
  },
  {
   "cell_type": "code",
   "execution_count": null,
   "metadata": {},
   "outputs": [],
   "source": [
    "df_a = pd.read_csv('./for_paper/angles_ctrl.csv')\n",
    "df2_a = pd.read_csv('./for_paper/angles_opa1.csv')\n",
    "df_c = pd.concat([df_a,df2_a])\n",
    "df_c"
   ]
  },
  {
   "cell_type": "code",
   "execution_count": null,
   "metadata": {},
   "outputs": [],
   "source": [
    "df_c['mito_V_px'] = df_c['mito_V_px'].astype('int')\n",
    "df_c"
   ]
  },
  {
   "cell_type": "code",
   "execution_count": null,
   "metadata": {},
   "outputs": [],
   "source": [
    "df = df.merge(df_c, on='mito_V_px')\n",
    "df"
   ]
  },
  {
   "cell_type": "code",
   "execution_count": null,
   "metadata": {},
   "outputs": [],
   "source": [
    "plt.scatter(list(range(len(df['mito_V_px']))), df['mito_V_px'])"
   ]
  },
  {
   "cell_type": "code",
   "execution_count": null,
   "metadata": {},
   "outputs": [],
   "source": [
    "df[df['mito_V_px'] == df['mito_V_px'].max()]"
   ]
  },
  {
   "cell_type": "code",
   "execution_count": null,
   "metadata": {},
   "outputs": [],
   "source": [
    "df2= df[['Gene', 'tubular_S_ratio', 'tubular_V_ratio','cristae_S_px', 'cristae_V_px', 'mito_S_px', 'mito_V_px']]\n",
    "df2= df2[df2['cristae_S_px']!=0] # exclude mitochondria without cristae\n",
    "df2 = df2.drop(36).reset_index(drop=True) # exclude one mitochondrion with extremely large volume\n",
    "df4 = df2.drop('Gene', axis=1)\n",
    "df4_ctrl = df2[df2['Gene']=='shCtrl'].drop('Gene', axis=1) #　extract control\n",
    "df4_ctrl "
   ]
  },
  {
   "cell_type": "code",
   "execution_count": null,
   "metadata": {},
   "outputs": [],
   "source": [
    "# standardize features\n",
    "scaler_ctrl= StandardScaler()\n",
    "scaler_ctrl.fit(df4_ctrl)\n",
    "scaled_df4_ctrl = scaler_ctrl.transform(df4_ctrl)\n",
    "scaled_df4_all = scaler_ctrl.transform(df4)\n",
    "\n",
    "scaled_df4_ctrl"
   ]
  },
  {
   "cell_type": "code",
   "execution_count": null,
   "metadata": {},
   "outputs": [],
   "source": [
    "# PCA\n",
    "pca = PCA(random_state=0)\n",
    "pca.fit(scaled_df4_ctrl) # fit using only control\n",
    "feature = pca.transform(scaled_df4_all)\n",
    "plt.figure(figsize=(6, 6))\n",
    "x1 = [x for i, x in enumerate(feature[:,0]) if df2['Gene'][i] == 'shCtrl']\n",
    "y1 = [x for i, x in enumerate(feature[:,1]) if df2['Gene'][i] == 'shCtrl']\n",
    "x2 = [x for i, x in enumerate(feature[:,0]) if df2['Gene'][i] == 'shOPA1']\n",
    "y2 = [x for i, x in enumerate(feature[:,1]) if df2['Gene'][i] == 'shOPA1']\n",
    "plt.scatter(x1, y1, alpha=0.5, label='shCtrl')\n",
    "plt.scatter(x2, y2, alpha=0.5, label='shOpa1')\n",
    "plt.legend()\n",
    "plt.grid(False)\n",
    "plt.xlabel(\"PC1\")\n",
    "plt.ylabel(\"PC2\")\n",
    "plt.show()"
   ]
  },
  {
   "cell_type": "code",
   "execution_count": null,
   "metadata": {},
   "outputs": [],
   "source": [
    "df5 = copy.copy(df2)\n",
    "df5['PC1'] = feature[:, 0]\n",
    "df5['PC2'] = feature[:, 1]\n",
    "df5"
   ]
  },
  {
   "cell_type": "code",
   "execution_count": null,
   "metadata": {},
   "outputs": [],
   "source": [
    "plt.figure(figsize=(6, 6))\n",
    "plt.xlim(-3, 6)\n",
    "plt.ylim(-6, 3)\n",
    "arm = 5\n",
    "trm =1.2\n",
    "i=0\n",
    "for x, y, name in zip(pca.components_[0], pca.components_[1], df4.columns):\n",
    "    plt.arrow(0, 0,  x*arm, y*arm, width=0.05, color='r')\n",
    "    if i ==0 or i==4:\n",
    "        plt.text(x*arm*trm, y*arm*trm-0.3, name, color='r')\n",
    "    elif i == 1 or i==5:\n",
    "        plt.text(x*arm*trm, y*arm*trm, name, color='r')\n",
    "    else:\n",
    "        plt.text(x*arm*trm, y*arm*trm, name, color='r')\n",
    "    \n",
    "    i = i+1\n",
    "plt.grid(False)\n",
    "plt.show()"
   ]
  },
  {
   "cell_type": "code",
   "execution_count": null,
   "metadata": {},
   "outputs": [],
   "source": [
    "# create dataframe\n",
    "scaled_df4df = pd.DataFrame(scaled_df4, columns=df4.columns)\n",
    "scaled_df4df"
   ]
  },
  {
   "cell_type": "code",
   "execution_count": null,
   "metadata": {},
   "outputs": [],
   "source": [
    "lut = dict(zip(df2_wo_angle['Gene'].unique(), \"rbg\"))\n",
    "row_colors = df2_wo_angle['Gene'].map(lut)\n",
    "sns_plot = sns.clustermap(scaled_df4df_wo_angle, method='ward', metric='euclidean', figsize=(6,6), cmap='magma', row_colors=row_colors)\n",
    "plt.setp(sns_plot.ax_heatmap.get_yticklabels(), rotation=0)\n",
    "plt.setp(sns_plot.ax_heatmap.get_xticklabels(), rotation=30)\n",
    "plt.savefig(\"heatmap_without_angle.svg\", format=\"svg\")"
   ]
  },
  {
   "cell_type": "code",
   "execution_count": null,
   "metadata": {},
   "outputs": [],
   "source": [
    "df_new = sns_plot.data2d\n",
    "df_new['class'] = [0]*4+ [1]*10+ [2]*10 + [3] *30"
   ]
  },
  {
   "cell_type": "code",
   "execution_count": null,
   "metadata": {},
   "outputs": [],
   "source": [
    "df_new2 = df_new.sort_index()"
   ]
  },
  {
   "cell_type": "code",
   "execution_count": null,
   "metadata": {},
   "outputs": [],
   "source": [
    "plt.figure(figsize=(6, 6))\n",
    "plt.scatter([feature[i, 0] for i, x in enumerate(df_new2['class']) if x ==0], [feature[i, 1] for i, x  in enumerate(df_new2['class']) if x ==0], alpha=0.8, label=0)\n",
    "plt.scatter([feature[i, 0] for i, x in enumerate(df_new2['class'])  if x ==1], [feature[i, 1] for i, x  in enumerate(df_new2['class']) if x ==1], alpha=0.8, label=1)\n",
    "plt.scatter([feature[i, 0] for i, x  in enumerate(df_new2['class']) if x ==2], [feature[i, 1] for i, x  in enumerate(df_new2['class']) if x ==2], alpha=0.8, label=2)\n",
    "plt.scatter([feature[i, 0] for i, x  in enumerate(df_new2['class']) if x ==3], [feature[i, 1] for i, x  in enumerate(df_new2['class']) if x ==3], alpha=0.8, label=3)\n",
    "plt.legend()\n",
    "plt.xlim(-4,7)\n",
    "plt.grid()\n",
    "plt.xlabel(\"PC1\")\n",
    "plt.ylabel(\"PC2\")\n",
    "plt.show()"
   ]
  },
  {
   "cell_type": "code",
   "execution_count": null,
   "metadata": {},
   "outputs": [],
   "source": [
    "df3_new = copy.copy(df3)\n",
    "df3_new['class'] = df_new2['class']\n",
    "df3_new"
   ]
  },
  {
   "cell_type": "code",
   "execution_count": null,
   "metadata": {},
   "outputs": [],
   "source": [
    "columns = list(df3.columns)\n",
    "num = len(columns)\n",
    "print(num)\n",
    "for i in range(num):\n",
    "    plt.figure(figsize=(3,3))\n",
    "    sns.stripplot(x=\"class\", y=columns[i], data=df3_new)"
   ]
  }
 ],
 "metadata": {
  "kernelspec": {
   "display_name": "Python 3",
   "language": "python",
   "name": "python3"
  },
  "language_info": {
   "codemirror_mode": {
    "name": "ipython",
    "version": 3
   },
   "file_extension": ".py",
   "mimetype": "text/x-python",
   "name": "python",
   "nbconvert_exporter": "python",
   "pygments_lexer": "ipython3",
   "version": "3.7.0"
  },
  "toc": {
   "base_numbering": 1,
   "nav_menu": {},
   "number_sections": true,
   "sideBar": true,
   "skip_h1_title": false,
   "title_cell": "Table of Contents",
   "title_sidebar": "Contents",
   "toc_cell": false,
   "toc_position": {},
   "toc_section_display": true,
   "toc_window_display": true
  }
 },
 "nbformat": 4,
 "nbformat_minor": 4
}
