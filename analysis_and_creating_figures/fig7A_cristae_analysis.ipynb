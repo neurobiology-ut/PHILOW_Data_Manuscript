{
 "cells": [
  {
   "cell_type": "code",
   "execution_count": 1,
   "metadata": {},
   "outputs": [],
   "source": [
    "%matplotlib inline\n",
    "%config InlineBackend.figure_formats = {'png', 'retina'}\n",
    "import os\n",
    "from pathlib import Path\n",
    "import matplotlib\n",
    "import matplotlib.pyplot as plt\n",
    "import dask_image.imread\n",
    "import numpy as np\n",
    "from skimage import feature, morphology, img_as_float\n",
    "from sklearn.decomposition import PCA \n",
    "import scipy.ndimage as ndi\n",
    "from random import random\n",
    "import sklearn\n",
    "import cc3d\n",
    "import pandas as pd\n",
    "import seaborn as sns\n",
    "import math"
   ]
  },
  {
   "cell_type": "code",
   "execution_count": 2,
   "metadata": {},
   "outputs": [],
   "source": [
    "def get_vec(label, idx):\n",
    "    pca = PCA()\n",
    "    xl, yl, zl = np.where(label==idx)\n",
    "    voxelsl = [v for v in zip(list(xl.astype(np.float32)), list(yl.astype(np.float32)), list(zl.astype(np.float32)))]\n",
    "    pca.fit(voxelsl)\n",
    "    return np.array([int(np.mean(xl)), int(np.mean(yl)), int(np.mean(zl))]), pca.components_[2]*100, pca.explained_variance_[2]"
   ]
  },
  {
   "cell_type": "code",
   "execution_count": 3,
   "metadata": {},
   "outputs": [],
   "source": [
    "def get_vec_mito(label, idx):\n",
    "    pca = PCA()\n",
    "    xl, yl, zl = np.where(label==idx)\n",
    "    voxelsl = [v for v in zip(list(xl.astype(np.float32)), list(yl.astype(np.float32)), list(zl.astype(np.float32)))]\n",
    "    pca.fit(voxelsl)\n",
    "    return np.array([int(np.mean(xl)), int(np.mean(yl)), int(np.mean(zl))]), pca.components_[0]*100"
   ]
  },
  {
   "cell_type": "code",
   "execution_count": 4,
   "metadata": {},
   "outputs": [],
   "source": [
    "def angle(x,y):\n",
    "    dot_xy = np.dot(x,y)\n",
    "    norm_x = np.linalg.norm(x)\n",
    "    norm_y = np.linalg.norm(y)\n",
    "    cos = dot_xy / (norm_x*norm_y)\n",
    "    rad = np.arccos(cos)\n",
    "    theta = rad * 180 /np.pi\n",
    "    return theta"
   ]
  },
  {
   "cell_type": "code",
   "execution_count": 5,
   "metadata": {},
   "outputs": [],
   "source": [
    "def compute_angle(x,y):\n",
    "    return(min(angle(x,y), angle(-x, y)))"
   ]
  },
  {
   "cell_type": "code",
   "execution_count": 6,
   "metadata": {},
   "outputs": [],
   "source": [
    "def compute_all_mito(df, df_la, labels_mito, labels_la):\n",
    "    npu_mito, count_mito = np.unique(labels, return_counts=True)\n",
    "    angles_m = [] #angle mean\n",
    "    mito_nums=[] #mito number\n",
    "    mito_V_pxs=[] #mito volume\n",
    "    mito_V_pxs_mito=[]\n",
    "    lamellar_no=[] #lamellar id \n",
    "    lamellar_v_pxs=[] #lamellar volume\n",
    "    angles=[] # lamellar mito angle\n",
    "    covs = [] # pc3 cov\n",
    "    cov_vs = [] #pc3 cov/lamellar volume\n",
    "    mito_num=0\n",
    "    for i in range(1, len(npu_mito)):\n",
    "        if count_mito[i]>1000:\n",
    "            _, mito_vec = get_vec_mito(labels, npu_mito[i])\n",
    "            cristaes = np.where(labels==npu_mito[i], labels_la, 0)\n",
    "            npu, count = np.unique(cristaes, return_counts=True)   \n",
    "            angles_temp = []\n",
    "            mito_num=mito_num+1\n",
    "            mito_V_pxs_mito.append(count_mito[i])\n",
    "            if len(npu)==1:\n",
    "                angles_m.append(None)\n",
    "            else:\n",
    "                for idx in range(1,len(npu)):\n",
    "                    if count[idx]>1000:\n",
    "                        _, vec, cov = get_vec(cristaes, npu[idx])\n",
    "                        ang = compute_angle(vec, mito_vec)\n",
    "                        angles_temp.append(ang)\n",
    "                        mito_nums.append(mito_num)\n",
    "                        mito_V_pxs.append(count_mito[i])\n",
    "                        lamellar_v_pxs.append(count[idx])\n",
    "                        angles.append(ang)\n",
    "                        covs.append(cov)\n",
    "                        cov_vs.append(cov/count[idx])\n",
    "                print(angles_temp)\n",
    "                angles_m.append(np.mean(angles_temp))\n",
    "                lamellar_no = lamellar_no + list(range(1,len(angles_temp)+1))\n",
    "    if len(df)==0:\n",
    "        crop_num=1\n",
    "    else:\n",
    "        crop_num=int(list(df['crop_No'])[-1])+1\n",
    "\n",
    "    df_temp = pd.DataFrame({'crop_No': [crop_num]*(len(angles_m)),\n",
    "                            'mito_No' : list(range(1, mito_num+1)),\n",
    "                 'mito_V_px' : mito_V_pxs_mito,\n",
    "                'angles' : angles_m})\n",
    "    print(len([crop_num]*(len(mito_nums))))\n",
    "    print(len(mito_nums))\n",
    "    print(len(mito_V_pxs))\n",
    "    print(len(lamellar_no))\n",
    "    print(len(angles))\n",
    "    print(len(covs))\n",
    "    print(len(cov_vs))\n",
    "    df_la_temp= pd.DataFrame({'crop_No' :[crop_num]*(len(mito_nums)),\n",
    "                         'mito_No' :mito_nums,\n",
    "                         'mito_V_px' :mito_V_pxs,\n",
    "                         'lamellar_No' :lamellar_no,\n",
    "                         'lamellar_V_px' : lamellar_v_pxs,\n",
    "                         'angles' :angles,\n",
    "                         'lamellar_PC3cov' :covs,\n",
    "                         'cov/V': cov_vs})\n",
    "    return pd.concat([df, df_temp]).reset_index(drop=True), pd.concat([df_la, df_la_temp]).reset_index(drop=True)"
   ]
  },
  {
   "cell_type": "code",
   "execution_count": 7,
   "metadata": {
    "scrolled": true
   },
   "outputs": [
    {
     "name": "stdout",
     "output_type": "stream",
     "text": [
      "0\n"
     ]
    },
    {
     "name": "stderr",
     "output_type": "stream",
     "text": [
      "C:\\Users\\Neurobiology\\Anaconda3\\envs\\philow_data_manuscript\\lib\\site-packages\\ipykernel_launcher.py:31: DeprecationWarning: elementwise comparison failed; this will raise an error in the future.\n"
     ]
    },
    {
     "name": "stdout",
     "output_type": "stream",
     "text": [
      "[48.37499314870493, 49.94609323590074, 53.86815456110133]\n",
      "[74.59139502562245, 30.827855872626067]\n",
      "[84.44763278113304]\n",
      "[84.45911507571878]\n",
      "[84.2979111162767]\n",
      "[63.27617258253263, 40.360001492175805, 58.639199845459345, 63.997266587512534]\n",
      "[74.9564127381584, 88.11824208181584]\n",
      "[72.15931777241425, 67.14003237354873]\n",
      "[81.96038326496276, 81.777560633396]\n",
      "[83.84780242826366, 73.06170786641825]\n",
      "[76.16525551182656, 76.98501742003766]\n",
      "[82.05717118050366, 87.6156501682337]\n",
      "[71.52024754357312]\n",
      "[88.7845852566763]\n",
      "[82.63734312091925, 83.73170340585418]\n",
      "[63.08940979188512, 78.67769941770658]\n",
      "[85.77005779489515, 68.623944074016, 88.4729267607523]\n",
      "[82.01985749620664, 25.82723085205607]\n",
      "[88.17491500160276, 86.40465271458078, 86.8860411220095]\n",
      "[76.14358571098124]\n",
      "[75.48527970702358]\n",
      "[86.02751324033981]\n",
      "[85.28847649633657, 84.9020992909199]\n",
      "43\n",
      "43\n",
      "43\n",
      "43\n",
      "43\n",
      "43\n",
      "43\n",
      "1\n"
     ]
    },
    {
     "name": "stderr",
     "output_type": "stream",
     "text": [
      "C:\\Users\\Neurobiology\\Anaconda3\\envs\\philow_data_manuscript\\lib\\site-packages\\ipykernel_launcher.py:31: DeprecationWarning: elementwise comparison failed; this will raise an error in the future.\n"
     ]
    },
    {
     "name": "stdout",
     "output_type": "stream",
     "text": [
      "[72.89993585804592, 61.05039362914445]\n",
      "[42.818794189265546, 47.27329691929955, 41.598918143031305, 40.32507321975091, 47.40967903916151, 49.42796398059893]\n",
      "[58.75082791594636]\n",
      "[75.80651711873256, 73.18370056849787, 50.5382900146771, 47.083521840521925]\n",
      "[]\n"
     ]
    },
    {
     "name": "stderr",
     "output_type": "stream",
     "text": [
      "C:\\Users\\Neurobiology\\Anaconda3\\envs\\philow_data_manuscript\\lib\\site-packages\\numpy\\core\\fromnumeric.py:3441: RuntimeWarning: Mean of empty slice.\n",
      "  out=out, **kwargs)\n",
      "C:\\Users\\Neurobiology\\Anaconda3\\envs\\philow_data_manuscript\\lib\\site-packages\\numpy\\core\\_methods.py:189: RuntimeWarning: invalid value encountered in double_scalars\n",
      "  ret = ret.dtype.type(ret / rcount)\n"
     ]
    },
    {
     "name": "stdout",
     "output_type": "stream",
     "text": [
      "[76.55982188306483, 75.92921101724808, 74.13041715467347]\n",
      "[78.71918968298415]\n",
      "[26.901135815257682, 26.46290610174325, 28.651867512980054, 25.758284120701706, 45.919120747441596, 45.510882120716225, 45.321301948951636]\n",
      "[82.62226698695683]\n",
      "[58.29993938818317, 68.07470704048721]\n",
      "[50.09180541161763, 45.19200881063429, 67.04005479481748, 65.92220692729552]\n",
      "[79.7678126971633, 79.85188649866944]\n",
      "33\n",
      "33\n",
      "33\n",
      "33\n",
      "33\n",
      "33\n",
      "33\n",
      "2\n"
     ]
    },
    {
     "name": "stderr",
     "output_type": "stream",
     "text": [
      "C:\\Users\\Neurobiology\\Anaconda3\\envs\\philow_data_manuscript\\lib\\site-packages\\ipykernel_launcher.py:31: DeprecationWarning: elementwise comparison failed; this will raise an error in the future.\n"
     ]
    },
    {
     "name": "stdout",
     "output_type": "stream",
     "text": [
      "[84.08287049404424, 81.53892034953618, 58.286881919323285, 69.03416353463314, 72.22489790050287, 72.00890871338162, 50.20665540505723, 37.749883097721984, 27.31227384167464, 64.26096111787955, 26.04275284205741, 69.82886929932154, 82.66721008227532, 22.971183666871863, 40.36070454187611, 61.82591192380165, 43.79005375513464, 88.91090769981578, 85.02883125904687, 75.08317649157684, 74.27892823130387, 78.5635406996063, 47.05915041116957]\n",
      "[69.98699993770961, 57.49698332209079, 80.50583895946825, 43.53314917380503, 54.18248906691982, 89.81387245906362, 47.06557799552403, 11.44192362367252, 43.81397684732082, 43.69956997984589]\n",
      "[57.0249364267322, 62.866109870931226, 53.092059024264614, 80.40202082165979, 58.560657647378974, 83.67312303002579]\n",
      "[69.28692507184171, 65.57589632233054, 89.77028014051896, 75.83058690179178, 88.80688002679084, 70.44630986411595]\n",
      "[87.6119283800145, 37.64910932338074, 88.39971059923215, 31.118087370195234, 71.86875937577749, 87.57853771419175]\n",
      "[82.9931455801516, 52.18553844587489, 81.82590358785609, 52.41538532423022]\n",
      "[11.59137917382039, 10.344685310624058, 33.320049122233314, 48.42695635273343, 84.71424491553952, 52.807720441880036]\n",
      "[]\n"
     ]
    },
    {
     "name": "stderr",
     "output_type": "stream",
     "text": [
      "C:\\Users\\Neurobiology\\Anaconda3\\envs\\philow_data_manuscript\\lib\\site-packages\\numpy\\core\\fromnumeric.py:3441: RuntimeWarning: Mean of empty slice.\n",
      "  out=out, **kwargs)\n",
      "C:\\Users\\Neurobiology\\Anaconda3\\envs\\philow_data_manuscript\\lib\\site-packages\\numpy\\core\\_methods.py:189: RuntimeWarning: invalid value encountered in double_scalars\n",
      "  ret = ret.dtype.type(ret / rcount)\n"
     ]
    },
    {
     "name": "stdout",
     "output_type": "stream",
     "text": [
      "[89.20906380737188, 82.40259130363415, 48.879723592380806, 41.77745127517764, 48.0361374630808, 78.893880461013]\n",
      "[38.26395231909766, 39.22248113717675, 63.257747457874856, 35.8519607386544, 28.8364065780761, 49.167340696965816, 21.17725134689532, 23.064156977665338]\n",
      "[56.78077864605183, 55.86768801245693, 34.56666414003446, 83.00585905117848, 83.32974923682936, 33.61440785366891, 41.7536122081456, 43.08745560743828, 38.675057562659696]\n",
      "[73.11029483626837, 63.40553785541206, 87.80092324687143]\n",
      "[86.01148069641114]\n",
      "[72.77393776247635, 80.607543249525]\n",
      "[]\n"
     ]
    },
    {
     "name": "stderr",
     "output_type": "stream",
     "text": [
      "C:\\Users\\Neurobiology\\Anaconda3\\envs\\philow_data_manuscript\\lib\\site-packages\\numpy\\core\\fromnumeric.py:3441: RuntimeWarning: Mean of empty slice.\n",
      "  out=out, **kwargs)\n",
      "C:\\Users\\Neurobiology\\Anaconda3\\envs\\philow_data_manuscript\\lib\\site-packages\\numpy\\core\\_methods.py:189: RuntimeWarning: invalid value encountered in double_scalars\n",
      "  ret = ret.dtype.type(ret / rcount)\n"
     ]
    },
    {
     "name": "stdout",
     "output_type": "stream",
     "text": [
      "[35.47551798333011, 40.75624866610732, 44.957408194254725, 53.27700781218177, 53.87012649346796, 45.999041080232885, 56.80298427534332, 64.12372881917369, 62.50168189633154, 58.061234529018684, 45.93234592311754]\n",
      "[71.31732694696622, 26.92615659259483, 62.686951185318506]\n",
      "[]\n"
     ]
    },
    {
     "name": "stderr",
     "output_type": "stream",
     "text": [
      "C:\\Users\\Neurobiology\\Anaconda3\\envs\\philow_data_manuscript\\lib\\site-packages\\numpy\\core\\fromnumeric.py:3441: RuntimeWarning: Mean of empty slice.\n",
      "  out=out, **kwargs)\n",
      "C:\\Users\\Neurobiology\\Anaconda3\\envs\\philow_data_manuscript\\lib\\site-packages\\numpy\\core\\_methods.py:189: RuntimeWarning: invalid value encountered in double_scalars\n",
      "  ret = ret.dtype.type(ret / rcount)\n"
     ]
    },
    {
     "name": "stdout",
     "output_type": "stream",
     "text": [
      "[67.44739630921018]\n",
      "105\n",
      "105\n",
      "105\n",
      "105\n",
      "105\n",
      "105\n",
      "105\n",
      "3\n"
     ]
    },
    {
     "name": "stderr",
     "output_type": "stream",
     "text": [
      "C:\\Users\\Neurobiology\\Anaconda3\\envs\\philow_data_manuscript\\lib\\site-packages\\ipykernel_launcher.py:31: DeprecationWarning: elementwise comparison failed; this will raise an error in the future.\n"
     ]
    },
    {
     "name": "stdout",
     "output_type": "stream",
     "text": [
      "[85.73941275096473, 82.61022582490368, 6.917375705951931]\n",
      "[40.91045541316476, 30.000536310133274]\n",
      "[41.411300912916666]\n",
      "[]\n"
     ]
    },
    {
     "name": "stderr",
     "output_type": "stream",
     "text": [
      "C:\\Users\\Neurobiology\\Anaconda3\\envs\\philow_data_manuscript\\lib\\site-packages\\numpy\\core\\fromnumeric.py:3441: RuntimeWarning: Mean of empty slice.\n",
      "  out=out, **kwargs)\n",
      "C:\\Users\\Neurobiology\\Anaconda3\\envs\\philow_data_manuscript\\lib\\site-packages\\numpy\\core\\_methods.py:189: RuntimeWarning: invalid value encountered in double_scalars\n",
      "  ret = ret.dtype.type(ret / rcount)\n"
     ]
    },
    {
     "name": "stdout",
     "output_type": "stream",
     "text": [
      "[7.111476278558287, 66.14815023613673]\n",
      "[74.92918909663025]\n",
      "[72.44435416933963]\n",
      "[82.52157999579501]\n",
      "[81.94303425699361, 85.99483476897733, 80.69382712838461]\n",
      "[36.65094446751545]\n",
      "[40.18893333329226, 34.508481441402544, 29.7842027225792, 25.80256024638143, 27.214758501145667]\n",
      "[52.98868173234352]\n",
      "[86.23316836987847]\n",
      "[]\n"
     ]
    },
    {
     "name": "stderr",
     "output_type": "stream",
     "text": [
      "C:\\Users\\Neurobiology\\Anaconda3\\envs\\philow_data_manuscript\\lib\\site-packages\\numpy\\core\\fromnumeric.py:3441: RuntimeWarning: Mean of empty slice.\n",
      "  out=out, **kwargs)\n",
      "C:\\Users\\Neurobiology\\Anaconda3\\envs\\philow_data_manuscript\\lib\\site-packages\\numpy\\core\\_methods.py:189: RuntimeWarning: invalid value encountered in double_scalars\n",
      "  ret = ret.dtype.type(ret / rcount)\n"
     ]
    },
    {
     "name": "stdout",
     "output_type": "stream",
     "text": [
      "[]\n"
     ]
    },
    {
     "name": "stderr",
     "output_type": "stream",
     "text": [
      "C:\\Users\\Neurobiology\\Anaconda3\\envs\\philow_data_manuscript\\lib\\site-packages\\numpy\\core\\fromnumeric.py:3441: RuntimeWarning: Mean of empty slice.\n",
      "  out=out, **kwargs)\n",
      "C:\\Users\\Neurobiology\\Anaconda3\\envs\\philow_data_manuscript\\lib\\site-packages\\numpy\\core\\_methods.py:189: RuntimeWarning: invalid value encountered in double_scalars\n",
      "  ret = ret.dtype.type(ret / rcount)\n"
     ]
    },
    {
     "name": "stdout",
     "output_type": "stream",
     "text": [
      "[69.16422361625047, 43.60318619579757]\n",
      "[32.86920146003924, 34.52145299112765, 32.01025828154428]\n",
      "[81.84829053592861, 36.7622826666514]\n",
      "[]\n"
     ]
    },
    {
     "name": "stderr",
     "output_type": "stream",
     "text": [
      "C:\\Users\\Neurobiology\\Anaconda3\\envs\\philow_data_manuscript\\lib\\site-packages\\numpy\\core\\fromnumeric.py:3441: RuntimeWarning: Mean of empty slice.\n",
      "  out=out, **kwargs)\n",
      "C:\\Users\\Neurobiology\\Anaconda3\\envs\\philow_data_manuscript\\lib\\site-packages\\numpy\\core\\_methods.py:189: RuntimeWarning: invalid value encountered in double_scalars\n",
      "  ret = ret.dtype.type(ret / rcount)\n"
     ]
    },
    {
     "name": "stdout",
     "output_type": "stream",
     "text": [
      "[39.337244407595236, 67.16429283743257, 28.30868853018991, 12.740514873062583, 24.878896680262525, 18.859598280877808, 23.137274395612415, 74.72931233358905, 33.54810108182647, 24.449664464179026]\n",
      "[78.65736765833398, 82.55178667007822, 89.36786750771815, 47.50142925177374, 63.66823187674815]\n",
      "[24.464452996857567, 72.68462986495865]\n",
      "[81.73136683735845, 53.83472102341639]\n",
      "[59.9796833787641]\n",
      "[]\n"
     ]
    },
    {
     "name": "stderr",
     "output_type": "stream",
     "text": [
      "C:\\Users\\Neurobiology\\Anaconda3\\envs\\philow_data_manuscript\\lib\\site-packages\\numpy\\core\\fromnumeric.py:3441: RuntimeWarning: Mean of empty slice.\n",
      "  out=out, **kwargs)\n",
      "C:\\Users\\Neurobiology\\Anaconda3\\envs\\philow_data_manuscript\\lib\\site-packages\\numpy\\core\\_methods.py:189: RuntimeWarning: invalid value encountered in double_scalars\n",
      "  ret = ret.dtype.type(ret / rcount)\n"
     ]
    },
    {
     "name": "stdout",
     "output_type": "stream",
     "text": [
      "[50.13500003462147, 15.005942403322745, 37.62827872694197]\n",
      "[79.41042337281192]\n",
      "[88.50730363056041, 36.42274577267014, 64.98083299973307]\n",
      "[69.39189088726178]\n",
      "[60.5752487696948]\n",
      "[47.30076795807585, 50.23110039309222]\n",
      "[25.061106783500335, 55.27082413281461, 37.60514730054893, 32.143189740695455]\n",
      "[66.42803640953264, 62.80154630899209]\n",
      "[43.81578665195743, 81.84897028960262]\n",
      "[]\n"
     ]
    },
    {
     "name": "stderr",
     "output_type": "stream",
     "text": [
      "C:\\Users\\Neurobiology\\Anaconda3\\envs\\philow_data_manuscript\\lib\\site-packages\\numpy\\core\\fromnumeric.py:3441: RuntimeWarning: Mean of empty slice.\n",
      "  out=out, **kwargs)\n",
      "C:\\Users\\Neurobiology\\Anaconda3\\envs\\philow_data_manuscript\\lib\\site-packages\\numpy\\core\\_methods.py:189: RuntimeWarning: invalid value encountered in double_scalars\n",
      "  ret = ret.dtype.type(ret / rcount)\n"
     ]
    },
    {
     "name": "stdout",
     "output_type": "stream",
     "text": [
      "[44.29374047349317]\n",
      "[38.750795089009486, 23.97437316395785, 84.53723090280884]\n",
      "[]\n"
     ]
    },
    {
     "name": "stderr",
     "output_type": "stream",
     "text": [
      "C:\\Users\\Neurobiology\\Anaconda3\\envs\\philow_data_manuscript\\lib\\site-packages\\numpy\\core\\fromnumeric.py:3441: RuntimeWarning: Mean of empty slice.\n",
      "  out=out, **kwargs)\n",
      "C:\\Users\\Neurobiology\\Anaconda3\\envs\\philow_data_manuscript\\lib\\site-packages\\numpy\\core\\_methods.py:189: RuntimeWarning: invalid value encountered in double_scalars\n",
      "  ret = ret.dtype.type(ret / rcount)\n"
     ]
    },
    {
     "name": "stdout",
     "output_type": "stream",
     "text": [
      "[40.85924169429101]\n",
      "[72.04119841498732, 66.75939121262068, 58.44117726488287]\n",
      "[74.04576478412848, 36.6655165972666]\n",
      "[31.760407240671874, 55.52963723749362]\n",
      "[]\n"
     ]
    },
    {
     "name": "stderr",
     "output_type": "stream",
     "text": [
      "C:\\Users\\Neurobiology\\Anaconda3\\envs\\philow_data_manuscript\\lib\\site-packages\\numpy\\core\\fromnumeric.py:3441: RuntimeWarning: Mean of empty slice.\n",
      "  out=out, **kwargs)\n",
      "C:\\Users\\Neurobiology\\Anaconda3\\envs\\philow_data_manuscript\\lib\\site-packages\\numpy\\core\\_methods.py:189: RuntimeWarning: invalid value encountered in double_scalars\n",
      "  ret = ret.dtype.type(ret / rcount)\n"
     ]
    },
    {
     "name": "stdout",
     "output_type": "stream",
     "text": [
      "[64.85932037834552]\n",
      "[78.76179044229296, 85.26704843619626, 83.25301522987782, 84.86481979677616, 68.08344716262015]\n",
      "[76.40239819688271]\n",
      "[42.943479549576175, 54.842597955920205, 39.72713517434315]\n",
      "[57.55878547056791]\n",
      "[]\n"
     ]
    },
    {
     "name": "stderr",
     "output_type": "stream",
     "text": [
      "C:\\Users\\Neurobiology\\Anaconda3\\envs\\philow_data_manuscript\\lib\\site-packages\\numpy\\core\\fromnumeric.py:3441: RuntimeWarning: Mean of empty slice.\n",
      "  out=out, **kwargs)\n",
      "C:\\Users\\Neurobiology\\Anaconda3\\envs\\philow_data_manuscript\\lib\\site-packages\\numpy\\core\\_methods.py:189: RuntimeWarning: invalid value encountered in double_scalars\n",
      "  ret = ret.dtype.type(ret / rcount)\n"
     ]
    },
    {
     "name": "stdout",
     "output_type": "stream",
     "text": [
      "[87.02067062475632]\n",
      "[47.78290505516639]\n",
      "[]\n"
     ]
    },
    {
     "name": "stderr",
     "output_type": "stream",
     "text": [
      "C:\\Users\\Neurobiology\\Anaconda3\\envs\\philow_data_manuscript\\lib\\site-packages\\numpy\\core\\fromnumeric.py:3441: RuntimeWarning: Mean of empty slice.\n",
      "  out=out, **kwargs)\n",
      "C:\\Users\\Neurobiology\\Anaconda3\\envs\\philow_data_manuscript\\lib\\site-packages\\numpy\\core\\_methods.py:189: RuntimeWarning: invalid value encountered in double_scalars\n",
      "  ret = ret.dtype.type(ret / rcount)\n"
     ]
    },
    {
     "name": "stdout",
     "output_type": "stream",
     "text": [
      "93\n",
      "93\n",
      "93\n",
      "93\n",
      "93\n",
      "93\n",
      "93\n",
      "4\n"
     ]
    },
    {
     "name": "stderr",
     "output_type": "stream",
     "text": [
      "C:\\Users\\Neurobiology\\Anaconda3\\envs\\philow_data_manuscript\\lib\\site-packages\\ipykernel_launcher.py:31: DeprecationWarning: elementwise comparison failed; this will raise an error in the future.\n"
     ]
    },
    {
     "name": "stdout",
     "output_type": "stream",
     "text": [
      "[79.59955804751148]\n",
      "[66.20264896519821, 69.43469968853056]\n",
      "[85.65691050860099]\n",
      "[66.87598595817839, 59.863555035771014]\n",
      "[81.41136109984048]\n",
      "[77.65751905538049, 76.76794322510256, 47.17397456390412, 47.842056273677514, 38.16441064228793]\n",
      "[84.28043665193759]\n",
      "[76.6186724355328, 74.76403151062993]\n",
      "[78.62160226688763, 66.54979476475263]\n",
      "[58.3214354160726, 3.8959974663584016, 4.2651529683296685, 10.87358527467475, 20.724719016068217, 76.23517164647738]\n",
      "[76.9895184874286, 86.2608703941171]\n",
      "[72.42878005832247]\n",
      "[79.18417829434634]\n",
      "[77.6077816696666]\n",
      "[60.1850134345563, 87.09741834797317]\n",
      "[79.02612751144235]\n",
      "[28.40581216791916, 79.12817235528709]\n",
      "[74.42129904082749]\n",
      "[82.0406240304105]\n",
      "35\n",
      "35\n",
      "35\n",
      "35\n",
      "35\n",
      "35\n",
      "35\n"
     ]
    }
   ],
   "source": [
    "# calculate control\n",
    "df= pd.DataFrame({'crop_No' :[],\n",
    "                  'mito_No' :[],\n",
    "                 'mito_V_px' : [],\n",
    "                'angles' : []})\n",
    "df_la= pd.DataFrame({'crop_No' :[],\n",
    "                     'mito_No' :[],\n",
    "                     'mito_V_px' : [],\n",
    "                     'lamellar_No' :[],\n",
    "                     'lamellar_V_px' : [],\n",
    "                     'angles' : [],\n",
    "                     'lamellar_PC3cov' :[],\n",
    "                     'cov/V':[]})\n",
    "for idx in range(5):\n",
    "    print(idx)\n",
    "    filename_pattern = os.path.join(f'Z:/DeepLearningData/research_010_NIH3T3/shCtrl_003/annotations/cropped_00{idx+1}/devided_mito', '*.png')\n",
    "    mito = dask_image.imread.imread(filename_pattern)\n",
    "    mito_np = np.zeros(mito.shape, np.uint8)\n",
    "    for i in range(len(mito)):\n",
    "        mito_np[i] = (mito[i].compute()>0)*255\n",
    "    connectivity = 6 \n",
    "    labels = cc3d.connected_components(mito_np, connectivity = connectivity)\n",
    "    filename_pattern_l = os.path.join(f'Z:/DeepLearningData/research_010_NIH3T3/shCtrl_003/annotations/cropped_00{idx+1}/merged_cristae_final/lamellar_with_postprocessing', '*.png')\n",
    "    la = dask_image.imread.imread(filename_pattern_l)\n",
    "    la_np = np.zeros(la.shape, np.uint8)\n",
    "    for i in range(len(la)):\n",
    "        la_np[i] = (la[i].compute()>0)*255\n",
    "    diamond = ndi.generate_binary_structure(rank=3, connectivity=1)\n",
    "    eroded = ndi.binary_erosion(la_np, diamond, iterations=1)\n",
    "    labels_la = cc3d.connected_components(eroded, connectivity = connectivity)\n",
    "    if labels.shape != labels_la:\n",
    "        labels = labels[:, :labels_la.shape[1], :labels_la.shape[2]]\n",
    "    df, df_la = compute_all_mito(df, df_la, labels, labels_la)\n",
    "    \n",
    "    "
   ]
  },
  {
   "cell_type": "code",
   "execution_count": null,
   "metadata": {
    "scrolled": true
   },
   "outputs": [
    {
     "name": "stdout",
     "output_type": "stream",
     "text": [
      "[55.08243614918314]\n",
      "[86.52416774294561]\n",
      "[83.37753444776394, 48.901958572569185]\n",
      "[61.81239704530042, 52.69685683692348, 38.55876632980423]\n",
      "[88.20758248314533]\n",
      "[87.71072790466192]\n",
      "[73.51223844815773]\n",
      "[]\n"
     ]
    },
    {
     "name": "stderr",
     "output_type": "stream",
     "text": [
      "C:\\Users\\Neurobiology\\Anaconda3\\envs\\philow_data_manuscript\\lib\\site-packages\\numpy\\core\\fromnumeric.py:3441: RuntimeWarning: Mean of empty slice.\n",
      "  out=out, **kwargs)\n",
      "C:\\Users\\Neurobiology\\Anaconda3\\envs\\philow_data_manuscript\\lib\\site-packages\\numpy\\core\\_methods.py:189: RuntimeWarning: invalid value encountered in double_scalars\n",
      "  ret = ret.dtype.type(ret / rcount)\n"
     ]
    },
    {
     "name": "stdout",
     "output_type": "stream",
     "text": [
      "[86.76245036185549]\n",
      "[89.23757182426249]\n",
      "[89.24038441522612]\n",
      "[78.47899058470483, 49.60341132803458, 62.60240413467976]\n",
      "[83.96622747414568]\n",
      "[88.59073278192407, 84.49220910419808]\n",
      "[83.604245211736]\n",
      "[]\n"
     ]
    },
    {
     "name": "stderr",
     "output_type": "stream",
     "text": [
      "C:\\Users\\Neurobiology\\Anaconda3\\envs\\philow_data_manuscript\\lib\\site-packages\\numpy\\core\\fromnumeric.py:3441: RuntimeWarning: Mean of empty slice.\n",
      "  out=out, **kwargs)\n",
      "C:\\Users\\Neurobiology\\Anaconda3\\envs\\philow_data_manuscript\\lib\\site-packages\\numpy\\core\\_methods.py:189: RuntimeWarning: invalid value encountered in double_scalars\n",
      "  ret = ret.dtype.type(ret / rcount)\n"
     ]
    },
    {
     "name": "stdout",
     "output_type": "stream",
     "text": [
      "[86.5968343198151]\n",
      "[85.98436251221185]\n",
      "[76.53236760126394]\n",
      "[]\n"
     ]
    },
    {
     "name": "stderr",
     "output_type": "stream",
     "text": [
      "C:\\Users\\Neurobiology\\Anaconda3\\envs\\philow_data_manuscript\\lib\\site-packages\\numpy\\core\\fromnumeric.py:3441: RuntimeWarning: Mean of empty slice.\n",
      "  out=out, **kwargs)\n",
      "C:\\Users\\Neurobiology\\Anaconda3\\envs\\philow_data_manuscript\\lib\\site-packages\\numpy\\core\\_methods.py:189: RuntimeWarning: invalid value encountered in double_scalars\n",
      "  ret = ret.dtype.type(ret / rcount)\n"
     ]
    },
    {
     "name": "stdout",
     "output_type": "stream",
     "text": [
      "[76.20179159892277]\n",
      "[89.44275957178453]\n",
      "[85.3825302852106]\n",
      "[83.04586645136933]\n",
      "[89.34901316675506]\n",
      "[74.6709184162494]\n",
      "[83.62438091449309]\n",
      "[87.4538574212004]\n",
      "[83.91913932919151]\n",
      "[66.80291985275463]\n",
      "[78.57849380982634]\n",
      "[75.50977505156085]\n",
      "[83.79449891990006]\n",
      "[83.30975163271778]\n",
      "[65.9887167760927]\n",
      "[82.4601542189231]\n",
      "[82.50272667018864]\n",
      "[89.04949536497077]\n",
      "[81.19596317496186]\n",
      "[87.69550632743079]\n",
      "[89.78426781862011]\n",
      "[80.25835501520085]\n",
      "[83.48367867228166]\n",
      "[88.75758696982318]\n",
      "[77.13430247870815, 55.03764108283593]\n",
      "[88.08060011784615]\n",
      "[85.66942039552133]\n",
      "[42.89615832017467, 18.958849056443235]\n",
      "[84.3319198250841]\n",
      "[69.50179836747326]\n",
      "[85.11221485520238]\n",
      "[85.46415704531589]\n",
      "[76.6268024946832]\n",
      "[87.2870973274655]\n",
      "[86.59011068396126]\n",
      "[66.37497997010897]\n",
      "[80.51346435288174, 85.21857135716255]\n",
      "[44.044977298584755]\n",
      "[79.97136645373295, 79.69927868187494]\n",
      "[89.63484778281942]\n",
      "[86.7608286325386]\n",
      "[84.48471917113191]\n",
      "[87.64819435445676]\n",
      "[74.56923520298051, 58.90686342377556]\n",
      "[88.42124294840089]\n",
      "[88.59865489571088]\n",
      "[86.31003100127401]\n",
      "[88.9145271287535]\n",
      "[73.27669685640477]\n",
      "[75.07888906121968]\n",
      "[31.544390003366917, 12.508861905186276]\n",
      "[84.97421897065038]\n",
      "[89.41418272583755]\n",
      "[89.06056234651307]\n",
      "[81.3156276395392]\n",
      "[]\n"
     ]
    },
    {
     "name": "stderr",
     "output_type": "stream",
     "text": [
      "C:\\Users\\Neurobiology\\Anaconda3\\envs\\philow_data_manuscript\\lib\\site-packages\\numpy\\core\\fromnumeric.py:3441: RuntimeWarning: Mean of empty slice.\n",
      "  out=out, **kwargs)\n",
      "C:\\Users\\Neurobiology\\Anaconda3\\envs\\philow_data_manuscript\\lib\\site-packages\\numpy\\core\\_methods.py:189: RuntimeWarning: invalid value encountered in double_scalars\n",
      "  ret = ret.dtype.type(ret / rcount)\n"
     ]
    },
    {
     "name": "stdout",
     "output_type": "stream",
     "text": [
      "[87.20178138381318]\n",
      "[73.21441332786704]\n",
      "[77.03252914213544, 59.002241924286935, 82.85870726789788]\n",
      "[39.0473901021176]\n",
      "[87.66564110701852]\n",
      "[47.653046207497106]\n",
      "[]\n"
     ]
    },
    {
     "name": "stderr",
     "output_type": "stream",
     "text": [
      "C:\\Users\\Neurobiology\\Anaconda3\\envs\\philow_data_manuscript\\lib\\site-packages\\numpy\\core\\fromnumeric.py:3441: RuntimeWarning: Mean of empty slice.\n",
      "  out=out, **kwargs)\n",
      "C:\\Users\\Neurobiology\\Anaconda3\\envs\\philow_data_manuscript\\lib\\site-packages\\numpy\\core\\_methods.py:189: RuntimeWarning: invalid value encountered in double_scalars\n",
      "  ret = ret.dtype.type(ret / rcount)\n"
     ]
    },
    {
     "name": "stdout",
     "output_type": "stream",
     "text": [
      "[86.77213272936234]\n",
      "[73.71925507664604]\n",
      "[]\n"
     ]
    },
    {
     "name": "stderr",
     "output_type": "stream",
     "text": [
      "C:\\Users\\Neurobiology\\Anaconda3\\envs\\philow_data_manuscript\\lib\\site-packages\\numpy\\core\\fromnumeric.py:3441: RuntimeWarning: Mean of empty slice.\n",
      "  out=out, **kwargs)\n",
      "C:\\Users\\Neurobiology\\Anaconda3\\envs\\philow_data_manuscript\\lib\\site-packages\\numpy\\core\\_methods.py:189: RuntimeWarning: invalid value encountered in double_scalars\n",
      "  ret = ret.dtype.type(ret / rcount)\n"
     ]
    },
    {
     "name": "stdout",
     "output_type": "stream",
     "text": [
      "[]\n"
     ]
    },
    {
     "name": "stderr",
     "output_type": "stream",
     "text": [
      "C:\\Users\\Neurobiology\\Anaconda3\\envs\\philow_data_manuscript\\lib\\site-packages\\numpy\\core\\fromnumeric.py:3441: RuntimeWarning: Mean of empty slice.\n",
      "  out=out, **kwargs)\n",
      "C:\\Users\\Neurobiology\\Anaconda3\\envs\\philow_data_manuscript\\lib\\site-packages\\numpy\\core\\_methods.py:189: RuntimeWarning: invalid value encountered in double_scalars\n",
      "  ret = ret.dtype.type(ret / rcount)\n"
     ]
    },
    {
     "name": "stdout",
     "output_type": "stream",
     "text": [
      "[88.28029735142876]\n",
      "[84.47938716944738]\n",
      "[88.17750644972013]\n",
      "[89.3334391743965, 86.98369601446835]\n",
      "[89.67375444594381]\n",
      "[]\n"
     ]
    },
    {
     "name": "stderr",
     "output_type": "stream",
     "text": [
      "C:\\Users\\Neurobiology\\Anaconda3\\envs\\philow_data_manuscript\\lib\\site-packages\\numpy\\core\\fromnumeric.py:3441: RuntimeWarning: Mean of empty slice.\n",
      "  out=out, **kwargs)\n",
      "C:\\Users\\Neurobiology\\Anaconda3\\envs\\philow_data_manuscript\\lib\\site-packages\\numpy\\core\\_methods.py:189: RuntimeWarning: invalid value encountered in double_scalars\n",
      "  ret = ret.dtype.type(ret / rcount)\n"
     ]
    },
    {
     "name": "stdout",
     "output_type": "stream",
     "text": [
      "[67.77936385036614]\n",
      "[84.87889358520297]\n",
      "[89.45733283439905]\n",
      "[77.07244687864022]\n",
      "[63.10679118218933, 31.17381850293358]\n",
      "[88.03615135667155]\n",
      "[81.20063488076455]\n",
      "[86.86435669270244]\n",
      "[87.4040495388186, 63.99873569636513, 81.20646491931335]\n",
      "[54.342877792039, 76.43977561175558]\n",
      "[85.45418312254262]\n",
      "[88.82702989480417]\n",
      "[82.07580159845114]\n",
      "[]\n"
     ]
    },
    {
     "name": "stderr",
     "output_type": "stream",
     "text": [
      "C:\\Users\\Neurobiology\\Anaconda3\\envs\\philow_data_manuscript\\lib\\site-packages\\numpy\\core\\fromnumeric.py:3441: RuntimeWarning: Mean of empty slice.\n",
      "  out=out, **kwargs)\n",
      "C:\\Users\\Neurobiology\\Anaconda3\\envs\\philow_data_manuscript\\lib\\site-packages\\numpy\\core\\_methods.py:189: RuntimeWarning: invalid value encountered in double_scalars\n",
      "  ret = ret.dtype.type(ret / rcount)\n"
     ]
    },
    {
     "name": "stdout",
     "output_type": "stream",
     "text": [
      "[79.06187923654369]\n",
      "[37.14425184685731, 64.00941934692094]\n",
      "[87.05910400515947]\n",
      "[86.11647576378003, 57.95006658228636]\n",
      "[85.89514979340866]\n",
      "[89.7799680131702]\n",
      "[33.44697542462355, 86.44570350879754]\n",
      "[76.00982179378825]\n",
      "[88.97494717754478]\n",
      "[]\n"
     ]
    },
    {
     "name": "stderr",
     "output_type": "stream",
     "text": [
      "C:\\Users\\Neurobiology\\Anaconda3\\envs\\philow_data_manuscript\\lib\\site-packages\\numpy\\core\\fromnumeric.py:3441: RuntimeWarning: Mean of empty slice.\n",
      "  out=out, **kwargs)\n",
      "C:\\Users\\Neurobiology\\Anaconda3\\envs\\philow_data_manuscript\\lib\\site-packages\\numpy\\core\\_methods.py:189: RuntimeWarning: invalid value encountered in double_scalars\n",
      "  ret = ret.dtype.type(ret / rcount)\n"
     ]
    },
    {
     "name": "stdout",
     "output_type": "stream",
     "text": [
      "[87.33021834881856]\n",
      "[59.31187076132319]\n",
      "[88.25765577793307]\n",
      "[73.22463831319064, 40.55955286997498]\n",
      "[69.01820701965022, 87.08303648107388]\n",
      "[89.55100606939767, 75.96972848496547]\n",
      "[88.19087436792734, 75.89096222410475]\n",
      "[89.87680854430552, 86.89729708951906]\n",
      "[84.92256506398984]\n",
      "[72.66542737176316]\n",
      "[52.77071039563564]\n",
      "[68.58729049566104]\n",
      "[86.48916107891867]\n",
      "[88.9728924468986]\n",
      "[86.88105015645375]\n",
      "[83.38425039936531]\n",
      "[89.12270474355687]\n",
      "[86.02277833839105]\n",
      "[89.67927349158253]\n",
      "[88.92967211178708]\n",
      "[89.7377332293455]\n",
      "[89.04518507675712]\n",
      "[89.28334902227998]\n",
      "157\n",
      "157\n",
      "157\n",
      "157\n",
      "157\n",
      "157\n",
      "157\n",
      "[80.33188997645644]\n",
      "[]\n"
     ]
    },
    {
     "name": "stderr",
     "output_type": "stream",
     "text": [
      "C:\\Users\\Neurobiology\\Anaconda3\\envs\\philow_data_manuscript\\lib\\site-packages\\numpy\\core\\fromnumeric.py:3441: RuntimeWarning: Mean of empty slice.\n",
      "  out=out, **kwargs)\n",
      "C:\\Users\\Neurobiology\\Anaconda3\\envs\\philow_data_manuscript\\lib\\site-packages\\numpy\\core\\_methods.py:189: RuntimeWarning: invalid value encountered in double_scalars\n",
      "  ret = ret.dtype.type(ret / rcount)\n"
     ]
    },
    {
     "name": "stdout",
     "output_type": "stream",
     "text": [
      "[59.29688754477361]\n",
      "[88.96944152203838]\n",
      "[87.11368495991361]\n",
      "[84.84474284144831, 88.94425012786317]\n",
      "[81.02114566240964, 32.50820573799012, 80.410498958188, 15.978498244688247]\n",
      "[76.87314938927929]\n",
      "[72.02993443907846]\n",
      "[]\n"
     ]
    },
    {
     "name": "stderr",
     "output_type": "stream",
     "text": [
      "C:\\Users\\Neurobiology\\Anaconda3\\envs\\philow_data_manuscript\\lib\\site-packages\\numpy\\core\\fromnumeric.py:3441: RuntimeWarning: Mean of empty slice.\n",
      "  out=out, **kwargs)\n",
      "C:\\Users\\Neurobiology\\Anaconda3\\envs\\philow_data_manuscript\\lib\\site-packages\\numpy\\core\\_methods.py:189: RuntimeWarning: invalid value encountered in double_scalars\n",
      "  ret = ret.dtype.type(ret / rcount)\n"
     ]
    },
    {
     "name": "stdout",
     "output_type": "stream",
     "text": [
      "[75.60654179933948, 68.33125242643908]\n",
      "[58.606631143692624, 46.50407099128076, 39.268096575576486]\n",
      "[87.01403339241723]\n",
      "[66.79154740379374]\n",
      "[76.03072722164563]\n",
      "[]\n"
     ]
    },
    {
     "name": "stderr",
     "output_type": "stream",
     "text": [
      "C:\\Users\\Neurobiology\\Anaconda3\\envs\\philow_data_manuscript\\lib\\site-packages\\numpy\\core\\fromnumeric.py:3441: RuntimeWarning: Mean of empty slice.\n",
      "  out=out, **kwargs)\n",
      "C:\\Users\\Neurobiology\\Anaconda3\\envs\\philow_data_manuscript\\lib\\site-packages\\numpy\\core\\_methods.py:189: RuntimeWarning: invalid value encountered in double_scalars\n",
      "  ret = ret.dtype.type(ret / rcount)\n"
     ]
    },
    {
     "name": "stdout",
     "output_type": "stream",
     "text": [
      "[80.6868719770217]\n",
      "[60.63959972400186]\n",
      "[71.76837465568791, 80.99563429671518]\n",
      "[89.01487339693946]\n",
      "[81.34014363457881]\n",
      "[67.1621291752742, 77.95568307156073]\n",
      "[80.9250111968886]\n",
      "[66.64003536723753, 63.863751422799794]\n",
      "[]\n"
     ]
    },
    {
     "name": "stderr",
     "output_type": "stream",
     "text": [
      "C:\\Users\\Neurobiology\\Anaconda3\\envs\\philow_data_manuscript\\lib\\site-packages\\numpy\\core\\fromnumeric.py:3441: RuntimeWarning: Mean of empty slice.\n",
      "  out=out, **kwargs)\n",
      "C:\\Users\\Neurobiology\\Anaconda3\\envs\\philow_data_manuscript\\lib\\site-packages\\numpy\\core\\_methods.py:189: RuntimeWarning: invalid value encountered in double_scalars\n",
      "  ret = ret.dtype.type(ret / rcount)\n"
     ]
    },
    {
     "name": "stdout",
     "output_type": "stream",
     "text": [
      "[46.70957629270966]\n",
      "[87.70442695727013]\n",
      "[]\n"
     ]
    },
    {
     "name": "stderr",
     "output_type": "stream",
     "text": [
      "C:\\Users\\Neurobiology\\Anaconda3\\envs\\philow_data_manuscript\\lib\\site-packages\\numpy\\core\\fromnumeric.py:3441: RuntimeWarning: Mean of empty slice.\n",
      "  out=out, **kwargs)\n",
      "C:\\Users\\Neurobiology\\Anaconda3\\envs\\philow_data_manuscript\\lib\\site-packages\\numpy\\core\\_methods.py:189: RuntimeWarning: invalid value encountered in double_scalars\n",
      "  ret = ret.dtype.type(ret / rcount)\n"
     ]
    },
    {
     "name": "stdout",
     "output_type": "stream",
     "text": [
      "[82.34054811768391]\n",
      "[88.03069636005786]\n",
      "[]\n"
     ]
    },
    {
     "name": "stderr",
     "output_type": "stream",
     "text": [
      "C:\\Users\\Neurobiology\\Anaconda3\\envs\\philow_data_manuscript\\lib\\site-packages\\numpy\\core\\fromnumeric.py:3441: RuntimeWarning: Mean of empty slice.\n",
      "  out=out, **kwargs)\n",
      "C:\\Users\\Neurobiology\\Anaconda3\\envs\\philow_data_manuscript\\lib\\site-packages\\numpy\\core\\_methods.py:189: RuntimeWarning: invalid value encountered in double_scalars\n",
      "  ret = ret.dtype.type(ret / rcount)\n"
     ]
    },
    {
     "name": "stdout",
     "output_type": "stream",
     "text": [
      "[80.58327246380102]\n",
      "[72.80613882232318, 73.41898024111174]\n"
     ]
    }
   ],
   "source": [
    "# calculate shOPA1\n",
    "df2= pd.DataFrame({'crop_No' :[],\n",
    "                  'mito_No' :[],\n",
    "                 'mito_V_px' : [],\n",
    "                'angles' : []})\n",
    "df2_la= pd.DataFrame({'crop_No' :[],\n",
    "                     'mito_No' :[],\n",
    "                     'mito_V_px' : [],\n",
    "                     'lamellar_No' :[],\n",
    "                     'lamellar_V_px' : [],\n",
    "                     'angles' : [],\n",
    "                     'lamellar_PC3cov' :[],\n",
    "                     'cov/V':[]})\n",
    "for idx in range(5):\n",
    "    filename_pattern = os.path.join(f'Z://DeepLearningData/research_010_NIH3T3/shOPA1_003/annotations//cropped_00{idx+1}/devided_mito', '*.png')\n",
    "    mito = dask_image.imread.imread(filename_pattern)\n",
    "    mito_np = np.zeros(mito.shape, np.uint8)\n",
    "    for i in range(len(mito)):\n",
    "        mito_np[i] = (mito[i].compute()>0)*255\n",
    "    connectivity = 6 \n",
    "    labels = cc3d.connected_components(mito_np, connectivity = connectivity)\n",
    "    filename_pattern_l = os.path.join(f'Z://DeepLearningData/research_010_NIH3T3/shOPA1_003/annotations//cropped_00{idx+1}/merged_cristae_final/lamellar_with_postprocessing', '*.png')\n",
    "    la = dask_image.imread.imread(filename_pattern_l)\n",
    "    la_np = np.zeros(la.shape, np.uint8)\n",
    "    for i in range(len(la)):\n",
    "        la_np[i] = (la[i].compute()>0)*255\n",
    "    diamond = ndi.generate_binary_structure(rank=3, connectivity=1)\n",
    "    eroded = ndi.binary_erosion(la_np, diamond, iterations=1)\n",
    "    labels_la = cc3d.connected_components(eroded, connectivity = connectivity)\n",
    "    df2, df2_la = compute_all_mito(df2, df2_la, labels, labels_la)"
   ]
  },
  {
   "cell_type": "code",
   "execution_count": 17,
   "metadata": {},
   "outputs": [],
   "source": [
    "df2_la['gene'] = ['shOPA1']*len(df2_la)\n",
    "df_la['gene'] = ['shCtrl']*len(df_la)\n"
   ]
  },
  {
   "cell_type": "code",
   "execution_count": 18,
   "metadata": {},
   "outputs": [],
   "source": [
    "df2['gene'] = ['shOPA1']*len(df2)\n",
    "df['gene'] = ['shCtrl']*len(df)"
   ]
  },
  {
   "cell_type": "code",
   "execution_count": 19,
   "metadata": {},
   "outputs": [],
   "source": [
    "df.to_csv('angles_ctrl.csv', index=False)\n",
    "df2.to_csv('angles_opa1.csv', index=False)\n",
    "df_la.to_csv('lame_ctrl.csv', index=False)\n",
    "df2_la.to_csv('lame_opa1.csv', index=False)"
   ]
  },
  {
   "cell_type": "code",
   "execution_count": 20,
   "metadata": {},
   "outputs": [],
   "source": [
    "df = pd.read_csv('angles_ctrl.csv')\n",
    "df2 = pd.read_csv('angles_opa1.csv')\n",
    "df_la = pd.read_csv('lame_ctrl.csv')\n",
    "df2_la = pd.read_csv('lame_opa1.csv')"
   ]
  },
  {
   "cell_type": "code",
   "execution_count": 21,
   "metadata": {},
   "outputs": [
    {
     "data": {
      "text/html": [
       "<div>\n",
       "<style scoped>\n",
       "    .dataframe tbody tr th:only-of-type {\n",
       "        vertical-align: middle;\n",
       "    }\n",
       "\n",
       "    .dataframe tbody tr th {\n",
       "        vertical-align: top;\n",
       "    }\n",
       "\n",
       "    .dataframe thead th {\n",
       "        text-align: right;\n",
       "    }\n",
       "</style>\n",
       "<table border=\"1\" class=\"dataframe\">\n",
       "  <thead>\n",
       "    <tr style=\"text-align: right;\">\n",
       "      <th></th>\n",
       "      <th>crop_No</th>\n",
       "      <th>mito_No</th>\n",
       "      <th>mito_V_px</th>\n",
       "      <th>angles</th>\n",
       "      <th>gene</th>\n",
       "    </tr>\n",
       "  </thead>\n",
       "  <tbody>\n",
       "    <tr>\n",
       "      <th>0</th>\n",
       "      <td>1.0</td>\n",
       "      <td>1.0</td>\n",
       "      <td>545648.0</td>\n",
       "      <td>50.729747</td>\n",
       "      <td>shCtrl</td>\n",
       "    </tr>\n",
       "    <tr>\n",
       "      <th>1</th>\n",
       "      <td>1.0</td>\n",
       "      <td>2.0</td>\n",
       "      <td>457678.0</td>\n",
       "      <td>52.709625</td>\n",
       "      <td>shCtrl</td>\n",
       "    </tr>\n",
       "    <tr>\n",
       "      <th>2</th>\n",
       "      <td>1.0</td>\n",
       "      <td>3.0</td>\n",
       "      <td>449917.0</td>\n",
       "      <td>84.447633</td>\n",
       "      <td>shCtrl</td>\n",
       "    </tr>\n",
       "    <tr>\n",
       "      <th>3</th>\n",
       "      <td>1.0</td>\n",
       "      <td>4.0</td>\n",
       "      <td>295946.0</td>\n",
       "      <td>84.459115</td>\n",
       "      <td>shCtrl</td>\n",
       "    </tr>\n",
       "    <tr>\n",
       "      <th>4</th>\n",
       "      <td>1.0</td>\n",
       "      <td>5.0</td>\n",
       "      <td>395491.0</td>\n",
       "      <td>84.297911</td>\n",
       "      <td>shCtrl</td>\n",
       "    </tr>\n",
       "    <tr>\n",
       "      <th>...</th>\n",
       "      <td>...</td>\n",
       "      <td>...</td>\n",
       "      <td>...</td>\n",
       "      <td>...</td>\n",
       "      <td>...</td>\n",
       "    </tr>\n",
       "    <tr>\n",
       "      <th>319</th>\n",
       "      <td>5.0</td>\n",
       "      <td>46.0</td>\n",
       "      <td>448138.0</td>\n",
       "      <td>89.729640</td>\n",
       "      <td>shOPA1</td>\n",
       "    </tr>\n",
       "    <tr>\n",
       "      <th>320</th>\n",
       "      <td>5.0</td>\n",
       "      <td>47.0</td>\n",
       "      <td>153030.0</td>\n",
       "      <td>86.130683</td>\n",
       "      <td>shOPA1</td>\n",
       "    </tr>\n",
       "    <tr>\n",
       "      <th>321</th>\n",
       "      <td>5.0</td>\n",
       "      <td>48.0</td>\n",
       "      <td>19869.0</td>\n",
       "      <td>NaN</td>\n",
       "      <td>shOPA1</td>\n",
       "    </tr>\n",
       "    <tr>\n",
       "      <th>322</th>\n",
       "      <td>5.0</td>\n",
       "      <td>49.0</td>\n",
       "      <td>477734.0</td>\n",
       "      <td>65.951480</td>\n",
       "      <td>shOPA1</td>\n",
       "    </tr>\n",
       "    <tr>\n",
       "      <th>323</th>\n",
       "      <td>5.0</td>\n",
       "      <td>50.0</td>\n",
       "      <td>30712.0</td>\n",
       "      <td>NaN</td>\n",
       "      <td>shOPA1</td>\n",
       "    </tr>\n",
       "  </tbody>\n",
       "</table>\n",
       "<p>459 rows × 5 columns</p>\n",
       "</div>"
      ],
      "text/plain": [
       "     crop_No  mito_No  mito_V_px     angles    gene\n",
       "0        1.0      1.0   545648.0  50.729747  shCtrl\n",
       "1        1.0      2.0   457678.0  52.709625  shCtrl\n",
       "2        1.0      3.0   449917.0  84.447633  shCtrl\n",
       "3        1.0      4.0   295946.0  84.459115  shCtrl\n",
       "4        1.0      5.0   395491.0  84.297911  shCtrl\n",
       "..       ...      ...        ...        ...     ...\n",
       "319      5.0     46.0   448138.0  89.729640  shOPA1\n",
       "320      5.0     47.0   153030.0  86.130683  shOPA1\n",
       "321      5.0     48.0    19869.0        NaN  shOPA1\n",
       "322      5.0     49.0   477734.0  65.951480  shOPA1\n",
       "323      5.0     50.0    30712.0        NaN  shOPA1\n",
       "\n",
       "[459 rows x 5 columns]"
      ]
     },
     "execution_count": 21,
     "metadata": {},
     "output_type": "execute_result"
    }
   ],
   "source": [
    "df_c = pd.concat([df,df2])\n",
    "df_c"
   ]
  },
  {
   "cell_type": "code",
   "execution_count": 22,
   "metadata": {},
   "outputs": [
    {
     "data": {
      "text/html": [
       "<div>\n",
       "<style scoped>\n",
       "    .dataframe tbody tr th:only-of-type {\n",
       "        vertical-align: middle;\n",
       "    }\n",
       "\n",
       "    .dataframe tbody tr th {\n",
       "        vertical-align: top;\n",
       "    }\n",
       "\n",
       "    .dataframe thead th {\n",
       "        text-align: right;\n",
       "    }\n",
       "</style>\n",
       "<table border=\"1\" class=\"dataframe\">\n",
       "  <thead>\n",
       "    <tr style=\"text-align: right;\">\n",
       "      <th></th>\n",
       "      <th>crop_No</th>\n",
       "      <th>mito_No</th>\n",
       "      <th>mito_V_px</th>\n",
       "      <th>lamellar_No</th>\n",
       "      <th>lamellar_V_px</th>\n",
       "      <th>angles</th>\n",
       "      <th>lamellar_PC3cov</th>\n",
       "      <th>cov/V</th>\n",
       "      <th>gene</th>\n",
       "    </tr>\n",
       "  </thead>\n",
       "  <tbody>\n",
       "    <tr>\n",
       "      <th>0</th>\n",
       "      <td>1.0</td>\n",
       "      <td>1.0</td>\n",
       "      <td>545648.0</td>\n",
       "      <td>1.0</td>\n",
       "      <td>4614.0</td>\n",
       "      <td>48.374993</td>\n",
       "      <td>1.411042</td>\n",
       "      <td>0.000306</td>\n",
       "      <td>shCtrl</td>\n",
       "    </tr>\n",
       "    <tr>\n",
       "      <th>1</th>\n",
       "      <td>1.0</td>\n",
       "      <td>1.0</td>\n",
       "      <td>545648.0</td>\n",
       "      <td>2.0</td>\n",
       "      <td>24247.0</td>\n",
       "      <td>49.946093</td>\n",
       "      <td>81.734532</td>\n",
       "      <td>0.003371</td>\n",
       "      <td>shCtrl</td>\n",
       "    </tr>\n",
       "    <tr>\n",
       "      <th>2</th>\n",
       "      <td>1.0</td>\n",
       "      <td>1.0</td>\n",
       "      <td>545648.0</td>\n",
       "      <td>3.0</td>\n",
       "      <td>5097.0</td>\n",
       "      <td>53.868155</td>\n",
       "      <td>3.249163</td>\n",
       "      <td>0.000637</td>\n",
       "      <td>shCtrl</td>\n",
       "    </tr>\n",
       "    <tr>\n",
       "      <th>3</th>\n",
       "      <td>1.0</td>\n",
       "      <td>2.0</td>\n",
       "      <td>457678.0</td>\n",
       "      <td>1.0</td>\n",
       "      <td>29473.0</td>\n",
       "      <td>74.591395</td>\n",
       "      <td>53.403300</td>\n",
       "      <td>0.001812</td>\n",
       "      <td>shCtrl</td>\n",
       "    </tr>\n",
       "    <tr>\n",
       "      <th>4</th>\n",
       "      <td>1.0</td>\n",
       "      <td>2.0</td>\n",
       "      <td>457678.0</td>\n",
       "      <td>2.0</td>\n",
       "      <td>1375.0</td>\n",
       "      <td>30.827856</td>\n",
       "      <td>1.940838</td>\n",
       "      <td>0.001412</td>\n",
       "      <td>shCtrl</td>\n",
       "    </tr>\n",
       "    <tr>\n",
       "      <th>...</th>\n",
       "      <td>...</td>\n",
       "      <td>...</td>\n",
       "      <td>...</td>\n",
       "      <td>...</td>\n",
       "      <td>...</td>\n",
       "      <td>...</td>\n",
       "      <td>...</td>\n",
       "      <td>...</td>\n",
       "      <td>...</td>\n",
       "    </tr>\n",
       "    <tr>\n",
       "      <th>364</th>\n",
       "      <td>5.0</td>\n",
       "      <td>43.0</td>\n",
       "      <td>396360.0</td>\n",
       "      <td>1.0</td>\n",
       "      <td>26697.0</td>\n",
       "      <td>81.868623</td>\n",
       "      <td>79.467174</td>\n",
       "      <td>0.002977</td>\n",
       "      <td>shOPA1</td>\n",
       "    </tr>\n",
       "    <tr>\n",
       "      <th>365</th>\n",
       "      <td>5.0</td>\n",
       "      <td>44.0</td>\n",
       "      <td>148214.0</td>\n",
       "      <td>1.0</td>\n",
       "      <td>2651.0</td>\n",
       "      <td>69.630160</td>\n",
       "      <td>3.504601</td>\n",
       "      <td>0.001322</td>\n",
       "      <td>shOPA1</td>\n",
       "    </tr>\n",
       "    <tr>\n",
       "      <th>366</th>\n",
       "      <td>5.0</td>\n",
       "      <td>46.0</td>\n",
       "      <td>448138.0</td>\n",
       "      <td>1.0</td>\n",
       "      <td>13440.0</td>\n",
       "      <td>89.729640</td>\n",
       "      <td>60.048976</td>\n",
       "      <td>0.004468</td>\n",
       "      <td>shOPA1</td>\n",
       "    </tr>\n",
       "    <tr>\n",
       "      <th>367</th>\n",
       "      <td>5.0</td>\n",
       "      <td>47.0</td>\n",
       "      <td>153030.0</td>\n",
       "      <td>1.0</td>\n",
       "      <td>7453.0</td>\n",
       "      <td>86.130683</td>\n",
       "      <td>87.862452</td>\n",
       "      <td>0.011789</td>\n",
       "      <td>shOPA1</td>\n",
       "    </tr>\n",
       "    <tr>\n",
       "      <th>368</th>\n",
       "      <td>5.0</td>\n",
       "      <td>49.0</td>\n",
       "      <td>477734.0</td>\n",
       "      <td>1.0</td>\n",
       "      <td>9370.0</td>\n",
       "      <td>65.951480</td>\n",
       "      <td>131.579144</td>\n",
       "      <td>0.014043</td>\n",
       "      <td>shOPA1</td>\n",
       "    </tr>\n",
       "  </tbody>\n",
       "</table>\n",
       "<p>678 rows × 9 columns</p>\n",
       "</div>"
      ],
      "text/plain": [
       "     crop_No  mito_No  mito_V_px  lamellar_No  lamellar_V_px     angles  \\\n",
       "0        1.0      1.0   545648.0          1.0         4614.0  48.374993   \n",
       "1        1.0      1.0   545648.0          2.0        24247.0  49.946093   \n",
       "2        1.0      1.0   545648.0          3.0         5097.0  53.868155   \n",
       "3        1.0      2.0   457678.0          1.0        29473.0  74.591395   \n",
       "4        1.0      2.0   457678.0          2.0         1375.0  30.827856   \n",
       "..       ...      ...        ...          ...            ...        ...   \n",
       "364      5.0     43.0   396360.0          1.0        26697.0  81.868623   \n",
       "365      5.0     44.0   148214.0          1.0         2651.0  69.630160   \n",
       "366      5.0     46.0   448138.0          1.0        13440.0  89.729640   \n",
       "367      5.0     47.0   153030.0          1.0         7453.0  86.130683   \n",
       "368      5.0     49.0   477734.0          1.0         9370.0  65.951480   \n",
       "\n",
       "     lamellar_PC3cov     cov/V    gene  \n",
       "0           1.411042  0.000306  shCtrl  \n",
       "1          81.734532  0.003371  shCtrl  \n",
       "2           3.249163  0.000637  shCtrl  \n",
       "3          53.403300  0.001812  shCtrl  \n",
       "4           1.940838  0.001412  shCtrl  \n",
       "..               ...       ...     ...  \n",
       "364        79.467174  0.002977  shOPA1  \n",
       "365         3.504601  0.001322  shOPA1  \n",
       "366        60.048976  0.004468  shOPA1  \n",
       "367        87.862452  0.011789  shOPA1  \n",
       "368       131.579144  0.014043  shOPA1  \n",
       "\n",
       "[678 rows x 9 columns]"
      ]
     },
     "execution_count": 22,
     "metadata": {},
     "output_type": "execute_result"
    }
   ],
   "source": [
    "df_la_c = pd.concat([df_la,df2_la])\n",
    "df_la_c"
   ]
  },
  {
   "cell_type": "code",
   "execution_count": 23,
   "metadata": {},
   "outputs": [],
   "source": [
    "df_temp = df_la_c[df_la_c['gene']=='shCtrl']\n",
    "xs = []\n",
    "ys = []\n",
    "for i in range(len(df_temp)):\n",
    "    theta = math.radians(df_temp['angles'][i])\n",
    "    x = math.cos(theta)/df_temp['lamellar_PC3cov'][i]\n",
    "    y = math.sin(theta)/df_temp['lamellar_PC3cov'][i]\n",
    "    xs.append(x)\n",
    "    ys.append(y)\n",
    "df_temp = df_la_c[df_la_c['gene']=='shOPA1']\n",
    "xs2 = []\n",
    "ys2 = []\n",
    "for i in range(len(df_temp)):\n",
    "    theta = math.radians(df_temp['angles'][i])\n",
    "    x = math.cos(theta)/df_temp['lamellar_PC3cov'][i]\n",
    "    y = math.sin(theta)/df_temp['lamellar_PC3cov'][i]\n",
    "    xs2.append(x)\n",
    "    ys2.append(y)"
   ]
  },
  {
   "cell_type": "code",
   "execution_count": 24,
   "metadata": {},
   "outputs": [
    {
     "data": {
      "image/png": "[encoded data removed]",
      "text/plain": [
       "<Figure size 640x480 with 1 Axes>"
      ]
     },
     "metadata": {
      "image/png": {
       "height": 413,
       "width": 421
      }
     },
     "output_type": "display_data"
    }
   ],
   "source": [
    "plt.quiver([0]*len(xs), [0]*len(xs), xs, ys, angles='xy', scale_units='xy', scale=1, color='green', alpha=0.1)\n",
    "plt.quiver([0]*len(xs2), [0]*len(xs2), xs2, ys2, angles='xy', scale_units='xy', scale=1, color='magenta', alpha=0.1)\n",
    "plt.quiver(sum(xs)/len(xs), sum(ys)/len(ys), angles='xy', scale_units='xy', scale=0.25, color='green')\n",
    "plt.quiver(sum(xs2)/len(xs2), sum(ys2)/len(ys2), angles='xy', scale_units='xy', scale=0.25, color='magenta')\n",
    "plt.axis('square')\n",
    "plt.xlim(0,2.25)\n",
    "plt.ylim(0,2.25)\n",
    "plt.xticks( np.arange(0, 2.5, 0.5))\n",
    "plt.yticks( np.arange(0, 2.5, 0.5))\n",
    "plt.savefig(\"quiver.svg\", format=\"svg\")"
   ]
  },
  {
   "cell_type": "code",
   "execution_count": 28,
   "metadata": {},
   "outputs": [
    {
     "data": {
      "text/plain": [
       "59.56955094513904"
      ]
     },
     "execution_count": 28,
     "metadata": {},
     "output_type": "execute_result"
    }
   ],
   "source": [
    "np.average(df_la[\"angles\"])"
   ]
  },
  {
   "cell_type": "code",
   "execution_count": 29,
   "metadata": {},
   "outputs": [
    {
     "data": {
      "text/plain": [
       "74.44393233131233"
      ]
     },
     "execution_count": 29,
     "metadata": {},
     "output_type": "execute_result"
    }
   ],
   "source": [
    "np.average(df2_la[\"angles\"])"
   ]
  },
  {
   "cell_type": "code",
   "execution_count": null,
   "metadata": {},
   "outputs": [],
   "source": []
  }
 ],
 "metadata": {
  "kernelspec": {
   "display_name": "Python 3",
   "language": "python",
   "name": "python3"
  },
  "language_info": {
   "codemirror_mode": {
    "name": "ipython",
    "version": 3
   },
   "file_extension": ".py",
   "mimetype": "text/x-python",
   "name": "python",
   "nbconvert_exporter": "python",
   "pygments_lexer": "ipython3",
   "version": "3.7.16"
  },
  "toc": {
   "base_numbering": 1,
   "nav_menu": {},
   "number_sections": true,
   "sideBar": true,
   "skip_h1_title": false,
   "title_cell": "Table of Contents",
   "title_sidebar": "Contents",
   "toc_cell": false,
   "toc_position": {},
   "toc_section_display": true,
   "toc_window_display": false
  }
 },
 "nbformat": 4,
 "nbformat_minor": 4
}
