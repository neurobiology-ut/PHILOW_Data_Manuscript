{
 "cells": [
  {
   "cell_type": "code",
   "execution_count": null,
   "metadata": {},
   "outputs": [],
   "source": [
    "%matplotlib inline\n",
    "%config InlineBackend.figure_formats = {'png', 'retina'}\n",
    "import os\n",
    "from pathlib import Path\n",
    "import matplotlib\n",
    "import matplotlib.pyplot as plt\n",
    "import dask_image.imread\n",
    "import numpy as np\n",
    "from skimage import feature, morphology, img_as_float\n",
    "import scipy.ndimage as ndi\n",
    "from random import random\n",
    "import sklearn\n",
    "import cc3d\n",
    "import pandas as pd\n",
    "import seaborn as sns\n",
    "import math"
   ]
  },
  {
   "cell_type": "code",
   "execution_count": null,
   "metadata": {},
   "outputs": [],
   "source": [
    "def get_vec(label, idx):\n",
    "    pca = PCA()\n",
    "    xl, yl, zl = np.where(label==idx)\n",
    "    voxelsl = [v for v in zip(list(xl.astype(np.float32)), list(yl.astype(np.float32)), list(zl.astype(np.float32)))]\n",
    "    pca.fit(voxelsl)\n",
    "    return np.array([int(np.mean(xl)), int(np.mean(yl)), int(np.mean(zl))]), pca.components_[2]*100, pca.explained_variance_[2]"
   ]
  },
  {
   "cell_type": "code",
   "execution_count": null,
   "metadata": {},
   "outputs": [],
   "source": [
    "def get_vec_mito(label, idx):\n",
    "    pca = PCA()\n",
    "    xl, yl, zl = np.where(label==idx)\n",
    "    voxelsl = [v for v in zip(list(xl.astype(np.float32)), list(yl.astype(np.float32)), list(zl.astype(np.float32)))]\n",
    "    pca.fit(voxelsl)\n",
    "    return np.array([int(np.mean(xl)), int(np.mean(yl)), int(np.mean(zl))]), pca.components_[0]*100"
   ]
  },
  {
   "cell_type": "code",
   "execution_count": null,
   "metadata": {},
   "outputs": [],
   "source": [
    "def angle(x,y):\n",
    "    dot_xy = np.dot(x,y)\n",
    "    norm_x = np.linalg.norm(x)\n",
    "    norm_y = np.linalg.norm(y)\n",
    "    cos = dot_xy / (norm_x*norm_y)\n",
    "    rad = np.arccos(cos)\n",
    "    theta = rad * 180 /np.pi\n",
    "    return theta"
   ]
  },
  {
   "cell_type": "code",
   "execution_count": null,
   "metadata": {},
   "outputs": [],
   "source": [
    "def compute_angle(x,y):\n",
    "    return(min(angle(x,y), angle(-x, y)))"
   ]
  },
  {
   "cell_type": "code",
   "execution_count": null,
   "metadata": {},
   "outputs": [],
   "source": [
    "def compute_all_mito(df, df_la, labels_mito, labels_la):\n",
    "    npu_mito, count_mito = np.unique(labels, return_counts=True)\n",
    "    angles_m = [] #angle mean\n",
    "    mito_nums=[] #mito number\n",
    "    mito_V_pxs=[] #mito volume\n",
    "    mito_V_pxs_mito=[]\n",
    "    lamellar_no=[] #lamellar id \n",
    "    lamellar_v_pxs=[] #lamellar volume\n",
    "    angles=[] # lamellar mito angle\n",
    "    covs = [] # pc3 cov\n",
    "    cov_vs = [] #pc3 cov/lamellar volume\n",
    "    mito_num=0\n",
    "    for i in range(1, len(npu_mito)):\n",
    "        if count_mito[i]>1000:\n",
    "            _, mito_vec = get_vec_mito(labels, npu_mito[i])\n",
    "            cristaes = np.where(labels==npu_mito[i], labels_la, 0)\n",
    "            npu, count = np.unique(cristaes, return_counts=True)   \n",
    "            angles_temp = []\n",
    "            mito_num=mito_num+1\n",
    "            mito_V_pxs_mito.append(count_mito[i])\n",
    "            if len(npu)==1:\n",
    "                angles_m.append(None)\n",
    "            else:\n",
    "                for idx in range(1,len(npu)):\n",
    "                    if count[idx]>1000:\n",
    "                        _, vec, cov = get_vec(cristaes, npu[idx])\n",
    "                        ang = compute_angle(vec, mito_vec)\n",
    "                        angles_temp.append(ang)\n",
    "                        mito_nums.append(mito_num)\n",
    "                        mito_V_pxs.append(count_mito[i])\n",
    "                        lamellar_v_pxs.append(count[idx])\n",
    "                        angles.append(ang)\n",
    "                        covs.append(cov)\n",
    "                        cov_vs.append(cov/count[idx])\n",
    "                print(angles_temp)\n",
    "                angles_m.append(np.mean(angles_temp))\n",
    "                lamellar_no = lamellar_no + list(range(1,len(angles_temp)+1))\n",
    "    if len(df)==0:\n",
    "        crop_num=1\n",
    "    else:\n",
    "        crop_num=int(list(df['crop_No'])[-1])+1\n",
    "\n",
    "    df_temp = pd.DataFrame({'crop_No': [crop_num]*(len(angles_m)),\n",
    "                            'mito_No' : list(range(1, mito_num+1)),\n",
    "                 'mito_V_px' : mito_V_pxs_mito,\n",
    "                'angles' : angles_m})\n",
    "    print(len([crop_num]*(len(mito_nums))))\n",
    "    print(len(mito_nums))\n",
    "    print(len(mito_V_pxs))\n",
    "    print(len(lamellar_no))\n",
    "    print(len(angles))\n",
    "    print(len(covs))\n",
    "    print(len(cov_vs))\n",
    "    df_la_temp= pd.DataFrame({'crop_No' :[crop_num]*(len(mito_nums)),\n",
    "                         'mito_No' :mito_nums,\n",
    "                         'mito_V_px' :mito_V_pxs,\n",
    "                         'lamellar_No' :lamellar_no,\n",
    "                         'lamellar_V_px' : lamellar_v_pxs,\n",
    "                         'angles' :angles,\n",
    "                         'lamellar_PC3cov' :covs,\n",
    "                         'cov/V': cov_vs})\n",
    "    return pd.concat([df, df_temp]).reset_index(drop=True), pd.concat([df_la, df_la_temp]).reset_index(drop=True)"
   ]
  },
  {
   "cell_type": "code",
   "execution_count": null,
   "metadata": {},
   "outputs": [],
   "source": [
    "# calculate control\n",
    "df= pd.DataFrame({'crop_No' :[],\n",
    "                  'mito_No' :[],\n",
    "                 'mito_V_px' : [],\n",
    "                'angles' : []})\n",
    "df_la= pd.DataFrame({'crop_No' :[],\n",
    "                     'mito_No' :[],\n",
    "                     'mito_V_px' : [],\n",
    "                     'lamellar_No' :[],\n",
    "                     'lamellar_V_px' : [],\n",
    "                     'angles' : [],\n",
    "                     'lamellar_PC3cov' :[],\n",
    "                     'cov/V':[]})\n",
    "for idx in range(5):\n",
    "    print(idx)\n",
    "    filename_pattern = os.path.join(f'./dataset/annotations_shCtrl/cropped_00{idx+1}/devided_mito', '*png')\n",
    "    mito = dask_image.imread.imread(filename_pattern)\n",
    "    mito_np = np.zeros(mito.shape, np.uint8)\n",
    "    for i in range(len(mito)):\n",
    "        mito_np[i] = (mito[i].compute()>0)*255\n",
    "    connectivity = 6 \n",
    "    labels = cc3d.connected_components(mito_np, connectivity = connectivity)\n",
    "    filename_pattern_l = os.path.join(f'./dataset/annotations_shCtrl/cropped_00{idx+1}/lamellar_with_postprocessing', '*png')\n",
    "    la = dask_image.imread.imread(filename_pattern_l)\n",
    "    la_np = np.zeros(la.shape, np.uint8)\n",
    "    for i in range(len(la)):\n",
    "        la_np[i] = (la[i].compute()>0)*255\n",
    "    diamond = ndi.generate_binary_structure(rank=3, connectivity=1)\n",
    "    eroded = ndi.binary_erosion(la_np, diamond, iterations=1)\n",
    "    labels_la = cc3d.connected_components(eroded, connectivity = connectivity)\n",
    "    df, df_la = compute_all_mito(df, df_la, labels, labels_la)"
   ]
  },
  {
   "cell_type": "code",
   "execution_count": null,
   "metadata": {},
   "outputs": [],
   "source": [
    "# calculate shOPA1\n",
    "df2= pd.DataFrame({'crop_No' :[],\n",
    "                  'mito_No' :[],\n",
    "                 'mito_V_px' : [],\n",
    "                'angles' : []})\n",
    "df2_la= pd.DataFrame({'crop_No' :[],\n",
    "                     'mito_No' :[],\n",
    "                     'mito_V_px' : [],\n",
    "                     'lamellar_No' :[],\n",
    "                     'lamellar_V_px' : [],\n",
    "                     'angles' : [],\n",
    "                     'lamellar_PC3cov' :[],\n",
    "                     'cov/V':[]})\n",
    "for idx in range(5):\n",
    "    filename_pattern = os.path.join(f'./dataset/annotations_shOpa1/cropped_00{idx+1}/devided_mito', '*png')\n",
    "    mito = dask_image.imread.imread(filename_pattern)\n",
    "    mito_np = np.zeros(mito.shape, np.uint8)\n",
    "    for i in range(len(mito)):\n",
    "        mito_np[i] = (mito[i].compute()>0)*255\n",
    "    connectivity = 6 \n",
    "    labels = cc3d.connected_components(mito_np, connectivity = connectivity)\n",
    "    filename_pattern_l = os.path.join(f'./dataset/annotations_shOpa1/cropped_00{idx+1}/lamellar_with_postprocessing', '*png')\n",
    "    la = dask_image.imread.imread(filename_pattern_l)\n",
    "    la_np = np.zeros(la.shape, np.uint8)\n",
    "    for i in range(len(la)):\n",
    "        la_np[i] = (la[i].compute()>0)*255\n",
    "    diamond = ndi.generate_binary_structure(rank=3, connectivity=1)\n",
    "    eroded = ndi.binary_erosion(la_np, diamond, iterations=1)\n",
    "    labels_la = cc3d.connected_components(eroded, connectivity = connectivity)\n",
    "    df2, df2_la = compute_all_mito(df2, df2_la, labels, labels_la)"
   ]
  },
  {
   "cell_type": "code",
   "execution_count": null,
   "metadata": {},
   "outputs": [],
   "source": [
    "df2_la['gene'] = ['shOPA1']*len(df2_la)\n",
    "df_la['gene'] = ['shCtrl']*len(df_la)\n"
   ]
  },
  {
   "cell_type": "code",
   "execution_count": null,
   "metadata": {},
   "outputs": [],
   "source": [
    "df2['gene'] = ['shOPA1']*len(df2)\n",
    "df['gene'] = ['shCtrl']*len(df)"
   ]
  },
  {
   "cell_type": "code",
   "execution_count": null,
   "metadata": {},
   "outputs": [],
   "source": [
    "df.to_csv('angles_ctrl.csv', index=False)\n",
    "df2.to_csv('angles_opa1.csv', index=False)\n",
    "df_la.to_csv('lame_ctrl.csv', index=False)\n",
    "df2_la.to_csv('lame_opa1.csv', index=False)"
   ]
  },
  {
   "cell_type": "code",
   "execution_count": null,
   "metadata": {},
   "outputs": [],
   "source": [
    "df = pd.read_csv('angles_ctrl.csv')\n",
    "df2 = pd.read_csv('angles_opa1.csv')\n",
    "df_la = pd.read_csv('lame_ctrl.csv')\n",
    "df2_la = pd.read_csv('lame_opa1.csv')"
   ]
  },
  {
   "cell_type": "code",
   "execution_count": null,
   "metadata": {},
   "outputs": [],
   "source": [
    "df_c = pd.concat([df,df2])\n",
    "df_c"
   ]
  },
  {
   "cell_type": "code",
   "execution_count": null,
   "metadata": {},
   "outputs": [],
   "source": [
    "df_la_c = pd.concat([df_la,df2_la])\n",
    "df_la_c"
   ]
  },
  {
   "cell_type": "code",
   "execution_count": null,
   "metadata": {},
   "outputs": [],
   "source": [
    "df_temp = df_la_c[df_la_c['gene']=='shCtrl']\n",
    "xs = []\n",
    "ys = []\n",
    "for i in range(len(df_temp)):\n",
    "    theta = math.radians(df_temp['angles'][i])\n",
    "    x = math.cos(theta)/df_temp['lamellar_PC3cov'][i]\n",
    "    y = math.sin(theta)/df_temp['lamellar_PC3cov'][i]\n",
    "    xs.append(x)\n",
    "    ys.append(y)\n",
    "df_temp = df_la_c[df_la_c['gene']=='shOPA1']\n",
    "xs2 = []\n",
    "ys2 = []\n",
    "for i in range(len(df_temp)):\n",
    "    theta = math.radians(df_temp['angles'][i])\n",
    "    x = math.cos(theta)/df_temp['lamellar_PC3cov'][i]\n",
    "    y = math.sin(theta)/df_temp['lamellar_PC3cov'][i]\n",
    "    xs2.append(x)\n",
    "    ys2.append(y)"
   ]
  },
  {
   "cell_type": "code",
   "execution_count": null,
   "metadata": {},
   "outputs": [],
   "source": [
    "plt.quiver([0]*len(xs), [0]*len(xs), xs, ys, angles='xy', scale_units='xy', scale=1, color='green', alpha=0.1)\n",
    "plt.quiver([0]*len(xs2), [0]*len(xs2), xs2, ys2, angles='xy', scale_units='xy', scale=1, color='magenta', alpha=0.1)\n",
    "plt.quiver(sum(xs)/len(xs), sum(ys)/len(ys), angles='xy', scale_units='xy', scale=0.25, color='green')\n",
    "plt.quiver(sum(xs2)/len(xs2), sum(ys2)/len(ys2), angles='xy', scale_units='xy', scale=0.25, color='magenta')\n",
    "plt.axis('square')\n",
    "plt.xlim(0,2.25)\n",
    "plt.ylim(0,2.25)\n",
    "plt.xticks( np.arange(0, 2.5, 0.5))\n",
    "plt.yticks( np.arange(0, 2.5, 0.5))\n",
    "plt.savefig(\"quiver.svg\", format=\"svg\")"
   ]
  }
 ],
 "metadata": {
  "kernelspec": {
   "display_name": "Python 3",
   "language": "python",
   "name": "python3"
  },
  "language_info": {
   "codemirror_mode": {
    "name": "ipython",
    "version": 3
   },
   "file_extension": ".py",
   "mimetype": "text/x-python",
   "name": "python",
   "nbconvert_exporter": "python",
   "pygments_lexer": "ipython3",
   "version": "3.7.0"
  },
  "toc": {
   "base_numbering": 1,
   "nav_menu": {},
   "number_sections": true,
   "sideBar": true,
   "skip_h1_title": false,
   "title_cell": "Table of Contents",
   "title_sidebar": "Contents",
   "toc_cell": false,
   "toc_position": {},
   "toc_section_display": true,
   "toc_window_display": false
  }
 },
 "nbformat": 4,
 "nbformat_minor": 4
}
