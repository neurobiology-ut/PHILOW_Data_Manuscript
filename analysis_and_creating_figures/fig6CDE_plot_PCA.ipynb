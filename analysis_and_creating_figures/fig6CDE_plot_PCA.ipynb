{
 "cells": [
  {
   "cell_type": "code",
   "execution_count": null,
   "id": "6cfbead2",
   "metadata": {},
   "outputs": [],
   "source": [
    "%matplotlib inline\n",
    "import pandas as pd\n",
    "import seaborn as sns\n",
    "import matplotlib.pyplot as plt\n",
    "import numpy as np\n",
    "from sklearn.cluster import KMeans\n",
    "from sklearn.preprocessing import StandardScaler, MinMaxScaler\n",
    "from sklearn.decomposition import PCA \n",
    "from scipy import stats\n",
    "import os\n",
    "\n",
    "from mpl_toolkits.mplot3d import Axes3D"
   ]
  },
  {
   "cell_type": "code",
   "execution_count": null,
   "id": "6a805b42",
   "metadata": {},
   "outputs": [],
   "source": [
    "raw_df = pd.read_csv(\"Z:/DeepLearningData/research_010_NIH3T3/shCtrl_003/data/compare_OPA1/quantification_result_shCtrl_003_shOPA1_003.csv\")\n",
    "raw_df"
   ]
  },
  {
   "cell_type": "code",
   "execution_count": null,
   "id": "71d9fe70",
   "metadata": {},
   "outputs": [],
   "source": [
    "# 大きいMitoは除く\n",
    "ctrl_df = raw_df[raw_df[\"Gene\"] == \"shCtrl\"]\n",
    "ctrl_pca_df = ctrl_df[[\"mito_S_px\", \"mito_V_px\", \"cristae_S_px\", \"cristae_V_px\", \"tubular_S/cristae_S\",  \"tubular_V/cristae_V\", \"re_extract_CJ_number_no_1px_2px/IMM_50m\", \"mito_max_L/mito_min_L\", \"form_factor\"]]\n",
    "\n",
    "ctrl_df_ = ctrl_pca_df[ctrl_pca_df[\"mito_V_px\"] != 2883123.0]\n",
    "ctrl_df_"
   ]
  },
  {
   "cell_type": "code",
   "execution_count": null,
   "id": "d00cafa6",
   "metadata": {},
   "outputs": [],
   "source": [
    "kd_df = raw_df[raw_df[\"Gene\"] == \"shOPA1\"]\n",
    "kd_df_ = kd_df[[\"mito_S_px\", \"mito_V_px\", \"cristae_S_px\", \"cristae_V_px\", \"tubular_S/cristae_S\",  \"tubular_V/cristae_V\", \"re_extract_CJ_number_no_1px_2px/IMM_50m\", \"mito_max_L/mito_min_L\", \"form_factor\"]]\n",
    "kd_df_ = kd_df_[kd_df_[\"tubular_V/cristae_V\"] != '#DIV/0!']\n",
    "kd_df_"
   ]
  },
  {
   "cell_type": "markdown",
   "id": "3ec1dd1f",
   "metadata": {},
   "source": [
    "# PCA"
   ]
  },
  {
   "cell_type": "code",
   "execution_count": null,
   "id": "f16fe9b4",
   "metadata": {},
   "outputs": [],
   "source": [
    "scaler = MinMaxScaler()\n",
    "scaler.fit(ctrl_df_)\n",
    "scaled_ctrl_df = scaler.transform(ctrl_df_)\n",
    "scaled_ctrl_df"
   ]
  },
  {
   "cell_type": "code",
   "execution_count": null,
   "id": "42461958",
   "metadata": {},
   "outputs": [],
   "source": [
    "km = KMeans(\n",
    "    n_clusters=3,\n",
    "    random_state=0\n",
    ")\n",
    "ctrl_km = km.fit_predict(scaled_ctrl_df)"
   ]
  },
  {
   "cell_type": "code",
   "execution_count": null,
   "id": "92dbc9b2",
   "metadata": {},
   "outputs": [],
   "source": [
    "pca = PCA(random_state=0)\n",
    "pca.fit(scaled_ctrl_df)\n",
    "feature_ctrl = pca.transform(scaled_ctrl_df)"
   ]
  },
  {
   "cell_type": "code",
   "execution_count": null,
   "id": "b7c2140c",
   "metadata": {},
   "outputs": [],
   "source": [
    "scaled_kd_df = scaler.transform(kd_df_)\n",
    "scaled_kd_df"
   ]
  },
  {
   "cell_type": "code",
   "execution_count": null,
   "id": "484608b6",
   "metadata": {},
   "outputs": [],
   "source": [
    "feature_kd = pca.transform(scaled_kd_df)"
   ]
  },
  {
   "cell_type": "code",
   "execution_count": null,
   "id": "fd5e6216",
   "metadata": {},
   "outputs": [],
   "source": [
    "plt.figure(figsize=(10, 10))\n",
    "ax = plt.subplot(111, projection='3d')\n",
    "\n",
    "for x, y, z, name in zip(pca.components_[0], pca.components_[2], pca.components_[1], ctrl_df_.columns):\n",
    "    ax.text(x, y, z, name)\n",
    "    \n",
    "ax.scatter(pca.components_[0], pca.components_[2], pca.components_[1], alpha=0.8)\n",
    "ax.grid()\n",
    "ax.view_init(azim=-25, elev= 35)\n",
    "\n",
    "ax.set_xlabel(\"PC1\")\n",
    "ax.set_ylabel(\"PC3\")\n",
    "ax.set_zlabel(\"PC2\")\n",
    "\n",
    "ax.set_xlim([0, -1.0])\n",
    "ax.set_ylim([-1.0, 0])\n",
    "ax.set_zlim([0, 1.0])\n",
    "\n",
    "ax.scatter(0, 0, 0)\n",
    "\n",
    "\n",
    "plt.savefig(\"Z:/paper_data/2021_cristae/for_revision_#2/fig6C/PCA_orientation.svg\", format=\"svg\")"
   ]
  },
  {
   "cell_type": "code",
   "execution_count": null,
   "id": "de1d1f06",
   "metadata": {},
   "outputs": [],
   "source": [
    "plt.figure(figsize=(10, 10))\n",
    "ax = plt.subplot(111, projection='3d')\n",
    "\n",
    "ax.scatter(feature_kd[:, 0] , feature_kd[:, 2], feature_kd[:, 1], alpha=0.5, s=100)\n",
    "ax.scatter(feature_ctrl[:, 0] , feature_ctrl[:, 2], feature_ctrl[:, 1], alpha=0.5, s=100)\n",
    "\n",
    "ax.set_xlabel(\"PC1\")\n",
    "ax.set_ylabel(\"PC3\")\n",
    "ax.set_zlabel(\"PC2\")\n",
    "\n",
    "ax.view_init(azim=-25, elev= 35)\n",
    "\n",
    "ax.set_xlim([1.0, -1.0])\n",
    "ax.set_ylim([-1.0, 1.0])\n",
    "ax.set_zlim([-1.0, 1.0])\n",
    "\n",
    "plt.savefig(\"Z:/paper_data/2021_cristae/for_revision_#2/fig6C/PCA_3d.svg\", format=\"svg\")"
   ]
  },
  {
   "cell_type": "code",
   "execution_count": null,
   "id": "e0f754a9",
   "metadata": {},
   "outputs": [],
   "source": [
    "plt.figure(figsize=(6, 6))\n",
    "for x, y, name in zip(pca.components_[0], pca.components_[1], ctrl_df_.columns):\n",
    "    plt.text(x, y, name)\n",
    "plt.scatter(pca.components_[0], pca.components_[1], alpha=0.8)\n",
    "plt.grid()\n",
    "plt.xlabel(\"PC1\")\n",
    "plt.ylabel(\"PC2\")\n",
    "\n",
    "plt.xticks([-1.0,  -0.5, -0.0, 0.5, 1.0])\n",
    "plt.yticks([-1.0,  -0.5, -0.0, 0.5, 1.0])\n",
    "\n",
    "plt.savefig(\"Z:/paper_data/2021_cristae/for_revision_#2/fig6C/PCA_orientation_12.svg\", format=\"svg\")\n",
    "plt.show()"
   ]
  },
  {
   "cell_type": "code",
   "execution_count": null,
   "id": "f781668c",
   "metadata": {},
   "outputs": [],
   "source": [
    "plt.figure(figsize=(10, 10))\n",
    "\n",
    "plt.scatter(feature_kd[:, 0] , feature_kd[:, 1], alpha=0.5, s=100)\n",
    "plt.scatter(feature_ctrl[:, 0] , feature_ctrl[:, 1], alpha=0.5, s=100)\n",
    "\n",
    "plt.xlabel(\"PC1\")\n",
    "plt.ylabel(\"PC2\")\n",
    "\n",
    "plt.xticks([-1.0,  -0.5, -0.0, 0.5, 1.0])\n",
    "plt.yticks([-1.0,  -0.5, -0.0, 0.5, 1.0])\n",
    "\n",
    "ax.view_init(azim=45, elev= 45)\n",
    "plt.savefig(\"Z:/paper_data/2021_cristae/for_revision_#2/fig6C/PCA_12.svg\", format=\"svg\")"
   ]
  },
  {
   "cell_type": "markdown",
   "id": "88d122b5",
   "metadata": {},
   "source": [
    "# Ward's"
   ]
  },
  {
   "cell_type": "code",
   "execution_count": null,
   "id": "38eb3ad0",
   "metadata": {},
   "outputs": [],
   "source": [
    "ctrl_df_[\"Gene\"] = \"shCtrl\"\n",
    "kd_df_[\"Gene\"] = \"shOPA1\"\n",
    "\n",
    "all_df_ = pd.concat([ctrl_df_, kd_df_])\n",
    "all_df_"
   ]
  },
  {
   "cell_type": "code",
   "execution_count": null,
   "id": "5b06658f",
   "metadata": {},
   "outputs": [],
   "source": [
    "all_df_[[\"mito_S_px\", \"mito_V_px\", \"cristae_S_px\", \"cristae_V_px\", \"tubular_S/cristae_S\",  \"tubular_V/cristae_V\", \"re_extract_CJ_number_no_1px_2px/IMM_50m\", \"mito_max_L/mito_min_L\", \"form_factor\"]]\n"
   ]
  },
  {
   "cell_type": "code",
   "execution_count": null,
   "id": "bb312977",
   "metadata": {},
   "outputs": [],
   "source": [
    "# standardize\n",
    "\n",
    "scaler_= StandardScaler()\n",
    "scaler_.fit(\n",
    "    all_df_[[\"mito_S_px\", \"mito_V_px\", \"cristae_S_px\", \"cristae_V_px\", \"tubular_S/cristae_S\",  \"tubular_V/cristae_V\", \"re_extract_CJ_number_no_1px_2px/IMM_50m\", \"mito_max_L/mito_min_L\", \"form_factor\"]]\n",
    ")\n",
    "\n",
    "scaled_df_ = scaler_.transform(\n",
    "    all_df_[[\"mito_S_px\", \"mito_V_px\", \"cristae_S_px\", \"cristae_V_px\", \"tubular_S/cristae_S\",  \"tubular_V/cristae_V\", \"re_extract_CJ_number_no_1px_2px/IMM_50m\", \"mito_max_L/mito_min_L\", \"form_factor\"]]\n",
    ")\n"
   ]
  },
  {
   "cell_type": "code",
   "execution_count": null,
   "id": "5112816b",
   "metadata": {},
   "outputs": [],
   "source": [
    "scaled_df_indexed = pd.DataFrame(\n",
    "    scaled_df_, \n",
    "    columns=all_df_[[\"mito_S_px\", \"mito_V_px\", \"cristae_S_px\", \"cristae_V_px\", \"tubular_S/cristae_S\",  \"tubular_V/cristae_V\", \"re_extract_CJ_number_no_1px_2px/IMM_50m\", \"mito_max_L/mito_min_L\", \"form_factor\"]].columns)\n",
    "scaled_df_indexed"
   ]
  },
  {
   "cell_type": "code",
   "execution_count": null,
   "id": "3c78df12",
   "metadata": {},
   "outputs": [],
   "source": [
    "lut = dict(zip(all_df_['Gene'].unique(), [\"#ff7f0e\", \"#1f77b4\"]))\n",
    "lut"
   ]
  },
  {
   "cell_type": "code",
   "execution_count": null,
   "id": "a9227c14",
   "metadata": {},
   "outputs": [],
   "source": [
    "row_colors = all_df_['Gene'].map(lut)\n",
    "row_colors"
   ]
  },
  {
   "cell_type": "code",
   "execution_count": null,
   "id": "32063c61",
   "metadata": {},
   "outputs": [],
   "source": [
    "sns_plot = sns.clustermap(\n",
    "    scaled_df_indexed, \n",
    "    method='ward', \n",
    "    metric='euclidean', \n",
    "    figsize=(15,15), \n",
    "    cmap='magma', \n",
    "    row_colors=row_colors,\n",
    "    vmin=-1.5,\n",
    "    vmax=5\n",
    ")\n",
    "\n",
    "plt.savefig(\"Z:/paper_data/2021_cristae/for_revision_#2/fig6E/heatmap_without_angle.svg\", format=\"svg\")"
   ]
  },
  {
   "cell_type": "code",
   "execution_count": null,
   "id": "c4385eff",
   "metadata": {},
   "outputs": [],
   "source": []
  }
 ],
 "metadata": {
  "kernelspec": {
   "display_name": "Python 3",
   "language": "python",
   "name": "python3"
  },
  "language_info": {
   "codemirror_mode": {
    "name": "ipython",
    "version": 3
   },
   "file_extension": ".py",
   "mimetype": "text/x-python",
   "name": "python",
   "nbconvert_exporter": "python",
   "pygments_lexer": "ipython3",
   "version": "3.7.16"
  },
  "toc": {
   "base_numbering": 1,
   "nav_menu": {},
   "number_sections": true,
   "sideBar": true,
   "skip_h1_title": false,
   "title_cell": "Table of Contents",
   "title_sidebar": "Contents",
   "toc_cell": false,
   "toc_position": {},
   "toc_section_display": true,
   "toc_window_display": false
  }
 },
 "nbformat": 4,
 "nbformat_minor": 5
}
