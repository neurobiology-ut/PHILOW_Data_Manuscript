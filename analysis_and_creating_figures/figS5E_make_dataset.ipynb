{
 "cells": [
  {
   "cell_type": "code",
   "execution_count": null,
   "metadata": {},
   "outputs": [],
   "source": [
    "%matplotlib inline\n",
    "#%matplotlib notebook\n",
    "import pandas as pd\n",
    "import seaborn as sns\n",
    "import matplotlib.pyplot as plt\n",
    "import numpy as np\n",
    "from sklearn.preprocessing import StandardScaler\n",
    "from sklearn.decomposition import PCA \n",
    "from scipy import stats\n",
    "import copy"
   ]
  },
  {
   "cell_type": "code",
   "execution_count": null,
   "metadata": {},
   "outputs": [],
   "source": [
    "df = pd.read_csv('./quantification_result_shCtrl_shOPA1.csv')\n",
    "df"
   ]
  },
  {
   "cell_type": "code",
   "execution_count": null,
   "metadata": {},
   "outputs": [],
   "source": [
    "df['tubular_S_ratio'] = df['tubular_S_px']/(df['lamellar_S_px'] + df['tubular_S_px'])\n",
    "df['tubular_V_ratio'] = df['tubular_V_px']/(df['lamellar_V_px'] + df['tubular_V_px'])"
   ]
  },
  {
   "cell_type": "code",
   "execution_count": null,
   "metadata": {},
   "outputs": [],
   "source": [
    "df_a = pd.read_csv('./for_paper/angles_ctrl.csv')\n",
    "df2_a = pd.read_csv('./for_paper/angles_opa1.csv')\n",
    "df_c = pd.concat([df_a,df2_a])\n",
    "df_c"
   ]
  },
  {
   "cell_type": "code",
   "execution_count": null,
   "metadata": {},
   "outputs": [],
   "source": [
    "df_c['mito_V_px'] = df_c['mito_V_px'].astype('int')\n",
    "df_c"
   ]
  },
  {
   "cell_type": "code",
   "execution_count": null,
   "metadata": {},
   "outputs": [],
   "source": [
    "df = df.merge(df_c, on='mito_V_px')\n",
    "df"
   ]
  },
  {
   "cell_type": "code",
   "execution_count": null,
   "metadata": {},
   "outputs": [],
   "source": [
    "df2= df[['Gene', 'tubular_S_ratio', 'tubular_V_ratio','cristae_S_px', 'cristae_V_px', 'mito_S_px', 'mito_V_px']]\n",
    "df2= df2[df2['cristae_S_px']!=0] # exclude mitochondria without cristae\n",
    "df2 = df2.drop(36).reset_index(drop=True) # exclude one mitochondrion with extremely large volume\n",
    "df4 = df2.drop('Gene', axis=1)\n",
    "df4_ctrl = df2[df2['Gene']=='shCtrl'].drop('Gene', axis=1) #　extract control\n",
    "df4_ctrl "
   ]
  },
  {
   "cell_type": "code",
   "execution_count": null,
   "metadata": {},
   "outputs": [],
   "source": [
    "df5 = copy.copy(df2)\n",
    "df5['PC1'] = feature[:, 0]\n",
    "df5['PC2'] = feature[:, 1]\n",
    "df5"
   ]
  },
  {
   "cell_type": "code",
   "execution_count": null,
   "metadata": {},
   "outputs": [],
   "source": [
    "print(len(df5[(df5['PC2']>=-1)&(df5['PC2']<1.5)&(df5['Gene']=='shOPA1')]))\n",
    "print(len(df5[(df5['PC2']>=1.5)&(df5['Gene']=='shOPA1')]))"
   ]
  },
  {
   "cell_type": "code",
   "execution_count": null,
   "metadata": {},
   "outputs": [],
   "source": [
    "df5[(df5['PC2']>=-1)&(df5['PC2']<1.5)].to_csv('data_PC2thresh.csv')"
   ]
  }
 ],
 "metadata": {
  "kernelspec": {
   "display_name": "Python 3",
   "language": "python",
   "name": "python3"
  },
  "language_info": {
   "codemirror_mode": {
    "name": "ipython",
    "version": 3
   },
   "file_extension": ".py",
   "mimetype": "text/x-python",
   "name": "python",
   "nbconvert_exporter": "python",
   "pygments_lexer": "ipython3",
   "version": "3.7.0"
  },
  "toc": {
   "base_numbering": 1,
   "nav_menu": {},
   "number_sections": true,
   "sideBar": true,
   "skip_h1_title": false,
   "title_cell": "Table of Contents",
   "title_sidebar": "Contents",
   "toc_cell": false,
   "toc_position": {},
   "toc_section_display": true,
   "toc_window_display": false
  }
 },
 "nbformat": 4,
 "nbformat_minor": 4
}
