{
 "cells": [
  {
   "cell_type": "code",
   "execution_count": null,
   "id": "21861d48",
   "metadata": {},
   "outputs": [],
   "source": [
    "import tifffile\n",
    "import cv2\n",
    "import os\n",
    "\n",
    "%matplotlib inline\n",
    "import matplotlib.pyplot as plt\n",
    "import os\n",
    "import numpy as np\n",
    "import cv2\n",
    "from PIL import Image\n",
    "from tqdm.notebook import tqdm\n",
    "from scipy.ndimage import label"
   ]
  },
  {
   "cell_type": "markdown",
   "id": "d216baf5",
   "metadata": {},
   "source": [
    "# stack → images with margin"
   ]
  },
  {
   "cell_type": "markdown",
   "id": "6fc84b5b",
   "metadata": {},
   "source": [
    "## shCtrl_003\n",
    "### cropped_003"
   ]
  },
  {
   "cell_type": "code",
   "execution_count": null,
   "id": "d74dcf6e",
   "metadata": {},
   "outputs": [],
   "source": [
    "input_path = \"Z:DeepLearningData/research_010_NIH3T3/shCtrl_003/dataset/cropped_003/raw.tif\"\n",
    "original_stack = tifffile.imread(input_path)\n",
    "original_stack.shape"
   ]
  },
  {
   "cell_type": "code",
   "execution_count": null,
   "id": "a7ecdbe0",
   "metadata": {},
   "outputs": [],
   "source": [
    "large_stack = np.zeros((original_stack.shape[0], original_stack.shape[1]*2, int(original_stack.shape[2]*1.5)), int)\n",
    "large_stack[:, 100:1784, 400:6328] = original_stack"
   ]
  },
  {
   "cell_type": "code",
   "execution_count": null,
   "id": "d78cf290",
   "metadata": {},
   "outputs": [],
   "source": [
    "output_path = \"Z:/DeepLearningData/research_010_NIH3T3/shCtrl_003/dataset/cropped_003/large_raw\"\n",
    "os.makedirs(output_path, exist_ok = True)\n",
    "\n",
    "for i in range(large_stack.shape[0]):\n",
    "    cv2.imwrite(\n",
    "        f\"{output_path}/{str(i).zfill(4)}.png\",\n",
    "        large_stack[i]\n",
    "    )"
   ]
  },
  {
   "cell_type": "markdown",
   "id": "b1e90c33",
   "metadata": {},
   "source": [
    "### cropped_004"
   ]
  },
  {
   "cell_type": "code",
   "execution_count": null,
   "id": "9d1d0f86",
   "metadata": {},
   "outputs": [],
   "source": [
    "input_path = \"Z:DeepLearningData/research_010_NIH3T3/shCtrl_003/dataset/cropped_004/raw.tif\"\n",
    "original_stack = tifffile.imread(input_path)\n",
    "original_stack.shape"
   ]
  },
  {
   "cell_type": "code",
   "execution_count": null,
   "id": "c3671f5a",
   "metadata": {},
   "outputs": [],
   "source": [
    "large_stack = np.zeros((original_stack.shape[0], original_stack.shape[1], int(original_stack.shape[2]*1.5)), int)\n",
    "large_stack[:, :, 2000:6324] = original_stack"
   ]
  },
  {
   "cell_type": "code",
   "execution_count": null,
   "id": "531a196c",
   "metadata": {},
   "outputs": [],
   "source": [
    "output_path = \"Z:/DeepLearningData/research_010_NIH3T3/shCtrl_003/dataset/cropped_004/large_raw\"\n",
    "os.makedirs(output_path, exist_ok = True)\n",
    "\n",
    "for i in range(large_stack.shape[0]):\n",
    "    cv2.imwrite(\n",
    "        f\"{output_path}/{str(i).zfill(4)}.png\",\n",
    "        large_stack[i]\n",
    "    )"
   ]
  },
  {
   "cell_type": "markdown",
   "id": "ba0a5a7f",
   "metadata": {},
   "source": [
    "## shOPA1"
   ]
  },
  {
   "cell_type": "markdown",
   "id": "12fdd4bf",
   "metadata": {},
   "source": [
    "### cropped_005"
   ]
  },
  {
   "cell_type": "code",
   "execution_count": null,
   "id": "bacd01db",
   "metadata": {},
   "outputs": [],
   "source": [
    "input_path = \"Z:DeepLearningData/research_010_NIH3T3/shCtrl_003/dataset/cropped_001/rigid64_rigid256_affine256.tif\"\n",
    "original_stack = tifffile.imread(input_path)\n",
    "original_stack.shape"
   ]
  },
  {
   "cell_type": "code",
   "execution_count": null,
   "id": "fc723bb6",
   "metadata": {},
   "outputs": [],
   "source": [
    "large_stack = np.zeros((original_stack.shape[0], int(original_stack.shape[1] * 1.5), int(original_stack.shape[2]*1.5)), int)\n",
    "large_stack[:, 500:2806, 500:2439] = original_stack"
   ]
  },
  {
   "cell_type": "code",
   "execution_count": null,
   "id": "56b2ba02",
   "metadata": {},
   "outputs": [],
   "source": [
    "output_path = \"Z:/DeepLearningData/research_010_NIH3T3/shOPA1_003/dataset/cropped_005/large_raw\"\n",
    "os.makedirs(output_path, exist_ok = True)\n",
    "\n",
    "for i in range(large_stack.shape[0]):\n",
    "    cv2.imwrite(\n",
    "        f\"{output_path}/{str(i).zfill(4)}.png\",\n",
    "        large_stack[i]\n",
    "    )"
   ]
  },
  {
   "cell_type": "markdown",
   "id": "752e8ed0",
   "metadata": {},
   "source": [
    "# stack → images"
   ]
  },
  {
   "cell_type": "markdown",
   "id": "3dfa23b0",
   "metadata": {},
   "source": [
    "## shCtrl"
   ]
  },
  {
   "cell_type": "markdown",
   "id": "0c90161b",
   "metadata": {},
   "source": [
    "### cropped_001"
   ]
  },
  {
   "cell_type": "code",
   "execution_count": null,
   "id": "85be97db",
   "metadata": {},
   "outputs": [],
   "source": [
    "input_path = \"Z:DeepLearningData/research_010_NIH3T3/shCtrl_003/dataset/cropped_001/rigid64_rigid256_affine256.tif\"\n",
    "original_stack = tifffile.imread(input_path)\n",
    "original_stack.shape"
   ]
  },
  {
   "cell_type": "code",
   "execution_count": null,
   "id": "4cd4f074",
   "metadata": {},
   "outputs": [],
   "source": [
    "output_path = \"Z:/DeepLearningData/research_010_NIH3T3/shCtrl_003/dataset/cropped_001/original\"\n",
    "os.makedirs(output_path, exist_ok = True)\n",
    "\n",
    "for i in range(original_stack.shape[0]):\n",
    "    cv2.imwrite(\n",
    "        f\"{output_path}/{str(i).zfill(4)}.png\",\n",
    "        original_stack[i]\n",
    "    )"
   ]
  },
  {
   "cell_type": "markdown",
   "id": "96865fc4",
   "metadata": {},
   "source": [
    "### cropped_002"
   ]
  },
  {
   "cell_type": "code",
   "execution_count": null,
   "id": "23496c32",
   "metadata": {},
   "outputs": [],
   "source": [
    "input_path = \"Z:DeepLearningData/research_010_NIH3T3/shCtrl_003/dataset/cropped_002/rigid64_rigid256_affine256.tif\"\n",
    "original_stack = tifffile.imread(input_path)\n",
    "original_stack.shape"
   ]
  },
  {
   "cell_type": "code",
   "execution_count": null,
   "id": "de374b8d",
   "metadata": {},
   "outputs": [],
   "source": [
    "output_path = \"Z:/DeepLearningData/research_010_NIH3T3/shCtrl_003/dataset/cropped_002/original\"\n",
    "os.makedirs(output_path, exist_ok = True)\n",
    "\n",
    "for i in range(original_stack.shape[0]):\n",
    "    cv2.imwrite(\n",
    "        f\"{output_path}/{str(i).zfill(4)}.png\",\n",
    "        original_stack[i]\n",
    "    )"
   ]
  },
  {
   "cell_type": "markdown",
   "id": "0f4b512c",
   "metadata": {},
   "source": [
    "### cropped_003"
   ]
  },
  {
   "cell_type": "code",
   "execution_count": null,
   "id": "51de71cc",
   "metadata": {},
   "outputs": [],
   "source": [
    "input_path = \"Z:DeepLearningData/research_010_NIH3T3/shCtrl_003/dataset/cropped_003/rigid64_rigid256_affine256.tif\"\n",
    "original_stack = tifffile.imread(input_path)\n",
    "original_stack.shape"
   ]
  },
  {
   "cell_type": "code",
   "execution_count": null,
   "id": "463d6988",
   "metadata": {},
   "outputs": [],
   "source": [
    "output_path = \"Z:/DeepLearningData/research_010_NIH3T3/shCtrl_003/dataset/cropped_003/original\"\n",
    "os.makedirs(output_path, exist_ok = True)\n",
    "\n",
    "for i in range(original_stack.shape[0]):\n",
    "    cv2.imwrite(\n",
    "        f\"{output_path}/{str(i).zfill(4)}.png\",\n",
    "        original_stack[i]\n",
    "    )"
   ]
  },
  {
   "cell_type": "markdown",
   "id": "e561fcde",
   "metadata": {},
   "source": [
    "### cropped_004"
   ]
  },
  {
   "cell_type": "code",
   "execution_count": null,
   "id": "c8e1033b",
   "metadata": {},
   "outputs": [],
   "source": [
    "input_path = \"Z:DeepLearningData/research_010_NIH3T3/shCtrl_003/dataset/cropped_004/rigid64_rigid256_affine256.tif\"\n",
    "original_stack = tifffile.imread(input_path)\n",
    "original_stack.shape"
   ]
  },
  {
   "cell_type": "code",
   "execution_count": null,
   "id": "3bafd26b",
   "metadata": {},
   "outputs": [],
   "source": [
    "output_path = \"Z:/DeepLearningData/research_010_NIH3T3/shCtrl_003/dataset/cropped_004/original\"\n",
    "os.makedirs(output_path, exist_ok = True)\n",
    "\n",
    "for i in range(original_stack.shape[0]):\n",
    "    cv2.imwrite(\n",
    "        f\"{output_path}/{str(i).zfill(4)}.png\",\n",
    "        original_stack[i]\n",
    "    )"
   ]
  },
  {
   "cell_type": "markdown",
   "id": "52408baf",
   "metadata": {},
   "source": [
    "### cropped_005"
   ]
  },
  {
   "cell_type": "code",
   "execution_count": null,
   "id": "dccb38ae",
   "metadata": {},
   "outputs": [],
   "source": [
    "input_path = \"Z:DeepLearningData/research_010_NIH3T3/shCtrl_003/dataset/cropped_005/rigid64_rigid256_affine256.tif\"\n",
    "original_stack = tifffile.imread(input_path)\n",
    "original_stack.shape"
   ]
  },
  {
   "cell_type": "code",
   "execution_count": null,
   "id": "45f0eb12",
   "metadata": {},
   "outputs": [],
   "source": [
    "output_path = \"Z:/DeepLearningData/research_010_NIH3T3/shCtrl_003/dataset/cropped_005/original\"\n",
    "os.makedirs(output_path, exist_ok = True)\n",
    "\n",
    "for i in range(original_stack.shape[0]):\n",
    "    cv2.imwrite(\n",
    "        f\"{output_path}/{str(i).zfill(4)}.png\",\n",
    "        original_stack[i]\n",
    "    )"
   ]
  },
  {
   "cell_type": "markdown",
   "id": "59c1cfa5",
   "metadata": {},
   "source": [
    "## shOPA1"
   ]
  },
  {
   "cell_type": "markdown",
   "id": "80e05976",
   "metadata": {},
   "source": [
    "### cropped_001"
   ]
  },
  {
   "cell_type": "code",
   "execution_count": null,
   "id": "b903758b",
   "metadata": {},
   "outputs": [],
   "source": [
    "input_path = \"Z:DeepLearningData/research_010_NIH3T3/shOPA1_003/dataset/cropped_001/rigid64_rigid256_affine256.tif\"\n",
    "original_stack = tifffile.imread(input_path)\n",
    "original_stack.shape"
   ]
  },
  {
   "cell_type": "code",
   "execution_count": null,
   "id": "f0def6d1",
   "metadata": {},
   "outputs": [],
   "source": [
    "output_path = \"Z:/DeepLearningData/research_010_NIH3T3/shOPA1_003/dataset/cropped_001/original\"\n",
    "os.makedirs(output_path, exist_ok = True)\n",
    "\n",
    "for i in range(original_stack.shape[0]):\n",
    "    cv2.imwrite(\n",
    "        f\"{output_path}/{str(i).zfill(4)}.png\",\n",
    "        original_stack[i]\n",
    "    )"
   ]
  },
  {
   "cell_type": "markdown",
   "id": "7b9421c5",
   "metadata": {},
   "source": [
    "###  cropped_002"
   ]
  },
  {
   "cell_type": "code",
   "execution_count": null,
   "id": "aa883f29",
   "metadata": {},
   "outputs": [],
   "source": [
    "input_path = \"Z:DeepLearningData/research_010_NIH3T3/shOPA1_003/dataset/cropped_002/rigid64_rigid256_affine256.tif\"\n",
    "original_stack = tifffile.imread(input_path)\n",
    "original_stack.shape"
   ]
  },
  {
   "cell_type": "code",
   "execution_count": null,
   "id": "e75d6547",
   "metadata": {},
   "outputs": [],
   "source": [
    "output_path = \"Z:/DeepLearningData/research_010_NIH3T3/shOPA1_003/dataset/cropped_002/original\"\n",
    "os.makedirs(output_path, exist_ok = True)\n",
    "\n",
    "for i in range(original_stack.shape[0]):\n",
    "    cv2.imwrite(\n",
    "        f\"{output_path}/{str(i).zfill(4)}.png\",\n",
    "        original_stack[i]\n",
    "    )"
   ]
  },
  {
   "cell_type": "markdown",
   "id": "b45e848a",
   "metadata": {},
   "source": [
    "### cropped_003"
   ]
  },
  {
   "cell_type": "code",
   "execution_count": null,
   "id": "4f5aa6f5",
   "metadata": {},
   "outputs": [],
   "source": [
    "input_path = \"Z:DeepLearningData/research_010_NIH3T3/shOPA1_003/dataset/cropped_003/rigid64_rigid256_affine256.tif\"\n",
    "original_stack = tifffile.imread(input_path)\n",
    "original_stack.shape"
   ]
  },
  {
   "cell_type": "code",
   "execution_count": null,
   "id": "8e3691ee",
   "metadata": {},
   "outputs": [],
   "source": [
    "output_path = \"Z:/DeepLearningData/research_010_NIH3T3/shOPA1_003/dataset/cropped_003/original\"\n",
    "os.makedirs(output_path, exist_ok = True)\n",
    "\n",
    "for i in range(original_stack.shape[0]):\n",
    "    cv2.imwrite(\n",
    "        f\"{output_path}/{str(i).zfill(4)}.png\",\n",
    "        original_stack[i]\n",
    "    )"
   ]
  },
  {
   "cell_type": "markdown",
   "id": "7b06bd95",
   "metadata": {},
   "source": [
    "### cropped_004"
   ]
  },
  {
   "cell_type": "code",
   "execution_count": null,
   "id": "abbb0cb8",
   "metadata": {},
   "outputs": [],
   "source": [
    "input_path = \"Z:DeepLearningData/research_010_NIH3T3/shOPA1_003/dataset/cropped_004/rigid64_rigid256_affine256.tif\"\n",
    "original_stack = tifffile.imread(input_path)\n",
    "original_stack.shape"
   ]
  },
  {
   "cell_type": "code",
   "execution_count": null,
   "id": "6b8b8a41",
   "metadata": {},
   "outputs": [],
   "source": [
    "output_path = \"Z:/DeepLearningData/research_010_NIH3T3/shOPA1_004/dataset/cropped_004/original\"\n",
    "os.makedirs(output_path, exist_ok = True)\n",
    "\n",
    "for i in range(original_stack.shape[0]):\n",
    "    cv2.imwrite(\n",
    "        f\"{output_path}/{str(i).zfill(4)}.png\",\n",
    "        original_stack[i]\n",
    "    )"
   ]
  },
  {
   "cell_type": "markdown",
   "id": "34ffd1cd",
   "metadata": {},
   "source": [
    "### cropped_005"
   ]
  },
  {
   "cell_type": "code",
   "execution_count": null,
   "id": "87f96880",
   "metadata": {},
   "outputs": [],
   "source": [
    "input_path = \"Z:DeepLearningData/research_010_NIH3T3/shOPA1_003/dataset/cropped_005/rigid64_rigid256_affine256.tif\"\n",
    "original_stack = tifffile.imread(input_path)\n",
    "original_stack.shape"
   ]
  },
  {
   "cell_type": "code",
   "execution_count": null,
   "id": "14e14e14",
   "metadata": {},
   "outputs": [],
   "source": [
    "output_path = \"Z:/DeepLearningData/research_010_NIH3T3/shOPA1_004/dataset/cropped_005/original\"\n",
    "os.makedirs(output_path, exist_ok = True)\n",
    "\n",
    "for i in range(original_stack.shape[0]):\n",
    "    cv2.imwrite(\n",
    "        f\"{output_path}/{str(i).zfill(4)}.png\",\n",
    "        original_stack[i]\n",
    "    )"
   ]
  },
  {
   "cell_type": "markdown",
   "id": "7d93ebe2",
   "metadata": {},
   "source": [
    "# 5x5x10 → 10x10x10"
   ]
  },
  {
   "cell_type": "code",
   "execution_count": null,
   "id": "61ef5849",
   "metadata": {},
   "outputs": [],
   "source": [
    "def normalize_x(image):\n",
    "    return image / 127.5 - 1\n",
    "\n",
    "def denormalize_x(image):\n",
    "    return (image + 1) * 127.5\n",
    "\n",
    "def normalize_y(image):\n",
    "    return image / 255\n",
    "\n",
    "def denormalize_y(image):\n",
    "    return image * 255"
   ]
  },
  {
   "cell_type": "code",
   "execution_count": null,
   "id": "a82c6fea",
   "metadata": {},
   "outputs": [],
   "source": [
    "# インプット画像を読み込む関数\n",
    "def load_X_gray(folder_path):\n",
    "    \n",
    "    image_files = []\n",
    "\n",
    "    #image_files = os.listdir(folder_path)\n",
    "       \n",
    "    for file in os.listdir(folder_path):\n",
    "        base, ext = os.path.splitext(file)\n",
    "        if ext == '.png':\n",
    "            image_files.append(file)\n",
    "        else :\n",
    "            pass\n",
    "        \n",
    "    image_files.sort()\n",
    "    \n",
    "    img = cv2.imread(folder_path + os.sep + image_files[0], cv2.IMREAD_GRAYSCALE)\n",
    "    \n",
    "    #image_files = image_files[1:]\n",
    "    images = np.zeros((len(image_files), img.shape[0], img.shape[1], 1), np.float32)\n",
    "    for i, image_file in tqdm(enumerate(image_files)):\n",
    "        image = cv2.imread(folder_path + os.sep + image_file, cv2.IMREAD_GRAYSCALE)\n",
    "        #image = cv2.resize(image, (IMAGE_SIZE, IMAGE_SIZE))\n",
    "        image = image[:, :, np.newaxis]\n",
    "        images[i] = normalize_x(image)\n",
    "    \n",
    "    print(images.shape)\n",
    "    \n",
    "    return images, image_files\n",
    "\n",
    "\n",
    "def load_Y_gray(folder_path, thresh = None , normalize = True, g_size = None):\n",
    "    image_files = []\n",
    "    #image_files = os.listdir(folder_path)\n",
    "    \n",
    "    for file in os.listdir(folder_path):\n",
    "        base, ext = os.path.splitext(file)\n",
    "        if ext == '.png':\n",
    "            image_files.append(file)\n",
    "        else:\n",
    "            pass\n",
    "        \n",
    "    image_files.sort()\n",
    "    \n",
    "    img = cv2.imread(folder_path + os.sep + image_files[0], cv2.IMREAD_GRAYSCALE)\n",
    "    \n",
    "    images = np.zeros(\n",
    "        (len(image_files), img.shape[0], img.shape[1], 1) ,np.float32\n",
    "    )\n",
    "    \n",
    "    for i , image_file in tqdm(enumerate(image_files)):\n",
    "        image = cv2.imread(\n",
    "            folder_path + os.sep + image_file ,\n",
    "            cv2.IMREAD_GRAYSCALE\n",
    "        )\n",
    "        #print(image.shape)\n",
    "        \n",
    "        if g_size:\n",
    "            image = cv2.GaussianBlur(\n",
    "                image, (g_size, g_size), 0\n",
    "            )        \n",
    "        \n",
    "        if thresh:\n",
    "            ret , image = cv2.threshold(image , thresh , 255 , cv2.THRESH_BINARY)\n",
    "        image = image[ : , : , np.newaxis]\n",
    "        if normalize:\n",
    "            images[i] = normalize_y(image)\n",
    "        else:\n",
    "            images[i] = image\n",
    "            \n",
    "    print(images.shape)\n",
    "    \n",
    "    return images , image_files"
   ]
  },
  {
   "cell_type": "markdown",
   "id": "8e7a94a1",
   "metadata": {},
   "source": [
    "## shCtrl"
   ]
  },
  {
   "cell_type": "markdown",
   "id": "5e154c51",
   "metadata": {},
   "source": [
    "### cropped_001"
   ]
  },
  {
   "cell_type": "code",
   "execution_count": null,
   "id": "8c4f8088",
   "metadata": {},
   "outputs": [],
   "source": [
    "ori_imgs, _ = load_X_gray(\"Z:/DeepLearningData/research_010_NIH3T3/shCtrl_003/dataset/cropped_001/original/\")\n",
    "\n",
    "out_dir = \"Z:/DeepLearningData/research_010_NIH3T3/shCtrl_003/dataset/cropped_001/resize_10x10x10/\"\n",
    "\n",
    "os.makedirs(out_dir, exist_ok = True)\n",
    "for i in tqdm(range(ori_imgs.shape[0])):\n",
    "    img = cv2.resize(\n",
    "        ori_imgs[i], (ori_imgs.shape[2] // 2, ori_imgs.shape[1] // 2)\n",
    "    )\n",
    "    cv2.imwrite(\n",
    "        f\"{out_dir}/{str(i).zfill(4)}.png\",\n",
    "        denormalize_x(img)\n",
    "    )"
   ]
  },
  {
   "cell_type": "markdown",
   "id": "e872f42b",
   "metadata": {},
   "source": [
    "### cropped_002"
   ]
  },
  {
   "cell_type": "code",
   "execution_count": null,
   "id": "95178e8a",
   "metadata": {},
   "outputs": [],
   "source": [
    "ori_imgs, _ = load_X_gray(\"Z:/DeepLearningData/research_010_NIH3T3/shCtrl_003/dataset/cropped_002/original/\")\n",
    "\n",
    "out_dir = \"Z:/DeepLearningData/research_010_NIH3T3/shCtrl_003/dataset/cropped_002/resize_10x10x10/\"\n",
    "\n",
    "os.makedirs(out_dir, exist_ok = True)\n",
    "for i in tqdm(range(ori_imgs.shape[0])):\n",
    "    img = cv2.resize(\n",
    "        ori_imgs[i], (ori_imgs.shape[2] // 2, ori_imgs.shape[1] // 2)\n",
    "    )\n",
    "    cv2.imwrite(\n",
    "        f\"{out_dir}/{str(i).zfill(4)}.png\",\n",
    "        denormalize_x(img)\n",
    "    )"
   ]
  },
  {
   "cell_type": "markdown",
   "id": "cd32e208",
   "metadata": {},
   "source": [
    "### cropped_003"
   ]
  },
  {
   "cell_type": "code",
   "execution_count": null,
   "id": "265ddd2d",
   "metadata": {},
   "outputs": [],
   "source": [
    "ori_imgs, _ = load_X_gray(\"Z:/DeepLearningData/research_010_NIH3T3/shCtrl_003/dataset/cropped_003/original/\")\n",
    "\n",
    "out_dir = \"Z:/DeepLearningData/research_010_NIH3T3/shCtrl_003/dataset/cropped_003/resize_10x10x10/\"\n",
    "\n",
    "os.makedirs(out_dir, exist_ok = True)\n",
    "for i in tqdm(range(ori_imgs.shape[0])):\n",
    "    img = cv2.resize(\n",
    "        ori_imgs[i], (ori_imgs.shape[2] // 2, ori_imgs.shape[1] // 2)\n",
    "    )\n",
    "    cv2.imwrite(\n",
    "        f\"{out_dir}/{str(i).zfill(4)}.png\",\n",
    "        denormalize_x(img)\n",
    "    )"
   ]
  },
  {
   "cell_type": "markdown",
   "id": "72e21b25",
   "metadata": {},
   "source": [
    "### cropped_004"
   ]
  },
  {
   "cell_type": "code",
   "execution_count": null,
   "id": "658b865b",
   "metadata": {},
   "outputs": [],
   "source": [
    "ori_imgs, _ = load_X_gray(\"Z:/DeepLearningData/research_010_NIH3T3/shCtrl_003/dataset/cropped_004/original/\")\n",
    "\n",
    "out_dir = \"Z:/DeepLearningData/research_010_NIH3T3/shCtrl_003/dataset/cropped_004/resize_10x10x10/\"\n",
    "\n",
    "os.makedirs(out_dir, exist_ok = True)\n",
    "for i in tqdm(range(ori_imgs.shape[0])):\n",
    "    img = cv2.resize(\n",
    "        ori_imgs[i], (ori_imgs.shape[2] // 2, ori_imgs.shape[1] // 2)\n",
    "    )\n",
    "    cv2.imwrite(\n",
    "        f\"{out_dir}/{str(i).zfill(4)}.png\",\n",
    "        denormalize_x(img)\n",
    "    )"
   ]
  },
  {
   "cell_type": "markdown",
   "id": "0a03c473",
   "metadata": {},
   "source": [
    "### cropped_005"
   ]
  },
  {
   "cell_type": "code",
   "execution_count": null,
   "id": "60411b3b",
   "metadata": {},
   "outputs": [],
   "source": [
    "ori_imgs, _ = load_X_gray(\"Z:/DeepLearningData/research_010_NIH3T3/shCtrl_003/dataset/cropped_005/original/\")\n",
    "\n",
    "out_dir = \"Z:/DeepLearningData/research_010_NIH3T3/shCtrl_003/dataset/cropped_005/resize_10x10x10/\"\n",
    "\n",
    "os.makedirs(out_dir, exist_ok = True)\n",
    "for i in tqdm(range(ori_imgs.shape[0])):\n",
    "    img = cv2.resize(\n",
    "        ori_imgs[i], (ori_imgs.shape[2] // 2, ori_imgs.shape[1] // 2)\n",
    "    )\n",
    "    cv2.imwrite(\n",
    "        f\"{out_dir}/{str(i).zfill(4)}.png\",\n",
    "        denormalize_x(img)\n",
    "    )"
   ]
  },
  {
   "cell_type": "markdown",
   "id": "aaf128d5",
   "metadata": {},
   "source": [
    "## shOPA1"
   ]
  },
  {
   "cell_type": "markdown",
   "id": "0fdb87bb",
   "metadata": {},
   "source": [
    "### cropped_001"
   ]
  },
  {
   "cell_type": "code",
   "execution_count": null,
   "id": "207a8b9a",
   "metadata": {},
   "outputs": [],
   "source": [
    "ori_imgs, _ = load_X_gray(\"Z:/DeepLearningData/research_010_NIH3T3/shOPA1_003//dataset/cropped_001/original/\")\n",
    "\n",
    "out_dir = \"Z:/DeepLearningData/research_010_NIH3T3/shOPA1_003/dataset/cropped_001/resize_10x10x10/\"\n",
    "\n",
    "os.makedirs(out_dir, exist_ok = True)\n",
    "for i in tqdm(range(ori_imgs.shape[0])):\n",
    "    img = cv2.resize(\n",
    "        ori_imgs[i], (ori_imgs.shape[2] // 2, ori_imgs.shape[1] // 2)\n",
    "    )\n",
    "    cv2.imwrite(\n",
    "        f\"{out_dir}/{str(i).zfill(4)}.png\",\n",
    "        denormalize_x(img)\n",
    "    )"
   ]
  },
  {
   "cell_type": "markdown",
   "id": "770e8195",
   "metadata": {},
   "source": [
    "### cropped_002"
   ]
  },
  {
   "cell_type": "code",
   "execution_count": null,
   "id": "15931d3a",
   "metadata": {},
   "outputs": [],
   "source": [
    "ori_imgs, _ = load_X_gray(\"Z:/DeepLearningData/research_010_NIH3T3/shOPA1_003//dataset/cropped_002/original/\")\n",
    "\n",
    "out_dir = \"Z:/DeepLearningData/research_010_NIH3T3/shOPA1_003/dataset/cropped_002/resize_10x10x10/\"\n",
    "\n",
    "os.makedirs(out_dir, exist_ok = True)\n",
    "for i in tqdm(range(ori_imgs.shape[0])):\n",
    "    img = cv2.resize(\n",
    "        ori_imgs[i], (ori_imgs.shape[2] // 2, ori_imgs.shape[1] // 2)\n",
    "    )\n",
    "    cv2.imwrite(\n",
    "        f\"{out_dir}/{str(i).zfill(4)}.png\",\n",
    "        denormalize_x(img)\n",
    "    )"
   ]
  },
  {
   "cell_type": "markdown",
   "id": "92321463",
   "metadata": {},
   "source": [
    "### cropped_003"
   ]
  },
  {
   "cell_type": "code",
   "execution_count": null,
   "id": "b5bd753d",
   "metadata": {},
   "outputs": [],
   "source": [
    "ori_imgs, _ = load_X_gray(\"Z:/DeepLearningData/research_010_NIH3T3/shOPA1_003//dataset/cropped_003/original/\")\n",
    "\n",
    "out_dir = \"Z:/DeepLearningData/research_010_NIH3T3/shOPA1_003/dataset/cropped_003/resize_10x10x10/\"\n",
    "\n",
    "os.makedirs(out_dir, exist_ok = True)\n",
    "for i in tqdm(range(ori_imgs.shape[0])):\n",
    "    img = cv2.resize(\n",
    "        ori_imgs[i], (ori_imgs.shape[2] // 2, ori_imgs.shape[1] // 2)\n",
    "    )\n",
    "    cv2.imwrite(\n",
    "        f\"{out_dir}/{str(i).zfill(4)}.png\",\n",
    "        denormalize_x(img)\n",
    "    )"
   ]
  },
  {
   "cell_type": "markdown",
   "id": "ffdca4c3",
   "metadata": {},
   "source": [
    "### cropped_004"
   ]
  },
  {
   "cell_type": "code",
   "execution_count": null,
   "id": "395fe60f",
   "metadata": {},
   "outputs": [],
   "source": [
    "ori_imgs, _ = load_X_gray(\"Z:/DeepLearningData/research_010_NIH3T3/shOPA1_003//dataset/cropped_004/original/\")\n",
    "\n",
    "out_dir = \"Z:/DeepLearningData/research_010_NIH3T3/shOPA1_003/dataset/cropped_004/resize_10x10x10/\"\n",
    "\n",
    "os.makedirs(out_dir, exist_ok = True)\n",
    "for i in tqdm(range(ori_imgs.shape[0])):\n",
    "    img = cv2.resize(\n",
    "        ori_imgs[i], (ori_imgs.shape[2] // 2, ori_imgs.shape[1] // 2)\n",
    "    )\n",
    "    cv2.imwrite(\n",
    "        f\"{out_dir}/{str(i).zfill(4)}.png\",\n",
    "        denormalize_x(img)\n",
    "    )"
   ]
  },
  {
   "cell_type": "markdown",
   "id": "6a3646da",
   "metadata": {},
   "source": [
    "### cropped_005"
   ]
  },
  {
   "cell_type": "code",
   "execution_count": null,
   "id": "3d96ebb5",
   "metadata": {},
   "outputs": [],
   "source": [
    "ori_imgs, _ = load_X_gray(\"Z:/DeepLearningData/research_010_NIH3T3/shOPA1_003//dataset/cropped_005/original/\")\n",
    "\n",
    "out_dir = \"Z:/DeepLearningData/research_010_NIH3T3/shOPA1_003/dataset/cropped_005/resize_10x10x10/\"\n",
    "\n",
    "os.makedirs(out_dir, exist_ok = True)\n",
    "for i in tqdm(range(ori_imgs.shape[0])):\n",
    "    img = cv2.resize(\n",
    "        ori_imgs[i], (ori_imgs.shape[2] // 2, ori_imgs.shape[1] // 2)\n",
    "    )\n",
    "    cv2.imwrite(\n",
    "        f\"{out_dir}/{str(i).zfill(4)}.png\",\n",
    "        denormalize_x(img)\n",
    "    )"
   ]
  }
 ],
 "metadata": {
  "kernelspec": {
   "display_name": "Python 3",
   "language": "python",
   "name": "python3"
  },
  "language_info": {
   "codemirror_mode": {
    "name": "ipython",
    "version": 3
   },
   "file_extension": ".py",
   "mimetype": "text/x-python",
   "name": "python",
   "nbconvert_exporter": "python",
   "pygments_lexer": "ipython3",
   "version": "3.8.2"
  },
  "toc": {
   "base_numbering": 1,
   "nav_menu": {},
   "number_sections": true,
   "sideBar": true,
   "skip_h1_title": false,
   "title_cell": "Table of Contents",
   "title_sidebar": "Contents",
   "toc_cell": false,
   "toc_position": {
    "height": "calc(100% - 180px)",
    "left": "10px",
    "top": "150px",
    "width": "420px"
   },
   "toc_section_display": true,
   "toc_window_display": true
  }
 },
 "nbformat": 4,
 "nbformat_minor": 5
}
