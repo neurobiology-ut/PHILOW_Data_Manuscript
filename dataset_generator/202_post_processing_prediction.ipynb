{
 "cells": [
  {
   "cell_type": "code",
   "execution_count": null,
   "id": "68ef2752",
   "metadata": {},
   "outputs": [],
   "source": [
    "%matplotlib inline\n",
    "import matplotlib.pyplot as plt\n",
    "import os\n",
    "import numpy as np\n",
    "import cv2\n",
    "from PIL import Image\n",
    "from tqdm.notebook import tqdm\n",
    "from scipy.ndimage import label\n",
    "import cupy as cp"
   ]
  },
  {
   "cell_type": "code",
   "execution_count": null,
   "id": "303ce570",
   "metadata": {},
   "outputs": [],
   "source": [
    "def normalize_x(image):\n",
    "    return image / 127.5 - 1\n",
    "\n",
    "def denormalize_x(image):\n",
    "    return (image + 1) * 127.5\n",
    "\n",
    "def normalize_y(image):\n",
    "    return image / 255\n",
    "\n",
    "def denormalize_y(image):\n",
    "    return image * 255"
   ]
  },
  {
   "cell_type": "code",
   "execution_count": null,
   "id": "dafc19cf",
   "metadata": {},
   "outputs": [],
   "source": [
    "def load_X_gray(folder_path):\n",
    "    \n",
    "    image_files = []\n",
    "\n",
    "    #image_files = os.listdir(folder_path)\n",
    "       \n",
    "    for file in os.listdir(folder_path):\n",
    "        base, ext = os.path.splitext(file)\n",
    "        if ext == '.png':\n",
    "            image_files.append(file)\n",
    "        else :\n",
    "            pass\n",
    "        \n",
    "    image_files.sort()\n",
    "    \n",
    "    img = cv2.imread(folder_path + os.sep + image_files[0], cv2.IMREAD_GRAYSCALE)\n",
    "    \n",
    "    #image_files = image_files[1:]\n",
    "    images = np.zeros((len(image_files), img.shape[0], img.shape[1], 1), np.float32)\n",
    "    for i, image_file in tqdm(enumerate(image_files)):\n",
    "        image = cv2.imread(folder_path + os.sep + image_file, cv2.IMREAD_GRAYSCALE)\n",
    "        #image = cv2.resize(image, (IMAGE_SIZE, IMAGE_SIZE))\n",
    "        image = image[:, :, np.newaxis]\n",
    "        images[i] = normalize_x(image)\n",
    "    \n",
    "    print(images.shape)\n",
    "    \n",
    "    return images, image_files\n",
    "\n",
    "\n",
    "def load_Y_gray(folder_path, thresh = None , normalize = True, g_size = None):\n",
    "    image_files = []\n",
    "    #image_files = os.listdir(folder_path)\n",
    "    \n",
    "    for file in os.listdir(folder_path):\n",
    "        base, ext = os.path.splitext(file)\n",
    "        if ext == '.png':\n",
    "            image_files.append(file)\n",
    "        else:\n",
    "            pass\n",
    "        \n",
    "    image_files.sort()\n",
    "    \n",
    "    img = cv2.imread(folder_path + os.sep + image_files[0], cv2.IMREAD_GRAYSCALE)\n",
    "    \n",
    "    images = np.zeros(\n",
    "        (len(image_files), img.shape[0], img.shape[1], 1) ,np.float32\n",
    "    )\n",
    "    \n",
    "    for i , image_file in tqdm(enumerate(image_files)):\n",
    "        image = cv2.imread(\n",
    "            folder_path + os.sep + image_file ,\n",
    "            cv2.IMREAD_GRAYSCALE\n",
    "        )\n",
    "        #print(image.shape)\n",
    "        \n",
    "        # ぼかし処理\n",
    "        if g_size:\n",
    "            image = cv2.GaussianBlur(\n",
    "                image, (g_size, g_size), 0\n",
    "            )        \n",
    "        \n",
    "        if thresh:\n",
    "            ret , image = cv2.threshold(image , thresh , 255 , cv2.THRESH_BINARY)\n",
    "        image = image[ : , : , np.newaxis]\n",
    "        if normalize:\n",
    "            images[i] = normalize_y(image)\n",
    "        else:\n",
    "            images[i] = image\n",
    "            \n",
    "    print(images.shape)\n",
    "    \n",
    "    return images , image_files"
   ]
  },
  {
   "cell_type": "markdown",
   "id": "bb414bd0",
   "metadata": {},
   "source": [
    "# shCtrl"
   ]
  },
  {
   "cell_type": "markdown",
   "id": "c58d7b12",
   "metadata": {},
   "source": [
    "## cropped_001"
   ]
  },
  {
   "cell_type": "code",
   "execution_count": null,
   "id": "35589da3",
   "metadata": {},
   "outputs": [],
   "source": [
    "lamellar_imgs, _ = load_Y_gray(\"Z:/DeepLearningData/research_010_NIH3T3/shCtrl_003/annotations/cropped_001/merged_cristae_final//lamellar/\")\n",
    "tubular_imgs, _ = load_Y_gray(\"Z:/DeepLearningData/research_010_NIH3T3/shCtrl_003/annotations/cropped_001/merged_cristae_final//tubular/\")\n"
   ]
  },
  {
   "cell_type": "code",
   "execution_count": null,
   "id": "7db9e2a5",
   "metadata": {},
   "outputs": [],
   "source": [
    "merged_imgs = np.zeros(\n",
    "    (lamellar_imgs.shape[0], lamellar_imgs.shape[1], lamellar_imgs.shape[2], 3), \n",
    "    np.float32\n",
    ")\n",
    "merged_imgs[:,:,:,1] = lamellar_imgs[:,:,:,0]*255\n",
    "merged_imgs[:,:,:,0] = tubular_imgs[:,:,:,0]*255"
   ]
  },
  {
   "cell_type": "code",
   "execution_count": null,
   "id": "50a6afd7",
   "metadata": {},
   "outputs": [],
   "source": [
    "label_imgs, label_num = label(lamellar_imgs)\n",
    "boxels_array = [ np.count_nonzero(label_imgs == i) for i in range(label_num) ]"
   ]
  },
  {
   "cell_type": "code",
   "execution_count": null,
   "id": "9c7d9da4",
   "metadata": {},
   "outputs": [],
   "source": [
    "del lamellar_imgs, tubular_imgs"
   ]
  },
  {
   "cell_type": "code",
   "execution_count": null,
   "id": "77cb8fb6",
   "metadata": {},
   "outputs": [],
   "source": [
    "for i in range(0, label_num+1):\n",
    "    print(f\"{str(i).zfill(4)} / {label_num}\")\n",
    "    if np.count_nonzero(label_imgs == i) <= 200:\n",
    "        merged_imgs[:,:,:,1]  = np.where(\n",
    "            label_imgs[:,:,:,0] == i,\n",
    "            0,\n",
    "            merged_imgs[:,:,:,1]\n",
    "        )\n",
    "        \n",
    "        merged_imgs[:,:,:,0]  = np.where(\n",
    "            label_imgs[:,:,:,0] == i,\n",
    "            1,\n",
    "            merged_imgs[:,:,:,0]\n",
    "        )    "
   ]
  },
  {
   "cell_type": "code",
   "execution_count": null,
   "id": "bc096c54",
   "metadata": {},
   "outputs": [],
   "source": [
    "merged_imgs[:,:,:,1] = np.where(\n",
    "    merged_imgs[:,:,:,0] > 0,\n",
    "    0,\n",
    "    merged_imgs[:,:,:,1]\n",
    ")"
   ]
  },
  {
   "cell_type": "code",
   "execution_count": null,
   "id": "e4d03210",
   "metadata": {},
   "outputs": [],
   "source": [
    "label_imgs, label_num = label(merged_imgs[:,:,:,0])\n",
    "boxels_array = [ np.count_nonzero(label_imgs == i) for i in range(label_num) ]"
   ]
  },
  {
   "cell_type": "code",
   "execution_count": null,
   "id": "facf2023",
   "metadata": {},
   "outputs": [],
   "source": [
    "for i in range(0, label_num+1):\n",
    "    print(f\"{str(i).zfill(4)} / {label_num}\")\n",
    "    if np.count_nonzero(label_imgs == i) <= 20:\n",
    "        merged_imgs[:,:,:,0]  = np.where(\n",
    "            label_imgs == i,\n",
    "            0,\n",
    "            merged_imgs[:,:,:,0]\n",
    "        )"
   ]
  },
  {
   "cell_type": "code",
   "execution_count": null,
   "id": "3a11188d",
   "metadata": {},
   "outputs": [],
   "source": [
    "out_path = \"Z:/DeepLearningData/research_010_NIH3T3/shCtrl_003/annotations/cropped_001/merged_cristae_final/\"\n",
    "\n",
    "os.makedirs(f\"{out_path}/lamellar_with_postprocessing\", exist_ok = True)\n",
    "os.makedirs(f\"{out_path}/tubular_with_postprocessing\", exist_ok = True)\n",
    "\n",
    "for i in range(merged_imgs.shape[0]):\n",
    "    cv2.imwrite(\n",
    "        f\"{out_path}/lamellar_with_postprocessing/{str(i).zfill(4)}.png\",\n",
    "        merged_imgs[i][:,:,1]\n",
    "    )\n",
    "    cv2.imwrite(\n",
    "        f\"{out_path}/tubular_with_postprocessing/{str(i).zfill(4)}.png\",\n",
    "        merged_imgs[i][:,:,0]\n",
    "    )    "
   ]
  },
  {
   "cell_type": "markdown",
   "id": "62eb95de",
   "metadata": {},
   "source": [
    "## cropped_002"
   ]
  },
  {
   "cell_type": "code",
   "execution_count": null,
   "id": "db2e1dc8",
   "metadata": {},
   "outputs": [],
   "source": [
    "lamellar_imgs, _ = load_Y_gray(\"Z:/DeepLearningData/research_010_NIH3T3/shCtrl_003/annotations/cropped_002/merged_cristae_final//lamellar/\")\n",
    "tubular_imgs, _ = load_Y_gray(\"Z:/DeepLearningData/research_010_NIH3T3/shCtrl_003/annotations/cropped_002/merged_cristae_final//tubular/\")\n"
   ]
  },
  {
   "cell_type": "code",
   "execution_count": null,
   "id": "80054422",
   "metadata": {},
   "outputs": [],
   "source": [
    "merged_imgs = np.zeros(\n",
    "    (lamellar_imgs.shape[0], lamellar_imgs.shape[1], lamellar_imgs.shape[2], 3), \n",
    "    np.float32\n",
    ")\n",
    "merged_imgs[:,:,:,1] = lamellar_imgs[:,:,:,0]*255\n",
    "merged_imgs[:,:,:,0] = tubular_imgs[:,:,:,0]*255"
   ]
  },
  {
   "cell_type": "code",
   "execution_count": null,
   "id": "7522b5a6",
   "metadata": {},
   "outputs": [],
   "source": [
    "label_imgs, label_num = label(lamellar_imgs)\n",
    "boxels_array = [ np.count_nonzero(label_imgs == i) for i in range(label_num) ]"
   ]
  },
  {
   "cell_type": "code",
   "execution_count": null,
   "id": "e5dc3cb8",
   "metadata": {},
   "outputs": [],
   "source": [
    "del lamellar_imgs, tubular_imgs"
   ]
  },
  {
   "cell_type": "code",
   "execution_count": null,
   "id": "53d15c98",
   "metadata": {},
   "outputs": [],
   "source": [
    "for i in range(0, label_num+1):\n",
    "    print(f\"{str(i).zfill(4)} / {label_num}\")\n",
    "    if np.count_nonzero(label_imgs == i) <= 200:\n",
    "        merged_imgs[:,:,:,1]  = np.where(\n",
    "            label_imgs[:,:,:,0] == i,\n",
    "            0,\n",
    "            merged_imgs[:,:,:,1]\n",
    "        )\n",
    "        \n",
    "        merged_imgs[:,:,:,0]  = np.where(\n",
    "            label_imgs[:,:,:,0] == i,\n",
    "            1,\n",
    "            merged_imgs[:,:,:,0]\n",
    "        )    "
   ]
  },
  {
   "cell_type": "code",
   "execution_count": null,
   "id": "aecd6d27",
   "metadata": {},
   "outputs": [],
   "source": [
    "merged_imgs[:,:,:,1] = np.where(\n",
    "    merged_imgs[:,:,:,0] > 0,\n",
    "    0,\n",
    "    merged_imgs[:,:,:,1]\n",
    ")"
   ]
  },
  {
   "cell_type": "code",
   "execution_count": null,
   "id": "7304fe9c",
   "metadata": {},
   "outputs": [],
   "source": [
    "label_imgs, label_num = label(merged_imgs[:,:,:,0])\n",
    "boxels_array = [ np.count_nonzero(label_imgs == i) for i in range(label_num) ]"
   ]
  },
  {
   "cell_type": "code",
   "execution_count": null,
   "id": "c81119e8",
   "metadata": {},
   "outputs": [],
   "source": [
    "for i in range(0, label_num+1):\n",
    "    print(f\"{str(i).zfill(4)} / {label_num}\")\n",
    "    if np.count_nonzero(label_imgs == i) <= 20:\n",
    "        merged_imgs[:,:,:,0]  = np.where(\n",
    "            label_imgs == i,\n",
    "            0,\n",
    "            merged_imgs[:,:,:,0]\n",
    "        )"
   ]
  },
  {
   "cell_type": "code",
   "execution_count": null,
   "id": "762355ac",
   "metadata": {},
   "outputs": [],
   "source": [
    "out_path = \"Z:/DeepLearningData/research_010_NIH3T3/shCtrl_003/annotations/cropped_002/merged_cristae_final/\"\n",
    "\n",
    "os.makedirs(f\"{out_path}/lamellar_with_postprocessing\", exist_ok = True)\n",
    "os.makedirs(f\"{out_path}/tubular_with_postprocessing\", exist_ok = True)\n",
    "\n",
    "for i in range(merged_imgs.shape[0]):\n",
    "    cv2.imwrite(\n",
    "        f\"{out_path}/lamellar_with_postprocessing/{str(i).zfill(4)}.png\",\n",
    "        merged_imgs[i][:,:,1]\n",
    "    )\n",
    "    cv2.imwrite(\n",
    "        f\"{out_path}/tubular_with_postprocessing/{str(i).zfill(4)}.png\",\n",
    "        merged_imgs[i][:,:,0]\n",
    "    )    "
   ]
  },
  {
   "cell_type": "markdown",
   "id": "746bd71f",
   "metadata": {},
   "source": [
    "## cropped_003"
   ]
  },
  {
   "cell_type": "code",
   "execution_count": null,
   "id": "0181fefa",
   "metadata": {},
   "outputs": [],
   "source": [
    "lamellar_imgs, _ = load_Y_gray(\"Z:/DeepLearningData/research_010_NIH3T3/shCtrl_003/annotations/cropped_003/merged_cristae_final//lamellar/\")\n",
    "tubular_imgs, _ = load_Y_gray(\"Z:/DeepLearningData/research_010_NIH3T3/shCtrl_003/annotations/cropped_003/merged_cristae_final//tubular/\")\n"
   ]
  },
  {
   "cell_type": "code",
   "execution_count": null,
   "id": "c34718bd",
   "metadata": {},
   "outputs": [],
   "source": [
    "merged_imgs = np.zeros(\n",
    "    (lamellar_imgs.shape[0], lamellar_imgs.shape[1], lamellar_imgs.shape[2], 3), \n",
    "    np.float32\n",
    ")\n",
    "merged_imgs[:,:,:,1] = lamellar_imgs[:,:,:,0]*255\n",
    "merged_imgs[:,:,:,0] = tubular_imgs[:,:,:,0]*255"
   ]
  },
  {
   "cell_type": "code",
   "execution_count": null,
   "id": "94b2a7a3",
   "metadata": {},
   "outputs": [],
   "source": [
    "label_imgs, label_num = label(lamellar_imgs)\n",
    "boxels_array = [ np.count_nonzero(label_imgs == i) for i in range(label_num) ]"
   ]
  },
  {
   "cell_type": "code",
   "execution_count": null,
   "id": "f3fbc662",
   "metadata": {},
   "outputs": [],
   "source": [
    "del lamellar_imgs, tubular_imgs"
   ]
  },
  {
   "cell_type": "code",
   "execution_count": null,
   "id": "33f203bb",
   "metadata": {},
   "outputs": [],
   "source": [
    "for i in range(0, label_num+1):\n",
    "    print(f\"{str(i).zfill(4)} / {label_num}\")\n",
    "    if np.count_nonzero(label_imgs == i) <= 200:\n",
    "        merged_imgs[:,:,:,1]  = np.where(\n",
    "            label_imgs[:,:,:,0] == i,\n",
    "            0,\n",
    "            merged_imgs[:,:,:,1]\n",
    "        )\n",
    "        \n",
    "        merged_imgs[:,:,:,0]  = np.where(\n",
    "            label_imgs[:,:,:,0] == i,\n",
    "            1,\n",
    "            merged_imgs[:,:,:,0]\n",
    "        )    "
   ]
  },
  {
   "cell_type": "code",
   "execution_count": null,
   "id": "bfe9158e",
   "metadata": {},
   "outputs": [],
   "source": [
    "merged_imgs[:,:,:,1] = np.where(\n",
    "    merged_imgs[:,:,:,0] > 0,\n",
    "    0,\n",
    "    merged_imgs[:,:,:,1]\n",
    ")"
   ]
  },
  {
   "cell_type": "code",
   "execution_count": null,
   "id": "70545acd",
   "metadata": {},
   "outputs": [],
   "source": [
    "label_imgs, label_num = label(merged_imgs[:,:,:,0])\n",
    "boxels_array = [ np.count_nonzero(label_imgs == i) for i in range(label_num) ]"
   ]
  },
  {
   "cell_type": "code",
   "execution_count": null,
   "id": "6fe20765",
   "metadata": {},
   "outputs": [],
   "source": [
    "for i in range(0, label_num+1):\n",
    "    print(f\"{str(i).zfill(4)} / {label_num}\")\n",
    "    if np.count_nonzero(label_imgs == i) <= 20:\n",
    "        merged_imgs[:,:,:,0]  = np.where(\n",
    "            label_imgs == i,\n",
    "            0,\n",
    "            merged_imgs[:,:,:,0]\n",
    "        )"
   ]
  },
  {
   "cell_type": "code",
   "execution_count": null,
   "id": "79352129",
   "metadata": {},
   "outputs": [],
   "source": [
    "out_path = \"Z:/DeepLearningData/research_010_NIH3T3/shCtrl_003/annotations/cropped_003/merged_cristae_final/\"\n",
    "\n",
    "os.makedirs(f\"{out_path}/lamellar_with_postprocessing\", exist_ok = True)\n",
    "os.makedirs(f\"{out_path}/tubular_with_postprocessing\", exist_ok = True)\n",
    "\n",
    "for i in range(merged_imgs.shape[0]):\n",
    "    cv2.imwrite(\n",
    "        f\"{out_path}/lamellar_with_postprocessing/{str(i).zfill(4)}.png\",\n",
    "        merged_imgs[i][:,:,1]\n",
    "    )\n",
    "    cv2.imwrite(\n",
    "        f\"{out_path}/tubular_with_postprocessing/{str(i).zfill(4)}.png\",\n",
    "        merged_imgs[i][:,:,0]\n",
    "    )    "
   ]
  },
  {
   "cell_type": "markdown",
   "id": "05cefe32",
   "metadata": {},
   "source": [
    "## cropped_004"
   ]
  },
  {
   "cell_type": "code",
   "execution_count": null,
   "id": "ddc0fc45",
   "metadata": {},
   "outputs": [],
   "source": [
    "lamellar_imgs, _ = load_Y_gray(\"Z:/DeepLearningData/research_010_NIH3T3/shCtrl_003/annotations/cropped_004/merged_cristae_final//lamellar/\")\n",
    "tubular_imgs, _ = load_Y_gray(\"Z:/DeepLearningData/research_010_NIH3T3/shCtrl_003/annotations/cropped_004/merged_cristae_final//tubular/\")\n"
   ]
  },
  {
   "cell_type": "code",
   "execution_count": null,
   "id": "1ce52e53",
   "metadata": {},
   "outputs": [],
   "source": [
    "merged_imgs = np.zeros(\n",
    "    (lamellar_imgs.shape[0], lamellar_imgs.shape[1], lamellar_imgs.shape[2], 3), \n",
    "    np.float32\n",
    ")\n",
    "merged_imgs[:,:,:,1] = lamellar_imgs[:,:,:,0]*255\n",
    "merged_imgs[:,:,:,0] = tubular_imgs[:,:,:,0]*255"
   ]
  },
  {
   "cell_type": "code",
   "execution_count": null,
   "id": "ad275535",
   "metadata": {},
   "outputs": [],
   "source": [
    "label_imgs, label_num = label(lamellar_imgs)\n",
    "boxels_array = [ np.count_nonzero(label_imgs == i) for i in range(label_num) ]"
   ]
  },
  {
   "cell_type": "code",
   "execution_count": null,
   "id": "00ee2bf3",
   "metadata": {},
   "outputs": [],
   "source": [
    "del lamellar_imgs, tubular_imgs"
   ]
  },
  {
   "cell_type": "code",
   "execution_count": null,
   "id": "d8181ab3",
   "metadata": {},
   "outputs": [],
   "source": [
    "for i in range(0, label_num+1):\n",
    "    print(f\"{str(i).zfill(4)} / {label_num}\")\n",
    "    if np.count_nonzero(label_imgs == i) <= 200:\n",
    "        merged_imgs[:,:,:,1]  = np.where(\n",
    "            label_imgs[:,:,:,0] == i,\n",
    "            0,\n",
    "            merged_imgs[:,:,:,1]\n",
    "        )\n",
    "        \n",
    "        merged_imgs[:,:,:,0]  = np.where(\n",
    "            label_imgs[:,:,:,0] == i,\n",
    "            1,\n",
    "            merged_imgs[:,:,:,0]\n",
    "        )    "
   ]
  },
  {
   "cell_type": "code",
   "execution_count": null,
   "id": "807ff72e",
   "metadata": {},
   "outputs": [],
   "source": [
    "merged_imgs[:,:,:,1] = np.where(\n",
    "    merged_imgs[:,:,:,0] > 0,\n",
    "    0,\n",
    "    merged_imgs[:,:,:,1]\n",
    ")"
   ]
  },
  {
   "cell_type": "code",
   "execution_count": null,
   "id": "861328ec",
   "metadata": {},
   "outputs": [],
   "source": [
    "label_imgs, label_num = label(merged_imgs[:,:,:,0])\n",
    "boxels_array = [ np.count_nonzero(label_imgs == i) for i in range(label_num) ]"
   ]
  },
  {
   "cell_type": "code",
   "execution_count": null,
   "id": "15c2f1be",
   "metadata": {},
   "outputs": [],
   "source": [
    "for i in range(0, label_num+1):\n",
    "    print(f\"{str(i).zfill(4)} / {label_num}\")\n",
    "    if np.count_nonzero(label_imgs == i) <= 20:\n",
    "        merged_imgs[:,:,:,0]  = np.where(\n",
    "            label_imgs == i,\n",
    "            0,\n",
    "            merged_imgs[:,:,:,0]\n",
    "        )"
   ]
  },
  {
   "cell_type": "code",
   "execution_count": null,
   "id": "02f32346",
   "metadata": {},
   "outputs": [],
   "source": [
    "out_path = \"Z:/DeepLearningData/research_010_NIH3T3/shCtrl_003/annotations/cropped_004/merged_cristae_final/\"\n",
    "\n",
    "os.makedirs(f\"{out_path}/lamellar_with_postprocessing\", exist_ok = True)\n",
    "os.makedirs(f\"{out_path}/tubular_with_postprocessing\", exist_ok = True)\n",
    "\n",
    "for i in range(merged_imgs.shape[0]):\n",
    "    cv2.imwrite(\n",
    "        f\"{out_path}/lamellar_with_postprocessing/{str(i).zfill(4)}.png\",\n",
    "        merged_imgs[i][:,:,1]\n",
    "    )\n",
    "    cv2.imwrite(\n",
    "        f\"{out_path}/tubular_with_postprocessing/{str(i).zfill(4)}.png\",\n",
    "        merged_imgs[i][:,:,0]\n",
    "    )    "
   ]
  },
  {
   "cell_type": "markdown",
   "id": "8a3dd948",
   "metadata": {},
   "source": [
    "## cropped_005"
   ]
  },
  {
   "cell_type": "code",
   "execution_count": null,
   "id": "d1652511",
   "metadata": {},
   "outputs": [],
   "source": [
    "lamellar_imgs, _ = load_Y_gray(\"Z:/DeepLearningData/research_010_NIH3T3/shCtrl_003/annotations/cropped_005/merged_cristae_final//lamellar/\")\n",
    "tubular_imgs, _ = load_Y_gray(\"Z:/DeepLearningData/research_010_NIH3T3/shCtrl_003/annotations/cropped_005/merged_cristae_final//tubular/\")\n"
   ]
  },
  {
   "cell_type": "code",
   "execution_count": null,
   "id": "19fff379",
   "metadata": {},
   "outputs": [],
   "source": [
    "merged_imgs = np.zeros(\n",
    "    (lamellar_imgs.shape[0], lamellar_imgs.shape[1], lamellar_imgs.shape[2], 3), \n",
    "    np.float32\n",
    ")\n",
    "merged_imgs[:,:,:,1] = lamellar_imgs[:,:,:,0]*255\n",
    "merged_imgs[:,:,:,0] = tubular_imgs[:,:,:,0]*255"
   ]
  },
  {
   "cell_type": "code",
   "execution_count": null,
   "id": "715347ea",
   "metadata": {},
   "outputs": [],
   "source": [
    "label_imgs, label_num = label(lamellar_imgs)\n",
    "boxels_array = [ np.count_nonzero(label_imgs == i) for i in range(label_num) ]"
   ]
  },
  {
   "cell_type": "code",
   "execution_count": null,
   "id": "a9d89231",
   "metadata": {},
   "outputs": [],
   "source": [
    "del lamellar_imgs, tubular_imgs"
   ]
  },
  {
   "cell_type": "code",
   "execution_count": null,
   "id": "e9d2ea3e",
   "metadata": {},
   "outputs": [],
   "source": [
    "for i in range(0, label_num+1):\n",
    "    print(f\"{str(i).zfill(4)} / {label_num}\")\n",
    "    if np.count_nonzero(label_imgs == i) <= 200:\n",
    "        merged_imgs[:,:,:,1]  = np.where(\n",
    "            label_imgs[:,:,:,0] == i,\n",
    "            0,\n",
    "            merged_imgs[:,:,:,1]\n",
    "        )\n",
    "        \n",
    "        merged_imgs[:,:,:,0]  = np.where(\n",
    "            label_imgs[:,:,:,0] == i,\n",
    "            1,\n",
    "            merged_imgs[:,:,:,0]\n",
    "        )    "
   ]
  },
  {
   "cell_type": "code",
   "execution_count": null,
   "id": "4a9b19d5",
   "metadata": {},
   "outputs": [],
   "source": [
    "merged_imgs[:,:,:,1] = np.where(\n",
    "    merged_imgs[:,:,:,0] > 0,\n",
    "    0,\n",
    "    merged_imgs[:,:,:,1]\n",
    ")"
   ]
  },
  {
   "cell_type": "code",
   "execution_count": null,
   "id": "a01d9d15",
   "metadata": {},
   "outputs": [],
   "source": [
    "label_imgs, label_num = label(merged_imgs[:,:,:,0])\n",
    "boxels_array = [ np.count_nonzero(label_imgs == i) for i in range(label_num) ]"
   ]
  },
  {
   "cell_type": "code",
   "execution_count": null,
   "id": "5e8df9e1",
   "metadata": {},
   "outputs": [],
   "source": [
    "for i in range(0, label_num+1):\n",
    "    print(f\"{str(i).zfill(4)} / {label_num}\")\n",
    "    if np.count_nonzero(label_imgs == i) <= 20:\n",
    "        merged_imgs[:,:,:,0]  = np.where(\n",
    "            label_imgs == i,\n",
    "            0,\n",
    "            merged_imgs[:,:,:,0]\n",
    "        )"
   ]
  },
  {
   "cell_type": "code",
   "execution_count": null,
   "id": "e08904c8",
   "metadata": {},
   "outputs": [],
   "source": [
    "out_path = \"Z:/DeepLearningData/research_010_NIH3T3/shCtrl_003/annotations/cropped_005/merged_cristae_final/\"\n",
    "\n",
    "os.makedirs(f\"{out_path}/lamellar_with_postprocessing\", exist_ok = True)\n",
    "os.makedirs(f\"{out_path}/tubular_with_postprocessing\", exist_ok = True)\n",
    "\n",
    "for i in range(merged_imgs.shape[0]):\n",
    "    cv2.imwrite(\n",
    "        f\"{out_path}/lamellar_with_postprocessing/{str(i).zfill(4)}.png\",\n",
    "        merged_imgs[i][:,:,1]\n",
    "    )\n",
    "    cv2.imwrite(\n",
    "        f\"{out_path}/tubular_with_postprocessing/{str(i).zfill(4)}.png\",\n",
    "        merged_imgs[i][:,:,0]\n",
    "    )    "
   ]
  },
  {
   "cell_type": "markdown",
   "id": "bcbacdab",
   "metadata": {},
   "source": [
    "# shOPA1"
   ]
  },
  {
   "cell_type": "markdown",
   "id": "f8454fb8",
   "metadata": {},
   "source": [
    "## cropped_001"
   ]
  },
  {
   "cell_type": "code",
   "execution_count": null,
   "id": "592d9f10",
   "metadata": {},
   "outputs": [],
   "source": [
    "lamellar_imgs, _ = load_Y_gray(\"Z:/DeepLearningData/research_010_NIH3T3/shOPA1_003/annotations/cropped_001/merged_cristae_final//lamellar/\")\n",
    "tubular_imgs, _ = load_Y_gray(\"Z:/DeepLearningData/research_010_NIH3T3/shOPA1_003/annotations/cropped_001/merged_cristae_final//tubular/\")\n"
   ]
  },
  {
   "cell_type": "code",
   "execution_count": null,
   "id": "b34b0ceb",
   "metadata": {},
   "outputs": [],
   "source": [
    "merged_imgs = np.zeros(\n",
    "    (lamellar_imgs.shape[0], lamellar_imgs.shape[1], lamellar_imgs.shape[2], 3), \n",
    "    np.float32\n",
    ")\n",
    "merged_imgs[:,:,:,1] = lamellar_imgs[:,:,:,0]*255\n",
    "merged_imgs[:,:,:,0] = tubular_imgs[:,:,:,0]*255"
   ]
  },
  {
   "cell_type": "code",
   "execution_count": null,
   "id": "186de0e6",
   "metadata": {},
   "outputs": [],
   "source": [
    "label_imgs, label_num = label(lamellar_imgs)\n",
    "boxels_array = [ np.count_nonzero(label_imgs == i) for i in range(label_num) ]"
   ]
  },
  {
   "cell_type": "code",
   "execution_count": null,
   "id": "eda76020",
   "metadata": {},
   "outputs": [],
   "source": [
    "del lamellar_imgs, tubular_imgs"
   ]
  },
  {
   "cell_type": "code",
   "execution_count": null,
   "id": "f8d6a53b",
   "metadata": {},
   "outputs": [],
   "source": [
    "for i in range(0, label_num+1):\n",
    "    print(f\"{str(i).zfill(4)} / {label_num}\")\n",
    "    if np.count_nonzero(label_imgs == i) <= 200:\n",
    "        merged_imgs[:,:,:,1]  = np.where(\n",
    "            label_imgs[:,:,:,0] == i,\n",
    "            0,\n",
    "            merged_imgs[:,:,:,1]\n",
    "        )\n",
    "        \n",
    "        merged_imgs[:,:,:,0]  = np.where(\n",
    "            label_imgs[:,:,:,0] == i,\n",
    "            1,\n",
    "            merged_imgs[:,:,:,0]\n",
    "        )    "
   ]
  },
  {
   "cell_type": "code",
   "execution_count": null,
   "id": "413c5d76",
   "metadata": {},
   "outputs": [],
   "source": [
    "merged_imgs[:,:,:,1] = np.where(\n",
    "    merged_imgs[:,:,:,0] > 0,\n",
    "    0,\n",
    "    merged_imgs[:,:,:,1]\n",
    ")"
   ]
  },
  {
   "cell_type": "code",
   "execution_count": null,
   "id": "ab1dbf14",
   "metadata": {},
   "outputs": [],
   "source": [
    "label_imgs, label_num = label(merged_imgs[:,:,:,0])\n",
    "boxels_array = [ np.count_nonzero(label_imgs == i) for i in range(label_num) ]"
   ]
  },
  {
   "cell_type": "code",
   "execution_count": null,
   "id": "a9dad70f",
   "metadata": {},
   "outputs": [],
   "source": [
    "for i in range(0, label_num+1):\n",
    "    print(f\"{str(i).zfill(4)} / {label_num}\")\n",
    "    if np.count_nonzero(label_imgs == i) <= 20:\n",
    "        merged_imgs[:,:,:,0]  = np.where(\n",
    "            label_imgs == i,\n",
    "            0,\n",
    "            merged_imgs[:,:,:,0]\n",
    "        )"
   ]
  },
  {
   "cell_type": "code",
   "execution_count": null,
   "id": "c787b0c6",
   "metadata": {},
   "outputs": [],
   "source": [
    "out_path = \"Z:/DeepLearningData/research_010_NIH3T3/shOPA1_003/annotations/cropped_001/merged_cristae_final/\"\n",
    "\n",
    "os.makedirs(f\"{out_path}/lamellar_with_postprocessing\", exist_ok = True)\n",
    "os.makedirs(f\"{out_path}/tubular_with_postprocessing\", exist_ok = True)\n",
    "\n",
    "for i in range(merged_imgs.shape[0]):\n",
    "    cv2.imwrite(\n",
    "        f\"{out_path}/lamellar_with_postprocessing/{str(i).zfill(4)}.png\",\n",
    "        merged_imgs[i][:,:,1]\n",
    "    )\n",
    "    cv2.imwrite(\n",
    "        f\"{out_path}/tubular_with_postprocessing/{str(i).zfill(4)}.png\",\n",
    "        merged_imgs[i][:,:,0]\n",
    "    )    "
   ]
  },
  {
   "cell_type": "markdown",
   "id": "114c3537",
   "metadata": {},
   "source": [
    "## cropped_002"
   ]
  },
  {
   "cell_type": "code",
   "execution_count": null,
   "id": "fef4d1e8",
   "metadata": {},
   "outputs": [],
   "source": [
    "lamellar_imgs, _ = load_Y_gray(\"Z:/DeepLearningData/research_010_NIH3T3/shOPA1_003/annotations/cropped_002/merged_cristae_final//lamellar/\")\n",
    "tubular_imgs, _ = load_Y_gray(\"Z:/DeepLearningData/research_010_NIH3T3/shOPA1_003/annotations/cropped_002/merged_cristae_final//tubular/\")\n"
   ]
  },
  {
   "cell_type": "code",
   "execution_count": null,
   "id": "89589669",
   "metadata": {},
   "outputs": [],
   "source": [
    "merged_imgs = np.zeros(\n",
    "    (lamellar_imgs.shape[0], lamellar_imgs.shape[1], lamellar_imgs.shape[2], 3), \n",
    "    np.float32\n",
    ")\n",
    "merged_imgs[:,:,:,1] = lamellar_imgs[:,:,:,0]*255\n",
    "merged_imgs[:,:,:,0] = tubular_imgs[:,:,:,0]*255"
   ]
  },
  {
   "cell_type": "code",
   "execution_count": null,
   "id": "ff4857c7",
   "metadata": {},
   "outputs": [],
   "source": [
    "label_imgs, label_num = label(lamellar_imgs)\n",
    "boxels_array = [ np.count_nonzero(label_imgs == i) for i in range(label_num) ]"
   ]
  },
  {
   "cell_type": "code",
   "execution_count": null,
   "id": "48b73359",
   "metadata": {},
   "outputs": [],
   "source": [
    "del lamellar_imgs, tubular_imgs"
   ]
  },
  {
   "cell_type": "code",
   "execution_count": null,
   "id": "3541b5cc",
   "metadata": {},
   "outputs": [],
   "source": [
    "for i in range(0, label_num+1):\n",
    "    print(f\"{str(i).zfill(4)} / {label_num}\")\n",
    "    if np.count_nonzero(label_imgs == i) <= 200:\n",
    "        merged_imgs[:,:,:,1]  = np.where(\n",
    "            label_imgs[:,:,:,0] == i,\n",
    "            0,\n",
    "            merged_imgs[:,:,:,1]\n",
    "        )\n",
    "        \n",
    "        merged_imgs[:,:,:,0]  = np.where(\n",
    "            label_imgs[:,:,:,0] == i,\n",
    "            1,\n",
    "            merged_imgs[:,:,:,0]\n",
    "        )    "
   ]
  },
  {
   "cell_type": "code",
   "execution_count": null,
   "id": "08050656",
   "metadata": {},
   "outputs": [],
   "source": [
    "merged_imgs[:,:,:,1] = np.where(\n",
    "    merged_imgs[:,:,:,0] > 0,\n",
    "    0,\n",
    "    merged_imgs[:,:,:,1]\n",
    ")"
   ]
  },
  {
   "cell_type": "code",
   "execution_count": null,
   "id": "73c718a6",
   "metadata": {},
   "outputs": [],
   "source": [
    "label_imgs, label_num = label(merged_imgs[:,:,:,0])\n",
    "boxels_array = [ np.count_nonzero(label_imgs == i) for i in range(label_num) ]"
   ]
  },
  {
   "cell_type": "code",
   "execution_count": null,
   "id": "208e3e15",
   "metadata": {},
   "outputs": [],
   "source": [
    "for i in range(0, label_num+1):\n",
    "    print(f\"{str(i).zfill(4)} / {label_num}\")\n",
    "    if np.count_nonzero(label_imgs == i) <= 20:\n",
    "        merged_imgs[:,:,:,0]  = np.where(\n",
    "            label_imgs == i,\n",
    "            0,\n",
    "            merged_imgs[:,:,:,0]\n",
    "        )"
   ]
  },
  {
   "cell_type": "code",
   "execution_count": null,
   "id": "385c0a8c",
   "metadata": {},
   "outputs": [],
   "source": [
    "out_path = \"Z:/DeepLearningData/research_010_NIH3T3/shOPA1_003/annotations/cropped_002/merged_cristae_final/\"\n",
    "\n",
    "os.makedirs(f\"{out_path}/lamellar_with_postprocessing\", exist_ok = True)\n",
    "os.makedirs(f\"{out_path}/tubular_with_postprocessing\", exist_ok = True)\n",
    "\n",
    "for i in range(merged_imgs.shape[0]):\n",
    "    cv2.imwrite(\n",
    "        f\"{out_path}/lamellar_with_postprocessing/{str(i).zfill(4)}.png\",\n",
    "        merged_imgs[i][:,:,1]\n",
    "    )\n",
    "    cv2.imwrite(\n",
    "        f\"{out_path}/tubular_with_postprocessing/{str(i).zfill(4)}.png\",\n",
    "        merged_imgs[i][:,:,0]\n",
    "    )    "
   ]
  },
  {
   "cell_type": "markdown",
   "id": "01b52ff2",
   "metadata": {},
   "source": [
    "## cropped_003"
   ]
  },
  {
   "cell_type": "code",
   "execution_count": null,
   "id": "df6bd21c",
   "metadata": {},
   "outputs": [],
   "source": [
    "lamellar_imgs, _ = load_Y_gray(\"Z:/DeepLearningData/research_010_NIH3T3/shOPA1_003/annotations/cropped_003/merged_cristae_final//lamellar/\")\n",
    "tubular_imgs, _ = load_Y_gray(\"Z:/DeepLearningData/research_010_NIH3T3/shOPA1_003/annotations/cropped_003/merged_cristae_final//tubular/\")\n"
   ]
  },
  {
   "cell_type": "code",
   "execution_count": null,
   "id": "f7a4a077",
   "metadata": {},
   "outputs": [],
   "source": [
    "merged_imgs = np.zeros(\n",
    "    (lamellar_imgs.shape[0], lamellar_imgs.shape[1], lamellar_imgs.shape[2], 3), \n",
    "    np.float32\n",
    ")\n",
    "merged_imgs[:,:,:,1] = lamellar_imgs[:,:,:,0]*255\n",
    "merged_imgs[:,:,:,0] = tubular_imgs[:,:,:,0]*255"
   ]
  },
  {
   "cell_type": "code",
   "execution_count": null,
   "id": "ebcea45e",
   "metadata": {},
   "outputs": [],
   "source": [
    "label_imgs, label_num = label(lamellar_imgs)\n",
    "boxels_array = [ np.count_nonzero(label_imgs == i) for i in range(label_num) ]"
   ]
  },
  {
   "cell_type": "code",
   "execution_count": null,
   "id": "4cde81c0",
   "metadata": {},
   "outputs": [],
   "source": [
    "del lamellar_imgs, tubular_imgs"
   ]
  },
  {
   "cell_type": "code",
   "execution_count": null,
   "id": "f733bf27",
   "metadata": {},
   "outputs": [],
   "source": [
    "for i in range(0, label_num+1):\n",
    "    print(f\"{str(i).zfill(4)} / {label_num}\")\n",
    "    if np.count_nonzero(label_imgs == i) <= 200:\n",
    "        merged_imgs[:,:,:,1]  = np.where(\n",
    "            label_imgs[:,:,:,0] == i,\n",
    "            0,\n",
    "            merged_imgs[:,:,:,1]\n",
    "        )\n",
    "        \n",
    "        merged_imgs[:,:,:,0]  = np.where(\n",
    "            label_imgs[:,:,:,0] == i,\n",
    "            1,\n",
    "            merged_imgs[:,:,:,0]\n",
    "        )    "
   ]
  },
  {
   "cell_type": "code",
   "execution_count": null,
   "id": "a5803abc",
   "metadata": {},
   "outputs": [],
   "source": [
    "merged_imgs[:,:,:,1] = np.where(\n",
    "    merged_imgs[:,:,:,0] > 0,\n",
    "    0,\n",
    "    merged_imgs[:,:,:,1]\n",
    ")"
   ]
  },
  {
   "cell_type": "code",
   "execution_count": null,
   "id": "39b2b870",
   "metadata": {},
   "outputs": [],
   "source": [
    "label_imgs, label_num = label(merged_imgs[:,:,:,0])\n",
    "boxels_array = [ np.count_nonzero(label_imgs == i) for i in range(label_num) ]"
   ]
  },
  {
   "cell_type": "code",
   "execution_count": null,
   "id": "b2d20893",
   "metadata": {},
   "outputs": [],
   "source": [
    "for i in range(0, label_num+1):\n",
    "    print(f\"{str(i).zfill(4)} / {label_num}\")\n",
    "    if np.count_nonzero(label_imgs == i) <= 20:\n",
    "        merged_imgs[:,:,:,0]  = np.where(\n",
    "            label_imgs == i,\n",
    "            0,\n",
    "            merged_imgs[:,:,:,0]\n",
    "        )"
   ]
  },
  {
   "cell_type": "code",
   "execution_count": null,
   "id": "fe6001e9",
   "metadata": {},
   "outputs": [],
   "source": [
    "out_path = \"Z:/DeepLearningData/research_010_NIH3T3/shOPA1_003/annotations/cropped_003/merged_cristae_final/\"\n",
    "\n",
    "os.makedirs(f\"{out_path}/lamellar_with_postprocessing\", exist_ok = True)\n",
    "os.makedirs(f\"{out_path}/tubular_with_postprocessing\", exist_ok = True)\n",
    "\n",
    "for i in range(merged_imgs.shape[0]):\n",
    "    cv2.imwrite(\n",
    "        f\"{out_path}/lamellar_with_postprocessing/{str(i).zfill(4)}.png\",\n",
    "        merged_imgs[i][:,:,1]\n",
    "    )\n",
    "    cv2.imwrite(\n",
    "        f\"{out_path}/tubular_with_postprocessing/{str(i).zfill(4)}.png\",\n",
    "        merged_imgs[i][:,:,0]\n",
    "    )    "
   ]
  },
  {
   "cell_type": "markdown",
   "id": "1867d2e0",
   "metadata": {},
   "source": [
    "## cropped_004"
   ]
  },
  {
   "cell_type": "code",
   "execution_count": null,
   "id": "8914e609",
   "metadata": {},
   "outputs": [],
   "source": [
    "lamellar_imgs, _ = load_Y_gray(\"Z:/DeepLearningData/research_010_NIH3T3/shOPA1_003/annotations/cropped_004/merged_cristae_final//lamellar/\")\n",
    "tubular_imgs, _ = load_Y_gray(\"Z:/DeepLearningData/research_010_NIH3T3/shOPA1_003/annotations/cropped_004/merged_cristae_final//tubular/\")\n"
   ]
  },
  {
   "cell_type": "code",
   "execution_count": null,
   "id": "cba1977a",
   "metadata": {},
   "outputs": [],
   "source": [
    "merged_imgs = np.zeros(\n",
    "    (lamellar_imgs.shape[0], lamellar_imgs.shape[1], lamellar_imgs.shape[2], 3), \n",
    "    np.float32\n",
    ")\n",
    "merged_imgs[:,:,:,1] = lamellar_imgs[:,:,:,0]*255\n",
    "merged_imgs[:,:,:,0] = tubular_imgs[:,:,:,0]*255"
   ]
  },
  {
   "cell_type": "code",
   "execution_count": null,
   "id": "8140f1aa",
   "metadata": {},
   "outputs": [],
   "source": [
    "label_imgs, label_num = label(lamellar_imgs)\n",
    "boxels_array = [ np.count_nonzero(label_imgs == i) for i in range(label_num) ]"
   ]
  },
  {
   "cell_type": "code",
   "execution_count": null,
   "id": "6e0e00f5",
   "metadata": {},
   "outputs": [],
   "source": [
    "del lamellar_imgs, tubular_imgs"
   ]
  },
  {
   "cell_type": "code",
   "execution_count": null,
   "id": "ed12b4ae",
   "metadata": {},
   "outputs": [],
   "source": [
    "for i in range(0, label_num+1):\n",
    "    print(f\"{str(i).zfill(4)} / {label_num}\")\n",
    "    if np.count_nonzero(label_imgs == i) <= 200:\n",
    "        merged_imgs[:,:,:,1]  = np.where(\n",
    "            label_imgs[:,:,:,0] == i,\n",
    "            0,\n",
    "            merged_imgs[:,:,:,1]\n",
    "        )\n",
    "        \n",
    "        merged_imgs[:,:,:,0]  = np.where(\n",
    "            label_imgs[:,:,:,0] == i,\n",
    "            1,\n",
    "            merged_imgs[:,:,:,0]\n",
    "        )    "
   ]
  },
  {
   "cell_type": "code",
   "execution_count": null,
   "id": "eb90b85e",
   "metadata": {},
   "outputs": [],
   "source": [
    "merged_imgs[:,:,:,1] = np.where(\n",
    "    merged_imgs[:,:,:,0] > 0,\n",
    "    0,\n",
    "    merged_imgs[:,:,:,1]\n",
    ")"
   ]
  },
  {
   "cell_type": "code",
   "execution_count": null,
   "id": "2c01482e",
   "metadata": {},
   "outputs": [],
   "source": [
    "label_imgs, label_num = label(merged_imgs[:,:,:,0])\n",
    "boxels_array = [ np.count_nonzero(label_imgs == i) for i in range(label_num) ]"
   ]
  },
  {
   "cell_type": "code",
   "execution_count": null,
   "id": "ec7c17bc",
   "metadata": {},
   "outputs": [],
   "source": [
    "for i in range(0, label_num+1):\n",
    "    print(f\"{str(i).zfill(4)} / {label_num}\")\n",
    "    if np.count_nonzero(label_imgs == i) <= 20:\n",
    "        merged_imgs[:,:,:,0]  = np.where(\n",
    "            label_imgs == i,\n",
    "            0,\n",
    "            merged_imgs[:,:,:,0]\n",
    "        )"
   ]
  },
  {
   "cell_type": "code",
   "execution_count": null,
   "id": "97b2e250",
   "metadata": {},
   "outputs": [],
   "source": [
    "out_path = \"Z:/DeepLearningData/research_010_NIH3T3/shOPA1_003/annotations/cropped_004/merged_cristae_final/\"\n",
    "\n",
    "os.makedirs(f\"{out_path}/lamellar_with_postprocessing\", exist_ok = True)\n",
    "os.makedirs(f\"{out_path}/tubular_with_postprocessing\", exist_ok = True)\n",
    "\n",
    "for i in range(merged_imgs.shape[0]):\n",
    "    cv2.imwrite(\n",
    "        f\"{out_path}/lamellar_with_postprocessing/{str(i).zfill(4)}.png\",\n",
    "        merged_imgs[i][:,:,1]\n",
    "    )\n",
    "    cv2.imwrite(\n",
    "        f\"{out_path}/tubular_with_postprocessing/{str(i).zfill(4)}.png\",\n",
    "        merged_imgs[i][:,:,0]\n",
    "    )    "
   ]
  },
  {
   "cell_type": "markdown",
   "id": "45554f06",
   "metadata": {},
   "source": [
    "## cropped_005"
   ]
  },
  {
   "cell_type": "code",
   "execution_count": null,
   "id": "3d3cfc8b",
   "metadata": {},
   "outputs": [],
   "source": [
    "lamellar_imgs, _ = load_Y_gray(\"Z:/DeepLearningData/research_010_NIH3T3/shOPA1_003/annotations/cropped_005/merged_cristae_final//lamellar/\")\n",
    "tubular_imgs, _ = load_Y_gray(\"Z:/DeepLearningData/research_010_NIH3T3/shOPA1_003/annotations/cropped_005/merged_cristae_final//tubular/\")\n"
   ]
  },
  {
   "cell_type": "code",
   "execution_count": null,
   "id": "fbf9f7c1",
   "metadata": {},
   "outputs": [],
   "source": [
    "merged_imgs = np.zeros(\n",
    "    (lamellar_imgs.shape[0], lamellar_imgs.shape[1], lamellar_imgs.shape[2], 3), \n",
    "    np.float32\n",
    ")\n",
    "merged_imgs[:,:,:,1] = lamellar_imgs[:,:,:,0]*255\n",
    "merged_imgs[:,:,:,0] = tubular_imgs[:,:,:,0]*255"
   ]
  },
  {
   "cell_type": "code",
   "execution_count": null,
   "id": "d5df2ec5",
   "metadata": {},
   "outputs": [],
   "source": [
    "label_imgs, label_num = label(lamellar_imgs)\n",
    "boxels_array = [ np.count_nonzero(label_imgs == i) for i in range(label_num) ]"
   ]
  },
  {
   "cell_type": "code",
   "execution_count": null,
   "id": "40c029ac",
   "metadata": {},
   "outputs": [],
   "source": [
    "del lamellar_imgs, tubular_imgs"
   ]
  },
  {
   "cell_type": "code",
   "execution_count": null,
   "id": "ed363a8a",
   "metadata": {},
   "outputs": [],
   "source": [
    "for i in range(0, label_num+1):\n",
    "    print(f\"{str(i).zfill(4)} / {label_num}\")\n",
    "    if np.count_nonzero(label_imgs == i) <= 200:\n",
    "        merged_imgs[:,:,:,1]  = np.where(\n",
    "            label_imgs[:,:,:,0] == i,\n",
    "            0,\n",
    "            merged_imgs[:,:,:,1]\n",
    "        )\n",
    "        \n",
    "        merged_imgs[:,:,:,0]  = np.where(\n",
    "            label_imgs[:,:,:,0] == i,\n",
    "            1,\n",
    "            merged_imgs[:,:,:,0]\n",
    "        )    "
   ]
  },
  {
   "cell_type": "code",
   "execution_count": null,
   "id": "d8bba4f9",
   "metadata": {},
   "outputs": [],
   "source": [
    "merged_imgs[:,:,:,1] = np.where(\n",
    "    merged_imgs[:,:,:,0] > 0,\n",
    "    0,\n",
    "    merged_imgs[:,:,:,1]\n",
    ")"
   ]
  },
  {
   "cell_type": "code",
   "execution_count": null,
   "id": "0d2eb4a6",
   "metadata": {},
   "outputs": [],
   "source": [
    "label_imgs, label_num = label(merged_imgs[:,:,:,0])\n",
    "boxels_array = [ np.count_nonzero(label_imgs == i) for i in range(label_num) ]"
   ]
  },
  {
   "cell_type": "code",
   "execution_count": null,
   "id": "5a1436a5",
   "metadata": {},
   "outputs": [],
   "source": [
    "for i in range(0, label_num+1):\n",
    "    print(f\"{str(i).zfill(4)} / {label_num}\")\n",
    "    if np.count_nonzero(label_imgs == i) <= 20:\n",
    "        merged_imgs[:,:,:,0]  = np.where(\n",
    "            label_imgs == i,\n",
    "            0,\n",
    "            merged_imgs[:,:,:,0]\n",
    "        )"
   ]
  },
  {
   "cell_type": "code",
   "execution_count": null,
   "id": "dd8333ad",
   "metadata": {},
   "outputs": [],
   "source": [
    "out_path = \"Z:/DeepLearningData/research_010_NIH3T3/shOPA1_003/annotations/cropped_005/merged_cristae_final/\"\n",
    "\n",
    "os.makedirs(f\"{out_path}/lamellar_with_postprocessing\", exist_ok = True)\n",
    "os.makedirs(f\"{out_path}/tubular_with_postprocessing\", exist_ok = True)\n",
    "\n",
    "for i in range(merged_imgs.shape[0]):\n",
    "    cv2.imwrite(\n",
    "        f\"{out_path}/lamellar_with_postprocessing/{str(i).zfill(4)}.png\",\n",
    "        merged_imgs[i][:,:,1]\n",
    "    )\n",
    "    cv2.imwrite(\n",
    "        f\"{out_path}/tubular_with_postprocessing/{str(i).zfill(4)}.png\",\n",
    "        merged_imgs[i][:,:,0]\n",
    "    )    "
   ]
  }
 ],
 "metadata": {
  "kernelspec": {
   "display_name": "Python 3",
   "language": "python",
   "name": "python3"
  },
  "language_info": {
   "codemirror_mode": {
    "name": "ipython",
    "version": 3
   },
   "file_extension": ".py",
   "mimetype": "text/x-python",
   "name": "python",
   "nbconvert_exporter": "python",
   "pygments_lexer": "ipython3",
   "version": "3.8.2"
  },
  "toc": {
   "base_numbering": 1,
   "nav_menu": {},
   "number_sections": true,
   "sideBar": true,
   "skip_h1_title": false,
   "title_cell": "Table of Contents",
   "title_sidebar": "Contents",
   "toc_cell": false,
   "toc_position": {},
   "toc_section_display": true,
   "toc_window_display": true
  }
 },
 "nbformat": 4,
 "nbformat_minor": 5
}
