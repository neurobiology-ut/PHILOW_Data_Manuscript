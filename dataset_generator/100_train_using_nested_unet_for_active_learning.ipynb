{
 "cells": [
  {
   "cell_type": "code",
   "execution_count": null,
   "id": "868033f3",
   "metadata": {},
   "outputs": [],
   "source": [
    "%matplotlib inline\n",
    "import matplotlib.pyplot as plt\n",
    "import os\n",
    "\n",
    "os.environ[\"TF_FORCE_GPU_ALLOW_GROWTH\"]= \"true\"\n",
    "\n",
    "import numpy as np\n",
    "from tensorflow.keras.optimizers import Adam , RMSprop\n",
    "import tensorflow.keras.backend as K\n",
    "from tensorflow.keras.callbacks import ModelCheckpoint , EarlyStopping , CSVLogger\n",
    "from tensorflow.keras.losses import binary_crossentropy\n",
    "from tensorflow.keras.models import Model\n",
    "from tensorflow.keras.layers import Input , concatenate , Conv2D , MaxPooling2D , Activation , UpSampling2D , BatchNormalization, Conv2DTranspose\n",
    "from tensorflow.keras.preprocessing.image import ImageDataGenerator\n",
    "import cv2\n",
    "import tensorflow as tf\n",
    "\n",
    "from tqdm import tqdm_notebook as tqdm"
   ]
  },
  {
   "cell_type": "code",
   "execution_count": null,
   "id": "8f9b5476",
   "metadata": {},
   "outputs": [],
   "source": [
    "#値を-1から1に正規化する関数\n",
    "def normalize_x(image):\n",
    "    return image / 127.5 - 1\n",
    "\n",
    "\n",
    "#値を0から1正規化する関数\n",
    "def normalize_y(image):\n",
    "    return image / 255\n",
    "\n",
    "\n",
    "#値を0から255に戻す関数\n",
    "def denormalize_y(image):\n",
    "    return image * 255"
   ]
  },
  {
   "cell_type": "code",
   "execution_count": null,
   "id": "03d04039",
   "metadata": {},
   "outputs": [],
   "source": [
    "# インプット画像を読み込む関数\n",
    "def load_X_gray(folder_path):\n",
    "    \n",
    "    image_files = []\n",
    "\n",
    "    #image_files = os.listdir(folder_path)\n",
    "       \n",
    "    for file in os.listdir(folder_path):\n",
    "        base, ext = os.path.splitext(file)\n",
    "        if ext == '.png':\n",
    "            image_files.append(file)\n",
    "        else :\n",
    "            pass\n",
    "        \n",
    "    image_files.sort()\n",
    "    \n",
    "    img = cv2.imread(folder_path + os.sep + image_files[0], cv2.IMREAD_GRAYSCALE)\n",
    "    \n",
    "    #image_files = image_files[1:]\n",
    "    images = np.zeros((len(image_files), img.shape[0], img.shape[1], 1), np.float32)\n",
    "    for i, image_file in tqdm(enumerate(image_files)):\n",
    "        image = cv2.imread(folder_path + os.sep + image_file, cv2.IMREAD_GRAYSCALE)\n",
    "        #image = cv2.resize(image, (IMAGE_SIZE, IMAGE_SIZE))\n",
    "        image = image[:, :, np.newaxis]\n",
    "        images[i] = normalize_x(image)\n",
    "    \n",
    "    print(images.shape)\n",
    "    \n",
    "    return images, image_files\n",
    "\n",
    "\n",
    "def load_Y_gray(folder_path, thresh = None , normalize = False, g_size = None):\n",
    "    image_files = []\n",
    "    #image_files = os.listdir(folder_path)\n",
    "    \n",
    "    for file in os.listdir(folder_path):\n",
    "        base, ext = os.path.splitext(file)\n",
    "        if ext == '.png':\n",
    "            image_files.append(file)\n",
    "        else:\n",
    "            pass\n",
    "        \n",
    "    image_files.sort()\n",
    "    \n",
    "    img = cv2.imread(folder_path + os.sep + image_files[0], cv2.IMREAD_GRAYSCALE)\n",
    "    \n",
    "    images = np.zeros(\n",
    "        (len(image_files), img.shape[0], img.shape[1], 1) ,np.float32\n",
    "    )\n",
    "    \n",
    "    for i , image_file in tqdm(enumerate(image_files)):\n",
    "        image = cv2.imread(\n",
    "            folder_path + os.sep + image_file ,\n",
    "            cv2.IMREAD_GRAYSCALE\n",
    "        )\n",
    "        #print(image.shape)\n",
    "        \n",
    "        # ぼかし処理\n",
    "        if g_size:\n",
    "            image = cv2.GaussianBlur(\n",
    "                image, (g_size, g_size), 0\n",
    "            )        \n",
    "        \n",
    "        if thresh:\n",
    "            ret , image = cv2.threshold(image , thresh , 255 , cv2.THRESH_BINARY)\n",
    "        image = image[ : , : , np.newaxis]\n",
    "        if normalize:\n",
    "            images[i] = normalize_y(image)\n",
    "        else:\n",
    "            images[i] = image\n",
    "            \n",
    "    print(images.shape)\n",
    "    \n",
    "    return images , image_files"
   ]
  },
  {
   "cell_type": "code",
   "execution_count": null,
   "id": "9c1ae6e6",
   "metadata": {},
   "outputs": [],
   "source": [
    "def dice_coeff(y_true, y_pred):\n",
    "    smooth = 1.\n",
    "    y_true_f = K.flatten(y_true)\n",
    "    y_pred_f = K.flatten(y_pred)\n",
    "    intersection = K.sum(y_true_f * y_pred_f)\n",
    "    score = (2. * intersection + smooth) / (K.sum(y_true_f) + K.sum(y_pred_f) + smooth)\n",
    "    return score\n",
    "\n",
    "\n",
    "def dice_loss(y_true, y_pred):\n",
    "    loss = 1 - dice_coeff(y_true, y_pred)\n",
    "    return loss\n",
    "\n",
    "\n",
    "def bce_dice_loss(y_true, y_pred):\n",
    "    loss = binary_crossentropy(y_true, y_pred) + dice_loss(y_true, y_pred)\n",
    "    return loss\n",
    "\n",
    "\n",
    "def weighted_dice_coeff(y_true, y_pred, weight):\n",
    "    smooth = 1.\n",
    "    w, m1, m2 = weight * weight, y_true, y_pred\n",
    "    intersection = (m1 * m2)\n",
    "    score = (2. * K.sum(w * intersection) + smooth) / (K.sum(w * m1) + K.sum(w * m2) + smooth)\n",
    "    return score\n",
    "\n",
    "\n",
    "def weighted_dice_loss(y_true, y_pred):\n",
    "    y_true = K.cast(y_true, 'float32')\n",
    "    y_pred = K.cast(y_pred, 'float32')\n",
    "    # if we want to get same size of output, kernel size must be odd number\n",
    "    if K.int_shape(y_pred)[1] == 128:\n",
    "        kernel_size = 11\n",
    "    elif K.int_shape(y_pred)[1] == 256:\n",
    "        kernel_size = 21\n",
    "    elif K.int_shape(y_pred)[1] == 512:\n",
    "        kernel_size = 21\n",
    "    elif K.int_shape(y_pred)[1] == 1024:\n",
    "        kernel_size = 41\n",
    "    else:\n",
    "        raise ValueError('Unexpected image size')\n",
    "    averaged_mask = K.pool2d(\n",
    "        y_true, pool_size=(kernel_size, kernel_size), strides=(1, 1), padding='same', pool_mode='avg')\n",
    "    border = K.cast(K.greater(averaged_mask, 0.005), 'float32') * K.cast(K.less(averaged_mask, 0.995), 'float32')\n",
    "    weight = K.ones_like(averaged_mask)\n",
    "    w0 = K.sum(weight)\n",
    "    weight += border * 2\n",
    "    w1 = K.sum(weight)\n",
    "    weight *= (w0 / w1)\n",
    "    loss = 1 - weighted_dice_coeff(y_true, y_pred, weight)\n",
    "    return loss\n",
    "\n",
    "\n",
    "def weighted_bce_loss(y_true, y_pred, weight):\n",
    "    # avoiding overflow\n",
    "    epsilon = 1e-7\n",
    "    y_pred = K.clip(y_pred, epsilon, 1. - epsilon)\n",
    "    logit_y_pred = K.log(y_pred / (1. - y_pred))\n",
    "\n",
    "    # https://www.tensorflow.org/api_docs/python/tf/nn/weighted_cross_entropy_with_logits\n",
    "    loss = (1. - y_true) * logit_y_pred + (1. + (weight - 1.) * y_true) * \\\n",
    "                                          (K.log(1. + K.exp(-K.abs(logit_y_pred))) + K.maximum(-logit_y_pred, 0.))\n",
    "    return K.sum(loss) / K.sum(weight)\n",
    "\n",
    "\n",
    "def weighted_bce_dice_loss(y_true, y_pred):\n",
    "    y_true = K.cast(y_true, 'float32')\n",
    "    y_pred = K.cast(y_pred, 'float32')\n",
    "    # if we want to get same size of output, kernel size must be odd number\n",
    "    if K.int_shape(y_pred)[1] == 128:\n",
    "        kernel_size = 11\n",
    "    elif K.int_shape(y_pred)[1] == 256:\n",
    "        kernel_size = 21\n",
    "    elif K.int_shape(y_pred)[1] == 512:\n",
    "        kernel_size = 21\n",
    "    elif K.int_shape(y_pred)[1] == 1024:\n",
    "        kernel_size = 41\n",
    "    else:\n",
    "        raise ValueError('Unexpected image size')\n",
    "    averaged_mask = K.pool2d(\n",
    "        y_true, pool_size=(kernel_size, kernel_size), strides=(1, 1), padding='same', pool_mode='avg')\n",
    "    border = K.cast(K.greater(averaged_mask, 0.005), 'float32') * K.cast(K.less(averaged_mask, 0.995), 'float32')\n",
    "    weight = K.ones_like(averaged_mask)\n",
    "    w0 = K.sum(weight)\n",
    "    weight += border * 2\n",
    "    w1 = K.sum(weight)\n",
    "    weight *= (w0 / w1)\n",
    "    loss = weighted_bce_loss(y_true, y_pred, weight) + (1 - weighted_dice_coeff(y_true, y_pred, weight))\n",
    "    return loss"
   ]
  },
  {
   "cell_type": "code",
   "execution_count": null,
   "id": "54e5ebcb",
   "metadata": {},
   "outputs": [],
   "source": [
    "def standard_uint(input_tensor, nb_filter):\n",
    "    \n",
    "    x = Conv2D(nb_filter, (3, 3), padding='same')(input_tensor)\n",
    "    x = BatchNormalization()(x)\n",
    "    x = Activation('relu')(x)\n",
    "    x = Conv2D(nb_filter, (3, 3), padding='same')(x)\n",
    "    x = BatchNormalization()(x)\n",
    "    x = Activation('relu')(x)\n",
    "    \n",
    "    return x\n",
    "\n",
    "\n",
    "def get_nest_unet_512_layer_7(input_shape=(512, 512, 1), num_classes=3, deep_supervision = False):\n",
    "    \n",
    "    with tf.device('/gpu:0'):\n",
    "        \n",
    "        inputs = Input(shape = input_shape)\n",
    "        \n",
    "        # 512\n",
    "        conv1_1 = standard_uint(inputs, nb_filter = 16)\n",
    "        pool1 = MaxPooling2D((2, 2), strides = (2, 2))(conv1_1)\n",
    "        \n",
    "        #256\n",
    "        conv2_1 = standard_uint(pool1, nb_filter = 32)\n",
    "        pool2 = MaxPooling2D((2, 2), strides = (2, 2))(conv2_1)\n",
    "        \n",
    "        up1_2 = Conv2DTranspose(16, (2, 2), strides = (2, 2), padding = 'same')(conv2_1)\n",
    "        conv1_2 = concatenate([up1_2, conv1_1], axis = 3)\n",
    "        conv1_2 = standard_uint(conv1_2, nb_filter = 16)\n",
    "        \n",
    "        #128\n",
    "        conv3_1 = standard_uint(pool2, nb_filter = 64)\n",
    "        pool3 = MaxPooling2D((2, 2), strides = (2, 2))(conv3_1)\n",
    "        \n",
    "        up2_2 = Conv2DTranspose(32, (2, 2), strides = (2, 2), padding = 'same')(conv3_1)\n",
    "        conv2_2 = concatenate([up2_2, conv2_1], axis = 3)\n",
    "        conv2_2 = standard_uint(conv2_2, nb_filter = 32)\n",
    "        \n",
    "        up1_3 = Conv2DTranspose(16, (2, 2), strides = (2, 2), padding = 'same')(conv2_2)\n",
    "        conv1_3 = concatenate([up1_3, conv1_1, conv1_2], axis = 3)\n",
    "        conv1_3 = standard_uint(conv1_3, nb_filter = 16)\n",
    "        \n",
    "        # 64\n",
    "        conv4_1 = standard_uint(pool3, nb_filter = 128)\n",
    "        pool4 = MaxPooling2D((2, 2), strides = (2, 2))(conv4_1)      \n",
    "        \n",
    "        up3_2 = Conv2DTranspose(64, (2, 2), strides = (2, 2), padding = 'same')(conv4_1)\n",
    "        conv3_2 = concatenate([up3_2, conv3_1], axis = 3)\n",
    "        conv3_2 = standard_uint(conv3_2, nb_filter = 64)    \n",
    "        \n",
    "        up2_3 = Conv2DTranspose(32, (2, 2), strides = (2, 2), padding = 'same')(conv3_2)\n",
    "        conv2_3 = concatenate([up2_3, conv2_1, conv2_2], axis = 3)\n",
    "        conv2_3 = standard_uint(conv2_3, nb_filter = 32)        \n",
    "        \n",
    "        up1_4 = Conv2DTranspose(16, (2, 2), strides = (2, 2), padding = 'same')(conv2_3)\n",
    "        conv1_4 = concatenate([up1_4, conv1_2, conv1_3], axis = 3)\n",
    "        conv1_4 = standard_uint(conv1_4, nb_filter = 16)       \n",
    "        \n",
    "        # 32\n",
    "        conv5_1 = standard_uint(pool4, nb_filter = 256)\n",
    "        pool5 = MaxPooling2D((2, 2), strides = (2, 2))(conv5_1)      \n",
    "        \n",
    "        up4_2 = Conv2DTranspose(128, (2, 2), strides = (2, 2), padding = 'same')(conv5_1)\n",
    "        conv4_2 = concatenate([up4_2, conv4_1], axis = 3)\n",
    "        conv4_2 = standard_uint(conv4_2, nb_filter = 128)  \n",
    "        \n",
    "        up3_3 = Conv2DTranspose(64, (2, 2), strides = (2, 2), padding = 'same')(conv4_2)\n",
    "        conv3_3 = concatenate([up3_3, conv3_1, conv3_2], axis = 3)\n",
    "        conv3_3 = standard_uint(conv3_3, nb_filter = 64)\n",
    "        \n",
    "        up2_4 = Conv2DTranspose(32, (2, 2), strides = (2, 2), padding = 'same')(conv3_3)\n",
    "        conv2_4 = concatenate([up2_4, conv2_1, conv2_2, conv2_3], axis = 3)\n",
    "        conv2_4 = standard_uint(conv2_4, nb_filter = 32)\n",
    "        \n",
    "        up1_5 = Conv2DTranspose(16, (2, 2), strides = (2, 2), padding = 'same')(conv2_4)\n",
    "        conv1_5 = concatenate([up1_5, conv1_1, conv1_2, conv1_3, conv1_4], axis = 3)\n",
    "        conv1_5 = standard_uint(conv1_5, nb_filter = 16)\n",
    "        \n",
    "        \n",
    "        # 16\n",
    "        conv6_1 = standard_uint(pool5, nb_filter = 512)        \n",
    "        \n",
    "        up5_2 = Conv2DTranspose(256, (2, 2), strides = (2, 2), padding = 'same')(conv6_1)\n",
    "        conv5_2 = concatenate([up5_2, conv5_1], axis = 3)\n",
    "        conv5_2 = standard_uint(conv5_2, nb_filter = 256) \n",
    "        \n",
    "        up4_3 = Conv2DTranspose(128, (2, 2), strides = (2, 2), padding = 'same')(conv5_2)\n",
    "        conv4_3 = concatenate([up4_3, conv4_1, conv4_2], axis = 3)\n",
    "        conv4_3 = standard_uint(conv4_3, nb_filter = 128)\n",
    "        \n",
    "        up3_4 = Conv2DTranspose(64, (2, 2), strides = (2, 2), padding = 'same')(conv4_3)\n",
    "        conv3_4 = concatenate([up3_4, conv3_1, conv3_2, conv3_3], axis = 3)\n",
    "        conv3_4 = standard_uint(conv3_4, nb_filter = 64)\n",
    "        \n",
    "        up2_5 = Conv2DTranspose(32, (2, 2), strides = (2, 2), padding = 'same')(conv3_4)\n",
    "        conv2_5 = concatenate([up2_5, conv2_1, conv2_2, conv2_3, conv2_4], axis = 3)\n",
    "        conv2_5 = standard_uint(conv2_5, nb_filter = 32)   \n",
    "        \n",
    "        up1_6 = Conv2DTranspose(16, (2, 2), strides = (2, 2), padding = 'same')(conv2_5)\n",
    "        conv1_6 = concatenate([up1_6, conv1_1, conv1_2, conv1_3, conv1_4, conv1_5], axis = 3)\n",
    "        conv1_6 = standard_uint(conv1_6, nb_filter = 16)   \n",
    "        \n",
    "        \n",
    "        nested_output_1 = Conv2D(num_classes, (1, 1), activation = 'sigmoid')(conv1_2)\n",
    "        nested_output_2 = Conv2D(num_classes, (1, 1), activation = 'sigmoid')(conv1_3)\n",
    "        nested_output_3 = Conv2D(num_classes, (1, 1), activation = 'sigmoid')(conv1_4)\n",
    "        nested_output_4 = Conv2D(num_classes, (1, 1), activation = 'sigmoid')(conv1_5)\n",
    "        nested_output_5 = Conv2D(num_classes, (1, 1), activation = 'sigmoid')(conv1_6)\n",
    "        \n",
    "        if deep_supervision:\n",
    "            model = Model(inputs = inputs, outputs = [nested_output_1, nested_output_2, nested_output_3, nested_output_4, nested_output_5]) \n",
    "        else:\n",
    "            model = Model(inputs = inputs, outputs = [nested_output_5])\n",
    "            \n",
    "        model.compile(optimizer=RMSprop(lr=0.0001), loss=bce_dice_loss, metrics=[dice_coeff])\n",
    "        \n",
    "        return model\n",
    "    \n",
    "   \n",
    "\n",
    "def get_nest_unet_512_layer_6(input_shape=(512, 512, 1), num_classes=3, deep_supervision = False):\n",
    "    \n",
    "    with tf.device('/gpu:0'):\n",
    "        \n",
    "        inputs = Input(shape = input_shape)\n",
    "        \n",
    "        # 512\n",
    "        conv1_1 = standard_uint(inputs, nb_filter = 16)\n",
    "        pool1 = MaxPooling2D((2, 2), strides = (2, 2))(conv1_1)\n",
    "        \n",
    "        #256\n",
    "        conv2_1 = standard_uint(pool1, nb_filter = 32)\n",
    "        pool2 = MaxPooling2D((2, 2), strides = (2, 2))(conv2_1)\n",
    "        \n",
    "        up1_2 = Conv2DTranspose(16, (2, 2), strides = (2, 2), padding = 'same')(conv2_1)\n",
    "        conv1_2 = concatenate([up1_2, conv1_1], axis = 3)\n",
    "        conv1_2 = standard_uint(conv1_2, nb_filter = 16)\n",
    "        \n",
    "        #128\n",
    "        conv3_1 = standard_uint(pool2, nb_filter = 64)\n",
    "        pool3 = MaxPooling2D((2, 2), strides = (2, 2))(conv3_1)\n",
    "        \n",
    "        up2_2 = Conv2DTranspose(32, (2, 2), strides = (2, 2), padding = 'same')(conv3_1)\n",
    "        conv2_2 = concatenate([up2_2, conv2_1], axis = 3)\n",
    "        conv2_2 = standard_uint(conv2_2, nb_filter = 32)\n",
    "        \n",
    "        up1_3 = Conv2DTranspose(16, (2, 2), strides = (2, 2), padding = 'same')(conv2_2)\n",
    "        conv1_3 = concatenate([up1_3, conv1_1, conv1_2], axis = 3)\n",
    "        conv1_3 = standard_uint(conv1_3, nb_filter = 16)\n",
    "        \n",
    "        # 64\n",
    "        conv4_1 = standard_uint(pool3, nb_filter = 128)\n",
    "        pool4 = MaxPooling2D((2, 2), strides = (2, 2))(conv4_1)      \n",
    "        \n",
    "        up3_2 = Conv2DTranspose(64, (2, 2), strides = (2, 2), padding = 'same')(conv4_1)\n",
    "        conv3_2 = concatenate([up3_2, conv3_1], axis = 3)\n",
    "        conv3_2 = standard_uint(conv3_2, nb_filter = 64)    \n",
    "        \n",
    "        up2_3 = Conv2DTranspose(32, (2, 2), strides = (2, 2), padding = 'same')(conv3_2)\n",
    "        conv2_3 = concatenate([up2_3, conv2_1, conv2_2], axis = 3)\n",
    "        conv2_3 = standard_uint(conv2_3, nb_filter = 32)        \n",
    "        \n",
    "        up1_4 = Conv2DTranspose(16, (2, 2), strides = (2, 2), padding = 'same')(conv2_3)\n",
    "        conv1_4 = concatenate([up1_4, conv1_2, conv1_3], axis = 3)\n",
    "        conv1_4 = standard_uint(conv1_4, nb_filter = 16)       \n",
    "        \n",
    "        # 32\n",
    "        conv5_1 = standard_uint(pool4, nb_filter = 256)\n",
    "        pool5 = MaxPooling2D((2, 2), strides = (2, 2))(conv5_1)      \n",
    "        \n",
    "        up4_2 = Conv2DTranspose(128, (2, 2), strides = (2, 2), padding = 'same')(conv5_1)\n",
    "        conv4_2 = concatenate([up4_2, conv4_1], axis = 3)\n",
    "        conv4_2 = standard_uint(conv4_2, nb_filter = 128)  \n",
    "        \n",
    "        up3_3 = Conv2DTranspose(64, (2, 2), strides = (2, 2), padding = 'same')(conv4_2)\n",
    "        conv3_3 = concatenate([up3_3, conv3_1, conv3_2], axis = 3)\n",
    "        conv3_3 = standard_uint(conv3_3, nb_filter = 64)\n",
    "        \n",
    "        up2_4 = Conv2DTranspose(32, (2, 2), strides = (2, 2), padding = 'same')(conv3_3)\n",
    "        conv2_4 = concatenate([up2_4, conv2_1, conv2_2, conv2_3], axis = 3)\n",
    "        conv2_4 = standard_uint(conv2_4, nb_filter = 32)\n",
    "        \n",
    "        up1_5 = Conv2DTranspose(16, (2, 2), strides = (2, 2), padding = 'same')(conv2_4)\n",
    "        conv1_5 = concatenate([up1_5, conv1_1, conv1_2, conv1_3, conv1_4], axis = 3)\n",
    "        conv1_5 = standard_uint(conv1_5, nb_filter = 16)\n",
    "        \n",
    "        \n",
    "        # 16\n",
    "        conv6_1 = standard_uint(pool5, nb_filter = 512)\n",
    "        pool6 = MaxPooling2D((2, 2), strides = (2, 2))(conv6_1)        \n",
    "        \n",
    "        up5_2 = Conv2DTranspose(256, (2, 2), strides = (2, 2), padding = 'same')(conv6_1)\n",
    "        conv5_2 = concatenate([up5_2, conv5_1], axis = 3)\n",
    "        conv5_2 = standard_uint(conv5_2, nb_filter = 256) \n",
    "        \n",
    "        up4_3 = Conv2DTranspose(128, (2, 2), strides = (2, 2), padding = 'same')(conv5_2)\n",
    "        conv4_3 = concatenate([up4_3, conv4_1, conv4_2], axis = 3)\n",
    "        conv4_3 = standard_uint(conv4_3, nb_filter = 128)\n",
    "        \n",
    "        up3_4 = Conv2DTranspose(64, (2, 2), strides = (2, 2), padding = 'same')(conv4_3)\n",
    "        conv3_4 = concatenate([up3_4, conv3_1, conv3_2, conv3_3], axis = 3)\n",
    "        conv3_4 = standard_uint(conv3_4, nb_filter = 64)\n",
    "        \n",
    "        up2_5 = Conv2DTranspose(32, (2, 2), strides = (2, 2), padding = 'same')(conv3_4)\n",
    "        conv2_5 = concatenate([up2_5, conv2_1, conv2_2, conv2_3, conv2_4], axis = 3)\n",
    "        conv2_5 = standard_uint(conv2_5, nb_filter = 32)   \n",
    "        \n",
    "        up1_6 = Conv2DTranspose(16, (2, 2), strides = (2, 2), padding = 'same')(conv2_5)\n",
    "        conv1_6 = concatenate([up1_6, conv1_1, conv1_2, conv1_3, conv1_4, conv1_5], axis = 3)\n",
    "        conv1_6 = standard_uint(conv1_6, nb_filter = 16)   \n",
    "        \n",
    "        # Center\n",
    "        conv7_1 = standard_uint(pool6, nb_filter = 1024)\n",
    "        \n",
    "        up6_2 = Conv2DTranspose(512, (2, 2), strides = (2, 2), padding = 'same')(conv7_1)\n",
    "        conv6_2 = concatenate([up6_2, conv6_1], axis = 3)\n",
    "        conv6_2 = standard_uint(conv6_2, nb_filter = 512)\n",
    "        \n",
    "        up5_3 = Conv2DTranspose(256, (2, 2), strides = (2, 2), padding = 'same')(conv6_2)\n",
    "        conv5_3 = concatenate([up5_3, conv5_1, conv5_2], axis = 3)\n",
    "        conv5_3 = standard_uint(conv5_3, nb_filter = 256)  \n",
    "        \n",
    "        up4_4 = Conv2DTranspose(128, (2, 2), strides = (2, 2), padding = 'same')(conv5_3)\n",
    "        conv4_4 = concatenate([up4_4, conv4_1, conv4_2, conv4_3], axis = 3)\n",
    "        conv4_4 = standard_uint(conv4_4, nb_filter = 128)     \n",
    "        \n",
    "        up3_5 = Conv2DTranspose(64, (2, 2), strides = (2, 2), padding = 'same')(conv4_4)\n",
    "        conv3_5 = concatenate([up3_5, conv3_1, conv3_2, conv3_3, conv3_4], axis = 3)\n",
    "        conv3_5 = standard_uint(conv3_5, nb_filter = 64)\n",
    "        \n",
    "        up2_6 = Conv2DTranspose(32, (2, 2), strides = (2, 2), padding = 'same')(conv3_5)\n",
    "        conv2_6 = concatenate([up2_6, conv2_1, conv2_2, conv2_3, conv2_4, conv2_5], axis = 3)\n",
    "        conv2_6 = standard_uint(conv2_6, nb_filter = 32)    \n",
    "        \n",
    "        up1_7 = Conv2DTranspose(16, (2, 2), strides = (2, 2), padding = 'same')(conv2_6)\n",
    "        conv1_7 = concatenate([up1_7, conv1_1, conv1_2, conv1_3, conv1_4, conv1_5, conv1_6], axis = 3)\n",
    "        conv1_7 = standard_uint(conv1_7, nb_filter = 16)\n",
    "        \n",
    "        \n",
    "        nested_output_1 = Conv2D(num_classes, (1, 1), activation = 'sigmoid')(conv1_2)\n",
    "        nested_output_2 = Conv2D(num_classes, (1, 1), activation = 'sigmoid')(conv1_3)\n",
    "        nested_output_3 = Conv2D(num_classes, (1, 1), activation = 'sigmoid')(conv1_4)\n",
    "        nested_output_4 = Conv2D(num_classes, (1, 1), activation = 'sigmoid')(conv1_5)\n",
    "        nested_output_5 = Conv2D(num_classes, (1, 1), activation = 'sigmoid')(conv1_6)\n",
    "        nested_output_6 = Conv2D(num_classes, (1, 1), activation = 'sigmoid')(conv1_7)\n",
    "        \n",
    "        if deep_supervision:\n",
    "            model = Model(inputs = inputs, outputs = [nested_output_1, nested_output_2, nested_output_3, nested_output_4, nested_output_5, nested_output_6]) \n",
    "        else:\n",
    "            model = Model(inputs = inputs, outputs = [nested_output_6])\n",
    "            \n",
    "        model.compile(optimizer=RMSprop(lr=0.0001), loss=bce_dice_loss, metrics=[dice_coeff])\n",
    "        \n",
    "        return model\n",
    "\n",
    "\n",
    "def get_nest_unet_512_layer_5(input_shape=(512, 512, 1), num_classes=3, deep_supervision = False):\n",
    "    \n",
    "    with tf.device('/gpu:0'):\n",
    "        \n",
    "        inputs = Input(shape = input_shape)\n",
    "        \n",
    "        # 512\n",
    "        conv1_1 = standard_uint(inputs, nb_filter = 16)\n",
    "        pool1 = MaxPooling2D((2, 2), strides = (2, 2))(conv1_1)\n",
    "        \n",
    "        #256\n",
    "        conv2_1 = standard_uint(pool1, nb_filter = 32)\n",
    "        pool2 = MaxPooling2D((2, 2), strides = (2, 2))(conv2_1)\n",
    "        \n",
    "        up1_2 = Conv2DTranspose(16, (2, 2), strides = (2, 2), padding = 'same')(conv2_1)\n",
    "        conv1_2 = concatenate([up1_2, conv1_1], axis = 3)\n",
    "        conv1_2 = standard_uint(conv1_2, nb_filter = 16)\n",
    "        \n",
    "        #128\n",
    "        conv3_1 = standard_uint(pool2, nb_filter = 64)\n",
    "        pool3 = MaxPooling2D((2, 2), strides = (2, 2))(conv3_1)\n",
    "        \n",
    "        up2_2 = Conv2DTranspose(32, (2, 2), strides = (2, 2), padding = 'same')(conv3_1)\n",
    "        conv2_2 = concatenate([up2_2, conv2_1], axis = 3)\n",
    "        conv2_2 = standard_uint(conv2_2, nb_filter = 32)\n",
    "        \n",
    "        up1_3 = Conv2DTranspose(16, (2, 2), strides = (2, 2), padding = 'same')(conv2_2)\n",
    "        conv1_3 = concatenate([up1_3, conv1_1, conv1_2], axis = 3)\n",
    "        conv1_3 = standard_uint(conv1_3, nb_filter = 16)\n",
    "        \n",
    "        # 64\n",
    "        conv4_1 = standard_uint(pool3, nb_filter = 128)\n",
    "        pool4 = MaxPooling2D((2, 2), strides = (2, 2))(conv4_1)      \n",
    "        \n",
    "        up3_2 = Conv2DTranspose(64, (2, 2), strides = (2, 2), padding = 'same')(conv4_1)\n",
    "        conv3_2 = concatenate([up3_2, conv3_1], axis = 3)\n",
    "        conv3_2 = standard_uint(conv3_2, nb_filter = 64)    \n",
    "        \n",
    "        up2_3 = Conv2DTranspose(32, (2, 2), strides = (2, 2), padding = 'same')(conv3_2)\n",
    "        conv2_3 = concatenate([up2_3, conv2_1, conv2_2], axis = 3)\n",
    "        conv2_3 = standard_uint(conv2_3, nb_filter = 32)        \n",
    "        \n",
    "        up1_4 = Conv2DTranspose(16, (2, 2), strides = (2, 2), padding = 'same')(conv2_3)\n",
    "        conv1_4 = concatenate([up1_4, conv1_2, conv1_3], axis = 3)\n",
    "        conv1_4 = standard_uint(conv1_4, nb_filter = 16)       \n",
    "        \n",
    "        # 32\n",
    "        conv5_1 = standard_uint(pool4, nb_filter = 256)    \n",
    "        \n",
    "        up4_2 = Conv2DTranspose(128, (2, 2), strides = (2, 2), padding = 'same')(conv5_1)\n",
    "        conv4_2 = concatenate([up4_2, conv4_1], axis = 3)\n",
    "        conv4_2 = standard_uint(conv4_2, nb_filter = 128)  \n",
    "        \n",
    "        up3_3 = Conv2DTranspose(64, (2, 2), strides = (2, 2), padding = 'same')(conv4_2)\n",
    "        conv3_3 = concatenate([up3_3, conv3_1, conv3_2], axis = 3)\n",
    "        conv3_3 = standard_uint(conv3_3, nb_filter = 64)\n",
    "        \n",
    "        up2_4 = Conv2DTranspose(32, (2, 2), strides = (2, 2), padding = 'same')(conv3_3)\n",
    "        conv2_4 = concatenate([up2_4, conv2_1, conv2_2, conv2_3], axis = 3)\n",
    "        conv2_4 = standard_uint(conv2_4, nb_filter = 32)\n",
    "        \n",
    "        up1_5 = Conv2DTranspose(16, (2, 2), strides = (2, 2), padding = 'same')(conv2_4)\n",
    "        conv1_5 = concatenate([up1_5, conv1_1, conv1_2, conv1_3, conv1_4], axis = 3)\n",
    "        conv1_5 = standard_uint(conv1_5, nb_filter = 16)\n",
    "        \n",
    "        \n",
    "        \n",
    "        nested_output_1 = Conv2D(num_classes, (1, 1), activation = 'sigmoid')(conv1_2)\n",
    "        nested_output_2 = Conv2D(num_classes, (1, 1), activation = 'sigmoid')(conv1_3)\n",
    "        nested_output_3 = Conv2D(num_classes, (1, 1), activation = 'sigmoid')(conv1_4)\n",
    "        nested_output_4 = Conv2D(num_classes, (1, 1), activation = 'sigmoid')(conv1_5)\n",
    "        \n",
    "        if deep_supervision:\n",
    "            model = Model(inputs = inputs, outputs = [nested_output_1, nested_output_2, nested_output_3, nested_output_4]) \n",
    "        else:\n",
    "            model = Model(inputs = inputs, outputs = [nested_output_4])\n",
    "            \n",
    "        model.compile(optimizer=RMSprop(lr=0.0001), loss=bce_dice_loss, metrics=[dice_coeff])\n",
    "        \n",
    "        return model\n",
    "    \n",
    "    \n",
    "    \n",
    "def get_nest_unet_512_layer_5_more_channels(input_shape=(512, 512, 1), num_classes=3, deep_supervision = False):\n",
    "    \n",
    "    with tf.device('/gpu:0'):\n",
    "        \n",
    "        inputs = Input(shape = input_shape)\n",
    "        \n",
    "        # 512\n",
    "        conv1_1 = standard_uint(inputs, nb_filter = 16)\n",
    "        pool1 = MaxPooling2D((2, 2), strides = (2, 2))(conv1_1)\n",
    "        \n",
    "        #256\n",
    "        conv2_1 = standard_uint(pool1, nb_filter = 32)\n",
    "        pool2 = MaxPooling2D((2, 2), strides = (2, 2))(conv2_1)\n",
    "        \n",
    "        up1_2 = Conv2DTranspose(16, (2, 2), strides = (2, 2), padding = 'same')(conv2_1)\n",
    "        conv1_2 = concatenate([up1_2, conv1_1], axis = 3)\n",
    "        conv1_2 = standard_uint(conv1_2, nb_filter = 16)\n",
    "        \n",
    "        #128\n",
    "        conv3_1 = standard_uint(pool2, nb_filter = 64)\n",
    "        pool3 = MaxPooling2D((2, 2), strides = (2, 2))(conv3_1)\n",
    "        \n",
    "        up2_2 = Conv2DTranspose(32, (2, 2), strides = (2, 2), padding = 'same')(conv3_1)\n",
    "        conv2_2 = concatenate([up2_2, conv2_1], axis = 3)\n",
    "        conv2_2 = standard_uint(conv2_2, nb_filter = 32)\n",
    "        \n",
    "        up1_3 = Conv2DTranspose(16, (2, 2), strides = (2, 2), padding = 'same')(conv2_2)\n",
    "        conv1_3 = concatenate([up1_3, conv1_1, conv1_2], axis = 3)\n",
    "        conv1_3 = standard_uint(conv1_3, nb_filter = 16)\n",
    "        \n",
    "        # 64\n",
    "        conv4_1 = standard_uint(pool3, nb_filter = 128)\n",
    "        pool4 = MaxPooling2D((2, 2), strides = (2, 2))(conv4_1)      \n",
    "        \n",
    "        up3_2 = Conv2DTranspose(64, (2, 2), strides = (2, 2), padding = 'same')(conv4_1)\n",
    "        conv3_2 = concatenate([up3_2, conv3_1], axis = 3)\n",
    "        conv3_2 = standard_uint(conv3_2, nb_filter = 64)    \n",
    "        \n",
    "        up2_3 = Conv2DTranspose(32, (2, 2), strides = (2, 2), padding = 'same')(conv3_2)\n",
    "        conv2_3 = concatenate([up2_3, conv2_1, conv2_2], axis = 3)\n",
    "        conv2_3 = standard_uint(conv2_3, nb_filter = 32)        \n",
    "        \n",
    "        up1_4 = Conv2DTranspose(16, (2, 2), strides = (2, 2), padding = 'same')(conv2_3)\n",
    "        conv1_4 = concatenate([up1_4, conv1_2, conv1_3], axis = 3)\n",
    "        conv1_4 = standard_uint(conv1_4, nb_filter = 16)       \n",
    "        \n",
    "        # 32\n",
    "        conv5_1 = standard_uint(pool4, nb_filter = 256)    \n",
    "        \n",
    "        up4_2 = Conv2DTranspose(128, (2, 2), strides = (2, 2), padding = 'same')(conv5_1)\n",
    "        conv4_2 = concatenate([up4_2, conv4_1], axis = 3)\n",
    "        conv4_2 = standard_uint(conv4_2, nb_filter = 128)  \n",
    "        \n",
    "        up3_3 = Conv2DTranspose(64, (2, 2), strides = (2, 2), padding = 'same')(conv4_2)\n",
    "        conv3_3 = concatenate([up3_3, conv3_1, conv3_2], axis = 3)\n",
    "        conv3_3 = standard_uint(conv3_3, nb_filter = 64)\n",
    "        \n",
    "        up2_4 = Conv2DTranspose(32, (2, 2), strides = (2, 2), padding = 'same')(conv3_3)\n",
    "        conv2_4 = concatenate([up2_4, conv2_1, conv2_2, conv2_3], axis = 3)\n",
    "        conv2_4 = standard_uint(conv2_4, nb_filter = 32)\n",
    "        \n",
    "        up1_5 = Conv2DTranspose(16, (2, 2), strides = (2, 2), padding = 'same')(conv2_4)\n",
    "        conv1_5 = concatenate([up1_5, conv1_1, conv1_2, conv1_3, conv1_4], axis = 3)\n",
    "        conv1_5 = standard_uint(conv1_5, nb_filter = 16)\n",
    "        \n",
    "        \n",
    "        \n",
    "        nested_output_1 = Conv2D(num_classes, (1, 1), activation = 'sigmoid')(conv1_2)\n",
    "        nested_output_2 = Conv2D(num_classes, (1, 1), activation = 'sigmoid')(conv1_3)\n",
    "        nested_output_3 = Conv2D(num_classes, (1, 1), activation = 'sigmoid')(conv1_4)\n",
    "        nested_output_4 = Conv2D(num_classes, (1, 1), activation = 'sigmoid')(conv1_5)\n",
    "        \n",
    "        if deep_supervision:\n",
    "            model = Model(inputs = inputs, outputs = [nested_output_1, nested_output_2, nested_output_3, nested_output_4]) \n",
    "        else:\n",
    "            model = Model(inputs = inputs, outputs = [nested_output_4])\n",
    "            \n",
    "        model.compile(optimizer=RMSprop(lr=0.0001), loss=bce_dice_loss, metrics=[dice_coeff])\n",
    "        \n",
    "        return model"
   ]
  },
  {
   "cell_type": "code",
   "execution_count": null,
   "id": "134dedac",
   "metadata": {},
   "outputs": [],
   "source": [
    "def divide_gray_imgs(images):\n",
    "    \n",
    "    '''\n",
    "        512 x 512に分割する\n",
    "        端の50pxをのりしろとする\n",
    "        空欄箇所は-1（黒）にする\n",
    "        height, widthが412未満の場合は変数を-1に変更\n",
    "    '''\n",
    "    \n",
    "    H = -(-images.shape[1]//412)\n",
    "    W = -(-images.shape[2]//412)\n",
    "    \n",
    "    diveded_imgs = np.zeros(( images.shape[0]*H*W, 512, 512, 1), np.float32)\n",
    "    print(H,W)\n",
    "    \n",
    "    for z in range(images.shape[0]):\n",
    "        image = images[z]\n",
    "        for h in range(H):\n",
    "            for w in range(W):\n",
    "                cropped_img = np.zeros((512, 512, 1), np.float32)\n",
    "                cropped_img -= 1\n",
    "                \n",
    "                if images.shape[1] < 412:\n",
    "                    h = -1\n",
    "                if images.shape[2] < 412:\n",
    "                    w = -1\n",
    "                    \n",
    "                if h == -1:\n",
    "                    if w == -1:\n",
    "                        cropped_img[50:images.shape[1]+50, 50:images.shape[2]+50, 0] = image[0:images.shape[1], 0:images.shape[2], 0]\n",
    "                    elif w == 0:\n",
    "                        cropped_img[50:images.shape[1]+50, 50:512, 0] = image[0:images.shape[1], 0:462, 0]\n",
    "                    elif w == W-1:\n",
    "                        cropped_img[50:images.shape[1]+50, 0:images.shape[2]-412*W-50, 0] = image[0:images.shape[1], w*412-50:images.shape[2], 0]\n",
    "                    else:\n",
    "                        cropped_img[50:images.shape[1]+50, :, 0] = image[0:images.shape[1], w*412-50:(w+1)*412+50, 0]\n",
    "                elif h == 0:\n",
    "                    if w == -1:\n",
    "                        cropped_img[50:512, 50:images.shape[2]+50, 0] = image[0:462, 0:images.shape[2], 0]\n",
    "                    elif w == 0:\n",
    "                        cropped_img[50:512, 50:512, 0] = image[0:462, 0:462, 0]\n",
    "                    elif w == W-1:\n",
    "                        cropped_img[50:512, 0:images.shape[2]-412*W-50, 0] = image[0:462, w*412-50:images.shape[2], 0]\n",
    "                    else:\n",
    "                        #cropped_img[50:512, :, 0] = image[0:462, w*412-50:(w+1)*412+50, 0]\n",
    "                        try:\n",
    "                            cropped_img[50:512, :, 0] = image[0:462, w*412-50:(w+1)*412+50, 0]\n",
    "                        except:\n",
    "                            cropped_img[50:512, 0:images.shape[2]-412*(W-1)-50, 0] = image[0:462, w*412-50:(w+1)*412+50, 0]\n",
    "                elif h == H-1:\n",
    "                    if w == -1:\n",
    "                        cropped_img[0:images.shape[1]-412*H-50, 50:images.shape[2]+50, 0] = image[h*412-50:images.shape[1], 0:images.shape[2], 0]\n",
    "                    elif w == 0:\n",
    "                        cropped_img[0:images.shape[1]-412*H-50, 50:512, 0] = image[h*412-50:images.shape[1], 0:462, 0]\n",
    "                    elif w == W-1:\n",
    "                        cropped_img[0:images.shape[1]-412*H-50, 0:images.shape[2]-412*W-50, 0] = image[h*412-50:images.shape[1], w*412-50:images.shape[2], 0]\n",
    "                    else:\n",
    "                        try:\n",
    "                            cropped_img[0:images.shape[1]-412*H-50, :, 0] = image[h*412-50:images.shape[1], w*412-50:(w+1)*412+50, 0]\n",
    "                        except:\n",
    "                            cropped_img[0:images.shape[1]-412*H-50, 0:images.shape[2]-412*(W-1)-50, 0] = image[h*412-50:images.shape[1], w*412-50:(w+1)*412+50, 0]\n",
    "                else:\n",
    "                    if w == -1:\n",
    "                        cropped_img[:, 50:images.shape[2]+50, 0] = image[h*412-50:(h+1)*412+50, 0:images.shape[2], 0]\n",
    "                    elif w == 0:\n",
    "                        #cropped_img[:, 50:512, 0] = image[h*412-50:(h+1)*412+50, 0:462, 0]\n",
    "                        try:\n",
    "                            cropped_img[:, 50:512, 0] = image[h*412-50:(h+1)*412+50, 0:462, 0]\n",
    "                        except:\n",
    "                            cropped_img[0:images.shape[1]-412*H-50+412, 50:512, 0] = image[h*412-50:(h+1)*412+50, 0:462, 0]\n",
    "                    elif w == W-1:\n",
    "                        #cropped_img[:, 0:images.shape[2]-412*W-50, 0] = image[h*412-50:(h+1)*412+50, w*412-50:images.shape[2], 0]\n",
    "                        try:\n",
    "                            cropped_img[:, 0:images.shape[2]-412*W-50, 0] = image[h*412-50:(h+1)*412+50, w*412-50:images.shape[2], 0]\n",
    "                        except:\n",
    "                            cropped_img[0:images.shape[1]-412*H-50+412, 0:images.shape[2]-412*W-50, 0] = image[h*412-50:(h+1)*412+50, w*412-50:images.shape[2], 0]\n",
    "                    else:\n",
    "                        #cropped_img[:, :, 0] = image[h*412-50:(h+1)*412+50, w*412-50:(w+1)*412+50, 0]\n",
    "                        try:\n",
    "                            cropped_img[:, :, 0] = image[h*412-50:(h+1)*412+50, w*412-50:(w+1)*412+50, 0]         \n",
    "                        except:\n",
    "                            try:\n",
    "                                 cropped_img[:, 0:images.shape[2]-412*(W-1)-50, 0] = image[h*412-50:(h+1)*412+50, w*412-50:(w+1)*412+50, 0]\n",
    "                            except:\n",
    "                                 cropped_img[0:images.shape[1]-412*(H-1)-50, :, 0] = image[h*412-50:(h+1)*412+50, w*412-50:(w+1)*412+50, 0]\n",
    "                h = max(0, h)\n",
    "                w = max(0, w)\n",
    "                diveded_imgs[z*H*W+ w*H+h] = cropped_img\n",
    "                #print(z*H*W+ w*H+h)\n",
    "                \n",
    "    return diveded_imgs"
   ]
  },
  {
   "cell_type": "code",
   "execution_count": null,
   "id": "3c433a46",
   "metadata": {},
   "outputs": [],
   "source": [
    "def make_train_datasets(ori_images, label_images, num_list):\n",
    "    \n",
    "    \"\"\"\n",
    "        Args : \n",
    "            ori_images (numpy.ndarray) : Z, Y, X, 1\n",
    "            label_images (numpy.ndarray) : Z, Y, X, 1\n",
    "            num_list (list) : num\n",
    "            \n",
    "        Returns : \n",
    "            train_ori_images (numpy.ndarray) : Z, Y, X, 1\n",
    "            train_label_images (numpy.ndarray) : Z, Y, X, 1\n",
    "            \n",
    "        Memo:\n",
    "            num_listに入っている画像を抽出\n",
    "            上下左右10%は使わない\n",
    "        \n",
    "        \n",
    "    \"\"\"\n",
    "    \n",
    "    train_ori_images = list()\n",
    "    train_label_images = list()\n",
    "    for num in num_list:\n",
    "        ori_image = ori_images[num]\n",
    "        label_image = label_images[num]\n",
    "        \n",
    "        # 切り出す範囲を指定\n",
    "        x_range = [int(ori_image.shape[0] * 0.1), int(ori_image.shape[0] * 0.9)]\n",
    "        y_range = [int(ori_image.shape[1] * 0.1), int(ori_image.shape[1] * 0.9)]\n",
    "        \n",
    "        train_ori_images.append(ori_image[x_range[0]:x_range[1], y_range[0]:y_range[1], :])\n",
    "        train_label_images.append(label_image[x_range[0]:x_range[1], y_range[0]:y_range[1], :])\n",
    "        \n",
    "    cropped_ori_images = divide_gray_imgs(np.array(train_ori_images))\n",
    "    cropped_label_images = divide_gray_imgs(np.array(train_label_images))\n",
    "    \n",
    "    cropped_label_images = np.where(\n",
    "        cropped_label_images == -1,\n",
    "        0,\n",
    "        cropped_label_images\n",
    "    )\n",
    "        \n",
    "    return cropped_ori_images, cropped_label_images"
   ]
  },
  {
   "cell_type": "code",
   "execution_count": null,
   "id": "c6da7388",
   "metadata": {},
   "outputs": [],
   "source": [
    "# U-Netのトレーニングを実行する関数\n",
    "def train_unet(X_train,Y_train, csv_path, model_path ,input_shape=(512, 512, 1), num_classes=1):\n",
    "    Y_train = Y_train\n",
    "    X_train = X_train\n",
    "    \n",
    "    from tensorflow.keras.preprocessing.image import ImageDataGenerator\n",
    "    \n",
    "    # we create two instances with the same arguments\n",
    "    data_gen_args = dict(\n",
    "        rotation_range=90.,\n",
    "        width_shift_range=0.1,\n",
    "        height_shift_range=0.1,\n",
    "        #shear_range=0.2,\n",
    "        zoom_range=0.2,\n",
    "        horizontal_flip=True,\n",
    "        vertical_flip=True\n",
    "    )\n",
    "    image_datagen = ImageDataGenerator(**data_gen_args)\n",
    "    mask_datagen = ImageDataGenerator(**data_gen_args)\n",
    "\n",
    "    # Provide the same seed and keyword arguments to the fit and flow methods\n",
    "    seed = 1\n",
    "    image_datagen.fit(X_train, augment=True, seed=seed)\n",
    "    mask_datagen.fit(Y_train, augment=True, seed=seed)\n",
    "\n",
    "    image_generator = image_datagen.flow(X_train, seed=seed, batch_size=8)\n",
    "    mask_generator = mask_datagen.flow(Y_train, seed=seed, batch_size=8)\n",
    "\n",
    "    # combine generators into one which yields image and masks\n",
    "    train_generator = (pair for pair in zip(image_generator, mask_generator))\n",
    "    \n",
    "    #model = get_unet_512(input_shape=input_shape, num_classes=num_classes)\n",
    "    model = get_nest_unet_512_layer_5(input_shape=input_shape, num_classes=num_classes)\n",
    "\n",
    "    BATCH_SIZE = 4\n",
    "    # 20エポック回せば十分\n",
    "    NUM_EPOCH = 400\n",
    "    \n",
    "    callbacks = []\n",
    "    from tensorflow.keras.callbacks import CSVLogger\n",
    "    callbacks.append(CSVLogger(csv_path))\n",
    "    history = model.fit_generator(train_generator,steps_per_epoch=32, epochs=NUM_EPOCH, verbose=1, callbacks=callbacks)\n",
    "    #history = model.fit(X_train, Y_train, batch_size=BATCH_SIZE, epochs=NUM_EPOCH, verbose=1, callbacks=callbacks)\n",
    "    model.save_weights(model_path)"
   ]
  },
  {
   "cell_type": "markdown",
   "id": "df05e965",
   "metadata": {},
   "source": [
    "# shCtrl"
   ]
  },
  {
   "cell_type": "markdown",
   "id": "78e1975c",
   "metadata": {},
   "source": [
    "## cropped_001"
   ]
  },
  {
   "cell_type": "markdown",
   "id": "41fb855b",
   "metadata": {},
   "source": [
    "### train_001"
   ]
  },
  {
   "cell_type": "code",
   "execution_count": null,
   "id": "bb17c422",
   "metadata": {},
   "outputs": [],
   "source": [
    "ori_imgs , _ = load_X_gray('Z:/DeepLearningData/research_010_NIH3T3/shCtrl_003/annotatioins//cropped_001/original//')"
   ]
  },
  {
   "cell_type": "code",
   "execution_count": null,
   "id": "3b1eef04",
   "metadata": {},
   "outputs": [],
   "source": [
    "## 初回だけ\n",
    "\n",
    "# save_ori_imgs\n",
    "\n",
    "out_dir = 'Z:/DeepLearningData/research_010_NIH3T3/shCtrl_003/annotatioins/cropped_001/original'\n",
    "os.makedirs(out_dir, exist_ok = True)\n",
    "\n",
    "z_range = [int(ori_image_shape[0] * 0.1), int(ori_image_shape[0] * 0.9)]\n",
    "y_range = [int(ori_image_shape[1] * 0.1), int(ori_image_shape[1] * 0.9)]\n",
    "x_range = [int(ori_image_shape[2] * 0.1), int(ori_image_shape[2] * 0.9)]\n",
    "\n",
    "\n",
    "cnt = 0\n",
    "for i in range(z_range[0], z_range[1]):\n",
    "    img = ori_imgs[i][y_range[0]:y_range[1], x_range[0]:x_range[1], :]\n",
    "    cv2.imwrite(\n",
    "        f\"{out_dir}/{str(cnt).zfill(4)}.png\",\n",
    "        denormalize_x(img)\n",
    "    )\n",
    "    cnt += 1\n",
    "    \n",
    "img.shape"
   ]
  },
  {
   "cell_type": "code",
   "execution_count": null,
   "id": "37491be9",
   "metadata": {},
   "outputs": [],
   "source": [
    "label_imgs_001 , _ = load_Y_gray('Z:/DeepLearningData/research_010_NIH3T3/shCtrl_003/annotatioins/cropped_001/modified_mito_001//')\n"
   ]
  },
  {
   "cell_type": "code",
   "execution_count": null,
   "id": "7c235ae4",
   "metadata": {},
   "outputs": [],
   "source": [
    "num_lst_001 = [110, 170, 240]\n",
    "\n",
    "cropped_ori_001_imgs, cropped_label_001_imgs = make_train_datasets(ori_imgs, label_imgs_001, num_lst_001)"
   ]
  },
  {
   "cell_type": "code",
   "execution_count": null,
   "id": "764d396f",
   "metadata": {},
   "outputs": [],
   "source": [
    "out_dir = \"Z:/DeepLearningData/research_010_NIH3T3/shCtrl_003/models/cropped_001/mito_active_learning\"\n",
    "os.makedirs(out_dir, exist_ok = True)\n",
    "\n",
    "csv_path = f'{out_dir}/mito_nested_unet_001.csv'\n",
    "X_train = cropped_ori_001_imgs\n",
    "Y_train = cropped_label_001_imgs\n",
    "model_path = f'{out_dir}/mito_nested_unet_001_weights.hdf5'\n",
    "input_shape=(512, 512, 1)\n",
    "num_classes=1"
   ]
  },
  {
   "cell_type": "code",
   "execution_count": null,
   "id": "8272ec6b",
   "metadata": {},
   "outputs": [],
   "source": [
    "train_unet(X_train,Y_train, csv_path, model_path, input_shape,num_classes)"
   ]
  },
  {
   "cell_type": "markdown",
   "id": "f4111adb",
   "metadata": {},
   "source": [
    "### train_002"
   ]
  },
  {
   "cell_type": "code",
   "execution_count": null,
   "id": "89b689fa",
   "metadata": {},
   "outputs": [],
   "source": [
    "ori_imgs , _ = load_X_gray('Z:/DeepLearningData/research_010_NIH3T3/shCtrl_003/annotatioins//cropped_001/original//')"
   ]
  },
  {
   "cell_type": "code",
   "execution_count": null,
   "id": "04aaba36",
   "metadata": {},
   "outputs": [],
   "source": [
    "label_imgs_001 , _ = load_Y_gray('Z:/DeepLearningData/research_010_NIH3T3/shCtrl_003/annotatioins/cropped_001/modified_mito_001//')\n",
    "label_imgs_002 , _ = load_Y_gray('Z:/DeepLearningData/research_010_NIH3T3/shCtrl_003/annotatioins/cropped_001/modified_mito_002//')\n"
   ]
  },
  {
   "cell_type": "code",
   "execution_count": null,
   "id": "68d90710",
   "metadata": {},
   "outputs": [],
   "source": [
    "num_lst_001 = [110, 170, 240]\n",
    "num_lst_002 = [156, 248]\n",
    "\n",
    "cropped_ori_001_imgs, cropped_label_001_imgs = make_train_datasets(ori_imgs, label_imgs_001, num_lst_001)\n",
    "cropped_ori_002_imgs, cropped_label_002_imgs = make_train_datasets(ori_imgs, label_imgs_002, num_lst_002)\n",
    "\n"
   ]
  },
  {
   "cell_type": "code",
   "execution_count": null,
   "id": "d503dcf9",
   "metadata": {},
   "outputs": [],
   "source": [
    "cropped_ori_imgs = np.concatenate((cropped_ori_001_imgs, cropped_ori_002_imgs))\n",
    "cropped_label_imgs = np.concatenate((cropped_label_001_imgs, cropped_label_002_imgs))"
   ]
  },
  {
   "cell_type": "code",
   "execution_count": null,
   "id": "7d02148c",
   "metadata": {},
   "outputs": [],
   "source": [
    "out_dir = \"Z:/DeepLearningData/research_010_NIH3T3/shCtrl_003/models/cropped_001/mito_active_learning\"\n",
    "os.makedirs(out_dir, exist_ok = True)\n",
    "\n",
    "csv_path = f'{out_dir}/mito_nested_unet_002.csv'\n",
    "X_train = cropped_ori_imgs\n",
    "Y_train = cropped_label_imgs\n",
    "model_path = f'{out_dir}/mito_nested_unet_002_weights.hdf5'\n",
    "input_shape=(512, 512, 1)\n",
    "num_classes=1"
   ]
  },
  {
   "cell_type": "code",
   "execution_count": null,
   "id": "cf747402",
   "metadata": {},
   "outputs": [],
   "source": [
    "train_unet(X_train,Y_train, csv_path, model_path, input_shape,num_classes)"
   ]
  },
  {
   "cell_type": "markdown",
   "id": "9224697e",
   "metadata": {},
   "source": [
    "### train_003"
   ]
  },
  {
   "cell_type": "code",
   "execution_count": null,
   "id": "f2599123",
   "metadata": {},
   "outputs": [],
   "source": [
    "ori_imgs , _ = load_X_gray('Z:/DeepLearningData/research_010_NIH3T3/shCtrl_003/annotatioins//cropped_001/original//')"
   ]
  },
  {
   "cell_type": "code",
   "execution_count": null,
   "id": "3913a3be",
   "metadata": {},
   "outputs": [],
   "source": [
    "label_imgs_001 , _ = load_Y_gray('Z:/DeepLearningData/research_010_NIH3T3/shCtrl_003/annotatioins/cropped_001/modified_mito_001//')\n",
    "label_imgs_002 , _ = load_Y_gray('Z:/DeepLearningData/research_010_NIH3T3/shCtrl_003/annotatioins/cropped_001/modified_mito_002//')\n",
    "label_imgs_003 , _ = load_Y_gray('Z:/DeepLearningData/research_010_NIH3T3/shCtrl_003/annotatioins/cropped_001/modified_mito_003//')\n"
   ]
  },
  {
   "cell_type": "code",
   "execution_count": null,
   "id": "86a19a4d",
   "metadata": {},
   "outputs": [],
   "source": [
    "num_lst_001 = [110, 170, 240]\n",
    "num_lst_002 = [156, 248]\n",
    "num_lst_003 = [145, 225]\n",
    "\n",
    "cropped_ori_001_imgs, cropped_label_001_imgs = make_train_datasets(ori_imgs, label_imgs_001, num_lst_001)\n",
    "cropped_ori_002_imgs, cropped_label_002_imgs = make_train_datasets(ori_imgs, label_imgs_002, num_lst_002)\n",
    "cropped_ori_003_imgs, cropped_label_003_imgs = make_train_datasets(ori_imgs, label_imgs_003, num_lst_003)\n",
    "\n",
    "cropped_ori_imgs = np.concatenate((cropped_ori_001_imgs, cropped_ori_002_imgs, cropped_ori_003_imgs))\n",
    "cropped_label_imgs = np.concatenate((cropped_label_001_imgs, cropped_label_002_imgs, cropped_label_003_imgs))"
   ]
  },
  {
   "cell_type": "code",
   "execution_count": null,
   "id": "2a2fdb6b",
   "metadata": {},
   "outputs": [],
   "source": [
    "out_dir = \"Z:/DeepLearningData/research_010_NIH3T3/shCtrl_003/models/cropped_001/mito_active_learning\"\n",
    "os.makedirs(out_dir, exist_ok = True)\n",
    "\n",
    "csv_path = f'{out_dir}/mito_nested_unet_003.csv'\n",
    "X_train = cropped_ori_imgs\n",
    "Y_train = cropped_label_imgs\n",
    "model_path = f'{out_dir}/mito_nested_unet_003_weights.hdf5'\n",
    "input_shape=(512, 512, 1)\n",
    "num_classes=1"
   ]
  },
  {
   "cell_type": "code",
   "execution_count": null,
   "id": "5855d0b6",
   "metadata": {},
   "outputs": [],
   "source": [
    "train_unet(X_train,Y_train, csv_path, model_path, input_shape,num_classes)"
   ]
  },
  {
   "cell_type": "markdown",
   "id": "f79559b8",
   "metadata": {},
   "source": [
    "## cropped_002"
   ]
  },
  {
   "cell_type": "markdown",
   "id": "b2f39f7b",
   "metadata": {},
   "source": [
    "### train_001"
   ]
  },
  {
   "cell_type": "code",
   "execution_count": null,
   "id": "09d87144",
   "metadata": {},
   "outputs": [],
   "source": [
    "ori_imgs , _ = load_X_gray('Z:/DeepLearningData/research_010_NIH3T3/shCtrl_003/annotatioins//cropped_002/original//')"
   ]
  },
  {
   "cell_type": "code",
   "execution_count": null,
   "id": "70206266",
   "metadata": {},
   "outputs": [],
   "source": [
    "label_imgs_001 , _ = load_Y_gray('Z:/DeepLearningData/research_010_NIH3T3/shCtrl_003/annotatioins/cropped_002/modified_mito_001//')\n"
   ]
  },
  {
   "cell_type": "code",
   "execution_count": null,
   "id": "8402fb6a",
   "metadata": {},
   "outputs": [],
   "source": [
    "num_lst_001 = [56, 129, 205]\n",
    "\n",
    "cropped_ori_001_imgs, cropped_label_001_imgs = make_train_datasets(ori_imgs, label_imgs_001, num_lst_001)"
   ]
  },
  {
   "cell_type": "code",
   "execution_count": null,
   "id": "ed47b956",
   "metadata": {},
   "outputs": [],
   "source": [
    "out_dir = \"Z:/DeepLearningData/research_010_NIH3T3/shCtrl_003/models/cropped_002/mito_active_learning\"\n",
    "os.makedirs(out_dir, exist_ok = True)\n",
    "\n",
    "csv_path = f'{out_dir}/mito_nested_unet_001.csv'\n",
    "X_train = cropped_ori_001_imgs\n",
    "Y_train = cropped_label_001_imgs\n",
    "model_path = f'{out_dir}/mito_nested_unet_001_weights.hdf5'\n",
    "input_shape=(512, 512, 1)\n",
    "num_classes=1"
   ]
  },
  {
   "cell_type": "code",
   "execution_count": null,
   "id": "782c7046",
   "metadata": {},
   "outputs": [],
   "source": [
    "train_unet(X_train,Y_train, csv_path, model_path, input_shape,num_classes)"
   ]
  },
  {
   "cell_type": "markdown",
   "id": "4dcb8739",
   "metadata": {},
   "source": [
    "### train_002"
   ]
  },
  {
   "cell_type": "code",
   "execution_count": null,
   "id": "cb0c3de4",
   "metadata": {},
   "outputs": [],
   "source": [
    "ori_imgs , _ = load_X_gray('Z:/DeepLearningData/research_010_NIH3T3/shCtrl_003/annotatioins//cropped_002/original//')"
   ]
  },
  {
   "cell_type": "code",
   "execution_count": null,
   "id": "c05c83c8",
   "metadata": {},
   "outputs": [],
   "source": [
    "label_imgs_001 , _ = load_Y_gray('Z:/DeepLearningData/research_010_NIH3T3/shCtrl_003/annotatioins/cropped_002/modified_mito_001//')\n",
    "label_imgs_002 , _ = load_Y_gray('Z:/DeepLearningData/research_010_NIH3T3/shCtrl_003/annotatioins/cropped_002/modified_mito_002//')\n"
   ]
  },
  {
   "cell_type": "code",
   "execution_count": null,
   "id": "9bd5511f",
   "metadata": {},
   "outputs": [],
   "source": [
    "num_lst_001 = [56, 129, 205]\n",
    "num_lst_002 = [35, 163, 229]\n",
    "\n",
    "cropped_ori_001_imgs, cropped_label_001_imgs = make_train_datasets(ori_imgs, label_imgs_001, num_lst_001)\n",
    "cropped_ori_002_imgs, cropped_label_002_imgs = make_train_datasets(ori_imgs, label_imgs_001, num_lst_002)\n"
   ]
  },
  {
   "cell_type": "code",
   "execution_count": null,
   "id": "03c4cb2b",
   "metadata": {},
   "outputs": [],
   "source": [
    "out_dir = \"Z:/DeepLearningData/research_010_NIH3T3/shCtrl_003/models/cropped_002/mito_active_learning\"\n",
    "os.makedirs(out_dir, exist_ok = True)\n",
    "\n",
    "csv_path = f'{out_dir}/mito_nested_unet_002.csv'\n",
    "X_train = cropped_ori_imgs\n",
    "Y_train = cropped_label_imgs\n",
    "model_path = f'{out_dir}/mito_nested_unet_002_weights.hdf5'\n",
    "input_shape=(512, 512, 1)\n",
    "num_classes=1"
   ]
  },
  {
   "cell_type": "code",
   "execution_count": null,
   "id": "7d60e8ff",
   "metadata": {},
   "outputs": [],
   "source": [
    "train_unet(X_train,Y_train, csv_path, model_path, input_shape,num_classes)"
   ]
  },
  {
   "cell_type": "markdown",
   "id": "8ef209d1",
   "metadata": {},
   "source": [
    "## cropped_003"
   ]
  },
  {
   "cell_type": "markdown",
   "id": "657461f0",
   "metadata": {},
   "source": [
    "### train_001"
   ]
  },
  {
   "cell_type": "code",
   "execution_count": null,
   "id": "cd2b8050",
   "metadata": {},
   "outputs": [],
   "source": [
    "ori_imgs , _ = load_X_gray('Z:/DeepLearningData/research_010_NIH3T3/shCtrl_003/annotations//cropped_003/original//')"
   ]
  },
  {
   "cell_type": "code",
   "execution_count": null,
   "id": "416d0c55",
   "metadata": {},
   "outputs": [],
   "source": [
    "label_imgs_001 , _ = load_Y_gray('Z:/DeepLearningData/research_010_NIH3T3/shCtrl_003/annotations/cropped_003/manually_mito_001//')\n"
   ]
  },
  {
   "cell_type": "code",
   "execution_count": null,
   "id": "da5a5828",
   "metadata": {},
   "outputs": [],
   "source": [
    "num_lst_001 = [126, 169, 275]\n",
    "\n",
    "cropped_ori_001_imgs, cropped_label_001_imgs = make_train_datasets(ori_imgs, label_imgs_001, num_lst_001)\n"
   ]
  },
  {
   "cell_type": "code",
   "execution_count": null,
   "id": "db6417fb",
   "metadata": {},
   "outputs": [],
   "source": [
    "cropped_ori_imgs = np.concatenate([cropped_ori_001_imgs])\n",
    "cropped_label_imgs = np.concatenate([cropped_label_001_imgs])"
   ]
  },
  {
   "cell_type": "code",
   "execution_count": null,
   "id": "884a6ecd",
   "metadata": {},
   "outputs": [],
   "source": [
    "out_dir = \"Z:/DeepLearningData/research_010_NIH3T3/shCtrl_003/models/cropped_003/mito_active_learning\"\n",
    "os.makedirs(out_dir, exist_ok = True)\n",
    "\n",
    "csv_path = f'{out_dir}/mito_nested_unet_001.csv'\n",
    "X_train = cropped_ori_imgs\n",
    "Y_train = cropped_label_imgs\n",
    "model_path = f'{out_dir}/mito_nested_unet_001_weights.hdf5'\n",
    "input_shape=(512, 512, 1)\n",
    "num_classes=1"
   ]
  },
  {
   "cell_type": "code",
   "execution_count": null,
   "id": "c23a7c0b",
   "metadata": {},
   "outputs": [],
   "source": [
    "train_unet(X_train,Y_train, csv_path, model_path, input_shape,num_classes)"
   ]
  },
  {
   "cell_type": "markdown",
   "id": "27e5ea44",
   "metadata": {},
   "source": [
    "### train_002"
   ]
  },
  {
   "cell_type": "code",
   "execution_count": null,
   "id": "96fa834c",
   "metadata": {},
   "outputs": [],
   "source": [
    "ori_imgs , _ = load_X_gray('Z:/DeepLearningData/research_010_NIH3T3/shCtrl_003/annotations//cropped_003/original//')"
   ]
  },
  {
   "cell_type": "code",
   "execution_count": null,
   "id": "545a6132",
   "metadata": {},
   "outputs": [],
   "source": [
    "label_imgs_001 , _ = load_Y_gray('Z:/DeepLearningData/research_010_NIH3T3/shCtrl_003/annotations/cropped_003/manually_mito_001//')\n",
    "label_imgs_002 , _ = load_Y_gray('Z:/DeepLearningData/research_010_NIH3T3/shCtrl_003/annotations/cropped_003/manually_mito_002//')\n"
   ]
  },
  {
   "cell_type": "code",
   "execution_count": null,
   "id": "7ea0f030",
   "metadata": {},
   "outputs": [],
   "source": [
    "num_lst_001 = [126, 169, 275]\n",
    "num_lst_002 = [121, 333, 361]\n",
    "\n",
    "cropped_ori_001_imgs, cropped_label_001_imgs = make_train_datasets(ori_imgs, label_imgs_001, num_lst_001)\n",
    "cropped_ori_002_imgs, cropped_label_002_imgs = make_train_datasets(ori_imgs, label_imgs_002, num_lst_002)\n"
   ]
  },
  {
   "cell_type": "code",
   "execution_count": null,
   "id": "2047a738",
   "metadata": {},
   "outputs": [],
   "source": [
    "cropped_ori_imgs = np.concatenate([cropped_ori_001_imgs])\n",
    "cropped_label_imgs = np.concatenate([cropped_label_001_imgs])"
   ]
  },
  {
   "cell_type": "code",
   "execution_count": null,
   "id": "28cac591",
   "metadata": {},
   "outputs": [],
   "source": [
    "out_dir = \"Z:/DeepLearningData/research_010_NIH3T3/shCtrl_003/models/cropped_003/mito_active_learning\"\n",
    "os.makedirs(out_dir, exist_ok = True)\n",
    "\n",
    "csv_path = f'{out_dir}/mito_nested_unet_002.csv'\n",
    "X_train = cropped_ori_imgs\n",
    "Y_train = cropped_label_imgs\n",
    "model_path = f'{out_dir}/mito_nested_unet_002_weights.hdf5'\n",
    "input_shape=(512, 512, 1)\n",
    "num_classes=1"
   ]
  },
  {
   "cell_type": "code",
   "execution_count": null,
   "id": "48579d4f",
   "metadata": {},
   "outputs": [],
   "source": [
    "train_unet(X_train,Y_train, csv_path, model_path, input_shape,num_classes)"
   ]
  },
  {
   "cell_type": "markdown",
   "id": "42f45dfa",
   "metadata": {},
   "source": [
    "### train_003"
   ]
  },
  {
   "cell_type": "code",
   "execution_count": null,
   "id": "2f0782b8",
   "metadata": {},
   "outputs": [],
   "source": [
    "ori_imgs , _ = load_X_gray('Z:/DeepLearningData/research_010_NIH3T3/shCtrl_003/annotations//cropped_003/original//')"
   ]
  },
  {
   "cell_type": "code",
   "execution_count": null,
   "id": "8202be7c",
   "metadata": {},
   "outputs": [],
   "source": [
    "label_imgs_001 , _ = load_Y_gray('Z:/DeepLearningData/research_010_NIH3T3/shCtrl_003/annotations/cropped_003/manually_mito_001//')\n",
    "label_imgs_002 , _ = load_Y_gray('Z:/DeepLearningData/research_010_NIH3T3/shCtrl_003/annotations/cropped_003/manually_mito_002//')\n",
    "label_imgs_003 , _ = load_Y_gray('Z:/DeepLearningData/research_010_NIH3T3/shCtrl_003/annotations/cropped_003/manually_mito_003//')\n"
   ]
  },
  {
   "cell_type": "code",
   "execution_count": null,
   "id": "70bdc979",
   "metadata": {},
   "outputs": [],
   "source": [
    "num_lst_001 = [126, 169, 275]\n",
    "num_lst_002 = [121, 333, 361]\n",
    "num_lst_003 = [191, 237, 350]\n",
    "\n",
    "cropped_ori_001_imgs, cropped_label_001_imgs = make_train_datasets(ori_imgs, label_imgs_001, num_lst_001)\n",
    "cropped_ori_002_imgs, cropped_label_002_imgs = make_train_datasets(ori_imgs, label_imgs_002, num_lst_002)\n",
    "cropped_ori_003_imgs, cropped_label_003_imgs = make_train_datasets(ori_imgs, label_imgs_003, num_lst_003)\n"
   ]
  },
  {
   "cell_type": "code",
   "execution_count": null,
   "id": "91b8035d",
   "metadata": {},
   "outputs": [],
   "source": [
    "cropped_ori_imgs = np.concatenate([cropped_ori_001_imgs, cropped_ori_002_imgs, cropped_ori_003_imgs])\n",
    "cropped_label_imgs = np.concatenate([cropped_label_001_imgs, cropped_label_002_imgs, cropped_label_003_imgs])"
   ]
  },
  {
   "cell_type": "code",
   "execution_count": null,
   "id": "22ec1c69",
   "metadata": {},
   "outputs": [],
   "source": [
    "out_dir = \"Z:/DeepLearningData/research_010_NIH3T3/shCtrl_003/models/cropped_003/mito_active_learning\"\n",
    "os.makedirs(out_dir, exist_ok = True)\n",
    "\n",
    "csv_path = f'{out_dir}/mito_nested_unet_003.csv'\n",
    "X_train = cropped_ori_imgs\n",
    "Y_train = cropped_label_imgs\n",
    "model_path = f'{out_dir}/mito_nested_unet_003_weights.hdf5'\n",
    "input_shape=(512, 512, 1)\n",
    "num_classes=1"
   ]
  },
  {
   "cell_type": "code",
   "execution_count": null,
   "id": "d98fb082",
   "metadata": {},
   "outputs": [],
   "source": [
    "train_unet(X_train,Y_train, csv_path, model_path, input_shape,num_classes)"
   ]
  },
  {
   "cell_type": "markdown",
   "id": "775b42d5",
   "metadata": {},
   "source": [
    "## cropped_005"
   ]
  },
  {
   "cell_type": "markdown",
   "id": "35aad4da",
   "metadata": {},
   "source": [
    "### train_001"
   ]
  },
  {
   "cell_type": "code",
   "execution_count": null,
   "id": "8ffe4159",
   "metadata": {},
   "outputs": [],
   "source": [
    "ori_imgs , _ = load_X_gray('Z:/DeepLearningData/research_010_NIH3T3/shCtrl_003/annotations//cropped_005/original//')"
   ]
  },
  {
   "cell_type": "code",
   "execution_count": null,
   "id": "83ed2c32",
   "metadata": {},
   "outputs": [],
   "source": [
    "label_imgs_001 , _ = load_Y_gray('Z:/DeepLearningData/research_010_NIH3T3/shCtrl_003/annotations/cropped_005/modified_mito_001//',normalize=False)\n"
   ]
  },
  {
   "cell_type": "code",
   "execution_count": null,
   "id": "ee059fa9",
   "metadata": {},
   "outputs": [],
   "source": [
    "num_lst_001 = [13, 31, 125, 173, 215, 242, 274]\n",
    "\n",
    "cropped_ori_001_imgs, cropped_label_001_imgs = make_train_datasets(ori_imgs, label_imgs_001, num_lst_001)"
   ]
  },
  {
   "cell_type": "code",
   "execution_count": null,
   "id": "fb04fd1e",
   "metadata": {},
   "outputs": [],
   "source": [
    "out_dir = \"Z:/DeepLearningData/research_010_NIH3T3/shCtrl_003//models/cropped_005/mito_active_learning\"\n",
    "os.makedirs(out_dir, exist_ok = True)\n",
    "\n",
    "csv_path = f'{out_dir}/mito_nested_unet_001.csv'\n",
    "X_train = cropped_ori_001_imgs\n",
    "Y_train = cropped_label_001_imgs\n",
    "model_path = f'{out_dir}/mito_nested_unet_001_weights.hdf5'\n",
    "input_shape=(512, 512, 1)\n",
    "num_classes=1"
   ]
  },
  {
   "cell_type": "code",
   "execution_count": null,
   "id": "f1c033a5",
   "metadata": {},
   "outputs": [],
   "source": [
    "train_unet(X_train,Y_train, csv_path, model_path, input_shape,num_classes)"
   ]
  },
  {
   "cell_type": "markdown",
   "id": "ee5886d8",
   "metadata": {},
   "source": [
    "# shOPA1"
   ]
  },
  {
   "cell_type": "markdown",
   "id": "8604f3c1",
   "metadata": {},
   "source": [
    "## cropped_001"
   ]
  },
  {
   "cell_type": "markdown",
   "id": "364ca369",
   "metadata": {},
   "source": [
    "### train_001"
   ]
  },
  {
   "cell_type": "code",
   "execution_count": null,
   "id": "06a74700",
   "metadata": {},
   "outputs": [],
   "source": [
    "ori_imgs , _ = load_X_gray('Z:/DeepLearningData/research_010_NIH3T3/shOPA1_003/annotatioins//cropped_001/original//')"
   ]
  },
  {
   "cell_type": "code",
   "execution_count": null,
   "id": "9f395faf",
   "metadata": {},
   "outputs": [],
   "source": [
    "label_imgs_001 , _ = load_Y_gray('Z:/DeepLearningData/research_010_NIH3T3/shOPA1_003/annotatioins/cropped_001/modified_mito_001//')\n"
   ]
  },
  {
   "cell_type": "code",
   "execution_count": null,
   "id": "f5e17042",
   "metadata": {},
   "outputs": [],
   "source": [
    "num_lst_001 = [123, 250, 380]\n",
    "\n",
    "cropped_ori_001_imgs, cropped_label_001_imgs = make_train_datasets(ori_imgs, label_imgs_001, num_lst_001)"
   ]
  },
  {
   "cell_type": "code",
   "execution_count": null,
   "id": "ce664fe8",
   "metadata": {},
   "outputs": [],
   "source": [
    "out_dir = \"Z:/DeepLearningData/research_010_NIH3T3/shOPA1_003//models/cropped_001/mito_active_learning\"\n",
    "os.makedirs(out_dir, exist_ok = True)\n",
    "\n",
    "csv_path = f'{out_dir}/mito_nested_unet_001.csv'\n",
    "X_train = cropped_ori_001_imgs\n",
    "Y_train = cropped_label_001_imgs\n",
    "model_path = f'{out_dir}/mito_nested_unet_001_weights.hdf5'\n",
    "input_shape=(512, 512, 1)\n",
    "num_classes=1"
   ]
  },
  {
   "cell_type": "code",
   "execution_count": null,
   "id": "9591c69d",
   "metadata": {},
   "outputs": [],
   "source": [
    "train_unet(X_train,Y_train, csv_path, model_path, input_shape,num_classes)"
   ]
  },
  {
   "cell_type": "markdown",
   "id": "fb03b704",
   "metadata": {},
   "source": [
    "### train_002"
   ]
  },
  {
   "cell_type": "code",
   "execution_count": null,
   "id": "8f4b6c42",
   "metadata": {},
   "outputs": [],
   "source": [
    "ori_imgs , _ = load_X_gray('Z:/DeepLearningData/research_010_NIH3T3/shOPA1_003/annotatioins//cropped_001/original//')"
   ]
  },
  {
   "cell_type": "code",
   "execution_count": null,
   "id": "d39541ec",
   "metadata": {},
   "outputs": [],
   "source": [
    "label_imgs_001 , _ = load_Y_gray('Z:/DeepLearningData/research_010_NIH3T3/shOPA1_003/annotatioins/cropped_001/modified_mito_001//')\n",
    "label_imgs_002 , _ = load_Y_gray('Z:/DeepLearningData/research_010_NIH3T3/shOPA1_003/annotatioins/cropped_001/modified_mito_002//')\n"
   ]
  },
  {
   "cell_type": "code",
   "execution_count": null,
   "id": "c24ddb6d",
   "metadata": {},
   "outputs": [],
   "source": [
    "num_lst_001 = [123, 250, 380]\n",
    "num_lst_002 = [154, 189, 393]\n",
    "\n",
    "cropped_ori_001_imgs, cropped_label_001_imgs = make_train_datasets(ori_imgs, label_imgs_001, num_lst_001)\n",
    "cropped_ori_002_imgs, cropped_label_002_imgs = make_train_datasets(ori_imgs, label_imgs_002, num_lst_002)\n",
    "\n"
   ]
  },
  {
   "cell_type": "code",
   "execution_count": null,
   "id": "0b1ee6d7",
   "metadata": {},
   "outputs": [],
   "source": [
    "cropped_ori_imgs = np.concatenate((cropped_ori_001_imgs, cropped_ori_002_imgs))\n",
    "cropped_label_imgs = np.concatenate((cropped_label_001_imgs, cropped_label_002_imgs))"
   ]
  },
  {
   "cell_type": "code",
   "execution_count": null,
   "id": "342ae1b4",
   "metadata": {},
   "outputs": [],
   "source": [
    "out_dir = \"Z:/DeepLearningData/research_010_NIH3T3/shOPA1_003//models/cropped_001/mito_active_learning\"\n",
    "os.makedirs(out_dir, exist_ok = True)\n",
    "\n",
    "csv_path = f'{out_dir}/mito_nested_unet_002.csv'\n",
    "X_train = cropped_ori_imgs\n",
    "Y_train = cropped_label_imgs\n",
    "model_path = f'{out_dir}/mito_nested_unet_002_weights.hdf5'\n",
    "input_shape=(512, 512, 1)\n",
    "num_classes=1"
   ]
  },
  {
   "cell_type": "code",
   "execution_count": null,
   "id": "4f24da56",
   "metadata": {},
   "outputs": [],
   "source": [
    "train_unet(X_train,Y_train, csv_path, model_path, input_shape,num_classes)"
   ]
  },
  {
   "cell_type": "markdown",
   "id": "8d70b88a",
   "metadata": {},
   "source": [
    "### train_003"
   ]
  },
  {
   "cell_type": "code",
   "execution_count": null,
   "id": "6069db4c",
   "metadata": {},
   "outputs": [],
   "source": [
    "ori_imgs , _ = load_X_gray('Z:/DeepLearningData/research_010_NIH3T3/shOPA1_003/annotatioins//cropped_001/original//')"
   ]
  },
  {
   "cell_type": "code",
   "execution_count": null,
   "id": "062de460",
   "metadata": {},
   "outputs": [],
   "source": [
    "label_imgs_001 , _ = load_Y_gray('Z:/DeepLearningData/research_010_NIH3T3/shOPA1_003/annotatioins/cropped_001/modified_mito_001//')\n",
    "label_imgs_002 , _ = load_Y_gray('Z:/DeepLearningData/research_010_NIH3T3/shOPA1_003/annotatioins/cropped_001/modified_mito_002//')\n",
    "label_imgs_003 , _ = load_Y_gray('Z:/DeepLearningData/research_010_NIH3T3/shOPA1_003/annotatioins/cropped_001/modified_mito_003//')\n"
   ]
  },
  {
   "cell_type": "code",
   "execution_count": null,
   "id": "409f53a0",
   "metadata": {},
   "outputs": [],
   "source": [
    "num_lst_001 = [123, 250, 380]\n",
    "num_lst_002 = [154, 189, 393]\n",
    "num_lst_003 = [114, 230, 385]\n",
    "\n",
    "cropped_ori_001_imgs, cropped_label_001_imgs = make_train_datasets(ori_imgs, label_imgs_001, num_lst_001)\n",
    "cropped_ori_002_imgs, cropped_label_002_imgs = make_train_datasets(ori_imgs, label_imgs_002, num_lst_002)\n",
    "cropped_ori_003_imgs, cropped_label_003_imgs = make_train_datasets(ori_imgs, label_imgs_003, num_lst_003)\n",
    "\n"
   ]
  },
  {
   "cell_type": "code",
   "execution_count": null,
   "id": "7a6b2fec",
   "metadata": {},
   "outputs": [],
   "source": [
    "cropped_ori_imgs = np.concatenate((cropped_ori_001_imgs, cropped_ori_002_imgs, cropped_ori_003_imgs))\n",
    "cropped_label_imgs = np.concatenate((cropped_label_001_imgs, cropped_label_002_imgs, cropped_label_003_imgs))"
   ]
  },
  {
   "cell_type": "code",
   "execution_count": null,
   "id": "0cf8d2b5",
   "metadata": {},
   "outputs": [],
   "source": [
    "out_dir = \"Z:/DeepLearningData/research_010_NIH3T3/shOPA1_003//models/cropped_001/mito_active_learning\"\n",
    "os.makedirs(out_dir, exist_ok = True)\n",
    "\n",
    "csv_path = f'{out_dir}/mito_nested_unet_003.csv'\n",
    "X_train = cropped_ori_imgs\n",
    "Y_train = cropped_label_imgs\n",
    "model_path = f'{out_dir}/mito_nested_unet_003_weights.hdf5'\n",
    "input_shape=(512, 512, 1)\n",
    "num_classes=1"
   ]
  },
  {
   "cell_type": "markdown",
   "id": "0a920f15",
   "metadata": {},
   "source": [
    "## cropped_002"
   ]
  },
  {
   "cell_type": "markdown",
   "id": "5ae9b416",
   "metadata": {},
   "source": [
    "### train_001"
   ]
  },
  {
   "cell_type": "code",
   "execution_count": null,
   "id": "3800daa5",
   "metadata": {},
   "outputs": [],
   "source": [
    "ori_imgs , _ = load_X_gray('Z:/DeepLearningData/research_010_NIH3T3/shOPA1_003/annotatioins/cropped_002/original//')"
   ]
  },
  {
   "cell_type": "code",
   "execution_count": null,
   "id": "5ea2c08b",
   "metadata": {},
   "outputs": [],
   "source": [
    "label_imgs_001 , _ = load_Y_gray('Z:/DeepLearningData/research_010_NIH3T3/shOPA1_003/annotatioins/cropped_002/modified_mito_001//')\n"
   ]
  },
  {
   "cell_type": "code",
   "execution_count": null,
   "id": "5d5daed8",
   "metadata": {},
   "outputs": [],
   "source": [
    "num_lst_001 = [40, 150, 236]\n",
    "\n",
    "cropped_ori_001_imgs, cropped_label_001_imgs = make_train_datasets(ori_imgs, label_imgs_001, num_lst_001)"
   ]
  },
  {
   "cell_type": "code",
   "execution_count": null,
   "id": "36caa0ae",
   "metadata": {},
   "outputs": [],
   "source": [
    "out_dir = \"Z:/DeepLearningData/research_010_NIH3T3/shOPA1_003//models/cropped_002/mito_active_learning\"\n",
    "os.makedirs(out_dir, exist_ok = True)\n",
    "\n",
    "csv_path = f'{out_dir}/mito_nested_unet_001.csv'\n",
    "X_train = cropped_ori_001_imgs\n",
    "Y_train = cropped_label_001_imgs\n",
    "model_path = f'{out_dir}/mito_nested_unet_001_weights.hdf5'\n",
    "input_shape=(512, 512, 1)\n",
    "num_classes=1"
   ]
  },
  {
   "cell_type": "code",
   "execution_count": null,
   "id": "2504cd9c",
   "metadata": {},
   "outputs": [],
   "source": [
    "train_unet(X_train,Y_train, csv_path, model_path, input_shape,num_classes)"
   ]
  },
  {
   "cell_type": "markdown",
   "id": "49145781",
   "metadata": {},
   "source": [
    "### train_002"
   ]
  },
  {
   "cell_type": "code",
   "execution_count": null,
   "id": "355c0b25",
   "metadata": {},
   "outputs": [],
   "source": [
    "ori_imgs , _ = load_X_gray('Z:/DeepLearningData/research_010_NIH3T3/shOPA1_003/annotatioins/cropped_002/original//')"
   ]
  },
  {
   "cell_type": "code",
   "execution_count": null,
   "id": "e95dc178",
   "metadata": {},
   "outputs": [],
   "source": [
    "label_imgs_001 , _ = load_Y_gray('Z:/DeepLearningData/research_010_NIH3T3/shOPA1_003/annotatioins/cropped_002/modified_mito_001//')\n",
    "label_imgs_002 , _ = load_Y_gray('Z:/DeepLearningData/research_010_NIH3T3/shOPA1_003/annotatioins/cropped_002/modified_mito_002//')\n"
   ]
  },
  {
   "cell_type": "code",
   "execution_count": null,
   "id": "f4ce736a",
   "metadata": {},
   "outputs": [],
   "source": [
    "num_lst_001 = [40, 150, 236]\n",
    "num_lst_002 = [10, 95, 241]\n",
    "\n",
    "cropped_ori_001_imgs, cropped_label_001_imgs = make_train_datasets(ori_imgs, label_imgs_001, num_lst_001)\n",
    "cropped_ori_002_imgs, cropped_label_002_imgs = make_train_datasets(ori_imgs, label_imgs_002, num_lst_002)\n"
   ]
  },
  {
   "cell_type": "code",
   "execution_count": null,
   "id": "ba39d333",
   "metadata": {},
   "outputs": [],
   "source": [
    "cropped_ori_imgs = np.concatenate((cropped_ori_001_imgs, cropped_ori_002_imgs))\n",
    "cropped_label_imgs = np.concatenate((cropped_label_001_imgs, cropped_label_002_imgs))"
   ]
  },
  {
   "cell_type": "code",
   "execution_count": null,
   "id": "0f957ed9",
   "metadata": {},
   "outputs": [],
   "source": [
    "out_dir = \"Z:/DeepLearningData/research_010_NIH3T3/shOPA1_003//models/cropped_002/mito_active_learning\"\n",
    "os.makedirs(out_dir, exist_ok = True)\n",
    "\n",
    "csv_path = f'{out_dir}/mito_nested_unet_002.csv'\n",
    "X_train = cropped_ori_imgs\n",
    "Y_train = cropped_label_imgs\n",
    "model_path = f'{out_dir}/mito_nested_unet_002_weights.hdf5'\n",
    "input_shape=(512, 512, 1)\n",
    "num_classes=1"
   ]
  },
  {
   "cell_type": "code",
   "execution_count": null,
   "id": "f725011d",
   "metadata": {},
   "outputs": [],
   "source": [
    "train_unet(X_train,Y_train, csv_path, model_path, input_shape,num_classes)"
   ]
  },
  {
   "cell_type": "markdown",
   "id": "1707cbe1",
   "metadata": {},
   "source": [
    "### train_003"
   ]
  },
  {
   "cell_type": "code",
   "execution_count": null,
   "id": "54fbc10a",
   "metadata": {},
   "outputs": [],
   "source": [
    "ori_imgs , _ = load_X_gray('Z:/DeepLearningData/research_010_NIH3T3/shOPA1_003/annotatioins/cropped_002/original//')"
   ]
  },
  {
   "cell_type": "code",
   "execution_count": null,
   "id": "8b74c815",
   "metadata": {},
   "outputs": [],
   "source": [
    "label_imgs_001 , _ = load_Y_gray('Z:/DeepLearningData/research_010_NIH3T3/shOPA1_003/annotatioins/cropped_002/modified_mito_001//')\n",
    "label_imgs_002 , _ = load_Y_gray('Z:/DeepLearningData/research_010_NIH3T3/shOPA1_003/annotatioins/cropped_002/modified_mito_002//')\n",
    "label_imgs_003 , _ = load_Y_gray('Z:/DeepLearningData/research_010_NIH3T3/shOPA1_003/annotatioins/cropped_002/modified_mito_003//')\n"
   ]
  },
  {
   "cell_type": "code",
   "execution_count": null,
   "id": "36114c3a",
   "metadata": {},
   "outputs": [],
   "source": [
    "num_lst_001 = [40, 150, 236]\n",
    "num_lst_002 = [10, 95, 241]\n",
    "num_lst_003 = [15, 75, 259]\n",
    "\n",
    "cropped_ori_001_imgs, cropped_label_001_imgs = make_train_datasets(ori_imgs, label_imgs_001, num_lst_001)\n",
    "cropped_ori_002_imgs, cropped_label_002_imgs = make_train_datasets(ori_imgs, label_imgs_002, num_lst_002)\n",
    "cropped_ori_003_imgs, cropped_label_003_imgs = make_train_datasets(ori_imgs, label_imgs_003, num_lst_003)\n"
   ]
  },
  {
   "cell_type": "code",
   "execution_count": null,
   "id": "a274a799",
   "metadata": {},
   "outputs": [],
   "source": [
    "cropped_ori_imgs = np.concatenate((cropped_ori_001_imgs, cropped_ori_002_imgs, cropped_ori_003_imgs))\n",
    "cropped_label_imgs = np.concatenate((cropped_label_001_imgs, cropped_label_002_imgs, cropped_label_003_imgs))"
   ]
  },
  {
   "cell_type": "code",
   "execution_count": null,
   "id": "3c0d9a69",
   "metadata": {},
   "outputs": [],
   "source": [
    "out_dir = \"Z:/DeepLearningData/research_010_NIH3T3/shOPA1_003//models/cropped_002/mito_active_learning\"\n",
    "os.makedirs(out_dir, exist_ok = True)\n",
    "\n",
    "csv_path = f'{out_dir}/mito_nested_unet_003.csv'\n",
    "X_train = cropped_ori_imgs\n",
    "Y_train = cropped_label_imgs\n",
    "model_path = f'{out_dir}/mito_nested_unet_003_weights.hdf5'\n",
    "input_shape=(512, 512, 1)\n",
    "num_classes=1"
   ]
  },
  {
   "cell_type": "code",
   "execution_count": null,
   "id": "3abd13ab",
   "metadata": {},
   "outputs": [],
   "source": [
    "train_unet(X_train,Y_train, csv_path, model_path, input_shape,num_classes)"
   ]
  },
  {
   "cell_type": "markdown",
   "id": "6c7ff950",
   "metadata": {},
   "source": [
    "## cropped_003"
   ]
  },
  {
   "cell_type": "markdown",
   "id": "57b27f52",
   "metadata": {},
   "source": [
    "### train_001"
   ]
  },
  {
   "cell_type": "code",
   "execution_count": null,
   "id": "15440980",
   "metadata": {},
   "outputs": [],
   "source": [
    "ori_imgs , _ = load_X_gray('Z:/DeepLearningData/research_010_NIH3T3/shOPA1_003/annotations//cropped_003/original//')\n"
   ]
  },
  {
   "cell_type": "code",
   "execution_count": null,
   "id": "d2a78272",
   "metadata": {},
   "outputs": [],
   "source": [
    "label_imgs_001 , _ = load_Y_gray('Z:/DeepLearningData/research_010_NIH3T3/shOPA1_003/annotations/cropped_003/manually_mito_001//')\n"
   ]
  },
  {
   "cell_type": "code",
   "execution_count": null,
   "id": "71c18400",
   "metadata": {},
   "outputs": [],
   "source": [
    "num_lst_001 = [0, 57, 156, 193, 305, 361]\n",
    "\n",
    "cropped_ori_001_imgs, cropped_label_001_imgs = make_train_datasets(ori_imgs, label_imgs_001, num_lst_001)\n"
   ]
  },
  {
   "cell_type": "code",
   "execution_count": null,
   "id": "91c02ded",
   "metadata": {},
   "outputs": [],
   "source": [
    "cropped_ori_imgs = np.concatenate([cropped_ori_001_imgs])\n",
    "cropped_label_imgs = np.concatenate([cropped_label_001_imgs])"
   ]
  },
  {
   "cell_type": "code",
   "execution_count": null,
   "id": "b780089d",
   "metadata": {},
   "outputs": [],
   "source": [
    "out_dir = \"Z:/DeepLearningData/research_010_NIH3T3/shOPA1_003/models/cropped_003/mito_active_learning\"\n",
    "os.makedirs(out_dir, exist_ok = True)\n",
    "\n",
    "csv_path = f'{out_dir}/mito_nested_unet_001.csv'\n",
    "X_train = cropped_ori_imgs\n",
    "Y_train = cropped_label_imgs\n",
    "model_path = f'{out_dir}/mito_nested_unet_001_weights.hdf5'\n",
    "input_shape=(512, 512, 1)\n",
    "num_classes=1"
   ]
  },
  {
   "cell_type": "code",
   "execution_count": null,
   "id": "f029dfea",
   "metadata": {},
   "outputs": [],
   "source": [
    "train_unet(X_train,Y_train, csv_path, model_path, input_shape,num_classes)"
   ]
  },
  {
   "cell_type": "markdown",
   "id": "aab48381",
   "metadata": {},
   "source": [
    "### train_002"
   ]
  },
  {
   "cell_type": "code",
   "execution_count": null,
   "id": "0be86ab2",
   "metadata": {},
   "outputs": [],
   "source": [
    "ori_imgs , _ = load_X_gray('Z:/DeepLearningData/research_010_NIH3T3/shOPA1_003/annotations//cropped_003/original//')\n"
   ]
  },
  {
   "cell_type": "code",
   "execution_count": null,
   "id": "ba6b8aed",
   "metadata": {},
   "outputs": [],
   "source": [
    "label_imgs_001 , _ = load_Y_gray('Z:/DeepLearningData/research_010_NIH3T3/shOPA1_003/annotations/cropped_003/manually_mito_001//')\n",
    "label_imgs_002 , _ = load_Y_gray('Z:/DeepLearningData/research_010_NIH3T3/shOPA1_003/annotations/cropped_003/manually_mito_002//')\n"
   ]
  },
  {
   "cell_type": "code",
   "execution_count": null,
   "id": "8600e8f1",
   "metadata": {},
   "outputs": [],
   "source": [
    "num_lst_001 = [0, 57, 156, 193, 305, 361]\n",
    "num_lst_002 = [45, 79, 105, 249, 325]\n",
    "\n",
    "cropped_ori_001_imgs, cropped_label_001_imgs = make_train_datasets(ori_imgs, label_imgs_001, num_lst_001)\n",
    "cropped_ori_002_imgs, cropped_label_002_imgs = make_train_datasets(ori_imgs, label_imgs_002, num_lst_002)\n"
   ]
  },
  {
   "cell_type": "code",
   "execution_count": null,
   "id": "cc1585db",
   "metadata": {},
   "outputs": [],
   "source": [
    "out_dir = \"Z:/DeepLearningData/research_010_NIH3T3/shOPA1_003/models/cropped_003/mito_active_learning\"\n",
    "os.makedirs(out_dir, exist_ok = True)\n",
    "\n",
    "csv_path = f'{out_dir}/mito_nested_unet_002.csv'\n",
    "X_train = cropped_ori_imgs\n",
    "Y_train = cropped_label_imgs\n",
    "model_path = f'{out_dir}/mito_nested_unet_002_weights.hdf5'\n",
    "input_shape=(512, 512, 1)\n",
    "num_classes=1"
   ]
  },
  {
   "cell_type": "code",
   "execution_count": null,
   "id": "f69b6e4b",
   "metadata": {},
   "outputs": [],
   "source": [
    "train_unet(X_train,Y_train, csv_path, model_path, input_shape,num_classes)"
   ]
  },
  {
   "cell_type": "code",
   "execution_count": null,
   "id": "91620ec7",
   "metadata": {},
   "outputs": [],
   "source": []
  }
 ],
 "metadata": {
  "kernelspec": {
   "display_name": "Python 3",
   "language": "python",
   "name": "python3"
  },
  "language_info": {
   "codemirror_mode": {
    "name": "ipython",
    "version": 3
   },
   "file_extension": ".py",
   "mimetype": "text/x-python",
   "name": "python",
   "nbconvert_exporter": "python",
   "pygments_lexer": "ipython3",
   "version": "3.8.2"
  },
  "toc": {
   "base_numbering": 1,
   "nav_menu": {},
   "number_sections": true,
   "sideBar": true,
   "skip_h1_title": false,
   "title_cell": "Table of Contents",
   "title_sidebar": "Contents",
   "toc_cell": false,
   "toc_position": {},
   "toc_section_display": true,
   "toc_window_display": true
  }
 },
 "nbformat": 4,
 "nbformat_minor": 5
}
